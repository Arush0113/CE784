{
  "nbformat": 4,
  "nbformat_minor": 0,
  "metadata": {
    "colab": {
      "name": "Arush_190181_Assignment1_CE784.ipynb",
      "provenance": [],
      "collapsed_sections": [],
      "include_colab_link": true
    },
    "kernelspec": {
      "name": "python3",
      "display_name": "Python 3"
    },
    "language_info": {
      "name": "python"
    },
    "accelerator": "GPU"
  },
  "cells": [
    {
      "cell_type": "markdown",
      "metadata": {
        "id": "view-in-github",
        "colab_type": "text"
      },
      "source": [
        "<a href=\"https://colab.research.google.com/github/Arush0113/CE784/blob/main/Arush_190181_Assignment1_CE784.ipynb\" target=\"_parent\"><img src=\"https://colab.research.google.com/assets/colab-badge.svg\" alt=\"Open In Colab\"/></a>"
      ]
    },
    {
      "cell_type": "markdown",
      "source": [
        "## Importing all the necessary libraries"
      ],
      "metadata": {
        "id": "jcNZFcwIc1SI"
      }
    },
    {
      "cell_type": "code",
      "source": [
        "import matplotlib.pyplot as plt\n",
        "import os\n",
        "import glob\n",
        "from skimage import io, color\n",
        "from skimage.feature.texture import greycomatrix, greycoprops\n",
        "import numpy as np\n",
        "import pandas as pd\n",
        "from scipy.stats import kurtosis\n",
        "from scipy.stats import skew\n",
        "from scipy.stats import entropy\n",
        "import cv2 \n",
        "import math\n",
        "from sklearn.model_selection import train_test_split\n",
        "import tensorflow as tf\n",
        "from tensorflow import keras\n",
        "from tensorflow.keras import layers, callbacks\n",
        "% matplotlib inline"
      ],
      "metadata": {
        "id": "gTqUwVaVyItU"
      },
      "execution_count": 1,
      "outputs": []
    },
    {
      "cell_type": "markdown",
      "source": [
        "### Setting path of Training and Test data in Google Drive"
      ],
      "metadata": {
        "id": "a4rWeKoec7ve"
      }
    },
    {
      "cell_type": "code",
      "source": [
        "train_path = '/content/drive/MyDrive/mod_ravelling_dataset/train'\n",
        "test_path = '/content/drive/MyDrive/mod_ravelling_dataset/test'"
      ],
      "metadata": {
        "id": "FKDsbN3nziSX"
      },
      "execution_count": 2,
      "outputs": []
    },
    {
      "cell_type": "code",
      "source": [
        "non_raveling_train = train_path + '/Non_raveling'\n",
        "raveling_train = train_path + '/Raveling'\n",
        "test = test_path"
      ],
      "metadata": {
        "id": "044J6hjc1X0z"
      },
      "execution_count": 3,
      "outputs": []
    },
    {
      "cell_type": "markdown",
      "source": [
        "### Reading data and storing list of image files"
      ],
      "metadata": {
        "id": "aoBctbIYdH_o"
      }
    },
    {
      "cell_type": "code",
      "source": [
        "from google.colab import drive\n",
        "drive.mount('/content/drive')"
      ],
      "metadata": {
        "colab": {
          "base_uri": "https://localhost:8080/"
        },
        "id": "ibWt84qnJzTG",
        "outputId": "83b71fa7-126c-48a7-bf09-d69e9d729017"
      },
      "execution_count": 4,
      "outputs": [
        {
          "output_type": "stream",
          "name": "stdout",
          "text": [
            "Mounted at /content/drive\n"
          ]
        }
      ]
    },
    {
      "cell_type": "code",
      "source": [
        "list_nr_train = os.listdir(non_raveling_train)\n",
        "list_r_train = os.listdir(raveling_train)\n",
        "list_test = os.listdir(test)"
      ],
      "metadata": {
        "id": "7L9yei2u45R6"
      },
      "execution_count": 5,
      "outputs": []
    },
    {
      "cell_type": "code",
      "source": [
        "list_test[:10]"
      ],
      "metadata": {
        "colab": {
          "base_uri": "https://localhost:8080/"
        },
        "id": "OitbyPQs_hm2",
        "outputId": "ff66c124-5685-4eca-c0a7-4ff35a8a9d3d"
      },
      "execution_count": 277,
      "outputs": [
        {
          "output_type": "execute_result",
          "data": {
            "text/plain": [
              "['2.jpg',\n",
              " '3.jpg',\n",
              " '1.jpg',\n",
              " '195.jpg',\n",
              " '242.jpg',\n",
              " '175.jpg',\n",
              " '220.jpg',\n",
              " '67.jpg',\n",
              " '200.jpg',\n",
              " '297.jpg']"
            ]
          },
          "metadata": {},
          "execution_count": 277
        }
      ]
    },
    {
      "cell_type": "code",
      "source": [
        "list_r_train[:5]"
      ],
      "metadata": {
        "colab": {
          "base_uri": "https://localhost:8080/"
        },
        "id": "9ESuginqAXk0",
        "outputId": "d1111d8a-a2f7-491b-dd98-3310a8476254"
      },
      "execution_count": 7,
      "outputs": [
        {
          "output_type": "execute_result",
          "data": {
            "text/plain": [
              "['image406.jpg',\n",
              " 'image682.jpg',\n",
              " 'image644.jpg',\n",
              " 'image451.jpg',\n",
              " 'image485.jpg']"
            ]
          },
          "metadata": {},
          "execution_count": 7
        }
      ]
    },
    {
      "cell_type": "markdown",
      "source": [
        "### Storing Raveling, Non-Raveling and Raveling images in np matrices"
      ],
      "metadata": {
        "id": "34TlZXb5eEur"
      }
    },
    {
      "cell_type": "code",
      "source": [
        "img = []"
      ],
      "metadata": {
        "id": "eT6MH_m7Etq9"
      },
      "execution_count": 8,
      "outputs": []
    },
    {
      "cell_type": "code",
      "source": [
        "images_nr = []\n",
        "\n",
        "for i in range(len(list_nr_train)):\n",
        "  img = io.imread(os.path.join(non_raveling_train,list_nr_train[i]))\n",
        "  images_nr.append(np.array(img))\n",
        "  io.imshow(img)\n"
      ],
      "metadata": {
        "id": "G7ZWAKXX5b95",
        "colab": {
          "base_uri": "https://localhost:8080/",
          "height": 352
        },
        "outputId": "0287757c-ca47-4995-c733-7a49b2b140b1"
      },
      "execution_count": 167,
      "outputs": [
        {
          "output_type": "stream",
          "name": "stderr",
          "text": [
            "/usr/local/lib/python3.7/dist-packages/skimage/io/_plugins/matplotlib_plugin.py:150: UserWarning: Low image data range; displaying image with stretched contrast.\n",
            "  lo, hi, cmap = _get_display_range(image)\n"
          ]
        },
        {
          "output_type": "display_data",
          "data": {
            "image/png": "[encoded data removed]",
            "text/plain": [
              "<Figure size 432x288 with 2 Axes>"
            ]
          },
          "metadata": {
            "needs_background": "light"
          }
        }
      ]
    },
    {
      "cell_type": "code",
      "source": [
        "images_r = []\n",
        "\n",
        "for i in range(len(list_r_train)):\n",
        "  img = io.imread(os.path.join(raveling_train, list_r_train[i]))\n",
        "  images_r.append(np.array(img))\n",
        "  io.imshow(img)"
      ],
      "metadata": {
        "colab": {
          "base_uri": "https://localhost:8080/",
          "height": 297
        },
        "id": "Hc0MRf5hI-Qa",
        "outputId": "2b5695f4-bdea-413c-ab7f-3417441ecb3f"
      },
      "execution_count": 168,
      "outputs": [
        {
          "output_type": "display_data",
          "data": {
            "image/png": "[encoded data removed]",
            "text/plain": [
              "<Figure size 432x288 with 1 Axes>"
            ]
          },
          "metadata": {
            "needs_background": "light"
          }
        }
      ]
    },
    {
      "cell_type": "code",
      "source": [
        "images_test = []\n",
        "\n",
        "for i in range(len(list_test)):\n",
        "  img = io.imread(os.path.join(test, list_test[i]))\n",
        "  images_test.append(np.array(img))\n",
        "  io.imshow(img)"
      ],
      "metadata": {
        "colab": {
          "base_uri": "https://localhost:8080/",
          "height": 297
        },
        "id": "-OopOjCXyu7R",
        "outputId": "364cea38-fd1d-4661-b469-bba74e801a53"
      },
      "execution_count": 169,
      "outputs": [
        {
          "output_type": "display_data",
          "data": {
            "image/png": "[encoded data removed]",
            "text/plain": [
              "<Figure size 432x288 with 1 Axes>"
            ]
          },
          "metadata": {
            "needs_background": "light"
          }
        }
      ]
    },
    {
      "cell_type": "code",
      "source": [
        "print(len(images_nr))\n",
        "print(len(images_r))\n",
        "print(len(images_test))"
      ],
      "metadata": {
        "colab": {
          "base_uri": "https://localhost:8080/"
        },
        "id": "dFeaF1-QFJn9",
        "outputId": "f6c5d1f9-4038-4e45-a0f3-6f5a6b6a6e58"
      },
      "execution_count": 170,
      "outputs": [
        {
          "output_type": "stream",
          "name": "stdout",
          "text": [
            "351\n",
            "349\n",
            "300\n"
          ]
        }
      ]
    },
    {
      "cell_type": "code",
      "source": [
        "images_nr = np.array(images_nr)\n",
        "print(images_nr.shape)\n",
        "\n",
        "y_nr = np.zeros((351, 1))\n",
        "y_nr.shape"
      ],
      "metadata": {
        "id": "JfJ1vBqKFLUo",
        "colab": {
          "base_uri": "https://localhost:8080/"
        },
        "outputId": "73d5f3b9-8b12-404e-91e8-a2d3f7649c29"
      },
      "execution_count": 171,
      "outputs": [
        {
          "output_type": "stream",
          "name": "stdout",
          "text": [
            "(351, 100, 100, 3)\n"
          ]
        },
        {
          "output_type": "execute_result",
          "data": {
            "text/plain": [
              "(351, 1)"
            ]
          },
          "metadata": {},
          "execution_count": 171
        }
      ]
    },
    {
      "cell_type": "code",
      "source": [
        "images_r = np.array(images_r)\n",
        "images_r.shape\n",
        "\n",
        "y_r = np.ones((349, 1))\n",
        "y_r.shape"
      ],
      "metadata": {
        "colab": {
          "base_uri": "https://localhost:8080/"
        },
        "id": "rbusKg1LJP0X",
        "outputId": "fb7580c0-23e3-474c-a5c4-9a1ca43d0009"
      },
      "execution_count": 172,
      "outputs": [
        {
          "output_type": "execute_result",
          "data": {
            "text/plain": [
              "(349, 1)"
            ]
          },
          "metadata": {},
          "execution_count": 172
        }
      ]
    },
    {
      "cell_type": "code",
      "source": [
        "images = np.concatenate((images_nr, images_r), axis = 0)\n",
        "images.shape\n",
        "y = np.concatenate((y_nr, y_r), axis = 0)\n",
        "y.shape"
      ],
      "metadata": {
        "colab": {
          "base_uri": "https://localhost:8080/"
        },
        "id": "ORXlSU8DJbRj",
        "outputId": "8e2f996f-33f4-42dd-8b24-bfd4544ec1ba"
      },
      "execution_count": 174,
      "outputs": [
        {
          "output_type": "execute_result",
          "data": {
            "text/plain": [
              "(700, 1)"
            ]
          },
          "metadata": {},
          "execution_count": 174
        }
      ]
    },
    {
      "cell_type": "markdown",
      "source": [
        "#### Extracting Important Features from images (Mean, Standard Deviation, Skewness, Kurtosis, Entropy, Range and Spearman Correlation)"
      ],
      "metadata": {
        "id": "m5vR3wwcl23i"
      }
    },
    {
      "cell_type": "code",
      "source": [
        "l = len(images)\n",
        "\n",
        "mean_b, mean_g, mean_r, std_b, std_g, std_r, skew_b, skew_g, skew_r, kurt_b, kurt_g, kurt_r, entropy_b, entropy_g, entropy_r, range_b, range_g, range_r, spearman_rg, spearman_gb, spearman_rb= [], [], [], [], [], [], [], [], [], [], [], [], [], [], [], [], [], [], [], [], [];\n",
        "\n",
        "\n",
        "for i in range(len(images)):\n",
        "    image = images[i]\n",
        "\n",
        "    r = image[:,:,0]\n",
        "    g = image[:,:,1]\n",
        "    b = image[:,:,2]\n",
        "    \n",
        "    m1 = (np.sum(image[:,:,0]))/(100*100)\n",
        "    m2 = (np.sum(image[:,:,1]))/(100*100)\n",
        "    m3 = (np.sum(image[:,:,2]))/(100*100)\n",
        "    \n",
        "    mean_r.append(m1)\n",
        "    mean_g.append(m2)\n",
        "    mean_b.append(m3)\n",
        "    \n",
        "    sq_diff1 = np.sum(np.square((r-m1)))\n",
        "    sq_diff2 = np.sum(np.square((g-m2)))\n",
        "    sq_diff3 = np.sum(np.square((b-m3)))\n",
        "    \n",
        "    std_r.append(math.sqrt(sq_diff1/(100*100)))\n",
        "    std_g.append(math.sqrt(sq_diff2/(100*100)))\n",
        "    std_b.append(math.sqrt(sq_diff3/(100*100)))\n",
        "    \n",
        "    skew_r.append(skew((image[:, :, 0]).flatten()))\n",
        "    skew_g.append(skew((image[:, :, 1]).flatten()))\n",
        "    skew_b.append(skew((image[:, :, 2]).flatten()))\n",
        "    \n",
        "    kurt_r.append(kurtosis((image[:, :, 0]).flatten()))\n",
        "    kurt_g.append(kurtosis((image[:, :, 1]).flatten()))\n",
        "    kurt_b.append(kurtosis((image[:, :, 2]).flatten()))\n",
        "        \n",
        "    entropy_r.append(entropy(image[:,:,0].flatten()))\n",
        "    entropy_g.append(entropy(image[:,:,1].flatten()))\n",
        "    entropy_b.append(entropy(image[:,:,2].flatten()))\n",
        "\n",
        "    range_r.append(np.max(r)-np.min(r))\n",
        "    range_g.append(np.max(g)-np.min(g))\n",
        "    range_b.append(np.max(b)-np.min(b))\n",
        "\n",
        "    spearman_rg.append(spearmanr((image[:,:,0]).flatten(),(image[:,:,1]).flatten())[0])\n",
        "    spearman_gb.append(spearmanr((image[:,:,1]).flatten(),(image[:,:,2]).flatten())[0])\n",
        "    spearman_rb.append(spearmanr((image[:,:,0]).flatten(),(image[:,:,2]).flatten())[0])\n",
        "\n",
        "\n"
      ],
      "metadata": {
        "id": "sY_3v0re3kkK"
      },
      "execution_count": 179,
      "outputs": []
    },
    {
      "cell_type": "markdown",
      "source": [
        "#### Creating a dataframe storing all the feautres to be input into the ANN "
      ],
      "metadata": {
        "id": "fg5I014Df39L"
      }
    },
    {
      "cell_type": "code",
      "source": [
        "data = {\"mean_b\":mean_b, \"mean_g\":mean_g, \"mean_r\":mean_r, \"std_b\":std_b, \"std_g\":std_g, \"std_r\":std_r, \n",
        "        \"skew_b\":skew_b, \"skew_g\":skew_g, \"skew_r\":skew_r, \"kurt_b\":kurt_b, \"kurt_g\":kurt_g, \"kurt_r\":kurt_r,\n",
        "        \"entropy_b\":entropy_b, \"entropy_g\":entropy_g, \"entropy_r\":entropy_r, \"range_b\" : range_b, \"range_g\" : range_g, \"range_r\" : range_r,\n",
        "        \"spearman_rg\": spearman_rg, \"spearman_gb\" : spearman_gb, \"spearman_rb\" : spearman_rb\n",
        "        }\n",
        "\n",
        "df = pd.DataFrame(data)"
      ],
      "metadata": {
        "id": "RQn9gqIU3kpE"
      },
      "execution_count": 181,
      "outputs": []
    },
    {
      "cell_type": "code",
      "source": [
        "df"
      ],
      "metadata": {
        "colab": {
          "base_uri": "https://localhost:8080/",
          "height": 488
        },
        "id": "bO_8_vQ-G8i0",
        "outputId": "ff41a661-0a62-479e-cc06-2b0068c7fb88"
      },
      "execution_count": 182,
      "outputs": [
        {
          "output_type": "execute_result",
          "data": {
            "text/html": [
              "\n",
              "  <div id=\"df-774465b6-71ac-43a2-91e0-daf431023597\">\n",
              "    <div class=\"colab-df-container\">\n",
              "      <div>\n",
              "<style scoped>\n",
              "    .dataframe tbody tr th:only-of-type {\n",
              "        vertical-align: middle;\n",
              "    }\n",
              "\n",
              "    .dataframe tbody tr th {\n",
              "        vertical-align: top;\n",
              "    }\n",
              "\n",
              "    .dataframe thead th {\n",
              "        text-align: right;\n",
              "    }\n",
              "</style>\n",
              "<table border=\"1\" class=\"dataframe\">\n",
              "  <thead>\n",
              "    <tr style=\"text-align: right;\">\n",
              "      <th></th>\n",
              "      <th>mean_b</th>\n",
              "      <th>mean_g</th>\n",
              "      <th>mean_r</th>\n",
              "      <th>std_b</th>\n",
              "      <th>std_g</th>\n",
              "      <th>std_r</th>\n",
              "      <th>skew_b</th>\n",
              "      <th>skew_g</th>\n",
              "      <th>skew_r</th>\n",
              "      <th>kurt_b</th>\n",
              "      <th>kurt_g</th>\n",
              "      <th>kurt_r</th>\n",
              "      <th>entropy_b</th>\n",
              "      <th>entropy_g</th>\n",
              "      <th>entropy_r</th>\n",
              "      <th>range_b</th>\n",
              "      <th>range_g</th>\n",
              "      <th>range_r</th>\n",
              "      <th>spearman_rg</th>\n",
              "      <th>spearman_gb</th>\n",
              "      <th>spearman_rb</th>\n",
              "    </tr>\n",
              "  </thead>\n",
              "  <tbody>\n",
              "    <tr>\n",
              "      <th>0</th>\n",
              "      <td>125.5533</td>\n",
              "      <td>161.6253</td>\n",
              "      <td>176.6418</td>\n",
              "      <td>13.302442</td>\n",
              "      <td>23.970246</td>\n",
              "      <td>31.041757</td>\n",
              "      <td>-0.845369</td>\n",
              "      <td>-1.426097</td>\n",
              "      <td>-1.486438</td>\n",
              "      <td>0.392278</td>\n",
              "      <td>1.396171</td>\n",
              "      <td>1.555473</td>\n",
              "      <td>9.204519</td>\n",
              "      <td>9.198337</td>\n",
              "      <td>9.193048</td>\n",
              "      <td>78</td>\n",
              "      <td>120</td>\n",
              "      <td>-102</td>\n",
              "      <td>0.972982</td>\n",
              "      <td>0.832214</td>\n",
              "      <td>0.733152</td>\n",
              "    </tr>\n",
              "    <tr>\n",
              "      <th>1</th>\n",
              "      <td>114.9893</td>\n",
              "      <td>112.2552</td>\n",
              "      <td>111.5738</td>\n",
              "      <td>17.979121</td>\n",
              "      <td>19.848634</td>\n",
              "      <td>22.445110</td>\n",
              "      <td>0.102146</td>\n",
              "      <td>0.107578</td>\n",
              "      <td>0.054485</td>\n",
              "      <td>-0.869774</td>\n",
              "      <td>-0.905705</td>\n",
              "      <td>-1.032624</td>\n",
              "      <td>9.198081</td>\n",
              "      <td>9.194646</td>\n",
              "      <td>9.189922</td>\n",
              "      <td>102</td>\n",
              "      <td>112</td>\n",
              "      <td>122</td>\n",
              "      <td>0.991757</td>\n",
              "      <td>0.991083</td>\n",
              "      <td>0.985862</td>\n",
              "    </tr>\n",
              "    <tr>\n",
              "      <th>2</th>\n",
              "      <td>105.4500</td>\n",
              "      <td>104.0894</td>\n",
              "      <td>103.1808</td>\n",
              "      <td>15.552823</td>\n",
              "      <td>15.971550</td>\n",
              "      <td>15.592733</td>\n",
              "      <td>0.553241</td>\n",
              "      <td>0.529216</td>\n",
              "      <td>0.480791</td>\n",
              "      <td>1.256227</td>\n",
              "      <td>1.192370</td>\n",
              "      <td>1.090367</td>\n",
              "      <td>9.199611</td>\n",
              "      <td>9.198715</td>\n",
              "      <td>9.199038</td>\n",
              "      <td>-121</td>\n",
              "      <td>-118</td>\n",
              "      <td>-118</td>\n",
              "      <td>0.985135</td>\n",
              "      <td>0.992531</td>\n",
              "      <td>0.980287</td>\n",
              "    </tr>\n",
              "    <tr>\n",
              "      <th>3</th>\n",
              "      <td>85.2002</td>\n",
              "      <td>81.2174</td>\n",
              "      <td>75.3480</td>\n",
              "      <td>5.718682</td>\n",
              "      <td>6.118230</td>\n",
              "      <td>6.930534</td>\n",
              "      <td>3.280109</td>\n",
              "      <td>3.414642</td>\n",
              "      <td>3.522495</td>\n",
              "      <td>19.581086</td>\n",
              "      <td>20.758976</td>\n",
              "      <td>21.011077</td>\n",
              "      <td>9.208223</td>\n",
              "      <td>9.207698</td>\n",
              "      <td>9.206463</td>\n",
              "      <td>83</td>\n",
              "      <td>88</td>\n",
              "      <td>97</td>\n",
              "      <td>0.863769</td>\n",
              "      <td>0.929336</td>\n",
              "      <td>0.901799</td>\n",
              "    </tr>\n",
              "    <tr>\n",
              "      <th>4</th>\n",
              "      <td>105.2561</td>\n",
              "      <td>92.0428</td>\n",
              "      <td>75.0345</td>\n",
              "      <td>15.783590</td>\n",
              "      <td>15.942483</td>\n",
              "      <td>15.246059</td>\n",
              "      <td>0.388948</td>\n",
              "      <td>0.462122</td>\n",
              "      <td>0.592332</td>\n",
              "      <td>1.404309</td>\n",
              "      <td>1.455850</td>\n",
              "      <td>1.628612</td>\n",
              "      <td>9.199142</td>\n",
              "      <td>9.195435</td>\n",
              "      <td>9.189950</td>\n",
              "      <td>127</td>\n",
              "      <td>-127</td>\n",
              "      <td>-126</td>\n",
              "      <td>0.966182</td>\n",
              "      <td>0.985241</td>\n",
              "      <td>0.943893</td>\n",
              "    </tr>\n",
              "    <tr>\n",
              "      <th>...</th>\n",
              "      <td>...</td>\n",
              "      <td>...</td>\n",
              "      <td>...</td>\n",
              "      <td>...</td>\n",
              "      <td>...</td>\n",
              "      <td>...</td>\n",
              "      <td>...</td>\n",
              "      <td>...</td>\n",
              "      <td>...</td>\n",
              "      <td>...</td>\n",
              "      <td>...</td>\n",
              "      <td>...</td>\n",
              "      <td>...</td>\n",
              "      <td>...</td>\n",
              "      <td>...</td>\n",
              "      <td>...</td>\n",
              "      <td>...</td>\n",
              "      <td>...</td>\n",
              "      <td>...</td>\n",
              "      <td>...</td>\n",
              "      <td>...</td>\n",
              "    </tr>\n",
              "    <tr>\n",
              "      <th>695</th>\n",
              "      <td>152.3457</td>\n",
              "      <td>154.6757</td>\n",
              "      <td>153.6669</td>\n",
              "      <td>23.080550</td>\n",
              "      <td>26.544309</td>\n",
              "      <td>30.989478</td>\n",
              "      <td>-0.331740</td>\n",
              "      <td>-0.138588</td>\n",
              "      <td>-0.090255</td>\n",
              "      <td>-0.190212</td>\n",
              "      <td>-0.476211</td>\n",
              "      <td>-0.530372</td>\n",
              "      <td>9.198530</td>\n",
              "      <td>9.195294</td>\n",
              "      <td>9.189496</td>\n",
              "      <td>-122</td>\n",
              "      <td>-104</td>\n",
              "      <td>-82</td>\n",
              "      <td>0.991465</td>\n",
              "      <td>0.980786</td>\n",
              "      <td>0.961508</td>\n",
              "    </tr>\n",
              "    <tr>\n",
              "      <th>696</th>\n",
              "      <td>122.5034</td>\n",
              "      <td>123.3437</td>\n",
              "      <td>124.6599</td>\n",
              "      <td>39.370867</td>\n",
              "      <td>41.126838</td>\n",
              "      <td>42.317966</td>\n",
              "      <td>0.123699</td>\n",
              "      <td>0.197324</td>\n",
              "      <td>0.243535</td>\n",
              "      <td>-0.269808</td>\n",
              "      <td>-0.356378</td>\n",
              "      <td>-0.357282</td>\n",
              "      <td>9.156484</td>\n",
              "      <td>9.152841</td>\n",
              "      <td>9.150996</td>\n",
              "      <td>-43</td>\n",
              "      <td>-39</td>\n",
              "      <td>-31</td>\n",
              "      <td>0.991151</td>\n",
              "      <td>0.991707</td>\n",
              "      <td>0.975217</td>\n",
              "    </tr>\n",
              "    <tr>\n",
              "      <th>697</th>\n",
              "      <td>128.3950</td>\n",
              "      <td>125.9815</td>\n",
              "      <td>126.0795</td>\n",
              "      <td>29.824486</td>\n",
              "      <td>32.071239</td>\n",
              "      <td>33.544379</td>\n",
              "      <td>0.404684</td>\n",
              "      <td>0.342772</td>\n",
              "      <td>0.223174</td>\n",
              "      <td>-0.013634</td>\n",
              "      <td>-0.225687</td>\n",
              "      <td>-0.560728</td>\n",
              "      <td>9.183552</td>\n",
              "      <td>9.177982</td>\n",
              "      <td>9.174660</td>\n",
              "      <td>-60</td>\n",
              "      <td>-58</td>\n",
              "      <td>-69</td>\n",
              "      <td>0.993805</td>\n",
              "      <td>0.994371</td>\n",
              "      <td>0.986526</td>\n",
              "    </tr>\n",
              "    <tr>\n",
              "      <th>698</th>\n",
              "      <td>131.9930</td>\n",
              "      <td>134.1679</td>\n",
              "      <td>134.4544</td>\n",
              "      <td>29.833715</td>\n",
              "      <td>31.797454</td>\n",
              "      <td>33.574855</td>\n",
              "      <td>-0.011015</td>\n",
              "      <td>0.100728</td>\n",
              "      <td>0.150146</td>\n",
              "      <td>-0.610579</td>\n",
              "      <td>-0.793158</td>\n",
              "      <td>-0.895902</td>\n",
              "      <td>9.184195</td>\n",
              "      <td>9.181861</td>\n",
              "      <td>9.178839</td>\n",
              "      <td>-94</td>\n",
              "      <td>-92</td>\n",
              "      <td>-87</td>\n",
              "      <td>0.995217</td>\n",
              "      <td>0.990107</td>\n",
              "      <td>0.978628</td>\n",
              "    </tr>\n",
              "    <tr>\n",
              "      <th>699</th>\n",
              "      <td>105.2373</td>\n",
              "      <td>104.1685</td>\n",
              "      <td>104.6597</td>\n",
              "      <td>44.836679</td>\n",
              "      <td>45.187991</td>\n",
              "      <td>44.636627</td>\n",
              "      <td>0.157696</td>\n",
              "      <td>0.178120</td>\n",
              "      <td>0.197006</td>\n",
              "      <td>-0.323125</td>\n",
              "      <td>-0.288068</td>\n",
              "      <td>-0.229708</td>\n",
              "      <td>9.113282</td>\n",
              "      <td>9.109624</td>\n",
              "      <td>9.113470</td>\n",
              "      <td>-7</td>\n",
              "      <td>-10</td>\n",
              "      <td>-13</td>\n",
              "      <td>0.996694</td>\n",
              "      <td>0.997002</td>\n",
              "      <td>0.992320</td>\n",
              "    </tr>\n",
              "  </tbody>\n",
              "</table>\n",
              "<p>700 rows × 21 columns</p>\n",
              "</div>\n",
              "      <button class=\"colab-df-convert\" onclick=\"convertToInteractive('df-774465b6-71ac-43a2-91e0-daf431023597')\"\n",
              "              title=\"Convert this dataframe to an interactive table.\"\n",
              "              style=\"display:none;\">\n",
              "        \n",
              "  <svg xmlns=\"http://www.w3.org/2000/svg\" height=\"24px\"viewBox=\"0 0 24 24\"\n",
              "       width=\"24px\">\n",
              "    <path d=\"M0 0h24v24H0V0z\" fill=\"none\"/>\n",
              "    <path d=\"M18.56 5.44l.94 2.06.94-2.06 2.06-.94-2.06-.94-.94-2.06-.94 2.06-2.06.94zm-11 1L8.5 8.5l.94-2.06 2.06-.94-2.06-.94L8.5 2.5l-.94 2.06-2.06.94zm10 10l.94 2.06.94-2.06 2.06-.94-2.06-.94-.94-2.06-.94 2.06-2.06.94z\"/><path d=\"M17.41 7.96l-1.37-1.37c-.4-.4-.92-.59-1.43-.59-.52 0-1.04.2-1.43.59L10.3 9.45l-7.72 7.72c-.78.78-.78 2.05 0 2.83L4 21.41c.39.39.9.59 1.41.59.51 0 1.02-.2 1.41-.59l7.78-7.78 2.81-2.81c.8-.78.8-2.07 0-2.86zM5.41 20L4 18.59l7.72-7.72 1.47 1.35L5.41 20z\"/>\n",
              "  </svg>\n",
              "      </button>\n",
              "      \n",
              "  <style>\n",
              "    .colab-df-container {\n",
              "      display:flex;\n",
              "      flex-wrap:wrap;\n",
              "      gap: 12px;\n",
              "    }\n",
              "\n",
              "    .colab-df-convert {\n",
              "      background-color: #E8F0FE;\n",
              "      border: none;\n",
              "      border-radius: 50%;\n",
              "      cursor: pointer;\n",
              "      display: none;\n",
              "      fill: #1967D2;\n",
              "      height: 32px;\n",
              "      padding: 0 0 0 0;\n",
              "      width: 32px;\n",
              "    }\n",
              "\n",
              "    .colab-df-convert:hover {\n",
              "      background-color: #E2EBFA;\n",
              "      box-shadow: 0px 1px 2px rgba(60, 64, 67, 0.3), 0px 1px 3px 1px rgba(60, 64, 67, 0.15);\n",
              "      fill: #174EA6;\n",
              "    }\n",
              "\n",
              "    [theme=dark] .colab-df-convert {\n",
              "      background-color: #3B4455;\n",
              "      fill: #D2E3FC;\n",
              "    }\n",
              "\n",
              "    [theme=dark] .colab-df-convert:hover {\n",
              "      background-color: #434B5C;\n",
              "      box-shadow: 0px 1px 3px 1px rgba(0, 0, 0, 0.15);\n",
              "      filter: drop-shadow(0px 1px 2px rgba(0, 0, 0, 0.3));\n",
              "      fill: #FFFFFF;\n",
              "    }\n",
              "  </style>\n",
              "\n",
              "      <script>\n",
              "        const buttonEl =\n",
              "          document.querySelector('#df-774465b6-71ac-43a2-91e0-daf431023597 button.colab-df-convert');\n",
              "        buttonEl.style.display =\n",
              "          google.colab.kernel.accessAllowed ? 'block' : 'none';\n",
              "\n",
              "        async function convertToInteractive(key) {\n",
              "          const element = document.querySelector('#df-774465b6-71ac-43a2-91e0-daf431023597');\n",
              "          const dataTable =\n",
              "            await google.colab.kernel.invokeFunction('convertToInteractive',\n",
              "                                                     [key], {});\n",
              "          if (!dataTable) return;\n",
              "\n",
              "          const docLinkHtml = 'Like what you see? Visit the ' +\n",
              "            '<a target=\"_blank\" href=https://colab.research.google.com/notebooks/data_table.ipynb>data table notebook</a>'\n",
              "            + ' to learn more about interactive tables.';\n",
              "          element.innerHTML = '';\n",
              "          dataTable['output_type'] = 'display_data';\n",
              "          await google.colab.output.renderOutput(dataTable, element);\n",
              "          const docLink = document.createElement('div');\n",
              "          docLink.innerHTML = docLinkHtml;\n",
              "          element.appendChild(docLink);\n",
              "        }\n",
              "      </script>\n",
              "    </div>\n",
              "  </div>\n",
              "  "
            ],
            "text/plain": [
              "       mean_b    mean_g    mean_r  ...  spearman_rg  spearman_gb  spearman_rb\n",
              "0    125.5533  161.6253  176.6418  ...     0.972982     0.832214     0.733152\n",
              "1    114.9893  112.2552  111.5738  ...     0.991757     0.991083     0.985862\n",
              "2    105.4500  104.0894  103.1808  ...     0.985135     0.992531     0.980287\n",
              "3     85.2002   81.2174   75.3480  ...     0.863769     0.929336     0.901799\n",
              "4    105.2561   92.0428   75.0345  ...     0.966182     0.985241     0.943893\n",
              "..        ...       ...       ...  ...          ...          ...          ...\n",
              "695  152.3457  154.6757  153.6669  ...     0.991465     0.980786     0.961508\n",
              "696  122.5034  123.3437  124.6599  ...     0.991151     0.991707     0.975217\n",
              "697  128.3950  125.9815  126.0795  ...     0.993805     0.994371     0.986526\n",
              "698  131.9930  134.1679  134.4544  ...     0.995217     0.990107     0.978628\n",
              "699  105.2373  104.1685  104.6597  ...     0.996694     0.997002     0.992320\n",
              "\n",
              "[700 rows x 21 columns]"
            ]
          },
          "metadata": {},
          "execution_count": 182
        }
      ]
    },
    {
      "cell_type": "markdown",
      "source": [
        "Converting the dataframe to the numpy array x"
      ],
      "metadata": {
        "id": "8N-NtWwtgL7w"
      }
    },
    {
      "cell_type": "code",
      "source": [
        "x = df.to_numpy()\n",
        "x.shape"
      ],
      "metadata": {
        "colab": {
          "base_uri": "https://localhost:8080/"
        },
        "id": "S7JY4XzjqINp",
        "outputId": "20ae4bcf-e81d-4a3a-8137-821b6522ef24"
      },
      "execution_count": 183,
      "outputs": [
        {
          "output_type": "execute_result",
          "data": {
            "text/plain": [
              "(700, 21)"
            ]
          },
          "metadata": {},
          "execution_count": 183
        }
      ]
    },
    {
      "cell_type": "markdown",
      "source": [
        "Shuffling x and y variables"
      ],
      "metadata": {
        "id": "DfmjM4u-gggo"
      }
    },
    {
      "cell_type": "code",
      "source": [
        "permutations = np.random.permutation(700)\n",
        "x = x[permutations]\n",
        "y = y[permutations]"
      ],
      "metadata": {
        "id": "VImeaeBUVXN5"
      },
      "execution_count": 185,
      "outputs": []
    },
    {
      "cell_type": "markdown",
      "source": [
        "One hot-encoding the y vector"
      ],
      "metadata": {
        "id": "xryWoblcgyI3"
      }
    },
    {
      "cell_type": "code",
      "source": [
        "y = tf.keras.utils.to_categorical(y)"
      ],
      "metadata": {
        "id": "iJGutDeFV9Xu"
      },
      "execution_count": 190,
      "outputs": []
    },
    {
      "cell_type": "markdown",
      "source": [
        "## Applying Artificial Neural Network (Multi-Layer Perceptron)"
      ],
      "metadata": {
        "id": "FglI5ByUenft"
      }
    },
    {
      "cell_type": "markdown",
      "source": [
        "#### Importing important deep learning libraries"
      ],
      "metadata": {
        "id": "bCJbOL9zey4y"
      }
    },
    {
      "cell_type": "code",
      "source": [
        "#Loading important libraries\n",
        "import numpy as np\n",
        "import tensorflow as tf\n",
        "import matplotlib.pyplot as plt\n",
        "%matplotlib inline\n",
        "\n",
        "from tensorflow.keras.models import Model, Sequential\n",
        "from tensorflow.keras.layers import Dense, Softmax\n",
        "from tensorflow.keras.optimizers import Adam\n",
        "from tensorflow.keras.callbacks import EarlyStopping, ModelCheckpoint\n",
        "\n",
        "from scipy.stats import spearmanr"
      ],
      "metadata": {
        "id": "tzjuC_lwJbWx"
      },
      "execution_count": 178,
      "outputs": []
    },
    {
      "cell_type": "markdown",
      "source": [
        "#### Creating Neural Network Architecture"
      ],
      "metadata": {
        "id": "sWWcLOxLe3tp"
      }
    },
    {
      "cell_type": "code",
      "source": [
        "input_shape = [x.shape[1]]\n",
        "\n",
        "mlp = keras.Sequential([\n",
        "    layers.BatchNormalization(input_shape=input_shape),\n",
        "    layers.Dense(32, activation='relu'),\n",
        "    layers.Dropout(0.1),\n",
        "    layers.BatchNormalization(),\n",
        "    layers.Dense(16, activation='relu'),\n",
        "    layers.Dropout(0.1),\n",
        "    layers.BatchNormalization(),\n",
        "    layers.Dense(2, activation = 'sigmoid'),\n",
        "])"
      ],
      "metadata": {
        "id": "jVIfKUYCpDLg"
      },
      "execution_count": 259,
      "outputs": []
    },
    {
      "cell_type": "markdown",
      "source": [
        "Compiling the Model"
      ],
      "metadata": {
        "id": "NC5ErYuog5NF"
      }
    },
    {
      "cell_type": "code",
      "source": [
        "# Compiling the model\n",
        "\n",
        "path = 'mlp_Raveling_NR_checkpoint/checkpoint_{epoch:02d}';\n",
        "mlp_checkpoint = ModelCheckpoint(filepath = path,\n",
        "                            verbose = 1,\n",
        "                            monitor = 'val_acc',\n",
        "                            save_freq = 'epoch',\n",
        "                            save_best_only = True,\n",
        "                            save_weights_only = True)\n",
        "\n",
        "mlp.compile(loss = 'binary_crossentropy', metrics = ['acc'], optimizer = 'adam')"
      ],
      "metadata": {
        "id": "Ya28At-Tpji7"
      },
      "execution_count": 279,
      "outputs": []
    },
    {
      "cell_type": "markdown",
      "source": [
        "Training the Model"
      ],
      "metadata": {
        "id": "2apVFK1XhvXj"
      }
    },
    {
      "cell_type": "code",
      "source": [
        "mlp_history = mlp.fit(x = x, y = y, validation_split = 0.1, epochs = 500, callbacks = [mlp_checkpoint])"
      ],
      "metadata": {
        "colab": {
          "base_uri": "https://localhost:8080/"
        },
        "id": "TQdIx2i7pRKA",
        "outputId": "0bd128c7-f81f-4f00-b75d-6312e1166075"
      },
      "execution_count": 261,
      "outputs": [
        {
          "output_type": "stream",
          "name": "stdout",
          "text": [
            "Epoch 1/500\n",
            "20/20 [==============================] - 2s 20ms/step - loss: 0.7532 - acc: 0.6159 - val_loss: 1.3608 - val_acc: 0.5714\n",
            "Epoch 2/500\n",
            "20/20 [==============================] - 0s 9ms/step - loss: 0.6109 - acc: 0.6984 - val_loss: 0.8044 - val_acc: 0.6857\n",
            "Epoch 3/500\n",
            "20/20 [==============================] - 0s 9ms/step - loss: 0.5321 - acc: 0.7651 - val_loss: 0.7472 - val_acc: 0.6857\n",
            "Epoch 4/500\n",
            "20/20 [==============================] - 0s 9ms/step - loss: 0.4864 - acc: 0.8016 - val_loss: 0.7752 - val_acc: 0.5857\n",
            "Epoch 5/500\n",
            "20/20 [==============================] - 0s 9ms/step - loss: 0.4685 - acc: 0.7937 - val_loss: 0.8299 - val_acc: 0.4714\n",
            "Epoch 6/500\n",
            "20/20 [==============================] - 0s 8ms/step - loss: 0.4412 - acc: 0.8111 - val_loss: 0.8975 - val_acc: 0.4571\n",
            "Epoch 7/500\n",
            "20/20 [==============================] - 0s 9ms/step - loss: 0.4444 - acc: 0.8016 - val_loss: 0.9500 - val_acc: 0.4571\n",
            "Epoch 8/500\n",
            "20/20 [==============================] - 0s 8ms/step - loss: 0.4269 - acc: 0.8381 - val_loss: 0.9115 - val_acc: 0.4571\n",
            "Epoch 9/500\n",
            "20/20 [==============================] - 0s 9ms/step - loss: 0.4416 - acc: 0.8127 - val_loss: 0.9357 - val_acc: 0.4571\n",
            "Epoch 10/500\n",
            "20/20 [==============================] - 0s 8ms/step - loss: 0.4234 - acc: 0.8254 - val_loss: 0.9598 - val_acc: 0.4571\n",
            "Epoch 11/500\n",
            "20/20 [==============================] - 0s 8ms/step - loss: 0.4147 - acc: 0.8429 - val_loss: 0.9804 - val_acc: 0.4571\n",
            "Epoch 12/500\n",
            "20/20 [==============================] - 0s 8ms/step - loss: 0.4169 - acc: 0.8429 - val_loss: 1.0212 - val_acc: 0.4571\n",
            "Epoch 13/500\n",
            "20/20 [==============================] - 0s 9ms/step - loss: 0.4015 - acc: 0.8190 - val_loss: 0.9701 - val_acc: 0.4571\n",
            "Epoch 14/500\n",
            "20/20 [==============================] - 0s 8ms/step - loss: 0.3914 - acc: 0.8238 - val_loss: 0.9515 - val_acc: 0.4571\n",
            "Epoch 15/500\n",
            "20/20 [==============================] - 0s 9ms/step - loss: 0.4087 - acc: 0.8159 - val_loss: 0.9146 - val_acc: 0.4857\n",
            "Epoch 16/500\n",
            "20/20 [==============================] - 0s 8ms/step - loss: 0.3776 - acc: 0.8317 - val_loss: 0.9376 - val_acc: 0.4714\n",
            "Epoch 17/500\n",
            "20/20 [==============================] - 0s 8ms/step - loss: 0.4043 - acc: 0.8254 - val_loss: 0.9178 - val_acc: 0.4571\n",
            "Epoch 18/500\n",
            "20/20 [==============================] - 0s 8ms/step - loss: 0.3705 - acc: 0.8365 - val_loss: 0.8715 - val_acc: 0.5143\n",
            "Epoch 19/500\n",
            "20/20 [==============================] - 0s 8ms/step - loss: 0.3791 - acc: 0.8349 - val_loss: 0.8169 - val_acc: 0.5000\n",
            "Epoch 20/500\n",
            "20/20 [==============================] - 0s 9ms/step - loss: 0.3718 - acc: 0.8492 - val_loss: 0.7609 - val_acc: 0.5714\n",
            "Epoch 21/500\n",
            "20/20 [==============================] - 0s 8ms/step - loss: 0.3627 - acc: 0.8508 - val_loss: 0.7198 - val_acc: 0.5714\n",
            "Epoch 22/500\n",
            "20/20 [==============================] - 0s 8ms/step - loss: 0.3437 - acc: 0.8444 - val_loss: 0.6908 - val_acc: 0.6000\n",
            "Epoch 23/500\n",
            "20/20 [==============================] - 0s 8ms/step - loss: 0.3679 - acc: 0.8508 - val_loss: 0.6477 - val_acc: 0.6429\n",
            "Epoch 24/500\n",
            "20/20 [==============================] - 0s 8ms/step - loss: 0.3424 - acc: 0.8651 - val_loss: 0.6139 - val_acc: 0.6571\n",
            "Epoch 25/500\n",
            "20/20 [==============================] - 0s 9ms/step - loss: 0.3333 - acc: 0.8619 - val_loss: 0.5791 - val_acc: 0.6857\n",
            "Epoch 26/500\n",
            "20/20 [==============================] - 0s 9ms/step - loss: 0.3493 - acc: 0.8683 - val_loss: 0.5638 - val_acc: 0.7143\n",
            "Epoch 27/500\n",
            "20/20 [==============================] - 0s 9ms/step - loss: 0.3411 - acc: 0.8397 - val_loss: 0.5413 - val_acc: 0.7000\n",
            "Epoch 28/500\n",
            "20/20 [==============================] - 0s 9ms/step - loss: 0.3494 - acc: 0.8571 - val_loss: 0.4906 - val_acc: 0.7429\n",
            "Epoch 29/500\n",
            "20/20 [==============================] - 0s 8ms/step - loss: 0.2943 - acc: 0.8714 - val_loss: 0.4785 - val_acc: 0.7429\n",
            "Epoch 30/500\n",
            "20/20 [==============================] - 0s 9ms/step - loss: 0.3300 - acc: 0.8603 - val_loss: 0.4497 - val_acc: 0.7714\n",
            "Epoch 31/500\n",
            "20/20 [==============================] - 0s 9ms/step - loss: 0.3437 - acc: 0.8524 - val_loss: 0.4364 - val_acc: 0.7429\n",
            "Epoch 32/500\n",
            "20/20 [==============================] - 0s 8ms/step - loss: 0.3267 - acc: 0.8730 - val_loss: 0.3985 - val_acc: 0.7857\n",
            "Epoch 33/500\n",
            "20/20 [==============================] - 0s 8ms/step - loss: 0.3091 - acc: 0.8730 - val_loss: 0.3768 - val_acc: 0.8286\n",
            "Epoch 34/500\n",
            "20/20 [==============================] - 0s 9ms/step - loss: 0.3170 - acc: 0.8746 - val_loss: 0.3278 - val_acc: 0.8714\n",
            "Epoch 35/500\n",
            "20/20 [==============================] - 0s 8ms/step - loss: 0.2956 - acc: 0.8937 - val_loss: 0.3120 - val_acc: 0.8714\n",
            "Epoch 36/500\n",
            "20/20 [==============================] - 0s 9ms/step - loss: 0.3363 - acc: 0.8444 - val_loss: 0.3039 - val_acc: 0.9000\n",
            "Epoch 37/500\n",
            "20/20 [==============================] - 0s 9ms/step - loss: 0.3215 - acc: 0.8778 - val_loss: 0.2966 - val_acc: 0.9000\n",
            "Epoch 38/500\n",
            "20/20 [==============================] - 0s 9ms/step - loss: 0.3307 - acc: 0.8635 - val_loss: 0.2955 - val_acc: 0.9000\n",
            "Epoch 39/500\n",
            "20/20 [==============================] - 0s 8ms/step - loss: 0.3182 - acc: 0.8683 - val_loss: 0.2870 - val_acc: 0.9286\n",
            "Epoch 40/500\n",
            "20/20 [==============================] - 0s 8ms/step - loss: 0.2741 - acc: 0.8889 - val_loss: 0.2839 - val_acc: 0.9143\n",
            "Epoch 41/500\n",
            "20/20 [==============================] - 0s 8ms/step - loss: 0.2959 - acc: 0.8778 - val_loss: 0.2611 - val_acc: 0.9143\n",
            "Epoch 42/500\n",
            "20/20 [==============================] - 0s 9ms/step - loss: 0.2985 - acc: 0.8778 - val_loss: 0.2569 - val_acc: 0.9143\n",
            "Epoch 43/500\n",
            "20/20 [==============================] - 0s 9ms/step - loss: 0.2842 - acc: 0.8921 - val_loss: 0.2637 - val_acc: 0.9000\n",
            "Epoch 44/500\n",
            "20/20 [==============================] - 0s 9ms/step - loss: 0.2846 - acc: 0.8730 - val_loss: 0.2585 - val_acc: 0.9143\n",
            "Epoch 45/500\n",
            "20/20 [==============================] - 0s 8ms/step - loss: 0.2957 - acc: 0.8921 - val_loss: 0.2517 - val_acc: 0.8857\n",
            "Epoch 46/500\n",
            "20/20 [==============================] - 0s 8ms/step - loss: 0.2851 - acc: 0.8825 - val_loss: 0.2461 - val_acc: 0.9143\n",
            "Epoch 47/500\n",
            "20/20 [==============================] - 0s 9ms/step - loss: 0.2887 - acc: 0.8698 - val_loss: 0.2559 - val_acc: 0.8714\n",
            "Epoch 48/500\n",
            "20/20 [==============================] - 0s 8ms/step - loss: 0.2763 - acc: 0.8762 - val_loss: 0.2658 - val_acc: 0.8857\n",
            "Epoch 49/500\n",
            "20/20 [==============================] - 0s 9ms/step - loss: 0.2714 - acc: 0.8921 - val_loss: 0.2386 - val_acc: 0.9143\n",
            "Epoch 50/500\n",
            "20/20 [==============================] - 0s 8ms/step - loss: 0.2749 - acc: 0.8746 - val_loss: 0.2458 - val_acc: 0.9143\n",
            "Epoch 51/500\n",
            "20/20 [==============================] - 0s 9ms/step - loss: 0.2788 - acc: 0.8873 - val_loss: 0.2370 - val_acc: 0.9429\n",
            "Epoch 52/500\n",
            "20/20 [==============================] - 0s 8ms/step - loss: 0.2680 - acc: 0.8889 - val_loss: 0.2376 - val_acc: 0.9000\n",
            "Epoch 53/500\n",
            "20/20 [==============================] - 0s 9ms/step - loss: 0.2847 - acc: 0.8794 - val_loss: 0.2385 - val_acc: 0.8571\n",
            "Epoch 54/500\n",
            "20/20 [==============================] - 0s 8ms/step - loss: 0.2693 - acc: 0.8968 - val_loss: 0.2274 - val_acc: 0.9000\n",
            "Epoch 55/500\n",
            "20/20 [==============================] - 0s 9ms/step - loss: 0.2606 - acc: 0.8857 - val_loss: 0.2675 - val_acc: 0.8857\n",
            "Epoch 56/500\n",
            "20/20 [==============================] - 0s 8ms/step - loss: 0.2727 - acc: 0.8873 - val_loss: 0.2382 - val_acc: 0.9143\n",
            "Epoch 57/500\n",
            "20/20 [==============================] - 0s 9ms/step - loss: 0.2712 - acc: 0.9032 - val_loss: 0.2420 - val_acc: 0.8857\n",
            "Epoch 58/500\n",
            "20/20 [==============================] - 0s 8ms/step - loss: 0.2414 - acc: 0.9079 - val_loss: 0.2507 - val_acc: 0.8571\n",
            "Epoch 59/500\n",
            "20/20 [==============================] - 0s 9ms/step - loss: 0.2538 - acc: 0.9032 - val_loss: 0.2442 - val_acc: 0.9000\n",
            "Epoch 60/500\n",
            "20/20 [==============================] - 0s 8ms/step - loss: 0.2833 - acc: 0.8825 - val_loss: 0.2465 - val_acc: 0.8714\n",
            "Epoch 61/500\n",
            "20/20 [==============================] - 0s 9ms/step - loss: 0.2636 - acc: 0.8841 - val_loss: 0.2368 - val_acc: 0.9000\n",
            "Epoch 62/500\n",
            "20/20 [==============================] - 0s 8ms/step - loss: 0.2764 - acc: 0.8762 - val_loss: 0.2651 - val_acc: 0.8714\n",
            "Epoch 63/500\n",
            "20/20 [==============================] - 0s 9ms/step - loss: 0.2628 - acc: 0.8921 - val_loss: 0.2572 - val_acc: 0.8857\n",
            "Epoch 64/500\n",
            "20/20 [==============================] - 0s 8ms/step - loss: 0.2409 - acc: 0.9016 - val_loss: 0.2839 - val_acc: 0.8571\n",
            "Epoch 65/500\n",
            "20/20 [==============================] - 0s 9ms/step - loss: 0.2794 - acc: 0.8810 - val_loss: 0.2544 - val_acc: 0.8857\n",
            "Epoch 66/500\n",
            "20/20 [==============================] - 0s 8ms/step - loss: 0.2852 - acc: 0.8873 - val_loss: 0.2438 - val_acc: 0.9286\n",
            "Epoch 67/500\n",
            "20/20 [==============================] - 0s 9ms/step - loss: 0.2489 - acc: 0.9111 - val_loss: 0.2505 - val_acc: 0.9286\n",
            "Epoch 68/500\n",
            "20/20 [==============================] - 0s 8ms/step - loss: 0.2647 - acc: 0.8905 - val_loss: 0.2436 - val_acc: 0.9000\n",
            "Epoch 69/500\n",
            "20/20 [==============================] - 0s 8ms/step - loss: 0.2321 - acc: 0.9111 - val_loss: 0.2362 - val_acc: 0.9143\n",
            "Epoch 70/500\n",
            "20/20 [==============================] - 0s 8ms/step - loss: 0.2664 - acc: 0.8968 - val_loss: 0.2369 - val_acc: 0.9143\n",
            "Epoch 71/500\n",
            "20/20 [==============================] - 0s 9ms/step - loss: 0.2557 - acc: 0.8889 - val_loss: 0.2698 - val_acc: 0.9143\n",
            "Epoch 72/500\n",
            "20/20 [==============================] - 0s 8ms/step - loss: 0.2374 - acc: 0.9111 - val_loss: 0.2677 - val_acc: 0.8857\n",
            "Epoch 73/500\n",
            "20/20 [==============================] - 0s 9ms/step - loss: 0.2346 - acc: 0.9206 - val_loss: 0.2354 - val_acc: 0.9000\n",
            "Epoch 74/500\n",
            "20/20 [==============================] - 0s 9ms/step - loss: 0.2340 - acc: 0.9079 - val_loss: 0.2445 - val_acc: 0.9143\n",
            "Epoch 75/500\n",
            "20/20 [==============================] - 0s 8ms/step - loss: 0.2399 - acc: 0.9032 - val_loss: 0.2010 - val_acc: 0.9143\n",
            "Epoch 76/500\n",
            "20/20 [==============================] - 0s 9ms/step - loss: 0.2256 - acc: 0.9127 - val_loss: 0.2240 - val_acc: 0.9286\n",
            "Epoch 77/500\n",
            "20/20 [==============================] - 0s 9ms/step - loss: 0.2526 - acc: 0.8889 - val_loss: 0.2159 - val_acc: 0.9143\n",
            "Epoch 78/500\n",
            "20/20 [==============================] - 0s 8ms/step - loss: 0.2274 - acc: 0.9048 - val_loss: 0.2000 - val_acc: 0.9286\n",
            "Epoch 79/500\n",
            "20/20 [==============================] - 0s 8ms/step - loss: 0.2602 - acc: 0.8889 - val_loss: 0.1994 - val_acc: 0.9143\n",
            "Epoch 80/500\n",
            "20/20 [==============================] - 0s 9ms/step - loss: 0.2286 - acc: 0.9127 - val_loss: 0.2243 - val_acc: 0.9143\n",
            "Epoch 81/500\n",
            "20/20 [==============================] - 0s 8ms/step - loss: 0.2347 - acc: 0.9079 - val_loss: 0.2228 - val_acc: 0.9143\n",
            "Epoch 82/500\n",
            "20/20 [==============================] - 0s 9ms/step - loss: 0.2292 - acc: 0.9127 - val_loss: 0.2243 - val_acc: 0.9143\n",
            "Epoch 83/500\n",
            "20/20 [==============================] - 0s 8ms/step - loss: 0.2251 - acc: 0.9063 - val_loss: 0.2249 - val_acc: 0.9143\n",
            "Epoch 84/500\n",
            "20/20 [==============================] - 0s 9ms/step - loss: 0.2262 - acc: 0.9111 - val_loss: 0.2351 - val_acc: 0.9143\n",
            "Epoch 85/500\n",
            "20/20 [==============================] - 0s 8ms/step - loss: 0.2314 - acc: 0.9000 - val_loss: 0.2375 - val_acc: 0.9000\n",
            "Epoch 86/500\n",
            "20/20 [==============================] - 0s 9ms/step - loss: 0.2265 - acc: 0.9063 - val_loss: 0.2042 - val_acc: 0.9143\n",
            "Epoch 87/500\n",
            "20/20 [==============================] - 0s 8ms/step - loss: 0.2452 - acc: 0.8984 - val_loss: 0.2185 - val_acc: 0.9000\n",
            "Epoch 88/500\n",
            "20/20 [==============================] - 0s 10ms/step - loss: 0.2116 - acc: 0.9159 - val_loss: 0.2369 - val_acc: 0.9000\n",
            "Epoch 89/500\n",
            "20/20 [==============================] - 0s 9ms/step - loss: 0.2399 - acc: 0.9016 - val_loss: 0.2255 - val_acc: 0.9286\n",
            "Epoch 90/500\n",
            "20/20 [==============================] - 0s 8ms/step - loss: 0.2381 - acc: 0.9079 - val_loss: 0.2561 - val_acc: 0.9000\n",
            "Epoch 91/500\n",
            "20/20 [==============================] - 0s 9ms/step - loss: 0.2499 - acc: 0.9032 - val_loss: 0.2506 - val_acc: 0.9000\n",
            "Epoch 92/500\n",
            "20/20 [==============================] - 0s 9ms/step - loss: 0.2471 - acc: 0.8873 - val_loss: 0.2302 - val_acc: 0.9286\n",
            "Epoch 93/500\n",
            "20/20 [==============================] - 0s 10ms/step - loss: 0.2530 - acc: 0.9032 - val_loss: 0.2356 - val_acc: 0.9143\n",
            "Epoch 94/500\n",
            "20/20 [==============================] - 0s 9ms/step - loss: 0.2393 - acc: 0.8984 - val_loss: 0.2427 - val_acc: 0.9000\n",
            "Epoch 95/500\n",
            "20/20 [==============================] - 0s 8ms/step - loss: 0.2284 - acc: 0.9063 - val_loss: 0.2354 - val_acc: 0.9143\n",
            "Epoch 96/500\n",
            "20/20 [==============================] - 0s 8ms/step - loss: 0.2314 - acc: 0.9079 - val_loss: 0.2453 - val_acc: 0.9000\n",
            "Epoch 97/500\n",
            "20/20 [==============================] - 0s 9ms/step - loss: 0.1992 - acc: 0.9159 - val_loss: 0.2532 - val_acc: 0.9000\n",
            "Epoch 98/500\n",
            "20/20 [==============================] - 0s 9ms/step - loss: 0.2072 - acc: 0.9127 - val_loss: 0.2227 - val_acc: 0.9000\n",
            "Epoch 99/500\n",
            "20/20 [==============================] - 0s 9ms/step - loss: 0.2375 - acc: 0.9032 - val_loss: 0.2491 - val_acc: 0.9286\n",
            "Epoch 100/500\n",
            "20/20 [==============================] - 0s 8ms/step - loss: 0.2253 - acc: 0.9048 - val_loss: 0.1946 - val_acc: 0.9143\n",
            "Epoch 101/500\n",
            "20/20 [==============================] - 0s 8ms/step - loss: 0.2361 - acc: 0.9048 - val_loss: 0.1967 - val_acc: 0.9143\n",
            "Epoch 102/500\n",
            "20/20 [==============================] - 0s 9ms/step - loss: 0.2335 - acc: 0.9032 - val_loss: 0.2273 - val_acc: 0.9143\n",
            "Epoch 103/500\n",
            "20/20 [==============================] - 0s 9ms/step - loss: 0.1826 - acc: 0.9238 - val_loss: 0.2271 - val_acc: 0.9429\n",
            "Epoch 104/500\n",
            "20/20 [==============================] - 0s 8ms/step - loss: 0.2254 - acc: 0.9063 - val_loss: 0.1900 - val_acc: 0.9286\n",
            "Epoch 105/500\n",
            "20/20 [==============================] - 0s 10ms/step - loss: 0.2145 - acc: 0.9048 - val_loss: 0.1774 - val_acc: 0.9429\n",
            "Epoch 106/500\n",
            "20/20 [==============================] - 0s 9ms/step - loss: 0.2262 - acc: 0.9063 - val_loss: 0.2190 - val_acc: 0.9286\n",
            "Epoch 107/500\n",
            "20/20 [==============================] - 0s 8ms/step - loss: 0.2290 - acc: 0.9175 - val_loss: 0.1945 - val_acc: 0.9286\n",
            "Epoch 108/500\n",
            "20/20 [==============================] - 0s 9ms/step - loss: 0.2434 - acc: 0.9016 - val_loss: 0.2350 - val_acc: 0.9143\n",
            "Epoch 109/500\n",
            "20/20 [==============================] - 0s 8ms/step - loss: 0.2214 - acc: 0.9143 - val_loss: 0.2093 - val_acc: 0.9143\n",
            "Epoch 110/500\n",
            "20/20 [==============================] - 0s 9ms/step - loss: 0.2119 - acc: 0.9286 - val_loss: 0.2116 - val_acc: 0.9286\n",
            "Epoch 111/500\n",
            "20/20 [==============================] - 0s 9ms/step - loss: 0.2167 - acc: 0.9111 - val_loss: 0.1949 - val_acc: 0.9429\n",
            "Epoch 112/500\n",
            "20/20 [==============================] - 0s 9ms/step - loss: 0.2415 - acc: 0.8968 - val_loss: 0.2234 - val_acc: 0.9286\n",
            "Epoch 113/500\n",
            "20/20 [==============================] - 0s 9ms/step - loss: 0.2315 - acc: 0.9032 - val_loss: 0.2345 - val_acc: 0.9286\n",
            "Epoch 114/500\n",
            "20/20 [==============================] - 0s 9ms/step - loss: 0.2112 - acc: 0.9048 - val_loss: 0.1886 - val_acc: 0.9429\n",
            "Epoch 115/500\n",
            "20/20 [==============================] - 0s 8ms/step - loss: 0.2070 - acc: 0.9095 - val_loss: 0.2058 - val_acc: 0.9286\n",
            "Epoch 116/500\n",
            "20/20 [==============================] - 0s 9ms/step - loss: 0.2290 - acc: 0.9095 - val_loss: 0.2122 - val_acc: 0.9286\n",
            "Epoch 117/500\n",
            "20/20 [==============================] - 0s 9ms/step - loss: 0.2317 - acc: 0.9095 - val_loss: 0.2212 - val_acc: 0.9286\n",
            "Epoch 118/500\n",
            "20/20 [==============================] - 0s 9ms/step - loss: 0.2103 - acc: 0.9222 - val_loss: 0.2057 - val_acc: 0.9429\n",
            "Epoch 119/500\n",
            "20/20 [==============================] - 0s 8ms/step - loss: 0.2284 - acc: 0.9079 - val_loss: 0.2537 - val_acc: 0.9143\n",
            "Epoch 120/500\n",
            "20/20 [==============================] - 0s 8ms/step - loss: 0.2483 - acc: 0.8905 - val_loss: 0.2103 - val_acc: 0.9143\n",
            "Epoch 121/500\n",
            "20/20 [==============================] - 0s 9ms/step - loss: 0.2347 - acc: 0.9095 - val_loss: 0.1957 - val_acc: 0.9286\n",
            "Epoch 122/500\n",
            "20/20 [==============================] - 0s 10ms/step - loss: 0.2057 - acc: 0.9270 - val_loss: 0.1945 - val_acc: 0.9143\n",
            "Epoch 123/500\n",
            "20/20 [==============================] - 0s 9ms/step - loss: 0.2683 - acc: 0.8841 - val_loss: 0.2193 - val_acc: 0.9143\n",
            "Epoch 124/500\n",
            "20/20 [==============================] - 0s 9ms/step - loss: 0.2432 - acc: 0.9079 - val_loss: 0.2398 - val_acc: 0.9143\n",
            "Epoch 125/500\n",
            "20/20 [==============================] - 0s 9ms/step - loss: 0.2288 - acc: 0.9048 - val_loss: 0.2600 - val_acc: 0.8857\n",
            "Epoch 126/500\n",
            "20/20 [==============================] - 0s 9ms/step - loss: 0.2233 - acc: 0.9016 - val_loss: 0.2553 - val_acc: 0.8714\n",
            "Epoch 127/500\n",
            "20/20 [==============================] - 0s 9ms/step - loss: 0.2084 - acc: 0.9206 - val_loss: 0.2574 - val_acc: 0.8857\n",
            "Epoch 128/500\n",
            "20/20 [==============================] - 0s 8ms/step - loss: 0.2025 - acc: 0.9206 - val_loss: 0.2384 - val_acc: 0.8857\n",
            "Epoch 129/500\n",
            "20/20 [==============================] - 0s 9ms/step - loss: 0.1991 - acc: 0.9270 - val_loss: 0.2274 - val_acc: 0.9000\n",
            "Epoch 130/500\n",
            "20/20 [==============================] - 0s 8ms/step - loss: 0.2070 - acc: 0.9079 - val_loss: 0.2088 - val_acc: 0.9000\n",
            "Epoch 131/500\n",
            "20/20 [==============================] - 0s 8ms/step - loss: 0.2465 - acc: 0.9032 - val_loss: 0.2529 - val_acc: 0.8857\n",
            "Epoch 132/500\n",
            "20/20 [==============================] - 0s 9ms/step - loss: 0.2309 - acc: 0.9127 - val_loss: 0.2280 - val_acc: 0.8857\n",
            "Epoch 133/500\n",
            "20/20 [==============================] - 0s 9ms/step - loss: 0.2016 - acc: 0.9222 - val_loss: 0.2006 - val_acc: 0.9143\n",
            "Epoch 134/500\n",
            "20/20 [==============================] - 0s 9ms/step - loss: 0.2276 - acc: 0.9063 - val_loss: 0.2562 - val_acc: 0.8857\n",
            "Epoch 135/500\n",
            "20/20 [==============================] - 0s 10ms/step - loss: 0.2089 - acc: 0.9159 - val_loss: 0.1947 - val_acc: 0.9286\n",
            "Epoch 136/500\n",
            "20/20 [==============================] - 0s 8ms/step - loss: 0.2434 - acc: 0.9048 - val_loss: 0.2066 - val_acc: 0.9000\n",
            "Epoch 137/500\n",
            "20/20 [==============================] - 0s 9ms/step - loss: 0.2152 - acc: 0.9111 - val_loss: 0.2612 - val_acc: 0.9000\n",
            "Epoch 138/500\n",
            "20/20 [==============================] - 0s 9ms/step - loss: 0.2343 - acc: 0.9032 - val_loss: 0.2140 - val_acc: 0.9000\n",
            "Epoch 139/500\n",
            "20/20 [==============================] - 0s 9ms/step - loss: 0.2239 - acc: 0.9143 - val_loss: 0.2282 - val_acc: 0.9143\n",
            "Epoch 140/500\n",
            "20/20 [==============================] - 0s 8ms/step - loss: 0.2138 - acc: 0.9079 - val_loss: 0.2131 - val_acc: 0.9286\n",
            "Epoch 141/500\n",
            "20/20 [==============================] - 0s 9ms/step - loss: 0.2046 - acc: 0.9254 - val_loss: 0.2204 - val_acc: 0.9143\n",
            "Epoch 142/500\n",
            "20/20 [==============================] - 0s 9ms/step - loss: 0.2669 - acc: 0.8921 - val_loss: 0.2368 - val_acc: 0.9286\n",
            "Epoch 143/500\n",
            "20/20 [==============================] - 0s 9ms/step - loss: 0.2079 - acc: 0.9143 - val_loss: 0.2220 - val_acc: 0.9286\n",
            "Epoch 144/500\n",
            "20/20 [==============================] - 0s 9ms/step - loss: 0.2145 - acc: 0.9095 - val_loss: 0.2336 - val_acc: 0.9286\n",
            "Epoch 145/500\n",
            "20/20 [==============================] - 0s 10ms/step - loss: 0.2128 - acc: 0.9175 - val_loss: 0.2417 - val_acc: 0.9000\n",
            "Epoch 146/500\n",
            "20/20 [==============================] - 0s 9ms/step - loss: 0.2173 - acc: 0.9079 - val_loss: 0.2315 - val_acc: 0.9143\n",
            "Epoch 147/500\n",
            "20/20 [==============================] - 0s 9ms/step - loss: 0.2080 - acc: 0.9206 - val_loss: 0.2388 - val_acc: 0.9286\n",
            "Epoch 148/500\n",
            "20/20 [==============================] - 0s 9ms/step - loss: 0.1939 - acc: 0.9143 - val_loss: 0.2129 - val_acc: 0.9429\n",
            "Epoch 149/500\n",
            "20/20 [==============================] - 0s 9ms/step - loss: 0.2059 - acc: 0.9143 - val_loss: 0.1961 - val_acc: 0.9571\n",
            "Epoch 150/500\n",
            "20/20 [==============================] - 0s 8ms/step - loss: 0.1755 - acc: 0.9365 - val_loss: 0.2003 - val_acc: 0.9143\n",
            "Epoch 151/500\n",
            "20/20 [==============================] - 0s 8ms/step - loss: 0.1940 - acc: 0.9381 - val_loss: 0.1791 - val_acc: 0.9286\n",
            "Epoch 152/500\n",
            "20/20 [==============================] - 0s 10ms/step - loss: 0.2035 - acc: 0.9333 - val_loss: 0.1848 - val_acc: 0.9286\n",
            "Epoch 153/500\n",
            "20/20 [==============================] - 0s 8ms/step - loss: 0.2060 - acc: 0.9127 - val_loss: 0.1977 - val_acc: 0.9143\n",
            "Epoch 154/500\n",
            "20/20 [==============================] - 0s 9ms/step - loss: 0.2034 - acc: 0.9127 - val_loss: 0.2152 - val_acc: 0.9286\n",
            "Epoch 155/500\n",
            "20/20 [==============================] - 0s 9ms/step - loss: 0.1912 - acc: 0.9286 - val_loss: 0.2093 - val_acc: 0.9000\n",
            "Epoch 156/500\n",
            "20/20 [==============================] - 0s 9ms/step - loss: 0.1999 - acc: 0.9063 - val_loss: 0.1968 - val_acc: 0.9286\n",
            "Epoch 157/500\n",
            "20/20 [==============================] - 0s 9ms/step - loss: 0.2023 - acc: 0.9111 - val_loss: 0.2127 - val_acc: 0.9286\n",
            "Epoch 158/500\n",
            "20/20 [==============================] - 0s 9ms/step - loss: 0.2020 - acc: 0.9175 - val_loss: 0.2059 - val_acc: 0.9143\n",
            "Epoch 159/500\n",
            "20/20 [==============================] - 0s 9ms/step - loss: 0.2409 - acc: 0.9143 - val_loss: 0.1872 - val_acc: 0.9429\n",
            "Epoch 160/500\n",
            "20/20 [==============================] - 0s 9ms/step - loss: 0.2037 - acc: 0.9159 - val_loss: 0.2395 - val_acc: 0.8857\n",
            "Epoch 161/500\n",
            "20/20 [==============================] - 0s 9ms/step - loss: 0.2294 - acc: 0.9143 - val_loss: 0.2196 - val_acc: 0.9143\n",
            "Epoch 162/500\n",
            "20/20 [==============================] - 0s 9ms/step - loss: 0.2006 - acc: 0.9317 - val_loss: 0.1926 - val_acc: 0.9286\n",
            "Epoch 163/500\n",
            "20/20 [==============================] - 0s 9ms/step - loss: 0.1892 - acc: 0.9222 - val_loss: 0.2093 - val_acc: 0.9000\n",
            "Epoch 164/500\n",
            "20/20 [==============================] - 0s 10ms/step - loss: 0.2168 - acc: 0.9143 - val_loss: 0.2156 - val_acc: 0.8857\n",
            "Epoch 165/500\n",
            "20/20 [==============================] - 0s 9ms/step - loss: 0.1694 - acc: 0.9381 - val_loss: 0.1886 - val_acc: 0.9286\n",
            "Epoch 166/500\n",
            "20/20 [==============================] - 0s 8ms/step - loss: 0.1631 - acc: 0.9381 - val_loss: 0.2126 - val_acc: 0.9000\n",
            "Epoch 167/500\n",
            "20/20 [==============================] - 0s 8ms/step - loss: 0.2123 - acc: 0.9095 - val_loss: 0.1994 - val_acc: 0.9143\n",
            "Epoch 168/500\n",
            "20/20 [==============================] - 0s 9ms/step - loss: 0.2090 - acc: 0.9254 - val_loss: 0.1997 - val_acc: 0.9143\n",
            "Epoch 169/500\n",
            "20/20 [==============================] - 0s 8ms/step - loss: 0.2370 - acc: 0.9063 - val_loss: 0.2129 - val_acc: 0.9000\n",
            "Epoch 170/500\n",
            "20/20 [==============================] - 0s 9ms/step - loss: 0.1991 - acc: 0.9254 - val_loss: 0.2263 - val_acc: 0.9000\n",
            "Epoch 171/500\n",
            "20/20 [==============================] - 0s 8ms/step - loss: 0.2263 - acc: 0.9079 - val_loss: 0.2320 - val_acc: 0.9000\n",
            "Epoch 172/500\n",
            "20/20 [==============================] - 0s 9ms/step - loss: 0.1979 - acc: 0.9206 - val_loss: 0.2339 - val_acc: 0.9286\n",
            "Epoch 173/500\n",
            "20/20 [==============================] - 0s 9ms/step - loss: 0.1927 - acc: 0.9270 - val_loss: 0.2095 - val_acc: 0.9000\n",
            "Epoch 174/500\n",
            "20/20 [==============================] - 0s 9ms/step - loss: 0.1615 - acc: 0.9413 - val_loss: 0.2205 - val_acc: 0.9000\n",
            "Epoch 175/500\n",
            "20/20 [==============================] - 0s 8ms/step - loss: 0.1783 - acc: 0.9317 - val_loss: 0.2340 - val_acc: 0.9000\n",
            "Epoch 176/500\n",
            "20/20 [==============================] - 0s 10ms/step - loss: 0.1875 - acc: 0.9286 - val_loss: 0.2164 - val_acc: 0.9143\n",
            "Epoch 177/500\n",
            "20/20 [==============================] - 0s 9ms/step - loss: 0.1698 - acc: 0.9286 - val_loss: 0.2193 - val_acc: 0.9143\n",
            "Epoch 178/500\n",
            "20/20 [==============================] - 0s 9ms/step - loss: 0.1851 - acc: 0.9365 - val_loss: 0.2106 - val_acc: 0.9143\n",
            "Epoch 179/500\n",
            "20/20 [==============================] - 0s 8ms/step - loss: 0.2099 - acc: 0.9238 - val_loss: 0.1898 - val_acc: 0.9286\n",
            "Epoch 180/500\n",
            "20/20 [==============================] - 0s 9ms/step - loss: 0.2323 - acc: 0.9095 - val_loss: 0.2061 - val_acc: 0.9286\n",
            "Epoch 181/500\n",
            "20/20 [==============================] - 0s 9ms/step - loss: 0.2123 - acc: 0.9095 - val_loss: 0.2259 - val_acc: 0.9000\n",
            "Epoch 182/500\n",
            "20/20 [==============================] - 0s 9ms/step - loss: 0.2187 - acc: 0.9190 - val_loss: 0.1910 - val_acc: 0.9286\n",
            "Epoch 183/500\n",
            "20/20 [==============================] - 0s 9ms/step - loss: 0.2099 - acc: 0.9143 - val_loss: 0.1958 - val_acc: 0.9143\n",
            "Epoch 184/500\n",
            "20/20 [==============================] - 0s 9ms/step - loss: 0.2194 - acc: 0.9143 - val_loss: 0.2201 - val_acc: 0.9143\n",
            "Epoch 185/500\n",
            "20/20 [==============================] - 0s 10ms/step - loss: 0.1914 - acc: 0.9190 - val_loss: 0.2151 - val_acc: 0.9286\n",
            "Epoch 186/500\n",
            "20/20 [==============================] - 0s 9ms/step - loss: 0.1870 - acc: 0.9190 - val_loss: 0.1987 - val_acc: 0.9143\n",
            "Epoch 187/500\n",
            "20/20 [==============================] - 0s 10ms/step - loss: 0.1959 - acc: 0.9190 - val_loss: 0.2096 - val_acc: 0.8857\n",
            "Epoch 188/500\n",
            "20/20 [==============================] - 0s 8ms/step - loss: 0.1821 - acc: 0.9317 - val_loss: 0.2123 - val_acc: 0.9000\n",
            "Epoch 189/500\n",
            "20/20 [==============================] - 0s 9ms/step - loss: 0.1904 - acc: 0.9159 - val_loss: 0.2155 - val_acc: 0.8857\n",
            "Epoch 190/500\n",
            "20/20 [==============================] - 0s 9ms/step - loss: 0.1823 - acc: 0.9317 - val_loss: 0.1949 - val_acc: 0.9286\n",
            "Epoch 191/500\n",
            "20/20 [==============================] - 0s 9ms/step - loss: 0.2104 - acc: 0.9127 - val_loss: 0.1881 - val_acc: 0.9286\n",
            "Epoch 192/500\n",
            "20/20 [==============================] - 0s 9ms/step - loss: 0.2066 - acc: 0.9238 - val_loss: 0.1748 - val_acc: 0.9286\n",
            "Epoch 193/500\n",
            "20/20 [==============================] - 0s 9ms/step - loss: 0.2094 - acc: 0.9175 - val_loss: 0.1830 - val_acc: 0.9286\n",
            "Epoch 194/500\n",
            "20/20 [==============================] - 0s 10ms/step - loss: 0.1953 - acc: 0.9222 - val_loss: 0.1919 - val_acc: 0.9143\n",
            "Epoch 195/500\n",
            "20/20 [==============================] - 0s 9ms/step - loss: 0.1643 - acc: 0.9333 - val_loss: 0.1987 - val_acc: 0.9000\n",
            "Epoch 196/500\n",
            "20/20 [==============================] - 0s 9ms/step - loss: 0.2099 - acc: 0.9079 - val_loss: 0.1782 - val_acc: 0.9286\n",
            "Epoch 197/500\n",
            "20/20 [==============================] - 0s 9ms/step - loss: 0.1873 - acc: 0.9206 - val_loss: 0.1885 - val_acc: 0.9286\n",
            "Epoch 198/500\n",
            "20/20 [==============================] - 0s 9ms/step - loss: 0.1941 - acc: 0.9333 - val_loss: 0.2037 - val_acc: 0.9143\n",
            "Epoch 199/500\n",
            "20/20 [==============================] - 0s 9ms/step - loss: 0.1894 - acc: 0.9206 - val_loss: 0.2397 - val_acc: 0.8857\n",
            "Epoch 200/500\n",
            "20/20 [==============================] - 0s 10ms/step - loss: 0.1930 - acc: 0.9238 - val_loss: 0.2302 - val_acc: 0.8857\n",
            "Epoch 201/500\n",
            "20/20 [==============================] - 0s 9ms/step - loss: 0.2064 - acc: 0.9095 - val_loss: 0.2116 - val_acc: 0.9143\n",
            "Epoch 202/500\n",
            "20/20 [==============================] - 0s 10ms/step - loss: 0.1628 - acc: 0.9349 - val_loss: 0.1921 - val_acc: 0.9143\n",
            "Epoch 203/500\n",
            "20/20 [==============================] - 0s 9ms/step - loss: 0.2024 - acc: 0.9175 - val_loss: 0.1930 - val_acc: 0.9143\n",
            "Epoch 204/500\n",
            "20/20 [==============================] - 0s 8ms/step - loss: 0.1784 - acc: 0.9238 - val_loss: 0.2421 - val_acc: 0.8857\n",
            "Epoch 205/500\n",
            "20/20 [==============================] - 0s 8ms/step - loss: 0.1759 - acc: 0.9413 - val_loss: 0.2223 - val_acc: 0.9000\n",
            "Epoch 206/500\n",
            "20/20 [==============================] - 0s 8ms/step - loss: 0.1878 - acc: 0.9270 - val_loss: 0.2054 - val_acc: 0.9143\n",
            "Epoch 207/500\n",
            "20/20 [==============================] - 0s 9ms/step - loss: 0.1992 - acc: 0.9143 - val_loss: 0.2280 - val_acc: 0.9143\n",
            "Epoch 208/500\n",
            "20/20 [==============================] - 0s 9ms/step - loss: 0.1692 - acc: 0.9317 - val_loss: 0.2090 - val_acc: 0.9143\n",
            "Epoch 209/500\n",
            "20/20 [==============================] - 0s 9ms/step - loss: 0.1945 - acc: 0.9317 - val_loss: 0.2172 - val_acc: 0.8857\n",
            "Epoch 210/500\n",
            "20/20 [==============================] - 0s 8ms/step - loss: 0.1989 - acc: 0.9222 - val_loss: 0.1932 - val_acc: 0.9143\n",
            "Epoch 211/500\n",
            "20/20 [==============================] - 0s 8ms/step - loss: 0.1811 - acc: 0.9238 - val_loss: 0.2140 - val_acc: 0.9000\n",
            "Epoch 212/500\n",
            "20/20 [==============================] - 0s 8ms/step - loss: 0.2223 - acc: 0.9095 - val_loss: 0.2316 - val_acc: 0.8857\n",
            "Epoch 213/500\n",
            "20/20 [==============================] - 0s 9ms/step - loss: 0.1841 - acc: 0.9159 - val_loss: 0.1938 - val_acc: 0.9143\n",
            "Epoch 214/500\n",
            "20/20 [==============================] - 0s 10ms/step - loss: 0.2161 - acc: 0.9111 - val_loss: 0.2183 - val_acc: 0.9286\n",
            "Epoch 215/500\n",
            "20/20 [==============================] - 0s 9ms/step - loss: 0.1960 - acc: 0.9254 - val_loss: 0.2298 - val_acc: 0.9000\n",
            "Epoch 216/500\n",
            "20/20 [==============================] - 0s 10ms/step - loss: 0.2062 - acc: 0.9175 - val_loss: 0.2165 - val_acc: 0.9143\n",
            "Epoch 217/500\n",
            "20/20 [==============================] - 0s 9ms/step - loss: 0.2217 - acc: 0.9127 - val_loss: 0.1769 - val_acc: 0.9429\n",
            "Epoch 218/500\n",
            "20/20 [==============================] - 0s 8ms/step - loss: 0.1742 - acc: 0.9365 - val_loss: 0.1963 - val_acc: 0.9286\n",
            "Epoch 219/500\n",
            "20/20 [==============================] - 0s 9ms/step - loss: 0.2101 - acc: 0.9190 - val_loss: 0.1955 - val_acc: 0.9143\n",
            "Epoch 220/500\n",
            "20/20 [==============================] - 0s 9ms/step - loss: 0.1766 - acc: 0.9222 - val_loss: 0.1754 - val_acc: 0.9286\n",
            "Epoch 221/500\n",
            "20/20 [==============================] - 0s 9ms/step - loss: 0.1845 - acc: 0.9302 - val_loss: 0.1890 - val_acc: 0.9143\n",
            "Epoch 222/500\n",
            "20/20 [==============================] - 0s 8ms/step - loss: 0.1730 - acc: 0.9254 - val_loss: 0.2002 - val_acc: 0.9000\n",
            "Epoch 223/500\n",
            "20/20 [==============================] - 0s 9ms/step - loss: 0.2001 - acc: 0.9159 - val_loss: 0.2045 - val_acc: 0.9000\n",
            "Epoch 224/500\n",
            "20/20 [==============================] - 0s 9ms/step - loss: 0.1841 - acc: 0.9206 - val_loss: 0.1974 - val_acc: 0.9000\n",
            "Epoch 225/500\n",
            "20/20 [==============================] - 0s 10ms/step - loss: 0.2018 - acc: 0.9190 - val_loss: 0.2104 - val_acc: 0.8857\n",
            "Epoch 226/500\n",
            "20/20 [==============================] - 0s 9ms/step - loss: 0.2269 - acc: 0.9127 - val_loss: 0.1928 - val_acc: 0.9143\n",
            "Epoch 227/500\n",
            "20/20 [==============================] - 0s 8ms/step - loss: 0.1990 - acc: 0.9175 - val_loss: 0.2330 - val_acc: 0.8857\n",
            "Epoch 228/500\n",
            "20/20 [==============================] - 0s 9ms/step - loss: 0.1802 - acc: 0.9190 - val_loss: 0.2248 - val_acc: 0.9000\n",
            "Epoch 229/500\n",
            "20/20 [==============================] - 0s 9ms/step - loss: 0.1755 - acc: 0.9222 - val_loss: 0.2051 - val_acc: 0.9143\n",
            "Epoch 230/500\n",
            "20/20 [==============================] - 0s 10ms/step - loss: 0.1541 - acc: 0.9397 - val_loss: 0.1979 - val_acc: 0.9000\n",
            "Epoch 231/500\n",
            "20/20 [==============================] - 0s 9ms/step - loss: 0.1761 - acc: 0.9317 - val_loss: 0.2002 - val_acc: 0.9286\n",
            "Epoch 232/500\n",
            "20/20 [==============================] - 0s 9ms/step - loss: 0.1914 - acc: 0.9159 - val_loss: 0.2175 - val_acc: 0.9143\n",
            "Epoch 233/500\n",
            "20/20 [==============================] - 0s 9ms/step - loss: 0.2236 - acc: 0.9095 - val_loss: 0.1946 - val_acc: 0.9143\n",
            "Epoch 234/500\n",
            "20/20 [==============================] - 0s 9ms/step - loss: 0.1882 - acc: 0.9190 - val_loss: 0.1878 - val_acc: 0.9000\n",
            "Epoch 235/500\n",
            "20/20 [==============================] - 0s 9ms/step - loss: 0.1870 - acc: 0.9302 - val_loss: 0.2128 - val_acc: 0.9000\n",
            "Epoch 236/500\n",
            "20/20 [==============================] - 0s 9ms/step - loss: 0.1810 - acc: 0.9286 - val_loss: 0.1957 - val_acc: 0.8857\n",
            "Epoch 237/500\n",
            "20/20 [==============================] - 0s 8ms/step - loss: 0.2007 - acc: 0.9222 - val_loss: 0.1976 - val_acc: 0.8857\n",
            "Epoch 238/500\n",
            "20/20 [==============================] - 0s 9ms/step - loss: 0.1938 - acc: 0.9222 - val_loss: 0.2252 - val_acc: 0.8714\n",
            "Epoch 239/500\n",
            "20/20 [==============================] - 0s 8ms/step - loss: 0.1710 - acc: 0.9238 - val_loss: 0.2346 - val_acc: 0.8714\n",
            "Epoch 240/500\n",
            "20/20 [==============================] - 0s 8ms/step - loss: 0.1838 - acc: 0.9238 - val_loss: 0.2205 - val_acc: 0.8857\n",
            "Epoch 241/500\n",
            "20/20 [==============================] - 0s 9ms/step - loss: 0.1717 - acc: 0.9270 - val_loss: 0.2203 - val_acc: 0.9000\n",
            "Epoch 242/500\n",
            "20/20 [==============================] - 0s 8ms/step - loss: 0.1897 - acc: 0.9238 - val_loss: 0.2210 - val_acc: 0.9000\n",
            "Epoch 243/500\n",
            "20/20 [==============================] - 0s 8ms/step - loss: 0.2086 - acc: 0.9270 - val_loss: 0.2071 - val_acc: 0.9000\n",
            "Epoch 244/500\n",
            "20/20 [==============================] - 0s 9ms/step - loss: 0.1726 - acc: 0.9270 - val_loss: 0.1980 - val_acc: 0.9000\n",
            "Epoch 245/500\n",
            "20/20 [==============================] - 0s 9ms/step - loss: 0.1926 - acc: 0.9127 - val_loss: 0.2262 - val_acc: 0.9143\n",
            "Epoch 246/500\n",
            "20/20 [==============================] - 0s 9ms/step - loss: 0.1376 - acc: 0.9508 - val_loss: 0.2340 - val_acc: 0.9143\n",
            "Epoch 247/500\n",
            "20/20 [==============================] - 0s 10ms/step - loss: 0.1714 - acc: 0.9317 - val_loss: 0.2165 - val_acc: 0.9143\n",
            "Epoch 248/500\n",
            "20/20 [==============================] - 0s 10ms/step - loss: 0.1738 - acc: 0.9317 - val_loss: 0.1972 - val_acc: 0.9143\n",
            "Epoch 249/500\n",
            "20/20 [==============================] - 0s 9ms/step - loss: 0.1691 - acc: 0.9302 - val_loss: 0.1827 - val_acc: 0.9143\n",
            "Epoch 250/500\n",
            "20/20 [==============================] - 0s 9ms/step - loss: 0.1621 - acc: 0.9317 - val_loss: 0.2022 - val_acc: 0.9000\n",
            "Epoch 251/500\n",
            "20/20 [==============================] - 0s 8ms/step - loss: 0.1580 - acc: 0.9397 - val_loss: 0.2019 - val_acc: 0.9000\n",
            "Epoch 252/500\n",
            "20/20 [==============================] - 0s 9ms/step - loss: 0.2029 - acc: 0.9270 - val_loss: 0.2055 - val_acc: 0.9000\n",
            "Epoch 253/500\n",
            "20/20 [==============================] - 0s 9ms/step - loss: 0.1921 - acc: 0.9143 - val_loss: 0.2084 - val_acc: 0.9000\n",
            "Epoch 254/500\n",
            "20/20 [==============================] - 0s 10ms/step - loss: 0.1798 - acc: 0.9333 - val_loss: 0.2111 - val_acc: 0.9143\n",
            "Epoch 255/500\n",
            "20/20 [==============================] - 0s 9ms/step - loss: 0.1662 - acc: 0.9302 - val_loss: 0.2507 - val_acc: 0.8857\n",
            "Epoch 256/500\n",
            "20/20 [==============================] - 0s 9ms/step - loss: 0.2110 - acc: 0.9175 - val_loss: 0.2719 - val_acc: 0.8714\n",
            "Epoch 257/500\n",
            "20/20 [==============================] - 0s 8ms/step - loss: 0.1788 - acc: 0.9254 - val_loss: 0.2148 - val_acc: 0.8857\n",
            "Epoch 258/500\n",
            "20/20 [==============================] - 0s 10ms/step - loss: 0.1822 - acc: 0.9302 - val_loss: 0.2164 - val_acc: 0.9000\n",
            "Epoch 259/500\n",
            "20/20 [==============================] - 0s 9ms/step - loss: 0.1910 - acc: 0.9254 - val_loss: 0.1954 - val_acc: 0.9000\n",
            "Epoch 260/500\n",
            "20/20 [==============================] - 0s 9ms/step - loss: 0.1517 - acc: 0.9381 - val_loss: 0.2055 - val_acc: 0.9143\n",
            "Epoch 261/500\n",
            "20/20 [==============================] - 0s 9ms/step - loss: 0.1708 - acc: 0.9317 - val_loss: 0.2235 - val_acc: 0.8857\n",
            "Epoch 262/500\n",
            "20/20 [==============================] - 0s 8ms/step - loss: 0.1979 - acc: 0.9270 - val_loss: 0.2179 - val_acc: 0.9286\n",
            "Epoch 263/500\n",
            "20/20 [==============================] - 0s 9ms/step - loss: 0.1738 - acc: 0.9206 - val_loss: 0.2477 - val_acc: 0.8857\n",
            "Epoch 264/500\n",
            "20/20 [==============================] - 0s 9ms/step - loss: 0.1865 - acc: 0.9175 - val_loss: 0.2413 - val_acc: 0.9000\n",
            "Epoch 265/500\n",
            "20/20 [==============================] - 0s 9ms/step - loss: 0.1724 - acc: 0.9365 - val_loss: 0.2256 - val_acc: 0.9000\n",
            "Epoch 266/500\n",
            "20/20 [==============================] - 0s 9ms/step - loss: 0.1698 - acc: 0.9365 - val_loss: 0.2359 - val_acc: 0.9286\n",
            "Epoch 267/500\n",
            "20/20 [==============================] - 0s 9ms/step - loss: 0.1921 - acc: 0.9286 - val_loss: 0.2191 - val_acc: 0.9143\n",
            "Epoch 268/500\n",
            "20/20 [==============================] - 0s 9ms/step - loss: 0.1538 - acc: 0.9365 - val_loss: 0.2196 - val_acc: 0.9143\n",
            "Epoch 269/500\n",
            "20/20 [==============================] - 0s 8ms/step - loss: 0.1798 - acc: 0.9317 - val_loss: 0.2265 - val_acc: 0.9143\n",
            "Epoch 270/500\n",
            "20/20 [==============================] - 0s 9ms/step - loss: 0.1992 - acc: 0.9302 - val_loss: 0.2312 - val_acc: 0.9143\n",
            "Epoch 271/500\n",
            "20/20 [==============================] - 0s 8ms/step - loss: 0.2022 - acc: 0.9143 - val_loss: 0.2641 - val_acc: 0.8571\n",
            "Epoch 272/500\n",
            "20/20 [==============================] - 0s 9ms/step - loss: 0.1669 - acc: 0.9333 - val_loss: 0.2365 - val_acc: 0.8857\n",
            "Epoch 273/500\n",
            "20/20 [==============================] - 0s 9ms/step - loss: 0.1732 - acc: 0.9302 - val_loss: 0.2397 - val_acc: 0.8714\n",
            "Epoch 274/500\n",
            "20/20 [==============================] - 0s 10ms/step - loss: 0.1821 - acc: 0.9317 - val_loss: 0.2517 - val_acc: 0.8857\n",
            "Epoch 275/500\n",
            "20/20 [==============================] - 0s 9ms/step - loss: 0.1652 - acc: 0.9333 - val_loss: 0.2181 - val_acc: 0.9143\n",
            "Epoch 276/500\n",
            "20/20 [==============================] - 0s 9ms/step - loss: 0.1831 - acc: 0.9222 - val_loss: 0.2249 - val_acc: 0.9000\n",
            "Epoch 277/500\n",
            "20/20 [==============================] - 0s 10ms/step - loss: 0.2353 - acc: 0.9175 - val_loss: 0.2153 - val_acc: 0.9143\n",
            "Epoch 278/500\n",
            "20/20 [==============================] - 0s 9ms/step - loss: 0.1512 - acc: 0.9381 - val_loss: 0.2141 - val_acc: 0.9286\n",
            "Epoch 279/500\n",
            "20/20 [==============================] - 0s 9ms/step - loss: 0.1699 - acc: 0.9397 - val_loss: 0.2125 - val_acc: 0.9286\n",
            "Epoch 280/500\n",
            "20/20 [==============================] - 0s 9ms/step - loss: 0.2054 - acc: 0.9175 - val_loss: 0.2171 - val_acc: 0.9143\n",
            "Epoch 281/500\n",
            "20/20 [==============================] - 0s 10ms/step - loss: 0.1752 - acc: 0.9317 - val_loss: 0.2128 - val_acc: 0.9000\n",
            "Epoch 282/500\n",
            "20/20 [==============================] - 0s 9ms/step - loss: 0.1882 - acc: 0.9302 - val_loss: 0.1928 - val_acc: 0.9286\n",
            "Epoch 283/500\n",
            "20/20 [==============================] - 0s 9ms/step - loss: 0.1655 - acc: 0.9302 - val_loss: 0.2076 - val_acc: 0.9286\n",
            "Epoch 284/500\n",
            "20/20 [==============================] - 0s 9ms/step - loss: 0.1416 - acc: 0.9476 - val_loss: 0.1965 - val_acc: 0.9286\n",
            "Epoch 285/500\n",
            "20/20 [==============================] - 0s 10ms/step - loss: 0.1713 - acc: 0.9238 - val_loss: 0.2102 - val_acc: 0.9286\n",
            "Epoch 286/500\n",
            "20/20 [==============================] - 0s 9ms/step - loss: 0.2657 - acc: 0.9000 - val_loss: 0.2459 - val_acc: 0.9143\n",
            "Epoch 287/500\n",
            "20/20 [==============================] - 0s 9ms/step - loss: 0.2010 - acc: 0.9175 - val_loss: 0.2411 - val_acc: 0.9143\n",
            "Epoch 288/500\n",
            "20/20 [==============================] - 0s 9ms/step - loss: 0.2031 - acc: 0.9317 - val_loss: 0.2083 - val_acc: 0.9143\n",
            "Epoch 289/500\n",
            "20/20 [==============================] - 0s 10ms/step - loss: 0.1876 - acc: 0.9222 - val_loss: 0.2193 - val_acc: 0.9286\n",
            "Epoch 290/500\n",
            "20/20 [==============================] - 0s 9ms/step - loss: 0.1646 - acc: 0.9381 - val_loss: 0.2027 - val_acc: 0.9286\n",
            "Epoch 291/500\n",
            "20/20 [==============================] - 0s 10ms/step - loss: 0.1577 - acc: 0.9460 - val_loss: 0.2133 - val_acc: 0.9286\n",
            "Epoch 292/500\n",
            "20/20 [==============================] - 0s 9ms/step - loss: 0.1616 - acc: 0.9365 - val_loss: 0.2174 - val_acc: 0.9286\n",
            "Epoch 293/500\n",
            "20/20 [==============================] - 0s 9ms/step - loss: 0.1712 - acc: 0.9333 - val_loss: 0.2113 - val_acc: 0.9286\n",
            "Epoch 294/500\n",
            "20/20 [==============================] - 0s 9ms/step - loss: 0.1722 - acc: 0.9317 - val_loss: 0.2356 - val_acc: 0.9143\n",
            "Epoch 295/500\n",
            "20/20 [==============================] - 0s 9ms/step - loss: 0.1999 - acc: 0.9190 - val_loss: 0.2389 - val_acc: 0.9143\n",
            "Epoch 296/500\n",
            "20/20 [==============================] - 0s 9ms/step - loss: 0.1562 - acc: 0.9254 - val_loss: 0.2202 - val_acc: 0.9000\n",
            "Epoch 297/500\n",
            "20/20 [==============================] - 0s 9ms/step - loss: 0.1910 - acc: 0.9270 - val_loss: 0.2076 - val_acc: 0.9143\n",
            "Epoch 298/500\n",
            "20/20 [==============================] - 0s 9ms/step - loss: 0.1865 - acc: 0.9254 - val_loss: 0.2021 - val_acc: 0.9143\n",
            "Epoch 299/500\n",
            "20/20 [==============================] - 0s 9ms/step - loss: 0.1768 - acc: 0.9317 - val_loss: 0.2096 - val_acc: 0.9000\n",
            "Epoch 300/500\n",
            "20/20 [==============================] - 0s 9ms/step - loss: 0.1582 - acc: 0.9413 - val_loss: 0.2142 - val_acc: 0.9143\n",
            "Epoch 301/500\n",
            "20/20 [==============================] - 0s 10ms/step - loss: 0.1581 - acc: 0.9381 - val_loss: 0.2060 - val_acc: 0.9000\n",
            "Epoch 302/500\n",
            "20/20 [==============================] - 0s 9ms/step - loss: 0.1642 - acc: 0.9365 - val_loss: 0.2285 - val_acc: 0.9000\n",
            "Epoch 303/500\n",
            "20/20 [==============================] - 0s 9ms/step - loss: 0.1401 - acc: 0.9460 - val_loss: 0.2306 - val_acc: 0.9000\n",
            "Epoch 304/500\n",
            "20/20 [==============================] - 0s 10ms/step - loss: 0.2003 - acc: 0.9238 - val_loss: 0.2293 - val_acc: 0.9000\n",
            "Epoch 305/500\n",
            "20/20 [==============================] - 0s 10ms/step - loss: 0.1953 - acc: 0.9190 - val_loss: 0.2144 - val_acc: 0.9143\n",
            "Epoch 306/500\n",
            "20/20 [==============================] - 0s 9ms/step - loss: 0.1421 - acc: 0.9460 - val_loss: 0.1990 - val_acc: 0.9143\n",
            "Epoch 307/500\n",
            "20/20 [==============================] - 0s 9ms/step - loss: 0.1479 - acc: 0.9429 - val_loss: 0.2212 - val_acc: 0.9143\n",
            "Epoch 308/500\n",
            "20/20 [==============================] - 0s 9ms/step - loss: 0.1979 - acc: 0.9302 - val_loss: 0.2485 - val_acc: 0.9143\n",
            "Epoch 309/500\n",
            "20/20 [==============================] - 0s 9ms/step - loss: 0.1988 - acc: 0.9254 - val_loss: 0.2468 - val_acc: 0.9143\n",
            "Epoch 310/500\n",
            "20/20 [==============================] - 0s 9ms/step - loss: 0.1856 - acc: 0.9270 - val_loss: 0.2471 - val_acc: 0.9143\n",
            "Epoch 311/500\n",
            "20/20 [==============================] - 0s 10ms/step - loss: 0.2035 - acc: 0.9190 - val_loss: 0.2686 - val_acc: 0.9000\n",
            "Epoch 312/500\n",
            "20/20 [==============================] - 0s 9ms/step - loss: 0.1559 - acc: 0.9413 - val_loss: 0.2818 - val_acc: 0.9143\n",
            "Epoch 313/500\n",
            "20/20 [==============================] - 0s 10ms/step - loss: 0.1921 - acc: 0.9413 - val_loss: 0.2669 - val_acc: 0.9143\n",
            "Epoch 314/500\n",
            "20/20 [==============================] - 0s 9ms/step - loss: 0.1619 - acc: 0.9349 - val_loss: 0.2699 - val_acc: 0.9286\n",
            "Epoch 315/500\n",
            "20/20 [==============================] - 0s 9ms/step - loss: 0.1337 - acc: 0.9492 - val_loss: 0.2427 - val_acc: 0.9000\n",
            "Epoch 316/500\n",
            "20/20 [==============================] - 0s 9ms/step - loss: 0.1595 - acc: 0.9381 - val_loss: 0.2393 - val_acc: 0.9000\n",
            "Epoch 317/500\n",
            "20/20 [==============================] - 0s 8ms/step - loss: 0.1415 - acc: 0.9476 - val_loss: 0.2150 - val_acc: 0.9143\n",
            "Epoch 318/500\n",
            "20/20 [==============================] - 0s 9ms/step - loss: 0.1590 - acc: 0.9429 - val_loss: 0.2254 - val_acc: 0.9000\n",
            "Epoch 319/500\n",
            "20/20 [==============================] - 0s 9ms/step - loss: 0.1598 - acc: 0.9381 - val_loss: 0.2220 - val_acc: 0.9000\n",
            "Epoch 320/500\n",
            "20/20 [==============================] - 0s 9ms/step - loss: 0.1893 - acc: 0.9302 - val_loss: 0.2440 - val_acc: 0.9143\n",
            "Epoch 321/500\n",
            "20/20 [==============================] - 0s 9ms/step - loss: 0.1808 - acc: 0.9365 - val_loss: 0.2534 - val_acc: 0.8857\n",
            "Epoch 322/500\n",
            "20/20 [==============================] - 0s 9ms/step - loss: 0.1880 - acc: 0.9333 - val_loss: 0.2334 - val_acc: 0.8857\n",
            "Epoch 323/500\n",
            "20/20 [==============================] - 0s 9ms/step - loss: 0.1874 - acc: 0.9175 - val_loss: 0.2196 - val_acc: 0.9000\n",
            "Epoch 324/500\n",
            "20/20 [==============================] - 0s 10ms/step - loss: 0.1676 - acc: 0.9302 - val_loss: 0.2425 - val_acc: 0.9000\n",
            "Epoch 325/500\n",
            "20/20 [==============================] - 0s 9ms/step - loss: 0.1781 - acc: 0.9286 - val_loss: 0.2167 - val_acc: 0.8857\n",
            "Epoch 326/500\n",
            "20/20 [==============================] - 0s 10ms/step - loss: 0.1664 - acc: 0.9413 - val_loss: 0.1987 - val_acc: 0.8857\n",
            "Epoch 327/500\n",
            "20/20 [==============================] - 0s 10ms/step - loss: 0.1514 - acc: 0.9317 - val_loss: 0.1762 - val_acc: 0.9000\n",
            "Epoch 328/500\n",
            "20/20 [==============================] - 0s 9ms/step - loss: 0.1701 - acc: 0.9333 - val_loss: 0.1965 - val_acc: 0.9143\n",
            "Epoch 329/500\n",
            "20/20 [==============================] - 0s 10ms/step - loss: 0.1600 - acc: 0.9286 - val_loss: 0.1658 - val_acc: 0.9286\n",
            "Epoch 330/500\n",
            "20/20 [==============================] - 0s 9ms/step - loss: 0.1899 - acc: 0.9270 - val_loss: 0.1777 - val_acc: 0.9143\n",
            "Epoch 331/500\n",
            "20/20 [==============================] - 0s 10ms/step - loss: 0.1830 - acc: 0.9286 - val_loss: 0.1878 - val_acc: 0.9286\n",
            "Epoch 332/500\n",
            "20/20 [==============================] - 0s 9ms/step - loss: 0.1558 - acc: 0.9381 - val_loss: 0.1924 - val_acc: 0.9000\n",
            "Epoch 333/500\n",
            "20/20 [==============================] - 0s 9ms/step - loss: 0.1682 - acc: 0.9270 - val_loss: 0.2076 - val_acc: 0.8857\n",
            "Epoch 334/500\n",
            "20/20 [==============================] - 0s 10ms/step - loss: 0.1805 - acc: 0.9317 - val_loss: 0.1801 - val_acc: 0.9000\n",
            "Epoch 335/500\n",
            "20/20 [==============================] - 0s 8ms/step - loss: 0.1575 - acc: 0.9365 - val_loss: 0.1685 - val_acc: 0.9000\n",
            "Epoch 336/500\n",
            "20/20 [==============================] - 0s 10ms/step - loss: 0.1642 - acc: 0.9333 - val_loss: 0.1860 - val_acc: 0.9000\n",
            "Epoch 337/500\n",
            "20/20 [==============================] - 0s 8ms/step - loss: 0.1759 - acc: 0.9381 - val_loss: 0.2175 - val_acc: 0.9143\n",
            "Epoch 338/500\n",
            "20/20 [==============================] - 0s 9ms/step - loss: 0.1641 - acc: 0.9333 - val_loss: 0.2312 - val_acc: 0.9143\n",
            "Epoch 339/500\n",
            "20/20 [==============================] - 0s 9ms/step - loss: 0.1621 - acc: 0.9460 - val_loss: 0.2110 - val_acc: 0.9000\n",
            "Epoch 340/500\n",
            "20/20 [==============================] - 0s 9ms/step - loss: 0.1583 - acc: 0.9429 - val_loss: 0.1818 - val_acc: 0.9143\n",
            "Epoch 341/500\n",
            "20/20 [==============================] - 0s 9ms/step - loss: 0.1374 - acc: 0.9492 - val_loss: 0.1832 - val_acc: 0.9000\n",
            "Epoch 342/500\n",
            "20/20 [==============================] - 0s 9ms/step - loss: 0.1429 - acc: 0.9524 - val_loss: 0.1882 - val_acc: 0.9286\n",
            "Epoch 343/500\n",
            "20/20 [==============================] - 0s 8ms/step - loss: 0.1849 - acc: 0.9238 - val_loss: 0.1936 - val_acc: 0.9143\n",
            "Epoch 344/500\n",
            "20/20 [==============================] - 0s 9ms/step - loss: 0.1845 - acc: 0.9206 - val_loss: 0.2184 - val_acc: 0.9143\n",
            "Epoch 345/500\n",
            "20/20 [==============================] - 0s 9ms/step - loss: 0.1514 - acc: 0.9349 - val_loss: 0.2144 - val_acc: 0.9143\n",
            "Epoch 346/500\n",
            "20/20 [==============================] - 0s 9ms/step - loss: 0.1413 - acc: 0.9397 - val_loss: 0.2229 - val_acc: 0.9143\n",
            "Epoch 347/500\n",
            "20/20 [==============================] - 0s 9ms/step - loss: 0.1725 - acc: 0.9302 - val_loss: 0.2138 - val_acc: 0.9143\n",
            "Epoch 348/500\n",
            "20/20 [==============================] - 0s 9ms/step - loss: 0.1816 - acc: 0.9206 - val_loss: 0.2026 - val_acc: 0.9000\n",
            "Epoch 349/500\n",
            "20/20 [==============================] - 0s 10ms/step - loss: 0.1419 - acc: 0.9381 - val_loss: 0.1880 - val_acc: 0.9143\n",
            "Epoch 350/500\n",
            "20/20 [==============================] - 0s 10ms/step - loss: 0.1823 - acc: 0.9222 - val_loss: 0.1961 - val_acc: 0.9143\n",
            "Epoch 351/500\n",
            "20/20 [==============================] - 0s 10ms/step - loss: 0.1476 - acc: 0.9492 - val_loss: 0.2230 - val_acc: 0.9000\n",
            "Epoch 352/500\n",
            "20/20 [==============================] - 0s 10ms/step - loss: 0.1520 - acc: 0.9460 - val_loss: 0.2040 - val_acc: 0.9000\n",
            "Epoch 353/500\n",
            "20/20 [==============================] - 0s 10ms/step - loss: 0.1441 - acc: 0.9571 - val_loss: 0.2067 - val_acc: 0.8857\n",
            "Epoch 354/500\n",
            "20/20 [==============================] - 0s 9ms/step - loss: 0.1704 - acc: 0.9317 - val_loss: 0.1787 - val_acc: 0.9000\n",
            "Epoch 355/500\n",
            "20/20 [==============================] - 0s 9ms/step - loss: 0.1458 - acc: 0.9397 - val_loss: 0.1616 - val_acc: 0.9143\n",
            "Epoch 356/500\n",
            "20/20 [==============================] - 0s 9ms/step - loss: 0.1907 - acc: 0.9302 - val_loss: 0.1555 - val_acc: 0.9286\n",
            "Epoch 357/500\n",
            "20/20 [==============================] - 0s 10ms/step - loss: 0.1798 - acc: 0.9397 - val_loss: 0.1876 - val_acc: 0.9143\n",
            "Epoch 358/500\n",
            "20/20 [==============================] - 0s 9ms/step - loss: 0.1806 - acc: 0.9302 - val_loss: 0.1743 - val_acc: 0.9143\n",
            "Epoch 359/500\n",
            "20/20 [==============================] - 0s 10ms/step - loss: 0.1615 - acc: 0.9397 - val_loss: 0.1715 - val_acc: 0.9143\n",
            "Epoch 360/500\n",
            "20/20 [==============================] - 0s 9ms/step - loss: 0.1876 - acc: 0.9270 - val_loss: 0.1682 - val_acc: 0.9286\n",
            "Epoch 361/500\n",
            "20/20 [==============================] - 0s 10ms/step - loss: 0.1617 - acc: 0.9492 - val_loss: 0.1516 - val_acc: 0.9286\n",
            "Epoch 362/500\n",
            "20/20 [==============================] - 0s 10ms/step - loss: 0.1581 - acc: 0.9381 - val_loss: 0.1537 - val_acc: 0.9286\n",
            "Epoch 363/500\n",
            "20/20 [==============================] - 0s 9ms/step - loss: 0.1600 - acc: 0.9349 - val_loss: 0.1554 - val_acc: 0.9429\n",
            "Epoch 364/500\n",
            "20/20 [==============================] - 0s 9ms/step - loss: 0.1666 - acc: 0.9365 - val_loss: 0.1607 - val_acc: 0.9286\n",
            "Epoch 365/500\n",
            "20/20 [==============================] - 0s 9ms/step - loss: 0.1486 - acc: 0.9460 - val_loss: 0.1670 - val_acc: 0.9286\n",
            "Epoch 366/500\n",
            "20/20 [==============================] - 0s 9ms/step - loss: 0.1820 - acc: 0.9349 - val_loss: 0.1725 - val_acc: 0.9143\n",
            "Epoch 367/500\n",
            "20/20 [==============================] - 0s 10ms/step - loss: 0.1573 - acc: 0.9460 - val_loss: 0.1580 - val_acc: 0.9286\n",
            "Epoch 368/500\n",
            "20/20 [==============================] - 0s 9ms/step - loss: 0.1430 - acc: 0.9476 - val_loss: 0.1602 - val_acc: 0.9286\n",
            "Epoch 369/500\n",
            "20/20 [==============================] - 0s 10ms/step - loss: 0.1653 - acc: 0.9349 - val_loss: 0.1791 - val_acc: 0.9143\n",
            "Epoch 370/500\n",
            "20/20 [==============================] - 0s 9ms/step - loss: 0.1591 - acc: 0.9444 - val_loss: 0.1577 - val_acc: 0.9286\n",
            "Epoch 371/500\n",
            "20/20 [==============================] - 0s 9ms/step - loss: 0.1765 - acc: 0.9302 - val_loss: 0.1555 - val_acc: 0.9286\n",
            "Epoch 372/500\n",
            "20/20 [==============================] - 0s 10ms/step - loss: 0.1593 - acc: 0.9397 - val_loss: 0.1669 - val_acc: 0.9286\n",
            "Epoch 373/500\n",
            "20/20 [==============================] - 0s 9ms/step - loss: 0.1664 - acc: 0.9365 - val_loss: 0.1471 - val_acc: 0.9429\n",
            "Epoch 374/500\n",
            "20/20 [==============================] - 0s 9ms/step - loss: 0.1652 - acc: 0.9381 - val_loss: 0.1656 - val_acc: 0.9429\n",
            "Epoch 375/500\n",
            "20/20 [==============================] - 0s 9ms/step - loss: 0.1791 - acc: 0.9365 - val_loss: 0.1663 - val_acc: 0.9429\n",
            "Epoch 376/500\n",
            "20/20 [==============================] - 0s 10ms/step - loss: 0.1676 - acc: 0.9349 - val_loss: 0.1670 - val_acc: 0.9286\n",
            "Epoch 377/500\n",
            "20/20 [==============================] - 0s 10ms/step - loss: 0.1430 - acc: 0.9508 - val_loss: 0.1398 - val_acc: 0.9714\n",
            "Epoch 378/500\n",
            "20/20 [==============================] - 0s 9ms/step - loss: 0.1769 - acc: 0.9302 - val_loss: 0.1775 - val_acc: 0.9286\n",
            "Epoch 379/500\n",
            "20/20 [==============================] - 0s 9ms/step - loss: 0.1885 - acc: 0.9222 - val_loss: 0.1581 - val_acc: 0.9429\n",
            "Epoch 380/500\n",
            "20/20 [==============================] - 0s 10ms/step - loss: 0.1771 - acc: 0.9349 - val_loss: 0.1643 - val_acc: 0.9429\n",
            "Epoch 381/500\n",
            "20/20 [==============================] - 0s 9ms/step - loss: 0.1504 - acc: 0.9365 - val_loss: 0.1538 - val_acc: 0.9429\n",
            "Epoch 382/500\n",
            "20/20 [==============================] - 0s 9ms/step - loss: 0.1548 - acc: 0.9413 - val_loss: 0.1480 - val_acc: 0.9429\n",
            "Epoch 383/500\n",
            "20/20 [==============================] - 0s 10ms/step - loss: 0.1734 - acc: 0.9238 - val_loss: 0.1478 - val_acc: 0.9286\n",
            "Epoch 384/500\n",
            "20/20 [==============================] - 0s 10ms/step - loss: 0.1652 - acc: 0.9429 - val_loss: 0.1504 - val_acc: 0.9286\n",
            "Epoch 385/500\n",
            "20/20 [==============================] - 0s 10ms/step - loss: 0.1687 - acc: 0.9349 - val_loss: 0.1516 - val_acc: 0.9429\n",
            "Epoch 386/500\n",
            "20/20 [==============================] - 0s 10ms/step - loss: 0.1390 - acc: 0.9429 - val_loss: 0.1703 - val_acc: 0.9286\n",
            "Epoch 387/500\n",
            "20/20 [==============================] - 0s 10ms/step - loss: 0.1432 - acc: 0.9365 - val_loss: 0.1779 - val_acc: 0.9286\n",
            "Epoch 388/500\n",
            "20/20 [==============================] - 0s 9ms/step - loss: 0.1431 - acc: 0.9429 - val_loss: 0.1797 - val_acc: 0.9286\n",
            "Epoch 389/500\n",
            "20/20 [==============================] - 0s 9ms/step - loss: 0.1500 - acc: 0.9381 - val_loss: 0.1786 - val_acc: 0.9286\n",
            "Epoch 390/500\n",
            "20/20 [==============================] - 0s 9ms/step - loss: 0.1377 - acc: 0.9444 - val_loss: 0.1859 - val_acc: 0.9143\n",
            "Epoch 391/500\n",
            "20/20 [==============================] - 0s 9ms/step - loss: 0.1659 - acc: 0.9222 - val_loss: 0.1831 - val_acc: 0.9429\n",
            "Epoch 392/500\n",
            "20/20 [==============================] - 0s 10ms/step - loss: 0.1715 - acc: 0.9222 - val_loss: 0.1890 - val_acc: 0.9286\n",
            "Epoch 393/500\n",
            "20/20 [==============================] - 0s 10ms/step - loss: 0.1600 - acc: 0.9365 - val_loss: 0.1904 - val_acc: 0.9286\n",
            "Epoch 394/500\n",
            "20/20 [==============================] - 0s 9ms/step - loss: 0.1733 - acc: 0.9476 - val_loss: 0.2078 - val_acc: 0.9143\n",
            "Epoch 395/500\n",
            "20/20 [==============================] - 0s 9ms/step - loss: 0.1700 - acc: 0.9381 - val_loss: 0.1738 - val_acc: 0.9000\n",
            "Epoch 396/500\n",
            "20/20 [==============================] - 0s 9ms/step - loss: 0.1683 - acc: 0.9381 - val_loss: 0.1948 - val_acc: 0.9000\n",
            "Epoch 397/500\n",
            "20/20 [==============================] - 0s 10ms/step - loss: 0.1363 - acc: 0.9524 - val_loss: 0.1891 - val_acc: 0.9143\n",
            "Epoch 398/500\n",
            "20/20 [==============================] - 0s 10ms/step - loss: 0.1571 - acc: 0.9492 - val_loss: 0.1657 - val_acc: 0.9143\n",
            "Epoch 399/500\n",
            "20/20 [==============================] - 0s 10ms/step - loss: 0.1620 - acc: 0.9444 - val_loss: 0.1392 - val_acc: 0.9571\n",
            "Epoch 400/500\n",
            "20/20 [==============================] - 0s 10ms/step - loss: 0.1552 - acc: 0.9444 - val_loss: 0.1571 - val_acc: 0.9286\n",
            "Epoch 401/500\n",
            "20/20 [==============================] - 0s 9ms/step - loss: 0.1586 - acc: 0.9206 - val_loss: 0.1473 - val_acc: 0.9571\n",
            "Epoch 402/500\n",
            "20/20 [==============================] - 0s 10ms/step - loss: 0.1504 - acc: 0.9444 - val_loss: 0.1468 - val_acc: 0.9286\n",
            "Epoch 403/500\n",
            "20/20 [==============================] - 0s 10ms/step - loss: 0.1925 - acc: 0.9254 - val_loss: 0.1360 - val_acc: 0.9286\n",
            "Epoch 404/500\n",
            "20/20 [==============================] - 0s 10ms/step - loss: 0.1835 - acc: 0.9270 - val_loss: 0.1397 - val_acc: 0.9286\n",
            "Epoch 405/500\n",
            "20/20 [==============================] - 0s 9ms/step - loss: 0.1558 - acc: 0.9381 - val_loss: 0.1481 - val_acc: 0.9286\n",
            "Epoch 406/500\n",
            "20/20 [==============================] - 0s 9ms/step - loss: 0.1705 - acc: 0.9333 - val_loss: 0.1470 - val_acc: 0.9286\n",
            "Epoch 407/500\n",
            "20/20 [==============================] - 0s 9ms/step - loss: 0.1973 - acc: 0.9143 - val_loss: 0.1730 - val_acc: 0.9143\n",
            "Epoch 408/500\n",
            "20/20 [==============================] - 0s 10ms/step - loss: 0.2092 - acc: 0.9190 - val_loss: 0.1960 - val_acc: 0.9143\n",
            "Epoch 409/500\n",
            "20/20 [==============================] - 0s 10ms/step - loss: 0.1794 - acc: 0.9286 - val_loss: 0.2052 - val_acc: 0.9143\n",
            "Epoch 410/500\n",
            "20/20 [==============================] - 0s 9ms/step - loss: 0.1838 - acc: 0.9365 - val_loss: 0.1970 - val_acc: 0.9143\n",
            "Epoch 411/500\n",
            "20/20 [==============================] - 0s 10ms/step - loss: 0.1470 - acc: 0.9460 - val_loss: 0.1914 - val_acc: 0.9286\n",
            "Epoch 412/500\n",
            "20/20 [==============================] - 0s 10ms/step - loss: 0.1595 - acc: 0.9349 - val_loss: 0.1868 - val_acc: 0.9286\n",
            "Epoch 413/500\n",
            "20/20 [==============================] - 0s 10ms/step - loss: 0.1959 - acc: 0.9254 - val_loss: 0.1844 - val_acc: 0.9286\n",
            "Epoch 414/500\n",
            "20/20 [==============================] - 0s 9ms/step - loss: 0.1554 - acc: 0.9397 - val_loss: 0.1901 - val_acc: 0.9286\n",
            "Epoch 415/500\n",
            "20/20 [==============================] - 0s 10ms/step - loss: 0.1587 - acc: 0.9397 - val_loss: 0.1721 - val_acc: 0.9286\n",
            "Epoch 416/500\n",
            "20/20 [==============================] - 0s 10ms/step - loss: 0.2216 - acc: 0.9095 - val_loss: 0.1753 - val_acc: 0.9429\n",
            "Epoch 417/500\n",
            "20/20 [==============================] - 0s 9ms/step - loss: 0.1792 - acc: 0.9238 - val_loss: 0.1604 - val_acc: 0.9286\n",
            "Epoch 418/500\n",
            "20/20 [==============================] - 0s 10ms/step - loss: 0.1814 - acc: 0.9254 - val_loss: 0.1669 - val_acc: 0.9286\n",
            "Epoch 419/500\n",
            "20/20 [==============================] - 0s 10ms/step - loss: 0.1479 - acc: 0.9349 - val_loss: 0.1386 - val_acc: 0.9143\n",
            "Epoch 420/500\n",
            "20/20 [==============================] - 0s 10ms/step - loss: 0.1870 - acc: 0.9190 - val_loss: 0.1444 - val_acc: 0.9286\n",
            "Epoch 421/500\n",
            "20/20 [==============================] - 0s 10ms/step - loss: 0.1830 - acc: 0.9286 - val_loss: 0.1526 - val_acc: 0.9286\n",
            "Epoch 422/500\n",
            "20/20 [==============================] - 0s 10ms/step - loss: 0.1611 - acc: 0.9397 - val_loss: 0.1598 - val_acc: 0.9286\n",
            "Epoch 423/500\n",
            "20/20 [==============================] - 0s 9ms/step - loss: 0.1459 - acc: 0.9444 - val_loss: 0.1370 - val_acc: 0.9286\n",
            "Epoch 424/500\n",
            "20/20 [==============================] - 0s 9ms/step - loss: 0.1443 - acc: 0.9381 - val_loss: 0.1388 - val_acc: 0.9286\n",
            "Epoch 425/500\n",
            "20/20 [==============================] - 0s 9ms/step - loss: 0.1493 - acc: 0.9397 - val_loss: 0.1344 - val_acc: 0.9286\n",
            "Epoch 426/500\n",
            "20/20 [==============================] - 0s 10ms/step - loss: 0.1861 - acc: 0.9317 - val_loss: 0.1324 - val_acc: 0.9286\n",
            "Epoch 427/500\n",
            "20/20 [==============================] - 0s 10ms/step - loss: 0.1810 - acc: 0.9190 - val_loss: 0.1645 - val_acc: 0.9286\n",
            "Epoch 428/500\n",
            "20/20 [==============================] - 0s 10ms/step - loss: 0.1506 - acc: 0.9492 - val_loss: 0.1627 - val_acc: 0.9429\n",
            "Epoch 429/500\n",
            "20/20 [==============================] - 0s 9ms/step - loss: 0.1551 - acc: 0.9349 - val_loss: 0.1643 - val_acc: 0.9143\n",
            "Epoch 430/500\n",
            "20/20 [==============================] - 0s 10ms/step - loss: 0.1495 - acc: 0.9429 - val_loss: 0.1585 - val_acc: 0.9286\n",
            "Epoch 431/500\n",
            "20/20 [==============================] - 0s 10ms/step - loss: 0.1668 - acc: 0.9349 - val_loss: 0.1921 - val_acc: 0.9286\n",
            "Epoch 432/500\n",
            "20/20 [==============================] - 0s 11ms/step - loss: 0.1651 - acc: 0.9413 - val_loss: 0.2005 - val_acc: 0.9143\n",
            "Epoch 433/500\n",
            "20/20 [==============================] - 0s 10ms/step - loss: 0.1473 - acc: 0.9429 - val_loss: 0.2021 - val_acc: 0.9286\n",
            "Epoch 434/500\n",
            "20/20 [==============================] - 0s 10ms/step - loss: 0.1706 - acc: 0.9286 - val_loss: 0.1784 - val_acc: 0.9286\n",
            "Epoch 435/500\n",
            "20/20 [==============================] - 0s 9ms/step - loss: 0.1808 - acc: 0.9302 - val_loss: 0.1398 - val_acc: 0.9286\n",
            "Epoch 436/500\n",
            "20/20 [==============================] - 0s 9ms/step - loss: 0.1390 - acc: 0.9429 - val_loss: 0.1521 - val_acc: 0.9286\n",
            "Epoch 437/500\n",
            "20/20 [==============================] - 0s 9ms/step - loss: 0.1611 - acc: 0.9365 - val_loss: 0.1525 - val_acc: 0.9286\n",
            "Epoch 438/500\n",
            "20/20 [==============================] - 0s 11ms/step - loss: 0.1650 - acc: 0.9413 - val_loss: 0.1652 - val_acc: 0.9286\n",
            "Epoch 439/500\n",
            "20/20 [==============================] - 0s 9ms/step - loss: 0.1679 - acc: 0.9413 - val_loss: 0.1728 - val_acc: 0.9286\n",
            "Epoch 440/500\n",
            "20/20 [==============================] - 0s 9ms/step - loss: 0.1533 - acc: 0.9365 - val_loss: 0.1466 - val_acc: 0.9286\n",
            "Epoch 441/500\n",
            "20/20 [==============================] - 0s 10ms/step - loss: 0.1423 - acc: 0.9460 - val_loss: 0.1482 - val_acc: 0.9286\n",
            "Epoch 442/500\n",
            "20/20 [==============================] - 0s 11ms/step - loss: 0.1629 - acc: 0.9381 - val_loss: 0.1812 - val_acc: 0.9143\n",
            "Epoch 443/500\n",
            "20/20 [==============================] - 0s 12ms/step - loss: 0.1571 - acc: 0.9349 - val_loss: 0.1819 - val_acc: 0.9143\n",
            "Epoch 444/500\n",
            "20/20 [==============================] - 0s 10ms/step - loss: 0.1518 - acc: 0.9365 - val_loss: 0.1762 - val_acc: 0.9286\n",
            "Epoch 445/500\n",
            "20/20 [==============================] - 0s 9ms/step - loss: 0.1520 - acc: 0.9444 - val_loss: 0.1686 - val_acc: 0.9000\n",
            "Epoch 446/500\n",
            "20/20 [==============================] - 0s 9ms/step - loss: 0.1592 - acc: 0.9365 - val_loss: 0.1798 - val_acc: 0.9000\n",
            "Epoch 447/500\n",
            "20/20 [==============================] - 0s 9ms/step - loss: 0.1499 - acc: 0.9429 - val_loss: 0.2083 - val_acc: 0.9143\n",
            "Epoch 448/500\n",
            "20/20 [==============================] - 0s 10ms/step - loss: 0.1436 - acc: 0.9349 - val_loss: 0.1930 - val_acc: 0.9143\n",
            "Epoch 449/500\n",
            "20/20 [==============================] - 0s 10ms/step - loss: 0.1435 - acc: 0.9508 - val_loss: 0.2031 - val_acc: 0.9143\n",
            "Epoch 450/500\n",
            "20/20 [==============================] - 0s 10ms/step - loss: 0.2003 - acc: 0.9143 - val_loss: 0.1771 - val_acc: 0.9143\n",
            "Epoch 451/500\n",
            "20/20 [==============================] - 0s 9ms/step - loss: 0.1366 - acc: 0.9429 - val_loss: 0.1547 - val_acc: 0.9000\n",
            "Epoch 452/500\n",
            "20/20 [==============================] - 0s 10ms/step - loss: 0.1656 - acc: 0.9349 - val_loss: 0.1647 - val_acc: 0.9143\n",
            "Epoch 453/500\n",
            "20/20 [==============================] - 0s 10ms/step - loss: 0.1525 - acc: 0.9444 - val_loss: 0.1541 - val_acc: 0.9000\n",
            "Epoch 454/500\n",
            "20/20 [==============================] - 0s 9ms/step - loss: 0.1142 - acc: 0.9556 - val_loss: 0.1488 - val_acc: 0.9286\n",
            "Epoch 455/500\n",
            "20/20 [==============================] - 0s 9ms/step - loss: 0.1849 - acc: 0.9317 - val_loss: 0.1620 - val_acc: 0.9286\n",
            "Epoch 456/500\n",
            "20/20 [==============================] - 0s 10ms/step - loss: 0.1500 - acc: 0.9492 - val_loss: 0.1978 - val_acc: 0.9286\n",
            "Epoch 457/500\n",
            "20/20 [==============================] - 0s 9ms/step - loss: 0.1569 - acc: 0.9333 - val_loss: 0.1812 - val_acc: 0.9143\n",
            "Epoch 458/500\n",
            "20/20 [==============================] - 0s 10ms/step - loss: 0.1687 - acc: 0.9429 - val_loss: 0.1959 - val_acc: 0.9286\n",
            "Epoch 459/500\n",
            "20/20 [==============================] - 0s 9ms/step - loss: 0.1493 - acc: 0.9508 - val_loss: 0.1659 - val_acc: 0.9143\n",
            "Epoch 460/500\n",
            "20/20 [==============================] - 0s 11ms/step - loss: 0.1440 - acc: 0.9397 - val_loss: 0.1701 - val_acc: 0.9286\n",
            "Epoch 461/500\n",
            "20/20 [==============================] - 0s 9ms/step - loss: 0.1598 - acc: 0.9365 - val_loss: 0.1589 - val_acc: 0.9286\n",
            "Epoch 462/500\n",
            "20/20 [==============================] - 0s 10ms/step - loss: 0.1852 - acc: 0.9349 - val_loss: 0.1788 - val_acc: 0.9286\n",
            "Epoch 463/500\n",
            "20/20 [==============================] - 0s 11ms/step - loss: 0.1462 - acc: 0.9381 - val_loss: 0.1660 - val_acc: 0.9143\n",
            "Epoch 464/500\n",
            "20/20 [==============================] - 0s 9ms/step - loss: 0.1539 - acc: 0.9365 - val_loss: 0.1703 - val_acc: 0.9000\n",
            "Epoch 465/500\n",
            "20/20 [==============================] - 0s 9ms/step - loss: 0.1495 - acc: 0.9444 - val_loss: 0.1575 - val_acc: 0.9000\n",
            "Epoch 466/500\n",
            "20/20 [==============================] - 0s 11ms/step - loss: 0.1352 - acc: 0.9381 - val_loss: 0.1685 - val_acc: 0.9143\n",
            "Epoch 467/500\n",
            "20/20 [==============================] - 0s 9ms/step - loss: 0.1623 - acc: 0.9508 - val_loss: 0.1966 - val_acc: 0.8857\n",
            "Epoch 468/500\n",
            "20/20 [==============================] - 0s 11ms/step - loss: 0.1440 - acc: 0.9492 - val_loss: 0.2030 - val_acc: 0.9143\n",
            "Epoch 469/500\n",
            "20/20 [==============================] - 0s 10ms/step - loss: 0.1469 - acc: 0.9444 - val_loss: 0.1938 - val_acc: 0.9000\n",
            "Epoch 470/500\n",
            "20/20 [==============================] - 0s 10ms/step - loss: 0.1673 - acc: 0.9444 - val_loss: 0.1549 - val_acc: 0.9286\n",
            "Epoch 471/500\n",
            "20/20 [==============================] - 0s 9ms/step - loss: 0.2009 - acc: 0.9206 - val_loss: 0.1419 - val_acc: 0.9286\n",
            "Epoch 472/500\n",
            "20/20 [==============================] - 0s 9ms/step - loss: 0.2398 - acc: 0.9079 - val_loss: 0.1486 - val_acc: 0.9143\n",
            "Epoch 473/500\n",
            "20/20 [==============================] - 0s 9ms/step - loss: 0.1377 - acc: 0.9460 - val_loss: 0.1418 - val_acc: 0.9286\n",
            "Epoch 474/500\n",
            "20/20 [==============================] - 0s 9ms/step - loss: 0.1395 - acc: 0.9397 - val_loss: 0.1365 - val_acc: 0.9429\n",
            "Epoch 475/500\n",
            "20/20 [==============================] - 0s 10ms/step - loss: 0.1474 - acc: 0.9476 - val_loss: 0.1420 - val_acc: 0.9286\n",
            "Epoch 476/500\n",
            "20/20 [==============================] - 0s 9ms/step - loss: 0.1588 - acc: 0.9492 - val_loss: 0.1230 - val_acc: 0.9571\n",
            "Epoch 477/500\n",
            "20/20 [==============================] - 0s 10ms/step - loss: 0.1586 - acc: 0.9286 - val_loss: 0.1252 - val_acc: 0.9571\n",
            "Epoch 478/500\n",
            "20/20 [==============================] - 0s 10ms/step - loss: 0.1319 - acc: 0.9508 - val_loss: 0.1313 - val_acc: 0.9286\n",
            "Epoch 479/500\n",
            "20/20 [==============================] - 0s 9ms/step - loss: 0.1389 - acc: 0.9476 - val_loss: 0.1549 - val_acc: 0.9000\n",
            "Epoch 480/500\n",
            "20/20 [==============================] - 0s 10ms/step - loss: 0.1497 - acc: 0.9397 - val_loss: 0.1569 - val_acc: 0.9000\n",
            "Epoch 481/500\n",
            "20/20 [==============================] - 0s 10ms/step - loss: 0.1258 - acc: 0.9492 - val_loss: 0.1913 - val_acc: 0.9143\n",
            "Epoch 482/500\n",
            "20/20 [==============================] - 0s 10ms/step - loss: 0.1735 - acc: 0.9317 - val_loss: 0.2084 - val_acc: 0.9000\n",
            "Epoch 483/500\n",
            "20/20 [==============================] - 0s 9ms/step - loss: 0.1598 - acc: 0.9444 - val_loss: 0.2046 - val_acc: 0.9143\n",
            "Epoch 484/500\n",
            "20/20 [==============================] - 0s 10ms/step - loss: 0.1484 - acc: 0.9365 - val_loss: 0.1766 - val_acc: 0.9286\n",
            "Epoch 485/500\n",
            "20/20 [==============================] - 0s 9ms/step - loss: 0.1570 - acc: 0.9349 - val_loss: 0.1708 - val_acc: 0.9286\n",
            "Epoch 486/500\n",
            "20/20 [==============================] - 0s 9ms/step - loss: 0.1746 - acc: 0.9286 - val_loss: 0.1461 - val_acc: 0.9286\n",
            "Epoch 487/500\n",
            "20/20 [==============================] - 0s 9ms/step - loss: 0.1651 - acc: 0.9349 - val_loss: 0.1776 - val_acc: 0.9143\n",
            "Epoch 488/500\n",
            "20/20 [==============================] - 0s 11ms/step - loss: 0.1420 - acc: 0.9508 - val_loss: 0.2017 - val_acc: 0.9143\n",
            "Epoch 489/500\n",
            "20/20 [==============================] - 0s 10ms/step - loss: 0.1460 - acc: 0.9444 - val_loss: 0.2168 - val_acc: 0.9286\n",
            "Epoch 490/500\n",
            "20/20 [==============================] - 0s 10ms/step - loss: 0.1186 - acc: 0.9476 - val_loss: 0.2115 - val_acc: 0.9143\n",
            "Epoch 491/500\n",
            "20/20 [==============================] - 0s 9ms/step - loss: 0.1367 - acc: 0.9524 - val_loss: 0.2008 - val_acc: 0.9429\n",
            "Epoch 492/500\n",
            "20/20 [==============================] - 0s 10ms/step - loss: 0.1392 - acc: 0.9492 - val_loss: 0.1814 - val_acc: 0.9429\n",
            "Epoch 493/500\n",
            "20/20 [==============================] - 0s 10ms/step - loss: 0.1614 - acc: 0.9413 - val_loss: 0.1766 - val_acc: 0.9429\n",
            "Epoch 494/500\n",
            "20/20 [==============================] - 0s 10ms/step - loss: 0.1473 - acc: 0.9476 - val_loss: 0.1844 - val_acc: 0.9286\n",
            "Epoch 495/500\n",
            "20/20 [==============================] - 0s 10ms/step - loss: 0.1435 - acc: 0.9476 - val_loss: 0.1775 - val_acc: 0.9286\n",
            "Epoch 496/500\n",
            "20/20 [==============================] - 0s 10ms/step - loss: 0.2009 - acc: 0.9143 - val_loss: 0.1831 - val_acc: 0.9143\n",
            "Epoch 497/500\n",
            "20/20 [==============================] - 0s 11ms/step - loss: 0.1710 - acc: 0.9302 - val_loss: 0.1928 - val_acc: 0.9286\n",
            "Epoch 498/500\n",
            "20/20 [==============================] - 0s 11ms/step - loss: 0.1398 - acc: 0.9365 - val_loss: 0.1727 - val_acc: 0.9286\n",
            "Epoch 499/500\n",
            "20/20 [==============================] - 0s 10ms/step - loss: 0.1501 - acc: 0.9460 - val_loss: 0.1407 - val_acc: 0.9429\n",
            "Epoch 500/500\n",
            "20/20 [==============================] - 0s 10ms/step - loss: 0.1702 - acc: 0.9333 - val_loss: 0.1459 - val_acc: 0.9143\n"
          ]
        }
      ]
    },
    {
      "cell_type": "markdown",
      "source": [
        "Plotting the model loss and validation loss"
      ],
      "metadata": {
        "id": "LZFb_YSXhx6w"
      }
    },
    {
      "cell_type": "code",
      "source": [
        "history_df = pd.DataFrame(mlp_history.history)\n",
        "history_df.loc[0:, ['loss', 'val_loss']].plot()\n",
        "print((\"Minimum Validation Loss: {:0.4f}\").format(history_df['val_loss'].min()))"
      ],
      "metadata": {
        "colab": {
          "base_uri": "https://localhost:8080/",
          "height": 284
        },
        "id": "l1fsK43lT4rH",
        "outputId": "2a38af77-0d4e-433b-f8e9-dc3770266620"
      },
      "execution_count": 262,
      "outputs": [
        {
          "output_type": "stream",
          "name": "stdout",
          "text": [
            "Minimum Validation Loss: 0.1230\n"
          ]
        },
        {
          "output_type": "display_data",
          "data": {
            "image/png": "[encoded data removed]",
            "text/plain": [
              "<Figure size 432x288 with 1 Axes>"
            ]
          },
          "metadata": {
            "needs_background": "light"
          }
        }
      ]
    },
    {
      "cell_type": "markdown",
      "source": [
        "Plotting the model accuracy and validation accuracy"
      ],
      "metadata": {
        "id": "4ueuzKS3iA8z"
      }
    },
    {
      "cell_type": "code",
      "source": [
        "history_df.loc[0:, ['acc', 'val_acc']].plot()\n",
        "print((\"Maximum Validation Acc: {:0.4f}\").format(history_df['val_acc'].max()))"
      ],
      "metadata": {
        "colab": {
          "base_uri": "https://localhost:8080/",
          "height": 282
        },
        "id": "RMoIde5PiHbN",
        "outputId": "749ce572-90c3-466c-c958-35160e7aca4c"
      },
      "execution_count": 281,
      "outputs": [
        {
          "output_type": "stream",
          "name": "stdout",
          "text": [
            "Maximum Validation Acc: 0.9714\n"
          ]
        },
        {
          "output_type": "display_data",
          "data": {
            "image/png": "[encoded data removed]",
            "text/plain": [
              "<Figure size 432x288 with 1 Axes>"
            ]
          },
          "metadata": {
            "needs_background": "light"
          }
        }
      ]
    },
    {
      "cell_type": "markdown",
      "source": [
        "### Extracting all features for Testing data"
      ],
      "metadata": {
        "id": "T-r1ia2uiZ9S"
      }
    },
    {
      "cell_type": "code",
      "source": [
        "mean_b, mean_g, mean_r, std_b, std_g, std_r, skew_b, skew_g, skew_r, kurt_b, kurt_g, kurt_r, entropy_b, entropy_g, entropy_r, range_b, range_g, range_r, spearman_rg, spearman_gb, spearman_rb= [], [], [], [], [], [], [], [], [], [], [], [], [], [], [], [], [], [], [], [], [];\n",
        "\n",
        "\n",
        "for i in range(len(images_test)):\n",
        "    image = images_test[i]\n",
        "\n",
        "    r = image[:,:,0]\n",
        "    g = image[:,:,1]\n",
        "    b = image[:,:,2]\n",
        "    \n",
        "    m1 = (np.sum(image[:,:,0]))/(100*100)\n",
        "    m2 = (np.sum(image[:,:,1]))/(100*100)\n",
        "    m3 = (np.sum(image[:,:,2]))/(100*100)\n",
        "    \n",
        "    mean_r.append(m1)\n",
        "    mean_g.append(m2)\n",
        "    mean_b.append(m3)\n",
        "    \n",
        "    sq_diff1 = np.sum(np.square((r-m1)))\n",
        "    sq_diff2 = np.sum(np.square((g-m2)))\n",
        "    sq_diff3 = np.sum(np.square((b-m3)))\n",
        "    \n",
        "    std_r.append(math.sqrt(sq_diff1/(100*100)))\n",
        "    std_g.append(math.sqrt(sq_diff2/(100*100)))\n",
        "    std_b.append(math.sqrt(sq_diff3/(100*100)))\n",
        "    \n",
        "    skew_r.append(skew((image[:, :, 0]).flatten()))\n",
        "    skew_g.append(skew((image[:, :, 1]).flatten()))\n",
        "    skew_b.append(skew((image[:, :, 2]).flatten()))\n",
        "    \n",
        "    kurt_r.append(kurtosis((image[:, :, 0]).flatten()))\n",
        "    kurt_g.append(kurtosis((image[:, :, 1]).flatten()))\n",
        "    kurt_b.append(kurtosis((image[:, :, 2]).flatten()))\n",
        "        \n",
        "    entropy_r.append(entropy(image[:,:,0].flatten()))\n",
        "    entropy_g.append(entropy(image[:,:,1].flatten()))\n",
        "    entropy_b.append(entropy(image[:,:,2].flatten()))\n",
        "\n",
        "    range_r.append(np.max(r)-np.min(r))\n",
        "    range_g.append(np.max(g)-np.min(g))\n",
        "    range_b.append(np.max(b)-np.min(b))\n",
        "\n",
        "    spearman_rg.append(spearmanr((image[:,:,0]).flatten(),(image[:,:,1]).flatten())[0])\n",
        "    spearman_gb.append(spearmanr((image[:,:,1]).flatten(),(image[:,:,2]).flatten())[0])\n",
        "    spearman_rb.append(spearmanr((image[:,:,0]).flatten(),(image[:,:,2]).flatten())[0])\n"
      ],
      "metadata": {
        "id": "4ddzCf2czkQ0"
      },
      "execution_count": 263,
      "outputs": []
    },
    {
      "cell_type": "markdown",
      "source": [
        "### Creating the test dataframe"
      ],
      "metadata": {
        "id": "qEUTJUZsjBEB"
      }
    },
    {
      "cell_type": "code",
      "source": [
        "data_test = {\"mean_b\":mean_b, \"mean_g\":mean_g, \"mean_r\":mean_r, \"std_b\":std_b, \"std_g\":std_g, \"std_r\":std_r, \n",
        "        \"skew_b\":skew_b, \"skew_g\":skew_g, \"skew_r\":skew_r, \"kurt_b\":kurt_b, \"kurt_g\":kurt_g, \"kurt_r\":kurt_r,\n",
        "        \"entropy_b\":entropy_b, \"entropy_g\":entropy_g, \"entropy_r\":entropy_r, \"range_b\" : range_b, \"range_g\" : range_g, \"range_r\" : range_r, \n",
        "        \"spearman_rg\": spearman_rg, \"spearman_gb\" : spearman_gb, \"spearman_rb\" : spearman_rb\n",
        "        }\n",
        "\n",
        "df_test = pd.DataFrame(data_test)"
      ],
      "metadata": {
        "id": "LJzdrJ00z6jx"
      },
      "execution_count": 264,
      "outputs": []
    },
    {
      "cell_type": "code",
      "source": [
        "df_test.shape"
      ],
      "metadata": {
        "colab": {
          "base_uri": "https://localhost:8080/"
        },
        "id": "cpAutAHmIoA5",
        "outputId": "76e789a9-68f3-48f7-ef22-b0600637f9e5"
      },
      "execution_count": 265,
      "outputs": [
        {
          "output_type": "execute_result",
          "data": {
            "text/plain": [
              "(300, 21)"
            ]
          },
          "metadata": {},
          "execution_count": 265
        }
      ]
    },
    {
      "cell_type": "code",
      "source": [
        "x_test = df_test.to_numpy()"
      ],
      "metadata": {
        "id": "9-C8ni-30BLV"
      },
      "execution_count": 266,
      "outputs": []
    },
    {
      "cell_type": "markdown",
      "source": [
        "Making model predictions"
      ],
      "metadata": {
        "id": "zC8efo_9jQrm"
      }
    },
    {
      "cell_type": "code",
      "source": [
        "MyPredictions = mlp.predict(x_test,verbose=0)"
      ],
      "metadata": {
        "id": "uOm7w7slph__"
      },
      "execution_count": 267,
      "outputs": []
    },
    {
      "cell_type": "code",
      "source": [
        "print(MyPredictions.shape)\n",
        "MyPredictions[:10]"
      ],
      "metadata": {
        "colab": {
          "base_uri": "https://localhost:8080/"
        },
        "id": "9nPs-A2y1Yhf",
        "outputId": "296d8a7d-7b62-4dc3-cf68-fe1183e7537f"
      },
      "execution_count": 268,
      "outputs": [
        {
          "output_type": "stream",
          "name": "stdout",
          "text": [
            "(300, 2)\n"
          ]
        },
        {
          "output_type": "execute_result",
          "data": {
            "text/plain": [
              "array([[9.9936360e-04, 9.9905473e-01],\n",
              "       [4.4886075e-02, 9.5489430e-01],\n",
              "       [8.5860443e-01, 1.5442701e-01],\n",
              "       [1.7636010e-02, 9.8322994e-01],\n",
              "       [1.0000000e+00, 6.7484521e-15],\n",
              "       [9.5186961e-01, 4.5631357e-02],\n",
              "       [9.9999976e-01, 3.0921839e-07],\n",
              "       [9.9966276e-01, 3.0928286e-04],\n",
              "       [4.9724928e-03, 9.9508780e-01],\n",
              "       [1.7162545e-05, 9.9998426e-01]], dtype=float32)"
            ]
          },
          "metadata": {},
          "execution_count": 268
        }
      ]
    },
    {
      "cell_type": "code",
      "source": [
        "myPreds = np.argmax(MyPredictions, axis = 1)"
      ],
      "metadata": {
        "id": "Yb7-rsH23FMs"
      },
      "execution_count": 269,
      "outputs": []
    },
    {
      "cell_type": "code",
      "source": [
        "myPreds"
      ],
      "metadata": {
        "colab": {
          "base_uri": "https://localhost:8080/"
        },
        "id": "gAVgYsR6UJqO",
        "outputId": "8229e58e-9aa0-4e89-9b01-0bdf58173ee7"
      },
      "execution_count": 270,
      "outputs": [
        {
          "output_type": "execute_result",
          "data": {
            "text/plain": [
              "array([1, 1, 0, 1, 0, 0, 0, 0, 1, 1, 0, 0, 0, 1, 0, 1, 0, 0, 0, 0, 1, 0,\n",
              "       0, 1, 1, 1, 1, 1, 1, 1, 0, 0, 1, 0, 0, 0, 1, 1, 1, 0, 0, 0, 0, 0,\n",
              "       1, 0, 0, 1, 1, 1, 0, 1, 0, 0, 0, 0, 1, 0, 0, 1, 1, 0, 1, 0, 0, 1,\n",
              "       1, 0, 1, 1, 0, 0, 0, 0, 0, 1, 0, 1, 1, 1, 0, 1, 0, 1, 1, 0, 0, 0,\n",
              "       1, 0, 1, 1, 0, 1, 1, 1, 0, 0, 0, 0, 0, 0, 0, 0, 1, 1, 1, 0, 0, 1,\n",
              "       1, 0, 0, 1, 0, 1, 1, 1, 1, 1, 0, 1, 0, 0, 0, 0, 0, 1, 0, 1, 1, 1,\n",
              "       0, 1, 1, 1, 0, 0, 1, 0, 1, 1, 0, 1, 1, 0, 0, 1, 1, 0, 1, 0, 1, 1,\n",
              "       1, 1, 0, 0, 1, 0, 0, 1, 1, 0, 1, 1, 1, 1, 1, 0, 1, 0, 1, 1, 1, 1,\n",
              "       0, 1, 1, 1, 0, 1, 1, 1, 1, 0, 0, 0, 1, 1, 1, 1, 0, 1, 0, 1, 1, 1,\n",
              "       1, 1, 1, 0, 1, 1, 0, 1, 0, 0, 0, 0, 1, 0, 1, 1, 1, 1, 0, 0, 0, 1,\n",
              "       0, 1, 1, 0, 1, 0, 0, 1, 1, 0, 0, 1, 0, 0, 0, 1, 1, 0, 0, 1, 1, 0,\n",
              "       0, 0, 0, 0, 1, 1, 1, 1, 0, 1, 0, 1, 0, 1, 1, 1, 0, 1, 0, 0, 1, 0,\n",
              "       1, 1, 1, 1, 1, 1, 0, 1, 1, 0, 0, 1, 0, 0, 0, 1, 0, 1, 0, 0, 1, 1,\n",
              "       1, 1, 1, 1, 0, 0, 1, 0, 0, 1, 1, 0, 1, 0])"
            ]
          },
          "metadata": {},
          "execution_count": 270
        }
      ]
    },
    {
      "cell_type": "code",
      "source": [
        "Outputs = []\n",
        "\n",
        "for i in range(len(myPreds)):\n",
        "  if(myPreds[i] == 0):\n",
        "    Outputs.append(\"Non_raveling\");\n",
        "  else:\n",
        "    Outputs.append(\"Raveling\");\n",
        "print(len(Outputs))\n",
        "Outputs"
      ],
      "metadata": {
        "colab": {
          "base_uri": "https://localhost:8080/"
        },
        "id": "KHMSYxgO5CNe",
        "outputId": "f2dd2cb5-642a-4a1d-f5d9-c1c693929b0e"
      },
      "execution_count": 271,
      "outputs": [
        {
          "output_type": "stream",
          "name": "stdout",
          "text": [
            "300\n"
          ]
        },
        {
          "output_type": "execute_result",
          "data": {
            "text/plain": [
              "['Raveling',\n",
              " 'Raveling',\n",
              " 'Non_raveling',\n",
              " 'Raveling',\n",
              " 'Non_raveling',\n",
              " 'Non_raveling',\n",
              " 'Non_raveling',\n",
              " 'Non_raveling',\n",
              " 'Raveling',\n",
              " 'Raveling',\n",
              " 'Non_raveling',\n",
              " 'Non_raveling',\n",
              " 'Non_raveling',\n",
              " 'Raveling',\n",
              " 'Non_raveling',\n",
              " 'Raveling',\n",
              " 'Non_raveling',\n",
              " 'Non_raveling',\n",
              " 'Non_raveling',\n",
              " 'Non_raveling',\n",
              " 'Raveling',\n",
              " 'Non_raveling',\n",
              " 'Non_raveling',\n",
              " 'Raveling',\n",
              " 'Raveling',\n",
              " 'Raveling',\n",
              " 'Raveling',\n",
              " 'Raveling',\n",
              " 'Raveling',\n",
              " 'Raveling',\n",
              " 'Non_raveling',\n",
              " 'Non_raveling',\n",
              " 'Raveling',\n",
              " 'Non_raveling',\n",
              " 'Non_raveling',\n",
              " 'Non_raveling',\n",
              " 'Raveling',\n",
              " 'Raveling',\n",
              " 'Raveling',\n",
              " 'Non_raveling',\n",
              " 'Non_raveling',\n",
              " 'Non_raveling',\n",
              " 'Non_raveling',\n",
              " 'Non_raveling',\n",
              " 'Raveling',\n",
              " 'Non_raveling',\n",
              " 'Non_raveling',\n",
              " 'Raveling',\n",
              " 'Raveling',\n",
              " 'Raveling',\n",
              " 'Non_raveling',\n",
              " 'Raveling',\n",
              " 'Non_raveling',\n",
              " 'Non_raveling',\n",
              " 'Non_raveling',\n",
              " 'Non_raveling',\n",
              " 'Raveling',\n",
              " 'Non_raveling',\n",
              " 'Non_raveling',\n",
              " 'Raveling',\n",
              " 'Raveling',\n",
              " 'Non_raveling',\n",
              " 'Raveling',\n",
              " 'Non_raveling',\n",
              " 'Non_raveling',\n",
              " 'Raveling',\n",
              " 'Raveling',\n",
              " 'Non_raveling',\n",
              " 'Raveling',\n",
              " 'Raveling',\n",
              " 'Non_raveling',\n",
              " 'Non_raveling',\n",
              " 'Non_raveling',\n",
              " 'Non_raveling',\n",
              " 'Non_raveling',\n",
              " 'Raveling',\n",
              " 'Non_raveling',\n",
              " 'Raveling',\n",
              " 'Raveling',\n",
              " 'Raveling',\n",
              " 'Non_raveling',\n",
              " 'Raveling',\n",
              " 'Non_raveling',\n",
              " 'Raveling',\n",
              " 'Raveling',\n",
              " 'Non_raveling',\n",
              " 'Non_raveling',\n",
              " 'Non_raveling',\n",
              " 'Raveling',\n",
              " 'Non_raveling',\n",
              " 'Raveling',\n",
              " 'Raveling',\n",
              " 'Non_raveling',\n",
              " 'Raveling',\n",
              " 'Raveling',\n",
              " 'Raveling',\n",
              " 'Non_raveling',\n",
              " 'Non_raveling',\n",
              " 'Non_raveling',\n",
              " 'Non_raveling',\n",
              " 'Non_raveling',\n",
              " 'Non_raveling',\n",
              " 'Non_raveling',\n",
              " 'Non_raveling',\n",
              " 'Raveling',\n",
              " 'Raveling',\n",
              " 'Raveling',\n",
              " 'Non_raveling',\n",
              " 'Non_raveling',\n",
              " 'Raveling',\n",
              " 'Raveling',\n",
              " 'Non_raveling',\n",
              " 'Non_raveling',\n",
              " 'Raveling',\n",
              " 'Non_raveling',\n",
              " 'Raveling',\n",
              " 'Raveling',\n",
              " 'Raveling',\n",
              " 'Raveling',\n",
              " 'Raveling',\n",
              " 'Non_raveling',\n",
              " 'Raveling',\n",
              " 'Non_raveling',\n",
              " 'Non_raveling',\n",
              " 'Non_raveling',\n",
              " 'Non_raveling',\n",
              " 'Non_raveling',\n",
              " 'Raveling',\n",
              " 'Non_raveling',\n",
              " 'Raveling',\n",
              " 'Raveling',\n",
              " 'Raveling',\n",
              " 'Non_raveling',\n",
              " 'Raveling',\n",
              " 'Raveling',\n",
              " 'Raveling',\n",
              " 'Non_raveling',\n",
              " 'Non_raveling',\n",
              " 'Raveling',\n",
              " 'Non_raveling',\n",
              " 'Raveling',\n",
              " 'Raveling',\n",
              " 'Non_raveling',\n",
              " 'Raveling',\n",
              " 'Raveling',\n",
              " 'Non_raveling',\n",
              " 'Non_raveling',\n",
              " 'Raveling',\n",
              " 'Raveling',\n",
              " 'Non_raveling',\n",
              " 'Raveling',\n",
              " 'Non_raveling',\n",
              " 'Raveling',\n",
              " 'Raveling',\n",
              " 'Raveling',\n",
              " 'Raveling',\n",
              " 'Non_raveling',\n",
              " 'Non_raveling',\n",
              " 'Raveling',\n",
              " 'Non_raveling',\n",
              " 'Non_raveling',\n",
              " 'Raveling',\n",
              " 'Raveling',\n",
              " 'Non_raveling',\n",
              " 'Raveling',\n",
              " 'Raveling',\n",
              " 'Raveling',\n",
              " 'Raveling',\n",
              " 'Raveling',\n",
              " 'Non_raveling',\n",
              " 'Raveling',\n",
              " 'Non_raveling',\n",
              " 'Raveling',\n",
              " 'Raveling',\n",
              " 'Raveling',\n",
              " 'Raveling',\n",
              " 'Non_raveling',\n",
              " 'Raveling',\n",
              " 'Raveling',\n",
              " 'Raveling',\n",
              " 'Non_raveling',\n",
              " 'Raveling',\n",
              " 'Raveling',\n",
              " 'Raveling',\n",
              " 'Raveling',\n",
              " 'Non_raveling',\n",
              " 'Non_raveling',\n",
              " 'Non_raveling',\n",
              " 'Raveling',\n",
              " 'Raveling',\n",
              " 'Raveling',\n",
              " 'Raveling',\n",
              " 'Non_raveling',\n",
              " 'Raveling',\n",
              " 'Non_raveling',\n",
              " 'Raveling',\n",
              " 'Raveling',\n",
              " 'Raveling',\n",
              " 'Raveling',\n",
              " 'Raveling',\n",
              " 'Raveling',\n",
              " 'Non_raveling',\n",
              " 'Raveling',\n",
              " 'Raveling',\n",
              " 'Non_raveling',\n",
              " 'Raveling',\n",
              " 'Non_raveling',\n",
              " 'Non_raveling',\n",
              " 'Non_raveling',\n",
              " 'Non_raveling',\n",
              " 'Raveling',\n",
              " 'Non_raveling',\n",
              " 'Raveling',\n",
              " 'Raveling',\n",
              " 'Raveling',\n",
              " 'Raveling',\n",
              " 'Non_raveling',\n",
              " 'Non_raveling',\n",
              " 'Non_raveling',\n",
              " 'Raveling',\n",
              " 'Non_raveling',\n",
              " 'Raveling',\n",
              " 'Raveling',\n",
              " 'Non_raveling',\n",
              " 'Raveling',\n",
              " 'Non_raveling',\n",
              " 'Non_raveling',\n",
              " 'Raveling',\n",
              " 'Raveling',\n",
              " 'Non_raveling',\n",
              " 'Non_raveling',\n",
              " 'Raveling',\n",
              " 'Non_raveling',\n",
              " 'Non_raveling',\n",
              " 'Non_raveling',\n",
              " 'Raveling',\n",
              " 'Raveling',\n",
              " 'Non_raveling',\n",
              " 'Non_raveling',\n",
              " 'Raveling',\n",
              " 'Raveling',\n",
              " 'Non_raveling',\n",
              " 'Non_raveling',\n",
              " 'Non_raveling',\n",
              " 'Non_raveling',\n",
              " 'Non_raveling',\n",
              " 'Raveling',\n",
              " 'Raveling',\n",
              " 'Raveling',\n",
              " 'Raveling',\n",
              " 'Non_raveling',\n",
              " 'Raveling',\n",
              " 'Non_raveling',\n",
              " 'Raveling',\n",
              " 'Non_raveling',\n",
              " 'Raveling',\n",
              " 'Raveling',\n",
              " 'Raveling',\n",
              " 'Non_raveling',\n",
              " 'Raveling',\n",
              " 'Non_raveling',\n",
              " 'Non_raveling',\n",
              " 'Raveling',\n",
              " 'Non_raveling',\n",
              " 'Raveling',\n",
              " 'Raveling',\n",
              " 'Raveling',\n",
              " 'Raveling',\n",
              " 'Raveling',\n",
              " 'Raveling',\n",
              " 'Non_raveling',\n",
              " 'Raveling',\n",
              " 'Raveling',\n",
              " 'Non_raveling',\n",
              " 'Non_raveling',\n",
              " 'Raveling',\n",
              " 'Non_raveling',\n",
              " 'Non_raveling',\n",
              " 'Non_raveling',\n",
              " 'Raveling',\n",
              " 'Non_raveling',\n",
              " 'Raveling',\n",
              " 'Non_raveling',\n",
              " 'Non_raveling',\n",
              " 'Raveling',\n",
              " 'Raveling',\n",
              " 'Raveling',\n",
              " 'Raveling',\n",
              " 'Raveling',\n",
              " 'Raveling',\n",
              " 'Non_raveling',\n",
              " 'Non_raveling',\n",
              " 'Raveling',\n",
              " 'Non_raveling',\n",
              " 'Non_raveling',\n",
              " 'Raveling',\n",
              " 'Raveling',\n",
              " 'Non_raveling',\n",
              " 'Raveling',\n",
              " 'Non_raveling']"
            ]
          },
          "metadata": {},
          "execution_count": 271
        }
      ]
    },
    {
      "cell_type": "code",
      "source": [
        "len(Outputs)"
      ],
      "metadata": {
        "colab": {
          "base_uri": "https://localhost:8080/"
        },
        "id": "XFpup4ujISwL",
        "outputId": "38bdd8b6-97d6-4c54-b84d-e51c09ce9121"
      },
      "execution_count": 272,
      "outputs": [
        {
          "output_type": "execute_result",
          "data": {
            "text/plain": [
              "300"
            ]
          },
          "metadata": {},
          "execution_count": 272
        }
      ]
    },
    {
      "cell_type": "markdown",
      "source": [
        "Creating predictions CSV file and saving it on Google Drive"
      ],
      "metadata": {
        "id": "pR7wr9IgjsCe"
      }
    },
    {
      "cell_type": "code",
      "source": [
        "test_data = {\"filename\":list_test, \"class\":Outputs}"
      ],
      "metadata": {
        "id": "kXfAi2Ve6Phj"
      },
      "execution_count": 273,
      "outputs": []
    },
    {
      "cell_type": "code",
      "source": [
        "test_output = pd.DataFrame(test_data)"
      ],
      "metadata": {
        "id": "cJ1LOrAM_Kj7"
      },
      "execution_count": 274,
      "outputs": []
    },
    {
      "cell_type": "code",
      "source": [
        "test_output"
      ],
      "metadata": {
        "colab": {
          "base_uri": "https://localhost:8080/",
          "height": 423
        },
        "id": "6YyA_fvA_WCQ",
        "outputId": "7a77af87-cbf9-4ff7-e5ba-4fb5a7df6afa"
      },
      "execution_count": 275,
      "outputs": [
        {
          "output_type": "execute_result",
          "data": {
            "text/html": [
              "\n",
              "  <div id=\"df-f01d9b76-ab83-4804-a424-5b31440071ee\">\n",
              "    <div class=\"colab-df-container\">\n",
              "      <div>\n",
              "<style scoped>\n",
              "    .dataframe tbody tr th:only-of-type {\n",
              "        vertical-align: middle;\n",
              "    }\n",
              "\n",
              "    .dataframe tbody tr th {\n",
              "        vertical-align: top;\n",
              "    }\n",
              "\n",
              "    .dataframe thead th {\n",
              "        text-align: right;\n",
              "    }\n",
              "</style>\n",
              "<table border=\"1\" class=\"dataframe\">\n",
              "  <thead>\n",
              "    <tr style=\"text-align: right;\">\n",
              "      <th></th>\n",
              "      <th>filename</th>\n",
              "      <th>class</th>\n",
              "    </tr>\n",
              "  </thead>\n",
              "  <tbody>\n",
              "    <tr>\n",
              "      <th>0</th>\n",
              "      <td>2.jpg</td>\n",
              "      <td>Raveling</td>\n",
              "    </tr>\n",
              "    <tr>\n",
              "      <th>1</th>\n",
              "      <td>3.jpg</td>\n",
              "      <td>Raveling</td>\n",
              "    </tr>\n",
              "    <tr>\n",
              "      <th>2</th>\n",
              "      <td>1.jpg</td>\n",
              "      <td>Non_raveling</td>\n",
              "    </tr>\n",
              "    <tr>\n",
              "      <th>3</th>\n",
              "      <td>195.jpg</td>\n",
              "      <td>Raveling</td>\n",
              "    </tr>\n",
              "    <tr>\n",
              "      <th>4</th>\n",
              "      <td>242.jpg</td>\n",
              "      <td>Non_raveling</td>\n",
              "    </tr>\n",
              "    <tr>\n",
              "      <th>...</th>\n",
              "      <td>...</td>\n",
              "      <td>...</td>\n",
              "    </tr>\n",
              "    <tr>\n",
              "      <th>295</th>\n",
              "      <td>134.jpg</td>\n",
              "      <td>Raveling</td>\n",
              "    </tr>\n",
              "    <tr>\n",
              "      <th>296</th>\n",
              "      <td>174.jpg</td>\n",
              "      <td>Raveling</td>\n",
              "    </tr>\n",
              "    <tr>\n",
              "      <th>297</th>\n",
              "      <td>237.jpg</td>\n",
              "      <td>Non_raveling</td>\n",
              "    </tr>\n",
              "    <tr>\n",
              "      <th>298</th>\n",
              "      <td>126.jpg</td>\n",
              "      <td>Raveling</td>\n",
              "    </tr>\n",
              "    <tr>\n",
              "      <th>299</th>\n",
              "      <td>149.jpg</td>\n",
              "      <td>Non_raveling</td>\n",
              "    </tr>\n",
              "  </tbody>\n",
              "</table>\n",
              "<p>300 rows × 2 columns</p>\n",
              "</div>\n",
              "      <button class=\"colab-df-convert\" onclick=\"convertToInteractive('df-f01d9b76-ab83-4804-a424-5b31440071ee')\"\n",
              "              title=\"Convert this dataframe to an interactive table.\"\n",
              "              style=\"display:none;\">\n",
              "        \n",
              "  <svg xmlns=\"http://www.w3.org/2000/svg\" height=\"24px\"viewBox=\"0 0 24 24\"\n",
              "       width=\"24px\">\n",
              "    <path d=\"M0 0h24v24H0V0z\" fill=\"none\"/>\n",
              "    <path d=\"M18.56 5.44l.94 2.06.94-2.06 2.06-.94-2.06-.94-.94-2.06-.94 2.06-2.06.94zm-11 1L8.5 8.5l.94-2.06 2.06-.94-2.06-.94L8.5 2.5l-.94 2.06-2.06.94zm10 10l.94 2.06.94-2.06 2.06-.94-2.06-.94-.94-2.06-.94 2.06-2.06.94z\"/><path d=\"M17.41 7.96l-1.37-1.37c-.4-.4-.92-.59-1.43-.59-.52 0-1.04.2-1.43.59L10.3 9.45l-7.72 7.72c-.78.78-.78 2.05 0 2.83L4 21.41c.39.39.9.59 1.41.59.51 0 1.02-.2 1.41-.59l7.78-7.78 2.81-2.81c.8-.78.8-2.07 0-2.86zM5.41 20L4 18.59l7.72-7.72 1.47 1.35L5.41 20z\"/>\n",
              "  </svg>\n",
              "      </button>\n",
              "      \n",
              "  <style>\n",
              "    .colab-df-container {\n",
              "      display:flex;\n",
              "      flex-wrap:wrap;\n",
              "      gap: 12px;\n",
              "    }\n",
              "\n",
              "    .colab-df-convert {\n",
              "      background-color: #E8F0FE;\n",
              "      border: none;\n",
              "      border-radius: 50%;\n",
              "      cursor: pointer;\n",
              "      display: none;\n",
              "      fill: #1967D2;\n",
              "      height: 32px;\n",
              "      padding: 0 0 0 0;\n",
              "      width: 32px;\n",
              "    }\n",
              "\n",
              "    .colab-df-convert:hover {\n",
              "      background-color: #E2EBFA;\n",
              "      box-shadow: 0px 1px 2px rgba(60, 64, 67, 0.3), 0px 1px 3px 1px rgba(60, 64, 67, 0.15);\n",
              "      fill: #174EA6;\n",
              "    }\n",
              "\n",
              "    [theme=dark] .colab-df-convert {\n",
              "      background-color: #3B4455;\n",
              "      fill: #D2E3FC;\n",
              "    }\n",
              "\n",
              "    [theme=dark] .colab-df-convert:hover {\n",
              "      background-color: #434B5C;\n",
              "      box-shadow: 0px 1px 3px 1px rgba(0, 0, 0, 0.15);\n",
              "      filter: drop-shadow(0px 1px 2px rgba(0, 0, 0, 0.3));\n",
              "      fill: #FFFFFF;\n",
              "    }\n",
              "  </style>\n",
              "\n",
              "      <script>\n",
              "        const buttonEl =\n",
              "          document.querySelector('#df-f01d9b76-ab83-4804-a424-5b31440071ee button.colab-df-convert');\n",
              "        buttonEl.style.display =\n",
              "          google.colab.kernel.accessAllowed ? 'block' : 'none';\n",
              "\n",
              "        async function convertToInteractive(key) {\n",
              "          const element = document.querySelector('#df-f01d9b76-ab83-4804-a424-5b31440071ee');\n",
              "          const dataTable =\n",
              "            await google.colab.kernel.invokeFunction('convertToInteractive',\n",
              "                                                     [key], {});\n",
              "          if (!dataTable) return;\n",
              "\n",
              "          const docLinkHtml = 'Like what you see? Visit the ' +\n",
              "            '<a target=\"_blank\" href=https://colab.research.google.com/notebooks/data_table.ipynb>data table notebook</a>'\n",
              "            + ' to learn more about interactive tables.';\n",
              "          element.innerHTML = '';\n",
              "          dataTable['output_type'] = 'display_data';\n",
              "          await google.colab.output.renderOutput(dataTable, element);\n",
              "          const docLink = document.createElement('div');\n",
              "          docLink.innerHTML = docLinkHtml;\n",
              "          element.appendChild(docLink);\n",
              "        }\n",
              "      </script>\n",
              "    </div>\n",
              "  </div>\n",
              "  "
            ],
            "text/plain": [
              "    filename         class\n",
              "0      2.jpg      Raveling\n",
              "1      3.jpg      Raveling\n",
              "2      1.jpg  Non_raveling\n",
              "3    195.jpg      Raveling\n",
              "4    242.jpg  Non_raveling\n",
              "..       ...           ...\n",
              "295  134.jpg      Raveling\n",
              "296  174.jpg      Raveling\n",
              "297  237.jpg  Non_raveling\n",
              "298  126.jpg      Raveling\n",
              "299  149.jpg  Non_raveling\n",
              "\n",
              "[300 rows x 2 columns]"
            ]
          },
          "metadata": {},
          "execution_count": 275
        }
      ]
    },
    {
      "cell_type": "code",
      "source": [
        "test_output.to_csv('test_output.csv',index = False)\n",
        "!cp test_output.csv \"drive/My Drive/\""
      ],
      "metadata": {
        "id": "ncpYVImY_CkD"
      },
      "execution_count": 276,
      "outputs": []
    },
    {
      "cell_type": "code",
      "source": [
        ""
      ],
      "metadata": {
        "id": "zRbSiRMs_2I_"
      },
      "execution_count": 276,
      "outputs": []
    }
  ]
}