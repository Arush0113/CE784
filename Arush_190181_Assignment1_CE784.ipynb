{
  "nbformat": 4,
  "nbformat_minor": 0,
  "metadata": {
    "colab": {
      "name": "Arush_190181_Assignment1_CE784.ipynb",
      "provenance": [],
      "collapsed_sections": [],
      "include_colab_link": true
    },
    "kernelspec": {
      "name": "python3",
      "display_name": "Python 3"
    },
    "language_info": {
      "name": "python"
    },
    "accelerator": "GPU"
  },
  "cells": [
    {
      "cell_type": "markdown",
      "metadata": {
        "id": "view-in-github",
        "colab_type": "text"
      },
      "source": [
        "<a href=\"https://colab.research.google.com/github/Arush0113/CE784/blob/main/Arush_190181_Assignment1_CE784.ipynb\" target=\"_parent\"><img src=\"https://colab.research.google.com/assets/colab-badge.svg\" alt=\"Open In Colab\"/></a>"
      ]
    },
    {
      "cell_type": "code",
      "source": [
        "import matplotlib.pyplot as plt\n",
        "import os\n",
        "import glob\n",
        "from skimage import io, color\n",
        "from skimage.feature.texture import greycomatrix, greycoprops\n",
        "import numpy as np\n",
        "import pandas as pd\n",
        "from scipy.stats import kurtosis\n",
        "from scipy.stats import skew\n",
        "from scipy.stats import entropy\n",
        "import cv2 \n",
        "import math\n",
        "from sklearn.model_selection import train_test_split\n",
        "import tensorflow as tf\n",
        "from tensorflow import keras\n",
        "from tensorflow.keras import layers, callbacks\n",
        "% matplotlib inline"
      ],
      "metadata": {
        "id": "gTqUwVaVyItU"
      },
      "execution_count": 1,
      "outputs": []
    },
    {
      "cell_type": "code",
      "source": [
        "train_path = '/content/drive/MyDrive/mod_ravelling_dataset/train'\n",
        "test_path = '/content/drive/MyDrive/mod_ravelling_dataset/test'"
      ],
      "metadata": {
        "id": "FKDsbN3nziSX"
      },
      "execution_count": 2,
      "outputs": []
    },
    {
      "cell_type": "code",
      "source": [
        "non_raveling_train = train_path + '/Non_raveling'\n",
        "raveling_train = train_path + '/Raveling'\n",
        "test = test_path"
      ],
      "metadata": {
        "id": "044J6hjc1X0z"
      },
      "execution_count": 3,
      "outputs": []
    },
    {
      "cell_type": "code",
      "source": [
        "from google.colab import drive\n",
        "drive.mount('/content/drive')"
      ],
      "metadata": {
        "colab": {
          "base_uri": "https://localhost:8080/"
        },
        "id": "ibWt84qnJzTG",
        "outputId": "69e3836e-db0f-4e9a-ad1a-cffaaaa022d2"
      },
      "execution_count": 4,
      "outputs": [
        {
          "output_type": "stream",
          "name": "stdout",
          "text": [
            "Mounted at /content/drive\n"
          ]
        }
      ]
    },
    {
      "cell_type": "code",
      "source": [
        "list_nr_train = os.listdir(non_raveling_train)\n",
        "list_r_train = os.listdir(raveling_train)\n",
        "list_test = os.listdir(test)"
      ],
      "metadata": {
        "id": "7L9yei2u45R6"
      },
      "execution_count": 5,
      "outputs": []
    },
    {
      "cell_type": "code",
      "source": [
        "list_r_train[:5]"
      ],
      "metadata": {
        "colab": {
          "base_uri": "https://localhost:8080/"
        },
        "id": "9ESuginqAXk0",
        "outputId": "96d55864-31bd-487f-bfb8-63a876ab4f73"
      },
      "execution_count": 6,
      "outputs": [
        {
          "output_type": "execute_result",
          "data": {
            "text/plain": [
              "['image406.jpg',\n",
              " 'image682.jpg',\n",
              " 'image644.jpg',\n",
              " 'image451.jpg',\n",
              " 'image485.jpg']"
            ]
          },
          "metadata": {},
          "execution_count": 6
        }
      ]
    },
    {
      "cell_type": "code",
      "source": [
        "img = []"
      ],
      "metadata": {
        "id": "eT6MH_m7Etq9"
      },
      "execution_count": 7,
      "outputs": []
    },
    {
      "cell_type": "code",
      "source": [
        "images_nr = []\n",
        "\n",
        "for i in range(len(list_nr_train)):\n",
        "  img = io.imread(os.path.join(non_raveling_train,list_nr_train[i]))\n",
        "  images_nr.append(np.array(img))\n",
        "  io.imshow(img)\n"
      ],
      "metadata": {
        "id": "G7ZWAKXX5b95",
        "colab": {
          "base_uri": "https://localhost:8080/",
          "height": 352
        },
        "outputId": "906ef5e4-335d-4b74-c509-76ff9c97f527"
      },
      "execution_count": 8,
      "outputs": [
        {
          "output_type": "stream",
          "name": "stderr",
          "text": [
            "/usr/local/lib/python3.7/dist-packages/skimage/io/_plugins/matplotlib_plugin.py:150: UserWarning: Low image data range; displaying image with stretched contrast.\n",
            "  lo, hi, cmap = _get_display_range(image)\n"
          ]
        },
        {
          "output_type": "display_data",
          "data": {
            "image/png": "[encoded data removed]",
            "text/plain": [
              "<Figure size 432x288 with 2 Axes>"
            ]
          },
          "metadata": {
            "needs_background": "light"
          }
        }
      ]
    },
    {
      "cell_type": "code",
      "source": [
        "images_r = []\n",
        "\n",
        "for i in range(len(list_r_train)):\n",
        "  img = io.imread(os.path.join(raveling_train, list_r_train[i]))\n",
        "  images_r.append(np.array(img))\n",
        "  io.imshow(img)"
      ],
      "metadata": {
        "colab": {
          "base_uri": "https://localhost:8080/",
          "height": 297
        },
        "id": "Hc0MRf5hI-Qa",
        "outputId": "73cbbeee-16c7-4455-b6f9-323c90ac3fc7"
      },
      "execution_count": 9,
      "outputs": [
        {
          "output_type": "display_data",
          "data": {
            "image/png": "[encoded data removed]",
            "text/plain": [
              "<Figure size 432x288 with 1 Axes>"
            ]
          },
          "metadata": {
            "needs_background": "light"
          }
        }
      ]
    },
    {
      "cell_type": "code",
      "source": [
        "images_test = []\n",
        "\n",
        "for i in range(len(list_test)):\n",
        "  img = io.imread(os.path.join(test, list_test[i]))\n",
        "  images_test.append(np.array(img))\n",
        "  io.imshow(img)"
      ],
      "metadata": {
        "colab": {
          "base_uri": "https://localhost:8080/",
          "height": 297
        },
        "id": "-OopOjCXyu7R",
        "outputId": "5b2734e3-8ce9-43b0-953a-331ac5996141"
      },
      "execution_count": 65,
      "outputs": [
        {
          "output_type": "display_data",
          "data": {
            "image/png": "[encoded data removed]",
            "text/plain": [
              "<Figure size 432x288 with 1 Axes>"
            ]
          },
          "metadata": {
            "needs_background": "light"
          }
        }
      ]
    },
    {
      "cell_type": "code",
      "source": [
        "print(len(images_nr))\n",
        "print(len(images_r))\n",
        "print(len(images_test))"
      ],
      "metadata": {
        "colab": {
          "base_uri": "https://localhost:8080/"
        },
        "id": "dFeaF1-QFJn9",
        "outputId": "0a0abc75-0a34-4f41-e950-9ffd637f7982"
      },
      "execution_count": 66,
      "outputs": [
        {
          "output_type": "stream",
          "name": "stdout",
          "text": [
            "351\n",
            "349\n",
            "300\n"
          ]
        }
      ]
    },
    {
      "cell_type": "code",
      "source": [
        "images_nr = np.array(images_nr)\n",
        "print(images_nr.shape)\n",
        "\n",
        "y_nr = np.zeros((351, 1))\n",
        "y_nr.shape"
      ],
      "metadata": {
        "id": "JfJ1vBqKFLUo",
        "colab": {
          "base_uri": "https://localhost:8080/"
        },
        "outputId": "00552e6a-bc0c-47cd-da7e-ac4c1624bfa2"
      },
      "execution_count": 11,
      "outputs": [
        {
          "output_type": "stream",
          "name": "stdout",
          "text": [
            "(351, 100, 100, 3)\n"
          ]
        },
        {
          "output_type": "execute_result",
          "data": {
            "text/plain": [
              "(351, 1)"
            ]
          },
          "metadata": {},
          "execution_count": 11
        }
      ]
    },
    {
      "cell_type": "code",
      "source": [
        "images_r = np.array(images_r)\n",
        "images_r.shape\n",
        "\n",
        "y_r = np.ones((349, 1))\n",
        "y_r.shape"
      ],
      "metadata": {
        "colab": {
          "base_uri": "https://localhost:8080/"
        },
        "id": "rbusKg1LJP0X",
        "outputId": "cd4507b0-6ac1-41be-9536-343f295b1120"
      },
      "execution_count": 12,
      "outputs": [
        {
          "output_type": "execute_result",
          "data": {
            "text/plain": [
              "(349, 1)"
            ]
          },
          "metadata": {},
          "execution_count": 12
        }
      ]
    },
    {
      "cell_type": "code",
      "source": [
        "images = np.concatenate((images_nr, images_r), axis = 0)\n",
        "images.shape\n",
        "y = np.concatenate((y_nr, y_r), axis = 0)\n",
        "y.shape"
      ],
      "metadata": {
        "colab": {
          "base_uri": "https://localhost:8080/"
        },
        "id": "ORXlSU8DJbRj",
        "outputId": "28ef57fa-1a5c-4787-b1a0-d7fdbbada985"
      },
      "execution_count": 13,
      "outputs": [
        {
          "output_type": "execute_result",
          "data": {
            "text/plain": [
              "(700, 1)"
            ]
          },
          "metadata": {},
          "execution_count": 13
        }
      ]
    },
    {
      "cell_type": "code",
      "source": [
        "permutations = np.random.permutation(700)\n",
        "\n",
        "images = images[permutations]\n",
        "y = y[permutations]"
      ],
      "metadata": {
        "id": "k3H8A9QFJbTb"
      },
      "execution_count": 14,
      "outputs": []
    },
    {
      "cell_type": "code",
      "source": [
        "y[permutations][:5]"
      ],
      "metadata": {
        "colab": {
          "base_uri": "https://localhost:8080/"
        },
        "id": "08IQUlVXO-dN",
        "outputId": "9fe60a8c-ec47-49d2-bae1-68d055c462a3"
      },
      "execution_count": 15,
      "outputs": [
        {
          "output_type": "execute_result",
          "data": {
            "text/plain": [
              "array([[0.],\n",
              "       [0.],\n",
              "       [1.],\n",
              "       [0.],\n",
              "       [1.]])"
            ]
          },
          "metadata": {},
          "execution_count": 15
        }
      ]
    },
    {
      "cell_type": "code",
      "source": [
        "train_len = (int)(0.8 * len(images))\n",
        "images_train = images[:train_len]\n",
        "images_val = images[train_len:]\n",
        "y_train = y[:train_len]\n",
        "y_val = y[train_len:]"
      ],
      "metadata": {
        "id": "rWEps5MhObK4"
      },
      "execution_count": 16,
      "outputs": []
    },
    {
      "cell_type": "code",
      "source": [
        "train_len"
      ],
      "metadata": {
        "colab": {
          "base_uri": "https://localhost:8080/"
        },
        "id": "5lInt12p7jFQ",
        "outputId": "381d46e9-16fd-40d9-898c-939d12351f5a"
      },
      "execution_count": 17,
      "outputs": [
        {
          "output_type": "execute_result",
          "data": {
            "text/plain": [
              "630"
            ]
          },
          "metadata": {},
          "execution_count": 17
        }
      ]
    },
    {
      "cell_type": "markdown",
      "source": [
        "## Feature Extraction & MLP"
      ],
      "metadata": {
        "id": "m5vR3wwcl23i"
      }
    },
    {
      "cell_type": "code",
      "source": [
        "#Loading important libraries\n",
        "import numpy as np\n",
        "import tensorflow as tf\n",
        "import matplotlib.pyplot as plt\n",
        "%matplotlib inline\n",
        "\n",
        "from tensorflow.keras.models import Model, Sequential\n",
        "from tensorflow.keras.layers import Dense, Softmax\n",
        "from tensorflow.keras.optimizers import Adam\n",
        "from tensorflow.keras.callbacks import EarlyStopping, ModelCheckpoint"
      ],
      "metadata": {
        "id": "tzjuC_lwJbWx"
      },
      "execution_count": 18,
      "outputs": []
    },
    {
      "cell_type": "code",
      "source": [
        "l1 = len(non_raveling_train)\n",
        "l2 = len(raveling_train)\n",
        "l = len(images)\n",
        "\n",
        "mean_b, mean_g, mean_r = np.zeros(l), np.zeros(l), np.zeros(l)\n",
        "\n",
        "std_b, std_g, std_r = np.zeros(l), np.zeros(l), np.zeros(l)\n",
        "\n",
        "skew_b, skew_g, skew_r = np.zeros(l), np.zeros(l), np.zeros(l)\n",
        "\n",
        "kurt_b, kurt_g, kurt_r = np.zeros(l), np.zeros(l), np.zeros(l)\n",
        "\n",
        "entropy_b1, entropy_g1, entropy_r1 = np.zeros(l), np.zeros(l), np.zeros(l)\n",
        "\n",
        "\n",
        "for i in range(len(images)):\n",
        "    image = images[i]\n",
        "    # print(image.shape)\n",
        "    # gray_image = cv2.cvtColor(image, cv2.COLOR_BGR2GRAY)\n",
        "\n",
        "    blue = image[:,:,0]\n",
        "    green = image[:,:,1]\n",
        "    red = image[:,:,2]\n",
        "    \n",
        "    mean1 = (np.sum(image[:,:,0]))/(100*100)\n",
        "    mean2 = (np.sum(image[:,:,1]))/(100*100)\n",
        "    mean3 = (np.sum(image[:,:,2]))/(100*100)\n",
        "    \n",
        "    mean_b[i] = mean1\n",
        "    mean_g[i] = mean2\n",
        "    mean_r[i] = mean3\n",
        "    \n",
        "    sq_diff1 = np.sum(np.square((blue-mean1)))\n",
        "    sq_diff2 = np.sum(np.square((green-mean2)))\n",
        "    sq_diff3 = np.sum(np.square((red-mean3)))\n",
        "    \n",
        "    std_b[i] = math.sqrt(sq_diff1/(100*100))\n",
        "    std_g[i] = math.sqrt(sq_diff2/(100*100))\n",
        "    std_r[i] = math.sqrt(sq_diff3/(100*100))\n",
        "    \n",
        "    sq_skew1 = (np.sum(np.power((blue-mean1),3)))/(100*100)\n",
        "    sq_skew2 = (np.sum(np.power((green-mean2),3)))/(100*100)\n",
        "    sq_skew3 = (np.sum(np.power((red-mean3),3)))/(100*100)\n",
        "    \n",
        "    sq_kurt1 = (np.sum(np.power((blue-mean1),4)))/(100*100)\n",
        "    sq_kurt2 = (np.sum(np.power((green-mean2),4)))/(100*100)\n",
        "    sq_kurt3 = (np.sum(np.power((red-mean3),4)))/(100*100)\n",
        "    \n",
        "    skew_b[i] = sq_skew1/(std_b[i]**3)\n",
        "    skew_g[i] = sq_skew2/(std_g[i]**3)\n",
        "    skew_r[i] = sq_skew3/(std_r[i]**3)\n",
        "    \n",
        "    kurt_b[i] = sq_kurt1/(std_b[i]**4)\n",
        "    kurt_g[i] = sq_kurt2/(std_g[i]**4)\n",
        "    kurt_r[i] = sq_kurt3/(std_r[i]**4)\n",
        "\n",
        "    Pb = np.zeros(256)\n",
        "    Pg = np.zeros(256)\n",
        "    Pr = np.zeros(256)\n",
        "    \n",
        "    for j in range(256):\n",
        "        Pb[j] = (np.count_nonzero(blue == i))/(100*100)\n",
        "        Pg[j] = (np.count_nonzero(green == i))/(100*100)\n",
        "        Pr[j] = (np.count_nonzero(red == i))/(100*100)\n",
        "        \n",
        "    entr1, entr2, entr3 = 0,0,0\n",
        "    for j in range(256):\n",
        "        if Pb[j]>0:\n",
        "            entr1 = entr1 + (Pb[i])*(math.log2(Pb[i]))\n",
        "        if Pg[j]>0:\n",
        "            entr2 = entr2 + (Pg[i])*(math.log2(Pg[i]))\n",
        "        if Pr[j]>0:\n",
        "            entr3 = entr3 + (Pr[i])*(math.log2(Pr[i]))\n",
        "        \n",
        "    entropy_b1[i] = -entr1\n",
        "    entropy_g1[i] = -entr2\n",
        "    entropy_r1[i] = -entr3"
      ],
      "metadata": {
        "id": "sY_3v0re3kkK"
      },
      "execution_count": 55,
      "outputs": []
    },
    {
      "cell_type": "code",
      "source": [
        "mean_b.shape"
      ],
      "metadata": {
        "colab": {
          "base_uri": "https://localhost:8080/"
        },
        "id": "7s6CbFcK3kmD",
        "outputId": "a97ec776-2584-47cd-83b7-6641d826351e"
      },
      "execution_count": 56,
      "outputs": [
        {
          "output_type": "execute_result",
          "data": {
            "text/plain": [
              "(700,)"
            ]
          },
          "metadata": {},
          "execution_count": 56
        }
      ]
    },
    {
      "cell_type": "code",
      "source": [
        "data = {\"mean_b\":mean_b, \"mean_g\":mean_g, \"mean_r\":mean_r, \"std_b\":std_b, \"std_g\":std_g, \"std_r\":std_r, \n",
        "        \"skew_b\":skew_b, \"skew_g\":skew_g, \"skew_r\":skew_r, \"kurt_b\":kurt_b, \"kurt_g\":kurt_g, \"kurt_r\":kurt_r,\n",
        "        \"entropy_b\":entropy_b1, \"entropy_g\":entropy_g1, \"entropy_r\":entropy_r1\n",
        "        }\n",
        "\n",
        "df = pd.DataFrame(data)"
      ],
      "metadata": {
        "id": "RQn9gqIU3kpE"
      },
      "execution_count": 59,
      "outputs": []
    },
    {
      "cell_type": "code",
      "source": [
        "x = df.to_numpy()\n",
        "x.shape"
      ],
      "metadata": {
        "colab": {
          "base_uri": "https://localhost:8080/"
        },
        "id": "S7JY4XzjqINp",
        "outputId": "617ff360-af5a-40a8-ebe0-5a1302020f0d"
      },
      "execution_count": 60,
      "outputs": [
        {
          "output_type": "execute_result",
          "data": {
            "text/plain": [
              "(700, 15)"
            ]
          },
          "metadata": {},
          "execution_count": 60
        }
      ]
    },
    {
      "cell_type": "code",
      "source": [
        "train_len = (int)(0.8 * len(x))\n",
        "x_train = x[:train_len]\n",
        "x_val = x[train_len:]\n",
        "y_train = y[:train_len]\n",
        "y_val = y[train_len:]\n",
        "y_train = tf.keras.utils.to_categorical(y_train, 2)\n",
        "y_val = tf.keras.utils.to_categorical(y_val, 2)"
      ],
      "metadata": {
        "id": "Ef1PCXa7qpbu"
      },
      "execution_count": 61,
      "outputs": []
    },
    {
      "cell_type": "code",
      "source": [
        "dims_ip = df.shape[1]\n",
        "inp_shape = (dims_ip, )\n",
        "ip = tf.keras.Input(shape = inp_shape)\n",
        "dense1 = tf.keras.layers.Dense(units = 32, activation = 'relu', kernel_initializer = 'random_normal')(ip)\n",
        "drop = tf.keras.layers.Dropout(.4)(dense1)\n",
        "dense2 = tf.keras.layers.Dense(units = 16, activation = 'relu', kernel_initializer = 'random_normal')(drop)\n",
        "drop2 = tf.keras.layers.Dropout(.4)(dense2)\n",
        "out = tf.keras.layers.Dense(2, activation = 'sigmoid')(drop2)\n",
        "\n",
        "mlp = tf.keras.Model(inputs = ip, outputs = out)\n",
        "mlp.summary()"
      ],
      "metadata": {
        "colab": {
          "base_uri": "https://localhost:8080/"
        },
        "id": "jVIfKUYCpDLg",
        "outputId": "060c4d85-a2ca-4b34-9f12-e3a6e12ab563"
      },
      "execution_count": 62,
      "outputs": [
        {
          "output_type": "stream",
          "name": "stdout",
          "text": [
            "Model: \"model_6\"\n",
            "_________________________________________________________________\n",
            " Layer (type)                Output Shape              Param #   \n",
            "=================================================================\n",
            " input_7 (InputLayer)        [(None, 15)]              0         \n",
            "                                                                 \n",
            " dense_18 (Dense)            (None, 32)                512       \n",
            "                                                                 \n",
            " dropout_12 (Dropout)        (None, 32)                0         \n",
            "                                                                 \n",
            " dense_19 (Dense)            (None, 16)                528       \n",
            "                                                                 \n",
            " dropout_13 (Dropout)        (None, 16)                0         \n",
            "                                                                 \n",
            " dense_20 (Dense)            (None, 2)                 34        \n",
            "                                                                 \n",
            "=================================================================\n",
            "Total params: 1,074\n",
            "Trainable params: 1,074\n",
            "Non-trainable params: 0\n",
            "_________________________________________________________________\n"
          ]
        }
      ]
    },
    {
      "cell_type": "code",
      "source": [
        "# Compiling the model\n",
        "mlp_earlystop = EarlyStopping(patience = 10, min_delta = 0.001, monitor = 'val_acc')\n",
        "\n",
        "path = 'mlp_checkpoint/checkpoint_{epoch:02d}';\n",
        "mlp_checkpoint = ModelCheckpoint(filepath = path,\n",
        "                            verbose = 1,\n",
        "                            monitor = 'val_acc',\n",
        "                            save_freq = 'epoch',\n",
        "                            save_best_only = True,\n",
        "                            save_weights_only = True)\n",
        "\n",
        "mlp.compile(loss = 'binary_crossentropy', metrics = ['acc'], optimizer = 'adam')"
      ],
      "metadata": {
        "id": "Ya28At-Tpji7"
      },
      "execution_count": 63,
      "outputs": []
    },
    {
      "cell_type": "code",
      "source": [
        "mlp_history = mlp.fit(x = x_train, y = y_train, validation_data = (x_val, y_val), epochs = 50)"
      ],
      "metadata": {
        "colab": {
          "base_uri": "https://localhost:8080/"
        },
        "id": "TQdIx2i7pRKA",
        "outputId": "c1532dd0-56d1-4a62-90ce-798037fcaaf2"
      },
      "execution_count": 64,
      "outputs": [
        {
          "output_type": "stream",
          "name": "stdout",
          "text": [
            "Epoch 1/50\n",
            "18/18 [==============================] - 1s 11ms/step - loss: 1.4074 - acc: 0.5054 - val_loss: 0.7071 - val_acc: 0.4857\n",
            "Epoch 2/50\n",
            "18/18 [==============================] - 0s 4ms/step - loss: 0.8129 - acc: 0.4929 - val_loss: 0.6891 - val_acc: 0.4929\n",
            "Epoch 3/50\n",
            "18/18 [==============================] - 0s 4ms/step - loss: 0.7386 - acc: 0.5286 - val_loss: 0.6898 - val_acc: 0.5643\n",
            "Epoch 4/50\n",
            "18/18 [==============================] - 0s 4ms/step - loss: 0.7000 - acc: 0.5482 - val_loss: 0.6842 - val_acc: 0.5857\n",
            "Epoch 5/50\n",
            "18/18 [==============================] - 0s 4ms/step - loss: 0.6821 - acc: 0.5554 - val_loss: 0.6741 - val_acc: 0.6357\n",
            "Epoch 6/50\n",
            "18/18 [==============================] - 0s 4ms/step - loss: 0.6935 - acc: 0.5500 - val_loss: 0.6661 - val_acc: 0.7071\n",
            "Epoch 7/50\n",
            "18/18 [==============================] - 0s 4ms/step - loss: 0.6771 - acc: 0.6196 - val_loss: 0.6609 - val_acc: 0.6857\n",
            "Epoch 8/50\n",
            "18/18 [==============================] - 0s 4ms/step - loss: 0.6594 - acc: 0.6357 - val_loss: 0.6289 - val_acc: 0.7071\n",
            "Epoch 9/50\n",
            "18/18 [==============================] - 0s 5ms/step - loss: 0.6493 - acc: 0.6375 - val_loss: 0.6197 - val_acc: 0.7643\n",
            "Epoch 10/50\n",
            "18/18 [==============================] - 0s 4ms/step - loss: 0.6538 - acc: 0.6393 - val_loss: 0.6159 - val_acc: 0.7214\n",
            "Epoch 11/50\n",
            "18/18 [==============================] - 0s 5ms/step - loss: 0.6274 - acc: 0.6696 - val_loss: 0.5896 - val_acc: 0.7643\n",
            "Epoch 12/50\n",
            "18/18 [==============================] - 0s 5ms/step - loss: 0.6120 - acc: 0.6821 - val_loss: 0.5727 - val_acc: 0.7643\n",
            "Epoch 13/50\n",
            "18/18 [==============================] - 0s 5ms/step - loss: 0.6067 - acc: 0.6804 - val_loss: 0.5443 - val_acc: 0.7857\n",
            "Epoch 14/50\n",
            "18/18 [==============================] - 0s 4ms/step - loss: 0.5943 - acc: 0.7179 - val_loss: 0.5593 - val_acc: 0.7571\n",
            "Epoch 15/50\n",
            "18/18 [==============================] - 0s 5ms/step - loss: 0.5861 - acc: 0.7179 - val_loss: 0.5358 - val_acc: 0.7714\n",
            "Epoch 16/50\n",
            "18/18 [==============================] - 0s 4ms/step - loss: 0.5716 - acc: 0.7143 - val_loss: 0.5420 - val_acc: 0.7571\n",
            "Epoch 17/50\n",
            "18/18 [==============================] - 0s 4ms/step - loss: 0.5742 - acc: 0.7143 - val_loss: 0.5208 - val_acc: 0.7786\n",
            "Epoch 18/50\n",
            "18/18 [==============================] - 0s 4ms/step - loss: 0.5601 - acc: 0.7250 - val_loss: 0.5064 - val_acc: 0.7643\n",
            "Epoch 19/50\n",
            "18/18 [==============================] - 0s 4ms/step - loss: 0.5453 - acc: 0.7125 - val_loss: 0.5080 - val_acc: 0.7571\n",
            "Epoch 20/50\n",
            "18/18 [==============================] - 0s 4ms/step - loss: 0.5456 - acc: 0.7571 - val_loss: 0.4931 - val_acc: 0.7643\n",
            "Epoch 21/50\n",
            "18/18 [==============================] - 0s 5ms/step - loss: 0.5332 - acc: 0.7446 - val_loss: 0.4873 - val_acc: 0.7643\n",
            "Epoch 22/50\n",
            "18/18 [==============================] - 0s 4ms/step - loss: 0.5238 - acc: 0.7446 - val_loss: 0.4954 - val_acc: 0.7714\n",
            "Epoch 23/50\n",
            "18/18 [==============================] - 0s 4ms/step - loss: 0.5426 - acc: 0.7500 - val_loss: 0.4932 - val_acc: 0.7786\n",
            "Epoch 24/50\n",
            "18/18 [==============================] - 0s 4ms/step - loss: 0.5114 - acc: 0.7518 - val_loss: 0.4861 - val_acc: 0.7786\n",
            "Epoch 25/50\n",
            "18/18 [==============================] - 0s 5ms/step - loss: 0.5162 - acc: 0.7536 - val_loss: 0.4983 - val_acc: 0.7643\n",
            "Epoch 26/50\n",
            "18/18 [==============================] - 0s 4ms/step - loss: 0.5217 - acc: 0.7661 - val_loss: 0.4721 - val_acc: 0.7714\n",
            "Epoch 27/50\n",
            "18/18 [==============================] - 0s 4ms/step - loss: 0.5103 - acc: 0.7589 - val_loss: 0.4782 - val_acc: 0.7786\n",
            "Epoch 28/50\n",
            "18/18 [==============================] - 0s 4ms/step - loss: 0.4963 - acc: 0.7768 - val_loss: 0.4721 - val_acc: 0.7571\n",
            "Epoch 29/50\n",
            "18/18 [==============================] - 0s 5ms/step - loss: 0.4976 - acc: 0.7714 - val_loss: 0.4709 - val_acc: 0.7714\n",
            "Epoch 30/50\n",
            "18/18 [==============================] - 0s 4ms/step - loss: 0.4922 - acc: 0.7696 - val_loss: 0.4827 - val_acc: 0.7929\n",
            "Epoch 31/50\n",
            "18/18 [==============================] - 0s 4ms/step - loss: 0.5178 - acc: 0.7429 - val_loss: 0.4787 - val_acc: 0.7857\n",
            "Epoch 32/50\n",
            "18/18 [==============================] - 0s 4ms/step - loss: 0.5018 - acc: 0.7732 - val_loss: 0.4711 - val_acc: 0.7857\n",
            "Epoch 33/50\n",
            "18/18 [==============================] - 0s 4ms/step - loss: 0.4917 - acc: 0.7857 - val_loss: 0.4681 - val_acc: 0.7857\n",
            "Epoch 34/50\n",
            "18/18 [==============================] - 0s 4ms/step - loss: 0.4719 - acc: 0.7786 - val_loss: 0.4804 - val_acc: 0.7643\n",
            "Epoch 35/50\n",
            "18/18 [==============================] - 0s 4ms/step - loss: 0.5070 - acc: 0.7589 - val_loss: 0.4784 - val_acc: 0.7786\n",
            "Epoch 36/50\n",
            "18/18 [==============================] - 0s 4ms/step - loss: 0.4966 - acc: 0.7518 - val_loss: 0.4676 - val_acc: 0.7857\n",
            "Epoch 37/50\n",
            "18/18 [==============================] - 0s 4ms/step - loss: 0.4875 - acc: 0.7786 - val_loss: 0.4705 - val_acc: 0.8000\n",
            "Epoch 38/50\n",
            "18/18 [==============================] - 0s 5ms/step - loss: 0.4883 - acc: 0.7714 - val_loss: 0.4767 - val_acc: 0.7857\n",
            "Epoch 39/50\n",
            "18/18 [==============================] - 0s 4ms/step - loss: 0.4739 - acc: 0.7875 - val_loss: 0.4654 - val_acc: 0.7857\n",
            "Epoch 40/50\n",
            "18/18 [==============================] - 0s 5ms/step - loss: 0.4858 - acc: 0.7786 - val_loss: 0.4597 - val_acc: 0.7857\n",
            "Epoch 41/50\n",
            "18/18 [==============================] - 0s 4ms/step - loss: 0.4693 - acc: 0.7964 - val_loss: 0.4730 - val_acc: 0.7929\n",
            "Epoch 42/50\n",
            "18/18 [==============================] - 0s 5ms/step - loss: 0.4928 - acc: 0.7804 - val_loss: 0.4804 - val_acc: 0.7929\n",
            "Epoch 43/50\n",
            "18/18 [==============================] - 0s 5ms/step - loss: 0.4709 - acc: 0.7768 - val_loss: 0.4781 - val_acc: 0.7857\n",
            "Epoch 44/50\n",
            "18/18 [==============================] - 0s 5ms/step - loss: 0.5007 - acc: 0.7536 - val_loss: 0.4698 - val_acc: 0.7786\n",
            "Epoch 45/50\n",
            "18/18 [==============================] - 0s 4ms/step - loss: 0.4917 - acc: 0.7804 - val_loss: 0.4709 - val_acc: 0.7786\n",
            "Epoch 46/50\n",
            "18/18 [==============================] - 0s 4ms/step - loss: 0.4844 - acc: 0.7839 - val_loss: 0.4665 - val_acc: 0.7786\n",
            "Epoch 47/50\n",
            "18/18 [==============================] - 0s 4ms/step - loss: 0.4739 - acc: 0.7768 - val_loss: 0.4637 - val_acc: 0.7857\n",
            "Epoch 48/50\n",
            "18/18 [==============================] - 0s 4ms/step - loss: 0.4929 - acc: 0.7679 - val_loss: 0.4710 - val_acc: 0.7786\n",
            "Epoch 49/50\n",
            "18/18 [==============================] - 0s 5ms/step - loss: 0.4687 - acc: 0.7821 - val_loss: 0.4850 - val_acc: 0.7857\n",
            "Epoch 50/50\n",
            "18/18 [==============================] - 0s 4ms/step - loss: 0.4865 - acc: 0.7571 - val_loss: 0.4787 - val_acc: 0.7857\n"
          ]
        }
      ]
    },
    {
      "cell_type": "code",
      "source": [
        "l = len(images_test)\n",
        "\n",
        "mean_b, mean_g, mean_r = np.zeros(l), np.zeros(l), np.zeros(l)\n",
        "\n",
        "std_b, std_g, std_r = np.zeros(l), np.zeros(l), np.zeros(l)\n",
        "\n",
        "skew_b, skew_g, skew_r = np.zeros(l), np.zeros(l), np.zeros(l)\n",
        "\n",
        "kurt_b, kurt_g, kurt_r = np.zeros(l), np.zeros(l), np.zeros(l)\n",
        "\n",
        "entropy_b1, entropy_g1, entropy_r1 = np.zeros(l), np.zeros(l), np.zeros(l)\n",
        "\n",
        "\n",
        "for i in range(len(images_test)):\n",
        "    image = images_test[i]\n",
        "    # print(image.shape)\n",
        "    # gray_image = cv2.cvtColor(image, cv2.COLOR_BGR2GRAY)\n",
        "\n",
        "    blue = image[:,:,0]\n",
        "    green = image[:,:,1]\n",
        "    red = image[:,:,2]\n",
        "    \n",
        "    mean1 = (np.sum(image[:,:,0]))/(100*100)\n",
        "    mean2 = (np.sum(image[:,:,1]))/(100*100)\n",
        "    mean3 = (np.sum(image[:,:,2]))/(100*100)\n",
        "    \n",
        "    mean_b[i] = mean1\n",
        "    mean_g[i] = mean2\n",
        "    mean_r[i] = mean3\n",
        "    \n",
        "    sq_diff1 = np.sum(np.square((blue-mean1)))\n",
        "    sq_diff2 = np.sum(np.square((green-mean2)))\n",
        "    sq_diff3 = np.sum(np.square((red-mean3)))\n",
        "    \n",
        "    std_b[i] = math.sqrt(sq_diff1/(100*100))\n",
        "    std_g[i] = math.sqrt(sq_diff2/(100*100))\n",
        "    std_r[i] = math.sqrt(sq_diff3/(100*100))\n",
        "    \n",
        "    sq_skew1 = (np.sum(np.power((blue-mean1),3)))/(100*100)\n",
        "    sq_skew2 = (np.sum(np.power((green-mean2),3)))/(100*100)\n",
        "    sq_skew3 = (np.sum(np.power((red-mean3),3)))/(100*100)\n",
        "    \n",
        "    sq_kurt1 = (np.sum(np.power((blue-mean1),4)))/(100*100)\n",
        "    sq_kurt2 = (np.sum(np.power((green-mean2),4)))/(100*100)\n",
        "    sq_kurt3 = (np.sum(np.power((red-mean3),4)))/(100*100)\n",
        "    \n",
        "    skew_b[i] = sq_skew1/(std_b[i]**3)\n",
        "    skew_g[i] = sq_skew2/(std_g[i]**3)\n",
        "    skew_r[i] = sq_skew3/(std_r[i]**3)\n",
        "    \n",
        "    kurt_b[i] = sq_kurt1/(std_b[i]**4)\n",
        "    kurt_g[i] = sq_kurt2/(std_g[i]**4)\n",
        "    kurt_r[i] = sq_kurt3/(std_r[i]**4)\n",
        "\n",
        "    Pb = np.zeros(256)\n",
        "    Pg = np.zeros(256)\n",
        "    Pr = np.zeros(256)\n",
        "    \n",
        "    for j in range(256):\n",
        "        Pb[j] = (np.count_nonzero(blue == i))/(100*100)\n",
        "        Pg[j] = (np.count_nonzero(green == i))/(100*100)\n",
        "        Pr[j] = (np.count_nonzero(red == i))/(100*100)\n",
        "        \n",
        "    entr1, entr2, entr3 = 0,0,0\n",
        "    for j in range(256):\n",
        "        if Pb[j]>0:\n",
        "            entr1 = entr1 + (Pb[i])*(math.log2(Pb[i]))\n",
        "        if Pg[j]>0:\n",
        "            entr2 = entr2 + (Pg[i])*(math.log2(Pg[i]))\n",
        "        if Pr[j]>0:\n",
        "            entr3 = entr3 + (Pr[i])*(math.log2(Pr[i]))\n",
        "        \n",
        "    entropy_b1[i] = -entr1\n",
        "    entropy_g1[i] = -entr2\n",
        "    entropy_r1[i] = -entr3"
      ],
      "metadata": {
        "id": "4ddzCf2czkQ0"
      },
      "execution_count": 67,
      "outputs": []
    },
    {
      "cell_type": "code",
      "source": [
        "data_test = {\"mean_b\":mean_b, \"mean_g\":mean_g, \"mean_r\":mean_r, \"std_b\":std_b, \"std_g\":std_g, \"std_r\":std_r, \n",
        "        \"skew_b\":skew_b, \"skew_g\":skew_g, \"skew_r\":skew_r, \"kurt_b\":kurt_b, \"kurt_g\":kurt_g, \"kurt_r\":kurt_r,\n",
        "        \"entropy_b\":entropy_b1, \"entropy_g\":entropy_g1, \"entropy_r\":entropy_r1\n",
        "        }\n",
        "\n",
        "df_test = pd.DataFrame(data_test)"
      ],
      "metadata": {
        "id": "LJzdrJ00z6jx"
      },
      "execution_count": 68,
      "outputs": []
    },
    {
      "cell_type": "code",
      "source": [
        "x_test = df_test.to_numpy()"
      ],
      "metadata": {
        "id": "9-C8ni-30BLV"
      },
      "execution_count": 69,
      "outputs": []
    },
    {
      "cell_type": "code",
      "source": [
        "MyPredictions = mlp.predict(x_test,verbose=0)"
      ],
      "metadata": {
        "id": "uOm7w7slph__"
      },
      "execution_count": 70,
      "outputs": []
    },
    {
      "cell_type": "code",
      "source": [
        "print(MyPredictions.shape)\n",
        "MyPredictions"
      ],
      "metadata": {
        "colab": {
          "base_uri": "https://localhost:8080/"
        },
        "id": "9nPs-A2y1Yhf",
        "outputId": "07fd7311-fa88-466e-9303-d38a5a35735f"
      },
      "execution_count": 76,
      "outputs": [
        {
          "output_type": "stream",
          "name": "stdout",
          "text": [
            "(300, 2)\n"
          ]
        },
        {
          "output_type": "execute_result",
          "data": {
            "text/plain": [
              "array([[1.61224991e-01, 8.26812029e-01],\n",
              "       [3.02359730e-01, 6.72474802e-01],\n",
              "       [7.19635487e-01, 2.69103438e-01],\n",
              "       [4.81570095e-01, 5.06352663e-01],\n",
              "       [1.00000000e+00, 4.38130684e-25],\n",
              "       [3.96594226e-01, 5.90505838e-01],\n",
              "       [9.98158276e-01, 1.77929841e-03],\n",
              "       [9.80191112e-01, 1.75964665e-02],\n",
              "       [3.04557085e-01, 6.80454612e-01],\n",
              "       [9.61109400e-02, 8.99119020e-01],\n",
              "       [9.52133119e-01, 4.43499535e-02],\n",
              "       [9.07476187e-01, 8.11643079e-02],\n",
              "       [4.91975427e-01, 4.98236567e-01],\n",
              "       [3.50214660e-01, 6.29788876e-01],\n",
              "       [5.56381941e-01, 4.30319637e-01],\n",
              "       [3.08448642e-01, 6.75457418e-01],\n",
              "       [9.82796311e-01, 1.54038621e-02],\n",
              "       [3.75026435e-01, 6.08508110e-01],\n",
              "       [5.23233354e-01, 4.70490694e-01],\n",
              "       [9.99999523e-01, 5.47646152e-07],\n",
              "       [6.34839892e-01, 3.53491247e-01],\n",
              "       [7.01079607e-01, 2.88024366e-01],\n",
              "       [9.27353799e-01, 6.63472563e-02],\n",
              "       [4.14903760e-01, 5.72530389e-01],\n",
              "       [3.87693763e-01, 5.96986234e-01],\n",
              "       [3.15160125e-01, 6.66547835e-01],\n",
              "       [2.46778518e-01, 7.23478138e-01],\n",
              "       [4.10011858e-01, 5.87448001e-01],\n",
              "       [2.17371792e-01, 7.61970520e-01],\n",
              "       [2.23945916e-01, 7.60803044e-01],\n",
              "       [6.18779302e-01, 3.66781414e-01],\n",
              "       [9.98159230e-01, 1.71478523e-03],\n",
              "       [3.79232764e-01, 6.04656339e-01],\n",
              "       [9.68301833e-01, 2.88422368e-02],\n",
              "       [6.54924095e-01, 3.34079176e-01],\n",
              "       [9.99996781e-01, 3.70552812e-06],\n",
              "       [2.32134879e-01, 7.51001060e-01],\n",
              "       [3.04978549e-01, 6.81583464e-01],\n",
              "       [9.07073438e-01, 8.71708840e-02],\n",
              "       [8.26718211e-01, 1.67042181e-01],\n",
              "       [6.49942935e-01, 3.35326791e-01],\n",
              "       [7.88039804e-01, 2.07519189e-01],\n",
              "       [7.82847166e-01, 2.06881136e-01],\n",
              "       [9.02050614e-01, 8.97187665e-02],\n",
              "       [1.93084702e-01, 7.99523592e-01],\n",
              "       [3.12776625e-01, 6.63100064e-01],\n",
              "       [2.53505141e-01, 7.17058182e-01],\n",
              "       [2.45772302e-01, 7.23862171e-01],\n",
              "       [4.37451482e-01, 5.55083156e-01],\n",
              "       [2.23308861e-01, 7.66964138e-01],\n",
              "       [7.56157398e-01, 2.39935011e-01],\n",
              "       [2.28996947e-01, 7.56944418e-01],\n",
              "       [3.83915812e-01, 6.01705790e-01],\n",
              "       [3.58572662e-01, 6.23124182e-01],\n",
              "       [5.05212247e-01, 4.71297383e-01],\n",
              "       [7.96153545e-01, 1.91215724e-01],\n",
              "       [2.73331285e-01, 7.05908120e-01],\n",
              "       [8.86273503e-01, 1.02928080e-01],\n",
              "       [8.33466589e-01, 1.54914200e-01],\n",
              "       [8.16033065e-01, 1.80927783e-01],\n",
              "       [1.17748596e-01, 8.80180717e-01],\n",
              "       [8.60179842e-01, 1.29997417e-01],\n",
              "       [4.33435380e-01, 5.57490468e-01],\n",
              "       [9.89173055e-01, 9.81419533e-03],\n",
              "       [9.80370998e-01, 1.80876907e-02],\n",
              "       [1.67557865e-01, 8.20092678e-01],\n",
              "       [3.06892633e-01, 6.68964863e-01],\n",
              "       [9.87069726e-01, 1.14029758e-02],\n",
              "       [3.11914325e-01, 6.62908494e-01],\n",
              "       [2.68801779e-01, 7.18199849e-01],\n",
              "       [4.00037915e-01, 5.88034034e-01],\n",
              "       [3.78491998e-01, 6.05301261e-01],\n",
              "       [2.86595613e-01, 6.98152363e-01],\n",
              "       [8.46368968e-01, 1.42235085e-01],\n",
              "       [6.43979549e-01, 3.55130225e-01],\n",
              "       [2.81596631e-01, 6.89638317e-01],\n",
              "       [9.38302875e-01, 5.87563552e-02],\n",
              "       [3.52853060e-01, 6.36696398e-01],\n",
              "       [2.65426964e-01, 7.05322564e-01],\n",
              "       [8.32508087e-01, 1.60370201e-01],\n",
              "       [2.55192131e-01, 7.15380311e-01],\n",
              "       [2.49236956e-01, 7.22398162e-01],\n",
              "       [1.00000000e+00, 7.29865421e-15],\n",
              "       [6.86516225e-01, 3.12947690e-01],\n",
              "       [2.88599253e-01, 7.00214326e-01],\n",
              "       [9.88643706e-01, 9.74442437e-03],\n",
              "       [8.33103538e-01, 1.65395617e-01],\n",
              "       [1.61743626e-01, 8.31316173e-01],\n",
              "       [2.55818069e-01, 7.39949942e-01],\n",
              "       [3.45133871e-01, 6.40115142e-01],\n",
              "       [2.51473129e-01, 7.40284920e-01],\n",
              "       [2.96392977e-01, 6.77294493e-01],\n",
              "       [8.10483336e-01, 1.77329689e-01],\n",
              "       [4.13134396e-01, 5.74253023e-01],\n",
              "       [4.11655068e-01, 5.79149902e-01],\n",
              "       [3.16431046e-01, 6.70414209e-01],\n",
              "       [7.86722183e-01, 2.08663747e-01],\n",
              "       [5.69646478e-01, 4.22393650e-01],\n",
              "       [2.68952906e-01, 7.28023767e-01],\n",
              "       [9.94522929e-01, 6.05678139e-03],\n",
              "       [4.11464244e-01, 5.74856222e-01],\n",
              "       [8.53848577e-01, 1.34159476e-01],\n",
              "       [6.80064559e-01, 3.21368545e-01],\n",
              "       [9.05255973e-01, 9.74391550e-02],\n",
              "       [3.57099414e-01, 6.24219656e-01],\n",
              "       [3.09678525e-01, 6.80095732e-01],\n",
              "       [3.12434852e-01, 6.71384037e-01],\n",
              "       [9.66650248e-01, 3.11449878e-02],\n",
              "       [9.56812739e-01, 5.29800616e-02],\n",
              "       [4.34770495e-01, 5.57944298e-01],\n",
              "       [4.66242433e-01, 5.35815895e-01],\n",
              "       [9.36814785e-01, 5.88234253e-02],\n",
              "       [7.45975912e-01, 2.51252234e-01],\n",
              "       [1.73553586e-01, 8.21448803e-01],\n",
              "       [6.41944170e-01, 3.60314965e-01],\n",
              "       [2.89130628e-01, 7.01807916e-01],\n",
              "       [2.95730352e-01, 6.85687304e-01],\n",
              "       [4.36578155e-01, 5.56899786e-01],\n",
              "       [3.36841524e-01, 6.47639930e-01],\n",
              "       [4.75413144e-01, 5.27238786e-01],\n",
              "       [3.92951667e-01, 5.99306226e-01],\n",
              "       [4.40119803e-01, 5.53727567e-01],\n",
              "       [6.85670257e-01, 3.25825959e-01],\n",
              "       [4.00411963e-01, 5.96418738e-01],\n",
              "       [5.80797076e-01, 4.30275947e-01],\n",
              "       [5.75326443e-01, 4.35783476e-01],\n",
              "       [6.65968895e-01, 3.45492184e-01],\n",
              "       [4.49434221e-01, 5.46235263e-01],\n",
              "       [3.85319114e-01, 6.00475967e-01],\n",
              "       [4.56788868e-01, 5.39631188e-01],\n",
              "       [3.90683174e-01, 5.99691093e-01],\n",
              "       [4.45667088e-01, 5.50607860e-01],\n",
              "       [4.42977667e-01, 5.56409478e-01],\n",
              "       [2.44209096e-01, 7.37834632e-01],\n",
              "       [3.63108307e-01, 6.26467347e-01],\n",
              "       [3.94918025e-01, 5.97404718e-01],\n",
              "       [3.40449601e-01, 6.41151071e-01],\n",
              "       [1.00000000e+00, 1.48258517e-15],\n",
              "       [3.25763911e-01, 6.54349566e-01],\n",
              "       [9.26347673e-01, 7.26992041e-02],\n",
              "       [2.80072749e-01, 6.90191329e-01],\n",
              "       [4.01245832e-01, 5.82271814e-01],\n",
              "       [9.65989590e-01, 3.09382640e-02],\n",
              "       [3.03855360e-01, 6.80558085e-01],\n",
              "       [1.21573664e-01, 8.62861931e-01],\n",
              "       [4.17649209e-01, 5.68250895e-01],\n",
              "       [4.34281528e-01, 5.59370399e-01],\n",
              "       [2.73015022e-01, 7.14265347e-01],\n",
              "       [7.08249629e-01, 2.96457410e-01],\n",
              "       [3.58946353e-01, 6.26046836e-01],\n",
              "       [1.40612096e-01, 8.51758361e-01],\n",
              "       [9.90506768e-01, 8.97783600e-03],\n",
              "       [3.93972725e-01, 5.95730782e-01],\n",
              "       [2.59848207e-01, 7.09311128e-01],\n",
              "       [3.61195356e-01, 6.17517710e-01],\n",
              "       [4.29069668e-01, 5.62199771e-01],\n",
              "       [1.00000000e+00, 1.30814115e-13],\n",
              "       [7.74989545e-01, 2.21409559e-01],\n",
              "       [3.52029234e-01, 6.26793683e-01],\n",
              "       [3.21891040e-01, 6.59409285e-01],\n",
              "       [9.99999881e-01, 9.66536291e-08],\n",
              "       [3.19356143e-01, 6.62588656e-01],\n",
              "       [3.31678778e-01, 6.57496035e-01],\n",
              "       [7.72481322e-01, 2.26039797e-01],\n",
              "       [1.50010064e-01, 8.43202472e-01],\n",
              "       [7.68516004e-01, 2.26592541e-01],\n",
              "       [2.82117516e-01, 7.04741895e-01],\n",
              "       [3.58527035e-01, 6.26329064e-01],\n",
              "       [3.07264984e-01, 6.67878151e-01],\n",
              "       [8.90312850e-01, 1.01278067e-01],\n",
              "       [8.23957920e-02, 9.13665116e-01],\n",
              "       [5.55743217e-01, 4.50051248e-01],\n",
              "       [3.16297561e-01, 6.63802922e-01],\n",
              "       [3.28597873e-01, 6.52283788e-01],\n",
              "       [1.89432487e-01, 8.01203072e-01],\n",
              "       [2.11406797e-01, 7.79446959e-01],\n",
              "       [3.27512145e-01, 6.59935832e-01],\n",
              "       [3.92505527e-01, 5.92411578e-01],\n",
              "       [3.01445067e-01, 6.78315639e-01],\n",
              "       [4.59985584e-01, 5.28614938e-01],\n",
              "       [9.30759966e-01, 6.36414066e-02],\n",
              "       [1.83429748e-01, 8.05678070e-01],\n",
              "       [4.51668471e-01, 5.45689583e-01],\n",
              "       [2.56492406e-01, 7.28873849e-01],\n",
              "       [2.77698785e-01, 6.92310095e-01],\n",
              "       [3.11253220e-01, 6.72053039e-01],\n",
              "       [3.48534733e-01, 6.40342593e-01],\n",
              "       [8.77150714e-01, 1.16695821e-01],\n",
              "       [6.05819464e-01, 3.85956317e-01],\n",
              "       [3.34888786e-01, 6.49097681e-01],\n",
              "       [2.77242333e-01, 7.09837258e-01],\n",
              "       [3.77774954e-01, 6.18089020e-01],\n",
              "       [9.29209113e-01, 6.10165931e-02],\n",
              "       [2.94670373e-01, 6.90954208e-01],\n",
              "       [9.99999762e-01, 2.85083303e-07],\n",
              "       [1.90772787e-01, 8.00351262e-01],\n",
              "       [4.76093411e-01, 5.20085931e-01],\n",
              "       [4.46707904e-01, 5.45276701e-01],\n",
              "       [2.71466553e-01, 7.03471959e-01],\n",
              "       [4.22541618e-01, 5.67402244e-01],\n",
              "       [3.14069062e-01, 6.66232824e-01],\n",
              "       [9.74414408e-01, 2.38262825e-02],\n",
              "       [2.32927024e-01, 7.53616273e-01],\n",
              "       [3.33363801e-01, 6.53042495e-01],\n",
              "       [9.97553885e-01, 2.29826733e-03],\n",
              "       [4.34198678e-01, 5.64319789e-01],\n",
              "       [7.92697132e-01, 2.00056225e-01],\n",
              "       [8.31309199e-01, 1.60771102e-01],\n",
              "       [5.38617611e-01, 4.47298437e-01],\n",
              "       [1.00000000e+00, 1.70363799e-12],\n",
              "       [3.22453916e-01, 6.63243115e-01],\n",
              "       [4.36809242e-01, 5.59920073e-01],\n",
              "       [3.21940303e-01, 6.66140318e-01],\n",
              "       [3.05944860e-01, 6.76290751e-01],\n",
              "       [3.54794085e-01, 6.38689399e-01],\n",
              "       [1.18297867e-01, 8.74019444e-01],\n",
              "       [5.98741412e-01, 3.93897891e-01],\n",
              "       [9.05533731e-01, 8.61622319e-02],\n",
              "       [9.64061081e-01, 3.17676403e-02],\n",
              "       [3.32138717e-01, 6.45948052e-01],\n",
              "       [9.55699265e-01, 4.03210670e-02],\n",
              "       [3.21529150e-01, 6.63367331e-01],\n",
              "       [3.82618308e-01, 6.06403828e-01],\n",
              "       [5.81430554e-01, 4.04969513e-01],\n",
              "       [2.99233645e-01, 6.87138855e-01],\n",
              "       [2.57548332e-01, 7.19054282e-01],\n",
              "       [3.98302704e-01, 5.87905765e-01],\n",
              "       [1.39732465e-01, 8.48364234e-01],\n",
              "       [5.15405238e-01, 4.76837307e-01],\n",
              "       [8.61368537e-01, 1.31447285e-01],\n",
              "       [4.91018653e-01, 4.97302979e-01],\n",
              "       [4.79694515e-01, 5.09602308e-01],\n",
              "       [8.95039022e-01, 9.66420844e-02],\n",
              "       [8.07070911e-01, 1.83438405e-01],\n",
              "       [8.61252248e-01, 1.30697787e-01],\n",
              "       [3.06176484e-01, 6.75611973e-01],\n",
              "       [1.66022897e-01, 8.22755277e-01],\n",
              "       [3.35650504e-01, 6.48006022e-01],\n",
              "       [8.81659269e-01, 1.07315235e-01],\n",
              "       [3.19742531e-01, 6.56049132e-01],\n",
              "       [3.80473584e-01, 6.05507553e-01],\n",
              "       [8.09177399e-01, 1.78953260e-01],\n",
              "       [7.66303778e-01, 2.24503472e-01],\n",
              "       [9.76447523e-01, 2.06045266e-02],\n",
              "       [3.50389808e-01, 6.30444765e-01],\n",
              "       [9.42255020e-01, 5.37652709e-02],\n",
              "       [3.64834517e-01, 6.16965175e-01],\n",
              "       [3.00015479e-01, 6.85127854e-01],\n",
              "       [2.43104905e-01, 7.39349544e-01],\n",
              "       [3.70816827e-01, 6.11553669e-01],\n",
              "       [6.64446831e-01, 3.23617876e-01],\n",
              "       [4.73397970e-01, 5.13838470e-01],\n",
              "       [9.99397516e-01, 6.04947738e-04],\n",
              "       [2.15102226e-01, 7.54469812e-01],\n",
              "       [3.34393203e-01, 6.57188237e-01],\n",
              "       [1.49613842e-01, 8.21401894e-01],\n",
              "       [3.80974263e-01, 6.02693081e-01],\n",
              "       [2.77541637e-01, 7.02914178e-01],\n",
              "       [9.97847199e-01, 2.00997293e-03],\n",
              "       [2.77971417e-01, 7.06079483e-01],\n",
              "       [4.23441201e-01, 5.71362495e-01],\n",
              "       [9.26549017e-01, 6.08518533e-02],\n",
              "       [6.19373620e-01, 3.64657223e-01],\n",
              "       [2.70767897e-01, 7.00061023e-01],\n",
              "       [2.71503657e-01, 7.18041241e-01],\n",
              "       [2.39610791e-01, 7.29039669e-01],\n",
              "       [3.29758763e-01, 6.56197488e-01],\n",
              "       [2.91875303e-01, 6.94716394e-01],\n",
              "       [3.31314534e-01, 6.46424294e-01],\n",
              "       [4.08606231e-01, 5.78973234e-01],\n",
              "       [4.37434793e-01, 5.54507136e-01],\n",
              "       [2.79025912e-01, 7.02925861e-01],\n",
              "       [2.58806348e-01, 7.25849450e-01],\n",
              "       [7.56529927e-01, 2.35906109e-01],\n",
              "       [9.48589683e-01, 4.48506325e-02],\n",
              "       [3.29214692e-01, 6.50590181e-01],\n",
              "       [4.38723534e-01, 5.53121030e-01],\n",
              "       [2.70408183e-01, 7.00881004e-01],\n",
              "       [8.89203787e-01, 1.00201622e-01],\n",
              "       [2.51298398e-01, 7.25464165e-01],\n",
              "       [2.05729276e-01, 7.71461070e-01],\n",
              "       [2.14457154e-01, 7.74408758e-01],\n",
              "       [9.99659538e-01, 3.47547379e-04],\n",
              "       [8.39487731e-01, 1.48889795e-01],\n",
              "       [3.99617285e-01, 6.00159764e-01],\n",
              "       [2.59811282e-01, 7.26577342e-01],\n",
              "       [3.53151262e-01, 6.27197862e-01],\n",
              "       [1.81211755e-01, 8.00803244e-01],\n",
              "       [3.16536874e-01, 6.66161418e-01],\n",
              "       [3.00588518e-01, 6.82105303e-01],\n",
              "       [3.87687325e-01, 6.04540110e-01],\n",
              "       [3.82043332e-01, 6.02860272e-01],\n",
              "       [3.44827563e-01, 6.45843327e-01],\n",
              "       [9.17728126e-01, 7.65090287e-02],\n",
              "       [9.93329167e-01, 6.03926415e-03],\n",
              "       [2.62938142e-01, 7.20534265e-01],\n",
              "       [2.52779931e-01, 7.20509291e-01],\n",
              "       [7.82121897e-01, 2.04754993e-01],\n",
              "       [2.22044066e-01, 7.68464088e-01],\n",
              "       [9.73232269e-01, 2.45191604e-02]], dtype=float32)"
            ]
          },
          "metadata": {},
          "execution_count": 76
        }
      ]
    },
    {
      "cell_type": "code",
      "source": [
        "myPreds = np.argmax(MyPredictions, axis = 1)"
      ],
      "metadata": {
        "id": "Yb7-rsH23FMs"
      },
      "execution_count": 81,
      "outputs": []
    },
    {
      "cell_type": "code",
      "source": [
        "Outputs = np.array((300, 1))\n",
        "\n",
        "Outputs[myPreds[:] == 0] = \"Non_raveling\"\n",
        "Outputs"
      ],
      "metadata": {
        "colab": {
          "base_uri": "https://localhost:8080/",
          "height": 217
        },
        "id": "KHMSYxgO5CNe",
        "outputId": "721c8089-652f-4e01-e939-3f2e34b406c0"
      },
      "execution_count": 89,
      "outputs": [
        {
          "output_type": "error",
          "ename": "IndexError",
          "evalue": "ignored",
          "traceback": [
            "\u001b[0;31m---------------------------------------------------------------------------\u001b[0m",
            "\u001b[0;31mIndexError\u001b[0m                                Traceback (most recent call last)",
            "\u001b[0;32m<ipython-input-89-1a90dbc6a6da>\u001b[0m in \u001b[0;36m<module>\u001b[0;34m()\u001b[0m\n\u001b[1;32m      1\u001b[0m \u001b[0mOutputs\u001b[0m \u001b[0;34m=\u001b[0m \u001b[0mnp\u001b[0m\u001b[0;34m.\u001b[0m\u001b[0marray\u001b[0m\u001b[0;34m(\u001b[0m\u001b[0;34m(\u001b[0m\u001b[0;36m300\u001b[0m\u001b[0;34m,\u001b[0m \u001b[0;36m1\u001b[0m\u001b[0;34m)\u001b[0m\u001b[0;34m)\u001b[0m\u001b[0;34m\u001b[0m\u001b[0;34m\u001b[0m\u001b[0m\n\u001b[1;32m      2\u001b[0m \u001b[0;34m\u001b[0m\u001b[0m\n\u001b[0;32m----> 3\u001b[0;31m \u001b[0mOutputs\u001b[0m\u001b[0;34m[\u001b[0m\u001b[0mmyPreds\u001b[0m\u001b[0;34m[\u001b[0m\u001b[0;34m:\u001b[0m\u001b[0;34m]\u001b[0m \u001b[0;34m==\u001b[0m \u001b[0;36m0\u001b[0m\u001b[0;34m]\u001b[0m \u001b[0;34m=\u001b[0m \u001b[0;34m\"Non_raveling\"\u001b[0m\u001b[0;34m\u001b[0m\u001b[0;34m\u001b[0m\u001b[0m\n\u001b[0m\u001b[1;32m      4\u001b[0m \u001b[0mOutputs\u001b[0m\u001b[0;34m\u001b[0m\u001b[0;34m\u001b[0m\u001b[0m\n",
            "\u001b[0;31mIndexError\u001b[0m: boolean index did not match indexed array along dimension 0; dimension is 2 but corresponding boolean dimension is 300"
          ]
        }
      ]
    },
    {
      "cell_type": "code",
      "source": [
        ""
      ],
      "metadata": {
        "colab": {
          "base_uri": "https://localhost:8080/",
          "height": 131
        },
        "id": "eAKVSJA85_Zx",
        "outputId": "d45f6735-ef68-4811-e8fb-50abbcf7cbf3"
      },
      "execution_count": 85,
      "outputs": [
        {
          "output_type": "error",
          "ename": "SyntaxError",
          "evalue": "ignored",
          "traceback": [
            "\u001b[0;36m  File \u001b[0;32m\"<ipython-input-85-0b2b9f073cc0>\"\u001b[0;36m, line \u001b[0;32m1\u001b[0m\n\u001b[0;31m    1 > 2 ? 3 : 2\u001b[0m\n\u001b[0m          ^\u001b[0m\n\u001b[0;31mSyntaxError\u001b[0m\u001b[0;31m:\u001b[0m invalid syntax\n"
          ]
        }
      ]
    },
    {
      "cell_type": "code",
      "source": [
        ""
      ],
      "metadata": {
        "id": "kXfAi2Ve6Phj"
      },
      "execution_count": null,
      "outputs": []
    }
  ]
}