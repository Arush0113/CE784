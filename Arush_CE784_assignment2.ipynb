{
  "nbformat": 4,
  "nbformat_minor": 0,
  "metadata": {
    "colab": {
      "name": "Arush CE784 assignment2.ipynb",
      "provenance": [],
      "collapsed_sections": [],
      "include_colab_link": true
    },
    "kernelspec": {
      "name": "python3",
      "display_name": "Python 3"
    },
    "language_info": {
      "name": "python"
    },
    "accelerator": "GPU"
  },
  "cells": [
    {
      "cell_type": "markdown",
      "metadata": {
        "id": "view-in-github",
        "colab_type": "text"
      },
      "source": [
        "<a href=\"https://colab.research.google.com/github/Arush0113/CE784/blob/main/Arush_CE784_assignment2.ipynb\" target=\"_parent\"><img src=\"https://colab.research.google.com/assets/colab-badge.svg\" alt=\"Open In Colab\"/></a>"
      ]
    },
    {
      "cell_type": "markdown",
      "source": [
        "### Importing the necessary libraries"
      ],
      "metadata": {
        "id": "XzmEYhM0vxUr"
      }
    },
    {
      "cell_type": "code",
      "execution_count": 158,
      "metadata": {
        "id": "IsLuv7T7EIZy"
      },
      "outputs": [],
      "source": [
        "import numpy as np\n",
        "import pandas as pd\n",
        "import matplotlib.pyplot as plt\n",
        "import datetime\n",
        "import time"
      ]
    },
    {
      "cell_type": "markdown",
      "source": [
        "### Connecting to google drive (Since I have used Colab)"
      ],
      "metadata": {
        "id": "rCWGeIE-v4Yx"
      }
    },
    {
      "cell_type": "code",
      "source": [
        "from google.colab import drive\n",
        "drive.mount('/content/drive')"
      ],
      "metadata": {
        "id": "ydR1EZVq5b5x",
        "outputId": "f84770dd-8cbd-4257-e934-b5f3969b8fc9",
        "colab": {
          "base_uri": "https://localhost:8080/"
        }
      },
      "execution_count": 143,
      "outputs": [
        {
          "output_type": "stream",
          "name": "stdout",
          "text": [
            "Drive already mounted at /content/drive; to attempt to forcibly remount, call drive.mount(\"/content/drive\", force_remount=True).\n"
          ]
        }
      ]
    },
    {
      "cell_type": "markdown",
      "source": [
        "### Question 1"
      ],
      "metadata": {
        "id": "yOLRaDy9k1XM"
      }
    },
    {
      "cell_type": "code",
      "source": [
        "df = pd.read_csv('/content/drive/MyDrive/ce784 assignment 2 dataset/cleaned.csv')"
      ],
      "metadata": {
        "id": "1uJoEHwpEhYO"
      },
      "execution_count": 144,
      "outputs": []
    },
    {
      "cell_type": "code",
      "source": [
        "# Printing the 1st 50 elements\n",
        "df.head(50)"
      ],
      "metadata": {
        "colab": {
          "base_uri": "https://localhost:8080/",
          "height": 1000
        },
        "id": "_iQ_tF6uEsVH",
        "outputId": "397c0094-739b-4a5b-c1d3-23d65ee6659b"
      },
      "execution_count": 145,
      "outputs": [
        {
          "output_type": "execute_result",
          "data": {
            "text/html": [
              "\n",
              "  <div id=\"df-fe24170e-f583-47f0-b48f-fc68ff5c0169\">\n",
              "    <div class=\"colab-df-container\">\n",
              "      <div>\n",
              "<style scoped>\n",
              "    .dataframe tbody tr th:only-of-type {\n",
              "        vertical-align: middle;\n",
              "    }\n",
              "\n",
              "    .dataframe tbody tr th {\n",
              "        vertical-align: top;\n",
              "    }\n",
              "\n",
              "    .dataframe thead th {\n",
              "        text-align: right;\n",
              "    }\n",
              "</style>\n",
              "<table border=\"1\" class=\"dataframe\">\n",
              "  <thead>\n",
              "    <tr style=\"text-align: right;\">\n",
              "      <th></th>\n",
              "      <th>user</th>\n",
              "      <th>timestamp</th>\n",
              "      <th>x</th>\n",
              "      <th>y</th>\n",
              "      <th>z</th>\n",
              "      <th>class</th>\n",
              "    </tr>\n",
              "  </thead>\n",
              "  <tbody>\n",
              "    <tr>\n",
              "      <th>0</th>\n",
              "      <td>a2d80ed662f34d32951eb1c6ed076c313e358b73</td>\n",
              "      <td>2018-06-04 16:26:55.053</td>\n",
              "      <td>0.78</td>\n",
              "      <td>-9.13</td>\n",
              "      <td>-3.74</td>\n",
              "      <td>bus</td>\n",
              "    </tr>\n",
              "    <tr>\n",
              "      <th>1</th>\n",
              "      <td>a2d80ed662f34d32951eb1c6ed076c313e358b73</td>\n",
              "      <td>2018-06-04 16:26:55.111</td>\n",
              "      <td>0.79</td>\n",
              "      <td>-9.11</td>\n",
              "      <td>-3.75</td>\n",
              "      <td>bus</td>\n",
              "    </tr>\n",
              "    <tr>\n",
              "      <th>2</th>\n",
              "      <td>a2d80ed662f34d32951eb1c6ed076c313e358b73</td>\n",
              "      <td>2018-06-04 16:26:55.169</td>\n",
              "      <td>0.80</td>\n",
              "      <td>-9.12</td>\n",
              "      <td>-3.75</td>\n",
              "      <td>bus</td>\n",
              "    </tr>\n",
              "    <tr>\n",
              "      <th>3</th>\n",
              "      <td>a2d80ed662f34d32951eb1c6ed076c313e358b73</td>\n",
              "      <td>2018-06-04 16:26:55.228</td>\n",
              "      <td>0.78</td>\n",
              "      <td>-9.14</td>\n",
              "      <td>-3.76</td>\n",
              "      <td>bus</td>\n",
              "    </tr>\n",
              "    <tr>\n",
              "      <th>4</th>\n",
              "      <td>a2d80ed662f34d32951eb1c6ed076c313e358b73</td>\n",
              "      <td>2018-06-04 16:26:55.286</td>\n",
              "      <td>0.83</td>\n",
              "      <td>-9.12</td>\n",
              "      <td>-3.80</td>\n",
              "      <td>bus</td>\n",
              "    </tr>\n",
              "    <tr>\n",
              "      <th>5</th>\n",
              "      <td>a2d80ed662f34d32951eb1c6ed076c313e358b73</td>\n",
              "      <td>2018-06-04 16:26:55.344</td>\n",
              "      <td>0.77</td>\n",
              "      <td>-9.13</td>\n",
              "      <td>-3.72</td>\n",
              "      <td>bus</td>\n",
              "    </tr>\n",
              "    <tr>\n",
              "      <th>6</th>\n",
              "      <td>a2d80ed662f34d32951eb1c6ed076c313e358b73</td>\n",
              "      <td>2018-06-04 16:26:55.403</td>\n",
              "      <td>0.80</td>\n",
              "      <td>-9.14</td>\n",
              "      <td>-3.76</td>\n",
              "      <td>bus</td>\n",
              "    </tr>\n",
              "    <tr>\n",
              "      <th>7</th>\n",
              "      <td>a2d80ed662f34d32951eb1c6ed076c313e358b73</td>\n",
              "      <td>2018-06-04 16:26:55.460</td>\n",
              "      <td>0.77</td>\n",
              "      <td>-9.12</td>\n",
              "      <td>-3.73</td>\n",
              "      <td>bus</td>\n",
              "    </tr>\n",
              "    <tr>\n",
              "      <th>8</th>\n",
              "      <td>a2d80ed662f34d32951eb1c6ed076c313e358b73</td>\n",
              "      <td>2018-06-04 16:26:55.519</td>\n",
              "      <td>0.77</td>\n",
              "      <td>-9.14</td>\n",
              "      <td>-3.73</td>\n",
              "      <td>bus</td>\n",
              "    </tr>\n",
              "    <tr>\n",
              "      <th>9</th>\n",
              "      <td>a2d80ed662f34d32951eb1c6ed076c313e358b73</td>\n",
              "      <td>2018-06-04 16:26:55.578</td>\n",
              "      <td>0.77</td>\n",
              "      <td>-9.10</td>\n",
              "      <td>-3.76</td>\n",
              "      <td>bus</td>\n",
              "    </tr>\n",
              "    <tr>\n",
              "      <th>10</th>\n",
              "      <td>a2d80ed662f34d32951eb1c6ed076c313e358b73</td>\n",
              "      <td>2018-06-04 16:26:55.635</td>\n",
              "      <td>0.75</td>\n",
              "      <td>-9.15</td>\n",
              "      <td>-3.73</td>\n",
              "      <td>bus</td>\n",
              "    </tr>\n",
              "    <tr>\n",
              "      <th>11</th>\n",
              "      <td>a2d80ed662f34d32951eb1c6ed076c313e358b73</td>\n",
              "      <td>2018-06-04 16:26:55.692</td>\n",
              "      <td>0.80</td>\n",
              "      <td>-9.10</td>\n",
              "      <td>-3.74</td>\n",
              "      <td>bus</td>\n",
              "    </tr>\n",
              "    <tr>\n",
              "      <th>12</th>\n",
              "      <td>a2d80ed662f34d32951eb1c6ed076c313e358b73</td>\n",
              "      <td>2018-06-04 16:26:55.933</td>\n",
              "      <td>0.80</td>\n",
              "      <td>-9.12</td>\n",
              "      <td>-3.76</td>\n",
              "      <td>bus</td>\n",
              "    </tr>\n",
              "    <tr>\n",
              "      <th>13</th>\n",
              "      <td>a2d80ed662f34d32951eb1c6ed076c313e358b73</td>\n",
              "      <td>2018-06-04 16:26:55.934</td>\n",
              "      <td>0.78</td>\n",
              "      <td>-9.16</td>\n",
              "      <td>-3.72</td>\n",
              "      <td>bus</td>\n",
              "    </tr>\n",
              "    <tr>\n",
              "      <th>14</th>\n",
              "      <td>a2d80ed662f34d32951eb1c6ed076c313e358b73</td>\n",
              "      <td>2018-06-04 16:26:56.222</td>\n",
              "      <td>0.81</td>\n",
              "      <td>-9.10</td>\n",
              "      <td>-3.76</td>\n",
              "      <td>bus</td>\n",
              "    </tr>\n",
              "    <tr>\n",
              "      <th>15</th>\n",
              "      <td>a2d80ed662f34d32951eb1c6ed076c313e358b73</td>\n",
              "      <td>2018-06-04 16:26:56.223</td>\n",
              "      <td>0.79</td>\n",
              "      <td>-9.16</td>\n",
              "      <td>-3.77</td>\n",
              "      <td>bus</td>\n",
              "    </tr>\n",
              "    <tr>\n",
              "      <th>16</th>\n",
              "      <td>a2d80ed662f34d32951eb1c6ed076c313e358b73</td>\n",
              "      <td>2018-06-04 16:26:56.224</td>\n",
              "      <td>0.78</td>\n",
              "      <td>-9.12</td>\n",
              "      <td>-3.72</td>\n",
              "      <td>bus</td>\n",
              "    </tr>\n",
              "    <tr>\n",
              "      <th>17</th>\n",
              "      <td>a2d80ed662f34d32951eb1c6ed076c313e358b73</td>\n",
              "      <td>2018-06-04 16:26:57.094</td>\n",
              "      <td>0.81</td>\n",
              "      <td>-9.12</td>\n",
              "      <td>-3.77</td>\n",
              "      <td>bus</td>\n",
              "    </tr>\n",
              "    <tr>\n",
              "      <th>18</th>\n",
              "      <td>a2d80ed662f34d32951eb1c6ed076c313e358b73</td>\n",
              "      <td>2018-06-04 16:26:57.095</td>\n",
              "      <td>0.79</td>\n",
              "      <td>-9.13</td>\n",
              "      <td>-3.74</td>\n",
              "      <td>bus</td>\n",
              "    </tr>\n",
              "    <tr>\n",
              "      <th>19</th>\n",
              "      <td>a2d80ed662f34d32951eb1c6ed076c313e358b73</td>\n",
              "      <td>2018-06-04 16:26:57.096</td>\n",
              "      <td>0.81</td>\n",
              "      <td>-9.13</td>\n",
              "      <td>-3.77</td>\n",
              "      <td>bus</td>\n",
              "    </tr>\n",
              "    <tr>\n",
              "      <th>20</th>\n",
              "      <td>a2d80ed662f34d32951eb1c6ed076c313e358b73</td>\n",
              "      <td>2018-06-04 16:26:57.097</td>\n",
              "      <td>0.77</td>\n",
              "      <td>-9.11</td>\n",
              "      <td>-3.76</td>\n",
              "      <td>bus</td>\n",
              "    </tr>\n",
              "    <tr>\n",
              "      <th>21</th>\n",
              "      <td>a2d80ed662f34d32951eb1c6ed076c313e358b73</td>\n",
              "      <td>2018-06-04 16:26:57.098</td>\n",
              "      <td>0.80</td>\n",
              "      <td>-9.11</td>\n",
              "      <td>-3.74</td>\n",
              "      <td>bus</td>\n",
              "    </tr>\n",
              "    <tr>\n",
              "      <th>22</th>\n",
              "      <td>a2d80ed662f34d32951eb1c6ed076c313e358b73</td>\n",
              "      <td>2018-06-04 16:26:57.149</td>\n",
              "      <td>0.80</td>\n",
              "      <td>-9.15</td>\n",
              "      <td>-3.76</td>\n",
              "      <td>bus</td>\n",
              "    </tr>\n",
              "    <tr>\n",
              "      <th>23</th>\n",
              "      <td>a2d80ed662f34d32951eb1c6ed076c313e358b73</td>\n",
              "      <td>2018-06-04 16:26:57.207</td>\n",
              "      <td>0.83</td>\n",
              "      <td>-9.13</td>\n",
              "      <td>-3.76</td>\n",
              "      <td>bus</td>\n",
              "    </tr>\n",
              "    <tr>\n",
              "      <th>24</th>\n",
              "      <td>a2d80ed662f34d32951eb1c6ed076c313e358b73</td>\n",
              "      <td>2018-06-04 16:26:57.265</td>\n",
              "      <td>0.79</td>\n",
              "      <td>-9.13</td>\n",
              "      <td>-3.77</td>\n",
              "      <td>bus</td>\n",
              "    </tr>\n",
              "    <tr>\n",
              "      <th>25</th>\n",
              "      <td>a2d80ed662f34d32951eb1c6ed076c313e358b73</td>\n",
              "      <td>2018-06-04 16:26:57.323</td>\n",
              "      <td>0.78</td>\n",
              "      <td>-9.18</td>\n",
              "      <td>-3.71</td>\n",
              "      <td>bus</td>\n",
              "    </tr>\n",
              "    <tr>\n",
              "      <th>26</th>\n",
              "      <td>a2d80ed662f34d32951eb1c6ed076c313e358b73</td>\n",
              "      <td>2018-06-04 16:26:57.382</td>\n",
              "      <td>0.80</td>\n",
              "      <td>-9.10</td>\n",
              "      <td>-3.74</td>\n",
              "      <td>bus</td>\n",
              "    </tr>\n",
              "    <tr>\n",
              "      <th>27</th>\n",
              "      <td>a2d80ed662f34d32951eb1c6ed076c313e358b73</td>\n",
              "      <td>2018-06-04 16:26:57.440</td>\n",
              "      <td>0.79</td>\n",
              "      <td>-9.15</td>\n",
              "      <td>-3.71</td>\n",
              "      <td>bus</td>\n",
              "    </tr>\n",
              "    <tr>\n",
              "      <th>28</th>\n",
              "      <td>a2d80ed662f34d32951eb1c6ed076c313e358b73</td>\n",
              "      <td>2018-06-04 16:26:57.498</td>\n",
              "      <td>0.81</td>\n",
              "      <td>-9.10</td>\n",
              "      <td>-3.74</td>\n",
              "      <td>bus</td>\n",
              "    </tr>\n",
              "    <tr>\n",
              "      <th>29</th>\n",
              "      <td>a2d80ed662f34d32951eb1c6ed076c313e358b73</td>\n",
              "      <td>2018-06-04 16:26:57.557</td>\n",
              "      <td>0.80</td>\n",
              "      <td>-9.14</td>\n",
              "      <td>-3.76</td>\n",
              "      <td>bus</td>\n",
              "    </tr>\n",
              "    <tr>\n",
              "      <th>30</th>\n",
              "      <td>a2d80ed662f34d32951eb1c6ed076c313e358b73</td>\n",
              "      <td>2018-06-04 16:26:57.616</td>\n",
              "      <td>0.78</td>\n",
              "      <td>-9.13</td>\n",
              "      <td>-3.73</td>\n",
              "      <td>bus</td>\n",
              "    </tr>\n",
              "    <tr>\n",
              "      <th>31</th>\n",
              "      <td>a2d80ed662f34d32951eb1c6ed076c313e358b73</td>\n",
              "      <td>2018-06-04 16:26:57.673</td>\n",
              "      <td>0.82</td>\n",
              "      <td>-9.11</td>\n",
              "      <td>-3.79</td>\n",
              "      <td>bus</td>\n",
              "    </tr>\n",
              "    <tr>\n",
              "      <th>32</th>\n",
              "      <td>a2d80ed662f34d32951eb1c6ed076c313e358b73</td>\n",
              "      <td>2018-06-04 16:26:57.731</td>\n",
              "      <td>0.77</td>\n",
              "      <td>-9.14</td>\n",
              "      <td>-3.72</td>\n",
              "      <td>bus</td>\n",
              "    </tr>\n",
              "    <tr>\n",
              "      <th>33</th>\n",
              "      <td>a2d80ed662f34d32951eb1c6ed076c313e358b73</td>\n",
              "      <td>2018-06-04 16:26:57.790</td>\n",
              "      <td>0.84</td>\n",
              "      <td>-9.12</td>\n",
              "      <td>-3.78</td>\n",
              "      <td>bus</td>\n",
              "    </tr>\n",
              "    <tr>\n",
              "      <th>34</th>\n",
              "      <td>a2d80ed662f34d32951eb1c6ed076c313e358b73</td>\n",
              "      <td>2018-06-04 16:26:57.849</td>\n",
              "      <td>0.80</td>\n",
              "      <td>-9.15</td>\n",
              "      <td>-3.74</td>\n",
              "      <td>bus</td>\n",
              "    </tr>\n",
              "    <tr>\n",
              "      <th>35</th>\n",
              "      <td>a2d80ed662f34d32951eb1c6ed076c313e358b73</td>\n",
              "      <td>2018-06-04 16:26:57.906</td>\n",
              "      <td>0.82</td>\n",
              "      <td>-9.13</td>\n",
              "      <td>-3.75</td>\n",
              "      <td>bus</td>\n",
              "    </tr>\n",
              "    <tr>\n",
              "      <th>36</th>\n",
              "      <td>a2d80ed662f34d32951eb1c6ed076c313e358b73</td>\n",
              "      <td>2018-06-04 16:26:57.965</td>\n",
              "      <td>0.83</td>\n",
              "      <td>-9.15</td>\n",
              "      <td>-3.75</td>\n",
              "      <td>bus</td>\n",
              "    </tr>\n",
              "    <tr>\n",
              "      <th>37</th>\n",
              "      <td>a2d80ed662f34d32951eb1c6ed076c313e358b73</td>\n",
              "      <td>2018-06-04 16:26:58.023</td>\n",
              "      <td>0.76</td>\n",
              "      <td>-9.10</td>\n",
              "      <td>-3.70</td>\n",
              "      <td>bus</td>\n",
              "    </tr>\n",
              "    <tr>\n",
              "      <th>38</th>\n",
              "      <td>a2d80ed662f34d32951eb1c6ed076c313e358b73</td>\n",
              "      <td>2018-06-04 16:26:58.080</td>\n",
              "      <td>0.83</td>\n",
              "      <td>-9.13</td>\n",
              "      <td>-3.78</td>\n",
              "      <td>bus</td>\n",
              "    </tr>\n",
              "    <tr>\n",
              "      <th>39</th>\n",
              "      <td>a2d80ed662f34d32951eb1c6ed076c313e358b73</td>\n",
              "      <td>2018-06-04 16:26:58.139</td>\n",
              "      <td>0.76</td>\n",
              "      <td>-9.12</td>\n",
              "      <td>-3.72</td>\n",
              "      <td>bus</td>\n",
              "    </tr>\n",
              "    <tr>\n",
              "      <th>40</th>\n",
              "      <td>a2d80ed662f34d32951eb1c6ed076c313e358b73</td>\n",
              "      <td>2018-06-04 16:26:58.197</td>\n",
              "      <td>0.80</td>\n",
              "      <td>-9.12</td>\n",
              "      <td>-3.76</td>\n",
              "      <td>bus</td>\n",
              "    </tr>\n",
              "    <tr>\n",
              "      <th>41</th>\n",
              "      <td>a2d80ed662f34d32951eb1c6ed076c313e358b73</td>\n",
              "      <td>2018-06-04 16:26:58.255</td>\n",
              "      <td>0.77</td>\n",
              "      <td>-9.12</td>\n",
              "      <td>-3.73</td>\n",
              "      <td>bus</td>\n",
              "    </tr>\n",
              "    <tr>\n",
              "      <th>42</th>\n",
              "      <td>a2d80ed662f34d32951eb1c6ed076c313e358b73</td>\n",
              "      <td>2018-06-04 16:26:58.317</td>\n",
              "      <td>0.81</td>\n",
              "      <td>-9.14</td>\n",
              "      <td>-3.73</td>\n",
              "      <td>bus</td>\n",
              "    </tr>\n",
              "    <tr>\n",
              "      <th>43</th>\n",
              "      <td>a2d80ed662f34d32951eb1c6ed076c313e358b73</td>\n",
              "      <td>2018-06-04 16:26:58.371</td>\n",
              "      <td>0.82</td>\n",
              "      <td>-9.13</td>\n",
              "      <td>-3.76</td>\n",
              "      <td>bus</td>\n",
              "    </tr>\n",
              "    <tr>\n",
              "      <th>44</th>\n",
              "      <td>a2d80ed662f34d32951eb1c6ed076c313e358b73</td>\n",
              "      <td>2018-06-04 16:26:58.430</td>\n",
              "      <td>0.79</td>\n",
              "      <td>-9.14</td>\n",
              "      <td>-3.75</td>\n",
              "      <td>bus</td>\n",
              "    </tr>\n",
              "    <tr>\n",
              "      <th>45</th>\n",
              "      <td>a2d80ed662f34d32951eb1c6ed076c313e358b73</td>\n",
              "      <td>2018-06-04 16:26:58.489</td>\n",
              "      <td>0.81</td>\n",
              "      <td>-9.12</td>\n",
              "      <td>-3.78</td>\n",
              "      <td>bus</td>\n",
              "    </tr>\n",
              "    <tr>\n",
              "      <th>46</th>\n",
              "      <td>a2d80ed662f34d32951eb1c6ed076c313e358b73</td>\n",
              "      <td>2018-06-04 16:26:58.547</td>\n",
              "      <td>0.80</td>\n",
              "      <td>-9.14</td>\n",
              "      <td>-3.73</td>\n",
              "      <td>bus</td>\n",
              "    </tr>\n",
              "    <tr>\n",
              "      <th>47</th>\n",
              "      <td>a2d80ed662f34d32951eb1c6ed076c313e358b73</td>\n",
              "      <td>2018-06-04 16:26:58.604</td>\n",
              "      <td>0.79</td>\n",
              "      <td>-9.14</td>\n",
              "      <td>-3.80</td>\n",
              "      <td>bus</td>\n",
              "    </tr>\n",
              "    <tr>\n",
              "      <th>48</th>\n",
              "      <td>a2d80ed662f34d32951eb1c6ed076c313e358b73</td>\n",
              "      <td>2018-06-04 16:26:58.662</td>\n",
              "      <td>0.80</td>\n",
              "      <td>-9.12</td>\n",
              "      <td>-3.73</td>\n",
              "      <td>bus</td>\n",
              "    </tr>\n",
              "    <tr>\n",
              "      <th>49</th>\n",
              "      <td>a2d80ed662f34d32951eb1c6ed076c313e358b73</td>\n",
              "      <td>2018-06-04 16:26:58.721</td>\n",
              "      <td>0.79</td>\n",
              "      <td>-9.16</td>\n",
              "      <td>-3.67</td>\n",
              "      <td>bus</td>\n",
              "    </tr>\n",
              "  </tbody>\n",
              "</table>\n",
              "</div>\n",
              "      <button class=\"colab-df-convert\" onclick=\"convertToInteractive('df-fe24170e-f583-47f0-b48f-fc68ff5c0169')\"\n",
              "              title=\"Convert this dataframe to an interactive table.\"\n",
              "              style=\"display:none;\">\n",
              "        \n",
              "  <svg xmlns=\"http://www.w3.org/2000/svg\" height=\"24px\"viewBox=\"0 0 24 24\"\n",
              "       width=\"24px\">\n",
              "    <path d=\"M0 0h24v24H0V0z\" fill=\"none\"/>\n",
              "    <path d=\"M18.56 5.44l.94 2.06.94-2.06 2.06-.94-2.06-.94-.94-2.06-.94 2.06-2.06.94zm-11 1L8.5 8.5l.94-2.06 2.06-.94-2.06-.94L8.5 2.5l-.94 2.06-2.06.94zm10 10l.94 2.06.94-2.06 2.06-.94-2.06-.94-.94-2.06-.94 2.06-2.06.94z\"/><path d=\"M17.41 7.96l-1.37-1.37c-.4-.4-.92-.59-1.43-.59-.52 0-1.04.2-1.43.59L10.3 9.45l-7.72 7.72c-.78.78-.78 2.05 0 2.83L4 21.41c.39.39.9.59 1.41.59.51 0 1.02-.2 1.41-.59l7.78-7.78 2.81-2.81c.8-.78.8-2.07 0-2.86zM5.41 20L4 18.59l7.72-7.72 1.47 1.35L5.41 20z\"/>\n",
              "  </svg>\n",
              "      </button>\n",
              "      \n",
              "  <style>\n",
              "    .colab-df-container {\n",
              "      display:flex;\n",
              "      flex-wrap:wrap;\n",
              "      gap: 12px;\n",
              "    }\n",
              "\n",
              "    .colab-df-convert {\n",
              "      background-color: #E8F0FE;\n",
              "      border: none;\n",
              "      border-radius: 50%;\n",
              "      cursor: pointer;\n",
              "      display: none;\n",
              "      fill: #1967D2;\n",
              "      height: 32px;\n",
              "      padding: 0 0 0 0;\n",
              "      width: 32px;\n",
              "    }\n",
              "\n",
              "    .colab-df-convert:hover {\n",
              "      background-color: #E2EBFA;\n",
              "      box-shadow: 0px 1px 2px rgba(60, 64, 67, 0.3), 0px 1px 3px 1px rgba(60, 64, 67, 0.15);\n",
              "      fill: #174EA6;\n",
              "    }\n",
              "\n",
              "    [theme=dark] .colab-df-convert {\n",
              "      background-color: #3B4455;\n",
              "      fill: #D2E3FC;\n",
              "    }\n",
              "\n",
              "    [theme=dark] .colab-df-convert:hover {\n",
              "      background-color: #434B5C;\n",
              "      box-shadow: 0px 1px 3px 1px rgba(0, 0, 0, 0.15);\n",
              "      filter: drop-shadow(0px 1px 2px rgba(0, 0, 0, 0.3));\n",
              "      fill: #FFFFFF;\n",
              "    }\n",
              "  </style>\n",
              "\n",
              "      <script>\n",
              "        const buttonEl =\n",
              "          document.querySelector('#df-fe24170e-f583-47f0-b48f-fc68ff5c0169 button.colab-df-convert');\n",
              "        buttonEl.style.display =\n",
              "          google.colab.kernel.accessAllowed ? 'block' : 'none';\n",
              "\n",
              "        async function convertToInteractive(key) {\n",
              "          const element = document.querySelector('#df-fe24170e-f583-47f0-b48f-fc68ff5c0169');\n",
              "          const dataTable =\n",
              "            await google.colab.kernel.invokeFunction('convertToInteractive',\n",
              "                                                     [key], {});\n",
              "          if (!dataTable) return;\n",
              "\n",
              "          const docLinkHtml = 'Like what you see? Visit the ' +\n",
              "            '<a target=\"_blank\" href=https://colab.research.google.com/notebooks/data_table.ipynb>data table notebook</a>'\n",
              "            + ' to learn more about interactive tables.';\n",
              "          element.innerHTML = '';\n",
              "          dataTable['output_type'] = 'display_data';\n",
              "          await google.colab.output.renderOutput(dataTable, element);\n",
              "          const docLink = document.createElement('div');\n",
              "          docLink.innerHTML = docLinkHtml;\n",
              "          element.appendChild(docLink);\n",
              "        }\n",
              "      </script>\n",
              "    </div>\n",
              "  </div>\n",
              "  "
            ],
            "text/plain": [
              "                                        user                timestamp     x  \\\n",
              "0   a2d80ed662f34d32951eb1c6ed076c313e358b73  2018-06-04 16:26:55.053  0.78   \n",
              "1   a2d80ed662f34d32951eb1c6ed076c313e358b73  2018-06-04 16:26:55.111  0.79   \n",
              "2   a2d80ed662f34d32951eb1c6ed076c313e358b73  2018-06-04 16:26:55.169  0.80   \n",
              "3   a2d80ed662f34d32951eb1c6ed076c313e358b73  2018-06-04 16:26:55.228  0.78   \n",
              "4   a2d80ed662f34d32951eb1c6ed076c313e358b73  2018-06-04 16:26:55.286  0.83   \n",
              "5   a2d80ed662f34d32951eb1c6ed076c313e358b73  2018-06-04 16:26:55.344  0.77   \n",
              "6   a2d80ed662f34d32951eb1c6ed076c313e358b73  2018-06-04 16:26:55.403  0.80   \n",
              "7   a2d80ed662f34d32951eb1c6ed076c313e358b73  2018-06-04 16:26:55.460  0.77   \n",
              "8   a2d80ed662f34d32951eb1c6ed076c313e358b73  2018-06-04 16:26:55.519  0.77   \n",
              "9   a2d80ed662f34d32951eb1c6ed076c313e358b73  2018-06-04 16:26:55.578  0.77   \n",
              "10  a2d80ed662f34d32951eb1c6ed076c313e358b73  2018-06-04 16:26:55.635  0.75   \n",
              "11  a2d80ed662f34d32951eb1c6ed076c313e358b73  2018-06-04 16:26:55.692  0.80   \n",
              "12  a2d80ed662f34d32951eb1c6ed076c313e358b73  2018-06-04 16:26:55.933  0.80   \n",
              "13  a2d80ed662f34d32951eb1c6ed076c313e358b73  2018-06-04 16:26:55.934  0.78   \n",
              "14  a2d80ed662f34d32951eb1c6ed076c313e358b73  2018-06-04 16:26:56.222  0.81   \n",
              "15  a2d80ed662f34d32951eb1c6ed076c313e358b73  2018-06-04 16:26:56.223  0.79   \n",
              "16  a2d80ed662f34d32951eb1c6ed076c313e358b73  2018-06-04 16:26:56.224  0.78   \n",
              "17  a2d80ed662f34d32951eb1c6ed076c313e358b73  2018-06-04 16:26:57.094  0.81   \n",
              "18  a2d80ed662f34d32951eb1c6ed076c313e358b73  2018-06-04 16:26:57.095  0.79   \n",
              "19  a2d80ed662f34d32951eb1c6ed076c313e358b73  2018-06-04 16:26:57.096  0.81   \n",
              "20  a2d80ed662f34d32951eb1c6ed076c313e358b73  2018-06-04 16:26:57.097  0.77   \n",
              "21  a2d80ed662f34d32951eb1c6ed076c313e358b73  2018-06-04 16:26:57.098  0.80   \n",
              "22  a2d80ed662f34d32951eb1c6ed076c313e358b73  2018-06-04 16:26:57.149  0.80   \n",
              "23  a2d80ed662f34d32951eb1c6ed076c313e358b73  2018-06-04 16:26:57.207  0.83   \n",
              "24  a2d80ed662f34d32951eb1c6ed076c313e358b73  2018-06-04 16:26:57.265  0.79   \n",
              "25  a2d80ed662f34d32951eb1c6ed076c313e358b73  2018-06-04 16:26:57.323  0.78   \n",
              "26  a2d80ed662f34d32951eb1c6ed076c313e358b73  2018-06-04 16:26:57.382  0.80   \n",
              "27  a2d80ed662f34d32951eb1c6ed076c313e358b73  2018-06-04 16:26:57.440  0.79   \n",
              "28  a2d80ed662f34d32951eb1c6ed076c313e358b73  2018-06-04 16:26:57.498  0.81   \n",
              "29  a2d80ed662f34d32951eb1c6ed076c313e358b73  2018-06-04 16:26:57.557  0.80   \n",
              "30  a2d80ed662f34d32951eb1c6ed076c313e358b73  2018-06-04 16:26:57.616  0.78   \n",
              "31  a2d80ed662f34d32951eb1c6ed076c313e358b73  2018-06-04 16:26:57.673  0.82   \n",
              "32  a2d80ed662f34d32951eb1c6ed076c313e358b73  2018-06-04 16:26:57.731  0.77   \n",
              "33  a2d80ed662f34d32951eb1c6ed076c313e358b73  2018-06-04 16:26:57.790  0.84   \n",
              "34  a2d80ed662f34d32951eb1c6ed076c313e358b73  2018-06-04 16:26:57.849  0.80   \n",
              "35  a2d80ed662f34d32951eb1c6ed076c313e358b73  2018-06-04 16:26:57.906  0.82   \n",
              "36  a2d80ed662f34d32951eb1c6ed076c313e358b73  2018-06-04 16:26:57.965  0.83   \n",
              "37  a2d80ed662f34d32951eb1c6ed076c313e358b73  2018-06-04 16:26:58.023  0.76   \n",
              "38  a2d80ed662f34d32951eb1c6ed076c313e358b73  2018-06-04 16:26:58.080  0.83   \n",
              "39  a2d80ed662f34d32951eb1c6ed076c313e358b73  2018-06-04 16:26:58.139  0.76   \n",
              "40  a2d80ed662f34d32951eb1c6ed076c313e358b73  2018-06-04 16:26:58.197  0.80   \n",
              "41  a2d80ed662f34d32951eb1c6ed076c313e358b73  2018-06-04 16:26:58.255  0.77   \n",
              "42  a2d80ed662f34d32951eb1c6ed076c313e358b73  2018-06-04 16:26:58.317  0.81   \n",
              "43  a2d80ed662f34d32951eb1c6ed076c313e358b73  2018-06-04 16:26:58.371  0.82   \n",
              "44  a2d80ed662f34d32951eb1c6ed076c313e358b73  2018-06-04 16:26:58.430  0.79   \n",
              "45  a2d80ed662f34d32951eb1c6ed076c313e358b73  2018-06-04 16:26:58.489  0.81   \n",
              "46  a2d80ed662f34d32951eb1c6ed076c313e358b73  2018-06-04 16:26:58.547  0.80   \n",
              "47  a2d80ed662f34d32951eb1c6ed076c313e358b73  2018-06-04 16:26:58.604  0.79   \n",
              "48  a2d80ed662f34d32951eb1c6ed076c313e358b73  2018-06-04 16:26:58.662  0.80   \n",
              "49  a2d80ed662f34d32951eb1c6ed076c313e358b73  2018-06-04 16:26:58.721  0.79   \n",
              "\n",
              "       y     z class  \n",
              "0  -9.13 -3.74   bus  \n",
              "1  -9.11 -3.75   bus  \n",
              "2  -9.12 -3.75   bus  \n",
              "3  -9.14 -3.76   bus  \n",
              "4  -9.12 -3.80   bus  \n",
              "5  -9.13 -3.72   bus  \n",
              "6  -9.14 -3.76   bus  \n",
              "7  -9.12 -3.73   bus  \n",
              "8  -9.14 -3.73   bus  \n",
              "9  -9.10 -3.76   bus  \n",
              "10 -9.15 -3.73   bus  \n",
              "11 -9.10 -3.74   bus  \n",
              "12 -9.12 -3.76   bus  \n",
              "13 -9.16 -3.72   bus  \n",
              "14 -9.10 -3.76   bus  \n",
              "15 -9.16 -3.77   bus  \n",
              "16 -9.12 -3.72   bus  \n",
              "17 -9.12 -3.77   bus  \n",
              "18 -9.13 -3.74   bus  \n",
              "19 -9.13 -3.77   bus  \n",
              "20 -9.11 -3.76   bus  \n",
              "21 -9.11 -3.74   bus  \n",
              "22 -9.15 -3.76   bus  \n",
              "23 -9.13 -3.76   bus  \n",
              "24 -9.13 -3.77   bus  \n",
              "25 -9.18 -3.71   bus  \n",
              "26 -9.10 -3.74   bus  \n",
              "27 -9.15 -3.71   bus  \n",
              "28 -9.10 -3.74   bus  \n",
              "29 -9.14 -3.76   bus  \n",
              "30 -9.13 -3.73   bus  \n",
              "31 -9.11 -3.79   bus  \n",
              "32 -9.14 -3.72   bus  \n",
              "33 -9.12 -3.78   bus  \n",
              "34 -9.15 -3.74   bus  \n",
              "35 -9.13 -3.75   bus  \n",
              "36 -9.15 -3.75   bus  \n",
              "37 -9.10 -3.70   bus  \n",
              "38 -9.13 -3.78   bus  \n",
              "39 -9.12 -3.72   bus  \n",
              "40 -9.12 -3.76   bus  \n",
              "41 -9.12 -3.73   bus  \n",
              "42 -9.14 -3.73   bus  \n",
              "43 -9.13 -3.76   bus  \n",
              "44 -9.14 -3.75   bus  \n",
              "45 -9.12 -3.78   bus  \n",
              "46 -9.14 -3.73   bus  \n",
              "47 -9.14 -3.80   bus  \n",
              "48 -9.12 -3.73   bus  \n",
              "49 -9.16 -3.67   bus  "
            ]
          },
          "metadata": {},
          "execution_count": 145
        }
      ]
    },
    {
      "cell_type": "code",
      "source": [
        "df['user'][0]"
      ],
      "metadata": {
        "colab": {
          "base_uri": "https://localhost:8080/",
          "height": 35
        },
        "id": "mD68RD8Igh3J",
        "outputId": "135be413-8291-42f6-c17a-7ed691fa00bd"
      },
      "execution_count": 146,
      "outputs": [
        {
          "output_type": "execute_result",
          "data": {
            "application/vnd.google.colaboratory.intrinsic+json": {
              "type": "string"
            },
            "text/plain": [
              "'a2d80ed662f34d32951eb1c6ed076c313e358b73'"
            ]
          },
          "metadata": {},
          "execution_count": 146
        }
      ]
    },
    {
      "cell_type": "code",
      "source": [
        "#Number of rows corresponding to 1st user\n",
        "len(df[df['user'] == df['user'][0]]) "
      ],
      "metadata": {
        "colab": {
          "base_uri": "https://localhost:8080/"
        },
        "id": "HssArW8fgZXz",
        "outputId": "54ce172c-5be2-49c2-a7a4-b7e633b93155"
      },
      "execution_count": 148,
      "outputs": [
        {
          "output_type": "execute_result",
          "data": {
            "text/plain": [
              "3791"
            ]
          },
          "metadata": {},
          "execution_count": 148
        }
      ]
    },
    {
      "cell_type": "markdown",
      "source": [
        "### Now printing all the necessary values asked in Q1"
      ],
      "metadata": {
        "id": "yyo-w1g27vf7"
      }
    },
    {
      "cell_type": "code",
      "source": [
        "print(\"The various columns in our dataframe:\")\n",
        "print(df.columns)\n",
        "print(\"\\n The number of columns in our dataframe are:\" , len(df.columns))\n",
        "print(\"\\n The number of rows (data points) in our dataframe are:\", len(df))\n",
        "print(\"\\n The unique users in our data are:\\n\", df['user'].unique())\n",
        "print(\"\\n The number of  users in our data are:\", len(df['user'].unique()))"
      ],
      "metadata": {
        "colab": {
          "base_uri": "https://localhost:8080/"
        },
        "id": "7l5JNNABgZZP",
        "outputId": "2c82404e-a2a6-42ef-d189-935ea4b4cb28"
      },
      "execution_count": 154,
      "outputs": [
        {
          "output_type": "stream",
          "name": "stdout",
          "text": [
            "The various columns in our dataframe:\n",
            "Index(['user', 'timestamp', 'x', 'y', 'z', 'class'], dtype='object')\n",
            "\n",
            " The number of columns in our dataframe are: 6\n",
            "\n",
            " The number of rows (data points) in our dataframe are: 5653053\n",
            "\n",
            " The unique users in our data are:\n",
            " ['a2d80ed662f34d32951eb1c6ed076c313e358b73'\n",
            " 'a526f3566e9c9024dfa7378eb4291d787a09fd37'\n",
            " 'a59868c6eb3645eedbb343ce8c336ec6f2ef2324'\n",
            " 'a92dee88f61123f923dccec01eeecf1a81953b36'\n",
            " 'ac4c17afeb69b39169eb301ab592696a8f353976'\n",
            " 'adaaae1a67ea9e43abd60ba945eccda0cb8821e0'\n",
            " 'b138d165100ef60bc793cac143742eb5aea4d6ba'\n",
            " 'b45157069942d01310c3e7b74034166717bb25f9'\n",
            " 'b7b165e5637b5a0226068d907748f4bbfc61a320'\n",
            " 'c453226e3616ae821cdcb38f38481c2a20f2482f'\n",
            " 'c5702d34b238fe68683f818e82cd3a3cd8a16366'\n",
            " 'ca7950f223a8037b897d0547075dc138f9e43b20'\n",
            " 'cace4ec0999436917986b4fa6e9317262c897bc2'\n",
            " 'cbde60baea002b694ecf2a3ff2d95be16b00efe1'\n",
            " 'ce39f5d0705695fcd70a04ba6d84ac6beecd6f9c'\n",
            " 'd429974540bfd38c3367fe9f0c8682775ff4fa18'\n",
            " 'd7a1230d94f91a32cc079809748e52e8a4a6a22f'\n",
            " 'd7dd12d83c81574137f858034b99f4cc83ab0718'\n",
            " 'd8c047eaaee204b7b5cd71e2d67308b87b038ed3'\n",
            " 'dc0bdce306ec3b624fe0e6ecd1ffbd82cb970120'\n",
            " 'dd82e3df4bebc74ed6b67877be79e29f401c16a3'\n",
            " 'dde95e125d89843f7032baa734ee4d34ec775aaf'\n",
            " 'de9892b879c83ea3d24fb4560873107cc4e86d48'\n",
            " 'dfcfc0404691b73b69884073159f90843f2ac35b'\n",
            " 'e429a95c532f1117130c11e4a18379d84fa4ffa9'\n",
            " 'eb9e7854290fd6ea9ebaf448b640fc1f1dbeb076'\n",
            " 'ecfb0929250fb6dda66a4065441230ab27f094e5'\n",
            " 'ed623d28c1e0071632a6110b8f8ed93f8af78b99'\n",
            " 'f1b7331b66e404c11eebb22933e733117bbb12c9'\n",
            " 'f5edd999397145a2ec1b244226fc83f99631760c'\n",
            " 'f7ae1ce141c26db40ea8b090fb568a0c965310aa'\n",
            " 'faae5be800be2dfa897eea0bd2e5988cd53c4ec0']\n",
            "\n",
            " The number of  users in our data are: 32\n"
          ]
        }
      ]
    },
    {
      "cell_type": "code",
      "source": [
        "df.info()"
      ],
      "metadata": {
        "colab": {
          "base_uri": "https://localhost:8080/"
        },
        "id": "ANRwWJq9FQvs",
        "outputId": "b8349f41-6553-497a-9d4e-a97eedc4ed65"
      },
      "execution_count": 155,
      "outputs": [
        {
          "output_type": "stream",
          "name": "stdout",
          "text": [
            "<class 'pandas.core.frame.DataFrame'>\n",
            "RangeIndex: 5653053 entries, 0 to 5653052\n",
            "Data columns (total 6 columns):\n",
            " #   Column     Dtype  \n",
            "---  ------     -----  \n",
            " 0   user       object \n",
            " 1   timestamp  object \n",
            " 2   x          float64\n",
            " 3   y          float64\n",
            " 4   z          float64\n",
            " 5   class      object \n",
            "dtypes: float64(3), object(3)\n",
            "memory usage: 258.8+ MB\n"
          ]
        }
      ]
    },
    {
      "cell_type": "markdown",
      "source": [
        "## Question 2"
      ],
      "metadata": {
        "id": "0gY8yKZik43e"
      }
    },
    {
      "cell_type": "markdown",
      "source": [
        "### Calulating the number of sequences corresonding to each user and each class. We shift both the user and class columns by one and equate them to the original columns. As a result, whenever our class or user changes, we get a value of 1 in user_c and class_c columns, and otherwise zero. We also note when 2 subsequent rows have a time diff > 10, which also means the sequence has changed. Finally we use the OR operator to note whenever the sequence changes.\n",
        "### We also note the time taken for this part of Code to run. "
      ],
      "metadata": {
        "id": "pOE5k124734X"
      }
    },
    {
      "cell_type": "code",
      "source": [
        "time_start = time.time()\n",
        "\n",
        "series_user = df['user'].eq(df['user'].shift())\n",
        "series_class = df['class'].eq(df['class'].shift())"
      ],
      "metadata": {
        "id": "80A0oQQClx6q"
      },
      "execution_count": 165,
      "outputs": []
    },
    {
      "cell_type": "code",
      "source": [
        "series_user = ~series_user\n",
        "series_class = ~series_class"
      ],
      "metadata": {
        "id": "k2N8KYwKpW2a"
      },
      "execution_count": 166,
      "outputs": []
    },
    {
      "cell_type": "code",
      "source": [
        "df['user_c'] = series_user\n",
        "df['class_c'] = series_class"
      ],
      "metadata": {
        "id": "qe0g1_uBoKES"
      },
      "execution_count": 167,
      "outputs": []
    },
    {
      "cell_type": "code",
      "source": [
        "df['timestamp_shifted'] = df['timestamp'].shift(1, axis=0)"
      ],
      "metadata": {
        "id": "rqWA3wYQk4Ml"
      },
      "execution_count": 171,
      "outputs": []
    },
    {
      "cell_type": "code",
      "source": [
        "df['timestamp'] = df['timestamp'].astype('datetime64[s]')\n",
        "df['timestamp_shifted'] = df['timestamp_shifted'].astype('datetime64[s]')"
      ],
      "metadata": {
        "id": "QnUnwbaHlsSn"
      },
      "execution_count": 172,
      "outputs": []
    },
    {
      "cell_type": "code",
      "source": [
        "df['time_diff'] = (df['timestamp'] - df['timestamp_shifted'])/np.timedelta64(1, 's')"
      ],
      "metadata": {
        "id": "wKPrdvP0VV9j"
      },
      "execution_count": 173,
      "outputs": []
    },
    {
      "cell_type": "code",
      "source": [
        "df['seq_new'] = df['user_c'] | df['class_c'] | (df['time_diff'] > 10)"
      ],
      "metadata": {
        "id": "AVbpXfM1iwqA"
      },
      "execution_count": 174,
      "outputs": []
    },
    {
      "cell_type": "code",
      "source": [
        "df['seq_new'].sum()"
      ],
      "metadata": {
        "colab": {
          "base_uri": "https://localhost:8080/"
        },
        "id": "VvviPnVmkdXD",
        "outputId": "d6c171cc-0af3-457d-85b0-3b12203b0944"
      },
      "execution_count": 175,
      "outputs": [
        {
          "output_type": "execute_result",
          "data": {
            "text/plain": [
              "3378"
            ]
          },
          "metadata": {},
          "execution_count": 175
        }
      ]
    },
    {
      "cell_type": "markdown",
      "source": [
        "### Now in the below cell, we use groupby() function to find the number of sequences corresponding to each user and class."
      ],
      "metadata": {
        "id": "W-qAO4jl9XD1"
      }
    },
    {
      "cell_type": "code",
      "source": [
        "pd.set_option('display.max_rows',None, 'display.max_columns',None)\n",
        "df1 = df.groupby(['user', 'class']).seq_new.sum()\n",
        "df1"
      ],
      "metadata": {
        "colab": {
          "base_uri": "https://localhost:8080/"
        },
        "id": "Evl_2Ha6WpGP",
        "outputId": "64faec8c-9f1e-4bee-be4a-9b0aee640a01"
      },
      "execution_count": 176,
      "outputs": [
        {
          "output_type": "execute_result",
          "data": {
            "text/plain": [
              "user                                      class \n",
              "a2d80ed662f34d32951eb1c6ed076c313e358b73  bus        12\n",
              "a526f3566e9c9024dfa7378eb4291d787a09fd37  car        13\n",
              "                                          walk       19\n",
              "a59868c6eb3645eedbb343ce8c336ec6f2ef2324  bike       33\n",
              "                                          bus        18\n",
              "                                          car        63\n",
              "                                          walk       10\n",
              "a92dee88f61123f923dccec01eeecf1a81953b36  bus         3\n",
              "ac4c17afeb69b39169eb301ab592696a8f353976  car        20\n",
              "                                          walk       58\n",
              "adaaae1a67ea9e43abd60ba945eccda0cb8821e0  bus        20\n",
              "                                          car        17\n",
              "                                          walk        9\n",
              "b138d165100ef60bc793cac143742eb5aea4d6ba  car         9\n",
              "b45157069942d01310c3e7b74034166717bb25f9  car         3\n",
              "                                          walk        2\n",
              "b7b165e5637b5a0226068d907748f4bbfc61a320  car       191\n",
              "                                          walk       10\n",
              "c453226e3616ae821cdcb38f38481c2a20f2482f  bike      169\n",
              "                                          bus       286\n",
              "c5702d34b238fe68683f818e82cd3a3cd8a16366  bike       15\n",
              "                                          bus        13\n",
              "                                          walk      120\n",
              "ca7950f223a8037b897d0547075dc138f9e43b20  walk        3\n",
              "cace4ec0999436917986b4fa6e9317262c897bc2  car        72\n",
              "cbde60baea002b694ecf2a3ff2d95be16b00efe1  bus         4\n",
              "ce39f5d0705695fcd70a04ba6d84ac6beecd6f9c  bus        21\n",
              "                                          car        79\n",
              "d429974540bfd38c3367fe9f0c8682775ff4fa18  bus         6\n",
              "                                          car       119\n",
              "                                          walk        2\n",
              "d7a1230d94f91a32cc079809748e52e8a4a6a22f  bike      151\n",
              "                                          train      12\n",
              "                                          walk        6\n",
              "d7dd12d83c81574137f858034b99f4cc83ab0718  car       143\n",
              "d8c047eaaee204b7b5cd71e2d67308b87b038ed3  car        12\n",
              "                                          walk       24\n",
              "dc0bdce306ec3b624fe0e6ecd1ffbd82cb970120  bike      109\n",
              "                                          car        29\n",
              "                                          walk        5\n",
              "dd82e3df4bebc74ed6b67877be79e29f401c16a3  car        65\n",
              "                                          walk        2\n",
              "dde95e125d89843f7032baa734ee4d34ec775aaf  bus         4\n",
              "                                          car         2\n",
              "                                          walk        8\n",
              "de9892b879c83ea3d24fb4560873107cc4e86d48  car       107\n",
              "                                          walk       34\n",
              "dfcfc0404691b73b69884073159f90843f2ac35b  bus        47\n",
              "                                          car       101\n",
              "                                          walk      152\n",
              "e429a95c532f1117130c11e4a18379d84fa4ffa9  bus        40\n",
              "                                          car        35\n",
              "eb9e7854290fd6ea9ebaf448b640fc1f1dbeb076  bus         2\n",
              "                                          train       1\n",
              "                                          walk        2\n",
              "ecfb0929250fb6dda66a4065441230ab27f094e5  car       139\n",
              "                                          e-bike     14\n",
              "                                          train       1\n",
              "ed623d28c1e0071632a6110b8f8ed93f8af78b99  bus        10\n",
              "                                          car       112\n",
              "                                          walk        3\n",
              "f1b7331b66e404c11eebb22933e733117bbb12c9  bike      171\n",
              "                                          car       133\n",
              "                                          walk       73\n",
              "f5edd999397145a2ec1b244226fc83f99631760c  bus        15\n",
              "                                          walk       13\n",
              "f7ae1ce141c26db40ea8b090fb568a0c965310aa  car         2\n",
              "faae5be800be2dfa897eea0bd2e5988cd53c4ec0  bike      135\n",
              "                                          car        10\n",
              "                                          walk       35\n",
              "Name: seq_new, dtype: int64"
            ]
          },
          "metadata": {},
          "execution_count": 176
        }
      ]
    },
    {
      "cell_type": "code",
      "source": [
        "time_end = time.time()"
      ],
      "metadata": {
        "id": "mdBDy_aI6XpH"
      },
      "execution_count": 177,
      "outputs": []
    },
    {
      "cell_type": "code",
      "source": [
        "calculated_time = time_end - time_start\n",
        "print(\"The calculated time is:\", calculated_time)"
      ],
      "metadata": {
        "colab": {
          "base_uri": "https://localhost:8080/"
        },
        "id": "kht3BHrN6c_d",
        "outputId": "9fae782f-9dcc-45e0-b4e0-1c21b1fd2221"
      },
      "execution_count": 181,
      "outputs": [
        {
          "output_type": "stream",
          "name": "stdout",
          "text": [
            "The calculated time is: 7.723074674606323\n"
          ]
        }
      ]
    },
    {
      "cell_type": "markdown",
      "source": [
        "### Question 3"
      ],
      "metadata": {
        "id": "lDNdyrhMpeyZ"
      }
    },
    {
      "cell_type": "code",
      "source": [
        "df['seq'] = df['seq_new'].cumsum(axis = 0, skipna = True)"
      ],
      "metadata": {
        "id": "UBZrwyLHpgcE"
      },
      "execution_count": 53,
      "outputs": []
    },
    {
      "cell_type": "code",
      "source": [
        "df['seq'] = df['seq'] + 1"
      ],
      "metadata": {
        "id": "y3XhIjHslIMY"
      },
      "execution_count": 54,
      "outputs": []
    },
    {
      "cell_type": "code",
      "source": [
        "df['seq']"
      ],
      "metadata": {
        "colab": {
          "base_uri": "https://localhost:8080/"
        },
        "id": "k3-ZOJMhlIOU",
        "outputId": "e2ac9608-f1e0-4065-9974-f00b0816d58c"
      },
      "execution_count": 55,
      "outputs": [
        {
          "output_type": "execute_result",
          "data": {
            "text/plain": [
              "0             2\n",
              "1             2\n",
              "2             2\n",
              "3             2\n",
              "4             2\n",
              "           ... \n",
              "5653048    3379\n",
              "5653049    3379\n",
              "5653050    3379\n",
              "5653051    3379\n",
              "5653052    3379\n",
              "Name: seq, Length: 5653053, dtype: int64"
            ]
          },
          "metadata": {},
          "execution_count": 55
        }
      ]
    },
    {
      "cell_type": "markdown",
      "source": [
        "### 'min_t' column stores the starting time for each sequence. We later substract it from all rows in a given sequence to get the change in time. We then divide this time difference by 5 to get the number of time window partitions in each sequence. We finallly use the groupby() function to get the number of partitions and sequences for each class and each user."
      ],
      "metadata": {
        "id": "wAS2Lo7S9zN4"
      }
    },
    {
      "cell_type": "code",
      "source": [
        "df['min_t'] = df.groupby('seq').timestamp.transform('min')"
      ],
      "metadata": {
        "id": "c3sOquac1vcG"
      },
      "execution_count": 56,
      "outputs": []
    },
    {
      "cell_type": "code",
      "source": [
        "df['window_this_seq'] = (df['timestamp'] - df['min_t'])//np.timedelta64(5, 's')"
      ],
      "metadata": {
        "id": "lJ7zUqi92BIM"
      },
      "execution_count": 58,
      "outputs": []
    },
    {
      "cell_type": "code",
      "source": [
        "df['window_id'] = df['seq'].astype('str') + \".\" + df['window_this_seq'].astype('str')"
      ],
      "metadata": {
        "id": "wWXu9Lxo2Ow8"
      },
      "execution_count": 59,
      "outputs": []
    },
    {
      "cell_type": "code",
      "source": [
        "df['window_id']"
      ],
      "metadata": {
        "colab": {
          "base_uri": "https://localhost:8080/"
        },
        "id": "tod77oF02aZT",
        "outputId": "01d42296-7e67-4510-b06f-9512670856a4"
      },
      "execution_count": 60,
      "outputs": [
        {
          "output_type": "execute_result",
          "data": {
            "text/plain": [
              "0             2.0\n",
              "1             2.0\n",
              "2             2.0\n",
              "3             2.0\n",
              "4             2.0\n",
              "            ...  \n",
              "5653048    3379.2\n",
              "5653049    3379.2\n",
              "5653050    3379.2\n",
              "5653051    3379.2\n",
              "5653052    3379.2\n",
              "Name: window_id, Length: 5653053, dtype: object"
            ]
          },
          "metadata": {},
          "execution_count": 60
        }
      ]
    },
    {
      "cell_type": "code",
      "source": [
        "df.head()"
      ],
      "metadata": {
        "colab": {
          "base_uri": "https://localhost:8080/",
          "height": 337
        },
        "id": "w24R5HtWQcRS",
        "outputId": "32bf4fa3-d5b8-4fd6-81bc-868c7a9c1d13"
      },
      "execution_count": 61,
      "outputs": [
        {
          "output_type": "execute_result",
          "data": {
            "text/html": [
              "\n",
              "  <div id=\"df-1fc91a76-4f05-4b51-8155-edae7d947b1a\">\n",
              "    <div class=\"colab-df-container\">\n",
              "      <div>\n",
              "<style scoped>\n",
              "    .dataframe tbody tr th:only-of-type {\n",
              "        vertical-align: middle;\n",
              "    }\n",
              "\n",
              "    .dataframe tbody tr th {\n",
              "        vertical-align: top;\n",
              "    }\n",
              "\n",
              "    .dataframe thead th {\n",
              "        text-align: right;\n",
              "    }\n",
              "</style>\n",
              "<table border=\"1\" class=\"dataframe\">\n",
              "  <thead>\n",
              "    <tr style=\"text-align: right;\">\n",
              "      <th></th>\n",
              "      <th>user</th>\n",
              "      <th>timestamp</th>\n",
              "      <th>x</th>\n",
              "      <th>y</th>\n",
              "      <th>z</th>\n",
              "      <th>class</th>\n",
              "      <th>user_c</th>\n",
              "      <th>class_c</th>\n",
              "      <th>timestamp_shifted</th>\n",
              "      <th>time_diff</th>\n",
              "      <th>seq_new</th>\n",
              "      <th>seq</th>\n",
              "      <th>min_t</th>\n",
              "      <th>window_this_seq</th>\n",
              "      <th>window_id</th>\n",
              "    </tr>\n",
              "  </thead>\n",
              "  <tbody>\n",
              "    <tr>\n",
              "      <th>0</th>\n",
              "      <td>a2d80ed662f34d32951eb1c6ed076c313e358b73</td>\n",
              "      <td>2018-06-04 16:26:55</td>\n",
              "      <td>0.78</td>\n",
              "      <td>-9.13</td>\n",
              "      <td>-3.74</td>\n",
              "      <td>bus</td>\n",
              "      <td>True</td>\n",
              "      <td>True</td>\n",
              "      <td>NaT</td>\n",
              "      <td>NaN</td>\n",
              "      <td>True</td>\n",
              "      <td>2</td>\n",
              "      <td>2018-06-04 16:26:55</td>\n",
              "      <td>0</td>\n",
              "      <td>2.0</td>\n",
              "    </tr>\n",
              "    <tr>\n",
              "      <th>1</th>\n",
              "      <td>a2d80ed662f34d32951eb1c6ed076c313e358b73</td>\n",
              "      <td>2018-06-04 16:26:55</td>\n",
              "      <td>0.79</td>\n",
              "      <td>-9.11</td>\n",
              "      <td>-3.75</td>\n",
              "      <td>bus</td>\n",
              "      <td>False</td>\n",
              "      <td>False</td>\n",
              "      <td>2018-06-04 16:26:55</td>\n",
              "      <td>0.0</td>\n",
              "      <td>False</td>\n",
              "      <td>2</td>\n",
              "      <td>2018-06-04 16:26:55</td>\n",
              "      <td>0</td>\n",
              "      <td>2.0</td>\n",
              "    </tr>\n",
              "    <tr>\n",
              "      <th>2</th>\n",
              "      <td>a2d80ed662f34d32951eb1c6ed076c313e358b73</td>\n",
              "      <td>2018-06-04 16:26:55</td>\n",
              "      <td>0.80</td>\n",
              "      <td>-9.12</td>\n",
              "      <td>-3.75</td>\n",
              "      <td>bus</td>\n",
              "      <td>False</td>\n",
              "      <td>False</td>\n",
              "      <td>2018-06-04 16:26:55</td>\n",
              "      <td>0.0</td>\n",
              "      <td>False</td>\n",
              "      <td>2</td>\n",
              "      <td>2018-06-04 16:26:55</td>\n",
              "      <td>0</td>\n",
              "      <td>2.0</td>\n",
              "    </tr>\n",
              "    <tr>\n",
              "      <th>3</th>\n",
              "      <td>a2d80ed662f34d32951eb1c6ed076c313e358b73</td>\n",
              "      <td>2018-06-04 16:26:55</td>\n",
              "      <td>0.78</td>\n",
              "      <td>-9.14</td>\n",
              "      <td>-3.76</td>\n",
              "      <td>bus</td>\n",
              "      <td>False</td>\n",
              "      <td>False</td>\n",
              "      <td>2018-06-04 16:26:55</td>\n",
              "      <td>0.0</td>\n",
              "      <td>False</td>\n",
              "      <td>2</td>\n",
              "      <td>2018-06-04 16:26:55</td>\n",
              "      <td>0</td>\n",
              "      <td>2.0</td>\n",
              "    </tr>\n",
              "    <tr>\n",
              "      <th>4</th>\n",
              "      <td>a2d80ed662f34d32951eb1c6ed076c313e358b73</td>\n",
              "      <td>2018-06-04 16:26:55</td>\n",
              "      <td>0.83</td>\n",
              "      <td>-9.12</td>\n",
              "      <td>-3.80</td>\n",
              "      <td>bus</td>\n",
              "      <td>False</td>\n",
              "      <td>False</td>\n",
              "      <td>2018-06-04 16:26:55</td>\n",
              "      <td>0.0</td>\n",
              "      <td>False</td>\n",
              "      <td>2</td>\n",
              "      <td>2018-06-04 16:26:55</td>\n",
              "      <td>0</td>\n",
              "      <td>2.0</td>\n",
              "    </tr>\n",
              "  </tbody>\n",
              "</table>\n",
              "</div>\n",
              "      <button class=\"colab-df-convert\" onclick=\"convertToInteractive('df-1fc91a76-4f05-4b51-8155-edae7d947b1a')\"\n",
              "              title=\"Convert this dataframe to an interactive table.\"\n",
              "              style=\"display:none;\">\n",
              "        \n",
              "  <svg xmlns=\"http://www.w3.org/2000/svg\" height=\"24px\"viewBox=\"0 0 24 24\"\n",
              "       width=\"24px\">\n",
              "    <path d=\"M0 0h24v24H0V0z\" fill=\"none\"/>\n",
              "    <path d=\"M18.56 5.44l.94 2.06.94-2.06 2.06-.94-2.06-.94-.94-2.06-.94 2.06-2.06.94zm-11 1L8.5 8.5l.94-2.06 2.06-.94-2.06-.94L8.5 2.5l-.94 2.06-2.06.94zm10 10l.94 2.06.94-2.06 2.06-.94-2.06-.94-.94-2.06-.94 2.06-2.06.94z\"/><path d=\"M17.41 7.96l-1.37-1.37c-.4-.4-.92-.59-1.43-.59-.52 0-1.04.2-1.43.59L10.3 9.45l-7.72 7.72c-.78.78-.78 2.05 0 2.83L4 21.41c.39.39.9.59 1.41.59.51 0 1.02-.2 1.41-.59l7.78-7.78 2.81-2.81c.8-.78.8-2.07 0-2.86zM5.41 20L4 18.59l7.72-7.72 1.47 1.35L5.41 20z\"/>\n",
              "  </svg>\n",
              "      </button>\n",
              "      \n",
              "  <style>\n",
              "    .colab-df-container {\n",
              "      display:flex;\n",
              "      flex-wrap:wrap;\n",
              "      gap: 12px;\n",
              "    }\n",
              "\n",
              "    .colab-df-convert {\n",
              "      background-color: #E8F0FE;\n",
              "      border: none;\n",
              "      border-radius: 50%;\n",
              "      cursor: pointer;\n",
              "      display: none;\n",
              "      fill: #1967D2;\n",
              "      height: 32px;\n",
              "      padding: 0 0 0 0;\n",
              "      width: 32px;\n",
              "    }\n",
              "\n",
              "    .colab-df-convert:hover {\n",
              "      background-color: #E2EBFA;\n",
              "      box-shadow: 0px 1px 2px rgba(60, 64, 67, 0.3), 0px 1px 3px 1px rgba(60, 64, 67, 0.15);\n",
              "      fill: #174EA6;\n",
              "    }\n",
              "\n",
              "    [theme=dark] .colab-df-convert {\n",
              "      background-color: #3B4455;\n",
              "      fill: #D2E3FC;\n",
              "    }\n",
              "\n",
              "    [theme=dark] .colab-df-convert:hover {\n",
              "      background-color: #434B5C;\n",
              "      box-shadow: 0px 1px 3px 1px rgba(0, 0, 0, 0.15);\n",
              "      filter: drop-shadow(0px 1px 2px rgba(0, 0, 0, 0.3));\n",
              "      fill: #FFFFFF;\n",
              "    }\n",
              "  </style>\n",
              "\n",
              "      <script>\n",
              "        const buttonEl =\n",
              "          document.querySelector('#df-1fc91a76-4f05-4b51-8155-edae7d947b1a button.colab-df-convert');\n",
              "        buttonEl.style.display =\n",
              "          google.colab.kernel.accessAllowed ? 'block' : 'none';\n",
              "\n",
              "        async function convertToInteractive(key) {\n",
              "          const element = document.querySelector('#df-1fc91a76-4f05-4b51-8155-edae7d947b1a');\n",
              "          const dataTable =\n",
              "            await google.colab.kernel.invokeFunction('convertToInteractive',\n",
              "                                                     [key], {});\n",
              "          if (!dataTable) return;\n",
              "\n",
              "          const docLinkHtml = 'Like what you see? Visit the ' +\n",
              "            '<a target=\"_blank\" href=https://colab.research.google.com/notebooks/data_table.ipynb>data table notebook</a>'\n",
              "            + ' to learn more about interactive tables.';\n",
              "          element.innerHTML = '';\n",
              "          dataTable['output_type'] = 'display_data';\n",
              "          await google.colab.output.renderOutput(dataTable, element);\n",
              "          const docLink = document.createElement('div');\n",
              "          docLink.innerHTML = docLinkHtml;\n",
              "          element.appendChild(docLink);\n",
              "        }\n",
              "      </script>\n",
              "    </div>\n",
              "  </div>\n",
              "  "
            ],
            "text/plain": [
              "                                       user           timestamp     x     y  \\\n",
              "0  a2d80ed662f34d32951eb1c6ed076c313e358b73 2018-06-04 16:26:55  0.78 -9.13   \n",
              "1  a2d80ed662f34d32951eb1c6ed076c313e358b73 2018-06-04 16:26:55  0.79 -9.11   \n",
              "2  a2d80ed662f34d32951eb1c6ed076c313e358b73 2018-06-04 16:26:55  0.80 -9.12   \n",
              "3  a2d80ed662f34d32951eb1c6ed076c313e358b73 2018-06-04 16:26:55  0.78 -9.14   \n",
              "4  a2d80ed662f34d32951eb1c6ed076c313e358b73 2018-06-04 16:26:55  0.83 -9.12   \n",
              "\n",
              "      z class  user_c  class_c   timestamp_shifted  time_diff  seq_new  seq  \\\n",
              "0 -3.74   bus    True     True                 NaT        NaN     True    2   \n",
              "1 -3.75   bus   False    False 2018-06-04 16:26:55        0.0    False    2   \n",
              "2 -3.75   bus   False    False 2018-06-04 16:26:55        0.0    False    2   \n",
              "3 -3.76   bus   False    False 2018-06-04 16:26:55        0.0    False    2   \n",
              "4 -3.80   bus   False    False 2018-06-04 16:26:55        0.0    False    2   \n",
              "\n",
              "                min_t  window_this_seq window_id  \n",
              "0 2018-06-04 16:26:55                0       2.0  \n",
              "1 2018-06-04 16:26:55                0       2.0  \n",
              "2 2018-06-04 16:26:55                0       2.0  \n",
              "3 2018-06-04 16:26:55                0       2.0  \n",
              "4 2018-06-04 16:26:55                0       2.0  "
            ]
          },
          "metadata": {},
          "execution_count": 61
        }
      ]
    },
    {
      "cell_type": "code",
      "source": [
        "prob_3 = df.drop(['timestamp','x','y','z','user_c','class_c', 'timestamp_shifted', 'time_diff', 'seq_new', 'seq', 'min_t', 'window_this_seq'], axis = 1)"
      ],
      "metadata": {
        "id": "Sqe5MJRiMIch"
      },
      "execution_count": 64,
      "outputs": []
    },
    {
      "cell_type": "code",
      "source": [
        "prob_3"
      ],
      "metadata": {
        "colab": {
          "base_uri": "https://localhost:8080/",
          "height": 423
        },
        "id": "_SUboEFfQYvs",
        "outputId": "adb7f725-c6c7-442b-bfde-ae49bb3f04fd"
      },
      "execution_count": 65,
      "outputs": [
        {
          "output_type": "execute_result",
          "data": {
            "text/html": [
              "\n",
              "  <div id=\"df-35097834-a4fb-48e3-8316-6d21758aeaee\">\n",
              "    <div class=\"colab-df-container\">\n",
              "      <div>\n",
              "<style scoped>\n",
              "    .dataframe tbody tr th:only-of-type {\n",
              "        vertical-align: middle;\n",
              "    }\n",
              "\n",
              "    .dataframe tbody tr th {\n",
              "        vertical-align: top;\n",
              "    }\n",
              "\n",
              "    .dataframe thead th {\n",
              "        text-align: right;\n",
              "    }\n",
              "</style>\n",
              "<table border=\"1\" class=\"dataframe\">\n",
              "  <thead>\n",
              "    <tr style=\"text-align: right;\">\n",
              "      <th></th>\n",
              "      <th>user</th>\n",
              "      <th>class</th>\n",
              "      <th>window_id</th>\n",
              "    </tr>\n",
              "  </thead>\n",
              "  <tbody>\n",
              "    <tr>\n",
              "      <th>0</th>\n",
              "      <td>a2d80ed662f34d32951eb1c6ed076c313e358b73</td>\n",
              "      <td>bus</td>\n",
              "      <td>2.0</td>\n",
              "    </tr>\n",
              "    <tr>\n",
              "      <th>1</th>\n",
              "      <td>a2d80ed662f34d32951eb1c6ed076c313e358b73</td>\n",
              "      <td>bus</td>\n",
              "      <td>2.0</td>\n",
              "    </tr>\n",
              "    <tr>\n",
              "      <th>2</th>\n",
              "      <td>a2d80ed662f34d32951eb1c6ed076c313e358b73</td>\n",
              "      <td>bus</td>\n",
              "      <td>2.0</td>\n",
              "    </tr>\n",
              "    <tr>\n",
              "      <th>3</th>\n",
              "      <td>a2d80ed662f34d32951eb1c6ed076c313e358b73</td>\n",
              "      <td>bus</td>\n",
              "      <td>2.0</td>\n",
              "    </tr>\n",
              "    <tr>\n",
              "      <th>4</th>\n",
              "      <td>a2d80ed662f34d32951eb1c6ed076c313e358b73</td>\n",
              "      <td>bus</td>\n",
              "      <td>2.0</td>\n",
              "    </tr>\n",
              "    <tr>\n",
              "      <th>...</th>\n",
              "      <td>...</td>\n",
              "      <td>...</td>\n",
              "      <td>...</td>\n",
              "    </tr>\n",
              "    <tr>\n",
              "      <th>5653048</th>\n",
              "      <td>faae5be800be2dfa897eea0bd2e5988cd53c4ec0</td>\n",
              "      <td>bike</td>\n",
              "      <td>3379.2</td>\n",
              "    </tr>\n",
              "    <tr>\n",
              "      <th>5653049</th>\n",
              "      <td>faae5be800be2dfa897eea0bd2e5988cd53c4ec0</td>\n",
              "      <td>bike</td>\n",
              "      <td>3379.2</td>\n",
              "    </tr>\n",
              "    <tr>\n",
              "      <th>5653050</th>\n",
              "      <td>faae5be800be2dfa897eea0bd2e5988cd53c4ec0</td>\n",
              "      <td>bike</td>\n",
              "      <td>3379.2</td>\n",
              "    </tr>\n",
              "    <tr>\n",
              "      <th>5653051</th>\n",
              "      <td>faae5be800be2dfa897eea0bd2e5988cd53c4ec0</td>\n",
              "      <td>bike</td>\n",
              "      <td>3379.2</td>\n",
              "    </tr>\n",
              "    <tr>\n",
              "      <th>5653052</th>\n",
              "      <td>faae5be800be2dfa897eea0bd2e5988cd53c4ec0</td>\n",
              "      <td>bike</td>\n",
              "      <td>3379.2</td>\n",
              "    </tr>\n",
              "  </tbody>\n",
              "</table>\n",
              "<p>5653053 rows × 3 columns</p>\n",
              "</div>\n",
              "      <button class=\"colab-df-convert\" onclick=\"convertToInteractive('df-35097834-a4fb-48e3-8316-6d21758aeaee')\"\n",
              "              title=\"Convert this dataframe to an interactive table.\"\n",
              "              style=\"display:none;\">\n",
              "        \n",
              "  <svg xmlns=\"http://www.w3.org/2000/svg\" height=\"24px\"viewBox=\"0 0 24 24\"\n",
              "       width=\"24px\">\n",
              "    <path d=\"M0 0h24v24H0V0z\" fill=\"none\"/>\n",
              "    <path d=\"M18.56 5.44l.94 2.06.94-2.06 2.06-.94-2.06-.94-.94-2.06-.94 2.06-2.06.94zm-11 1L8.5 8.5l.94-2.06 2.06-.94-2.06-.94L8.5 2.5l-.94 2.06-2.06.94zm10 10l.94 2.06.94-2.06 2.06-.94-2.06-.94-.94-2.06-.94 2.06-2.06.94z\"/><path d=\"M17.41 7.96l-1.37-1.37c-.4-.4-.92-.59-1.43-.59-.52 0-1.04.2-1.43.59L10.3 9.45l-7.72 7.72c-.78.78-.78 2.05 0 2.83L4 21.41c.39.39.9.59 1.41.59.51 0 1.02-.2 1.41-.59l7.78-7.78 2.81-2.81c.8-.78.8-2.07 0-2.86zM5.41 20L4 18.59l7.72-7.72 1.47 1.35L5.41 20z\"/>\n",
              "  </svg>\n",
              "      </button>\n",
              "      \n",
              "  <style>\n",
              "    .colab-df-container {\n",
              "      display:flex;\n",
              "      flex-wrap:wrap;\n",
              "      gap: 12px;\n",
              "    }\n",
              "\n",
              "    .colab-df-convert {\n",
              "      background-color: #E8F0FE;\n",
              "      border: none;\n",
              "      border-radius: 50%;\n",
              "      cursor: pointer;\n",
              "      display: none;\n",
              "      fill: #1967D2;\n",
              "      height: 32px;\n",
              "      padding: 0 0 0 0;\n",
              "      width: 32px;\n",
              "    }\n",
              "\n",
              "    .colab-df-convert:hover {\n",
              "      background-color: #E2EBFA;\n",
              "      box-shadow: 0px 1px 2px rgba(60, 64, 67, 0.3), 0px 1px 3px 1px rgba(60, 64, 67, 0.15);\n",
              "      fill: #174EA6;\n",
              "    }\n",
              "\n",
              "    [theme=dark] .colab-df-convert {\n",
              "      background-color: #3B4455;\n",
              "      fill: #D2E3FC;\n",
              "    }\n",
              "\n",
              "    [theme=dark] .colab-df-convert:hover {\n",
              "      background-color: #434B5C;\n",
              "      box-shadow: 0px 1px 3px 1px rgba(0, 0, 0, 0.15);\n",
              "      filter: drop-shadow(0px 1px 2px rgba(0, 0, 0, 0.3));\n",
              "      fill: #FFFFFF;\n",
              "    }\n",
              "  </style>\n",
              "\n",
              "      <script>\n",
              "        const buttonEl =\n",
              "          document.querySelector('#df-35097834-a4fb-48e3-8316-6d21758aeaee button.colab-df-convert');\n",
              "        buttonEl.style.display =\n",
              "          google.colab.kernel.accessAllowed ? 'block' : 'none';\n",
              "\n",
              "        async function convertToInteractive(key) {\n",
              "          const element = document.querySelector('#df-35097834-a4fb-48e3-8316-6d21758aeaee');\n",
              "          const dataTable =\n",
              "            await google.colab.kernel.invokeFunction('convertToInteractive',\n",
              "                                                     [key], {});\n",
              "          if (!dataTable) return;\n",
              "\n",
              "          const docLinkHtml = 'Like what you see? Visit the ' +\n",
              "            '<a target=\"_blank\" href=https://colab.research.google.com/notebooks/data_table.ipynb>data table notebook</a>'\n",
              "            + ' to learn more about interactive tables.';\n",
              "          element.innerHTML = '';\n",
              "          dataTable['output_type'] = 'display_data';\n",
              "          await google.colab.output.renderOutput(dataTable, element);\n",
              "          const docLink = document.createElement('div');\n",
              "          docLink.innerHTML = docLinkHtml;\n",
              "          element.appendChild(docLink);\n",
              "        }\n",
              "      </script>\n",
              "    </div>\n",
              "  </div>\n",
              "  "
            ],
            "text/plain": [
              "                                             user class window_id\n",
              "0        a2d80ed662f34d32951eb1c6ed076c313e358b73   bus       2.0\n",
              "1        a2d80ed662f34d32951eb1c6ed076c313e358b73   bus       2.0\n",
              "2        a2d80ed662f34d32951eb1c6ed076c313e358b73   bus       2.0\n",
              "3        a2d80ed662f34d32951eb1c6ed076c313e358b73   bus       2.0\n",
              "4        a2d80ed662f34d32951eb1c6ed076c313e358b73   bus       2.0\n",
              "...                                           ...   ...       ...\n",
              "5653048  faae5be800be2dfa897eea0bd2e5988cd53c4ec0  bike    3379.2\n",
              "5653049  faae5be800be2dfa897eea0bd2e5988cd53c4ec0  bike    3379.2\n",
              "5653050  faae5be800be2dfa897eea0bd2e5988cd53c4ec0  bike    3379.2\n",
              "5653051  faae5be800be2dfa897eea0bd2e5988cd53c4ec0  bike    3379.2\n",
              "5653052  faae5be800be2dfa897eea0bd2e5988cd53c4ec0  bike    3379.2\n",
              "\n",
              "[5653053 rows x 3 columns]"
            ]
          },
          "metadata": {},
          "execution_count": 65
        }
      ]
    },
    {
      "cell_type": "markdown",
      "source": [
        "### The below table shows the number of partitions for each user and class"
      ],
      "metadata": {
        "id": "bpnub9nz_ViR"
      }
    },
    {
      "cell_type": "code",
      "source": [
        "sol_3 = prob_3.groupby(['user','class']).nunique()\n",
        "pd.set_option('display.max_rows',None, 'display.max_columns',None)\n",
        "sol_3"
      ],
      "metadata": {
        "colab": {
          "base_uri": "https://localhost:8080/",
          "height": 1000
        },
        "id": "ug9WE1boRqqe",
        "outputId": "a414aa07-7406-45d7-e187-48f501f4946c"
      },
      "execution_count": 66,
      "outputs": [
        {
          "output_type": "execute_result",
          "data": {
            "text/html": [
              "\n",
              "  <div id=\"df-7b1c5aba-7072-48ea-9146-302d1e3cc8e5\">\n",
              "    <div class=\"colab-df-container\">\n",
              "      <div>\n",
              "<style scoped>\n",
              "    .dataframe tbody tr th:only-of-type {\n",
              "        vertical-align: middle;\n",
              "    }\n",
              "\n",
              "    .dataframe tbody tr th {\n",
              "        vertical-align: top;\n",
              "    }\n",
              "\n",
              "    .dataframe thead th {\n",
              "        text-align: right;\n",
              "    }\n",
              "</style>\n",
              "<table border=\"1\" class=\"dataframe\">\n",
              "  <thead>\n",
              "    <tr style=\"text-align: right;\">\n",
              "      <th></th>\n",
              "      <th></th>\n",
              "      <th>window_id</th>\n",
              "    </tr>\n",
              "    <tr>\n",
              "      <th>user</th>\n",
              "      <th>class</th>\n",
              "      <th></th>\n",
              "    </tr>\n",
              "  </thead>\n",
              "  <tbody>\n",
              "    <tr>\n",
              "      <th>a2d80ed662f34d32951eb1c6ed076c313e358b73</th>\n",
              "      <th>bus</th>\n",
              "      <td>34</td>\n",
              "    </tr>\n",
              "    <tr>\n",
              "      <th rowspan=\"2\" valign=\"top\">a526f3566e9c9024dfa7378eb4291d787a09fd37</th>\n",
              "      <th>car</th>\n",
              "      <td>1542</td>\n",
              "    </tr>\n",
              "    <tr>\n",
              "      <th>walk</th>\n",
              "      <td>298</td>\n",
              "    </tr>\n",
              "    <tr>\n",
              "      <th rowspan=\"4\" valign=\"top\">a59868c6eb3645eedbb343ce8c336ec6f2ef2324</th>\n",
              "      <th>bike</th>\n",
              "      <td>565</td>\n",
              "    </tr>\n",
              "    <tr>\n",
              "      <th>bus</th>\n",
              "      <td>3853</td>\n",
              "    </tr>\n",
              "    <tr>\n",
              "      <th>car</th>\n",
              "      <td>2083</td>\n",
              "    </tr>\n",
              "    <tr>\n",
              "      <th>walk</th>\n",
              "      <td>824</td>\n",
              "    </tr>\n",
              "    <tr>\n",
              "      <th>a92dee88f61123f923dccec01eeecf1a81953b36</th>\n",
              "      <th>bus</th>\n",
              "      <td>729</td>\n",
              "    </tr>\n",
              "    <tr>\n",
              "      <th rowspan=\"2\" valign=\"top\">ac4c17afeb69b39169eb301ab592696a8f353976</th>\n",
              "      <th>car</th>\n",
              "      <td>62</td>\n",
              "    </tr>\n",
              "    <tr>\n",
              "      <th>walk</th>\n",
              "      <td>479</td>\n",
              "    </tr>\n",
              "    <tr>\n",
              "      <th rowspan=\"3\" valign=\"top\">adaaae1a67ea9e43abd60ba945eccda0cb8821e0</th>\n",
              "      <th>bus</th>\n",
              "      <td>1156</td>\n",
              "    </tr>\n",
              "    <tr>\n",
              "      <th>car</th>\n",
              "      <td>533</td>\n",
              "    </tr>\n",
              "    <tr>\n",
              "      <th>walk</th>\n",
              "      <td>153</td>\n",
              "    </tr>\n",
              "    <tr>\n",
              "      <th>b138d165100ef60bc793cac143742eb5aea4d6ba</th>\n",
              "      <th>car</th>\n",
              "      <td>415</td>\n",
              "    </tr>\n",
              "    <tr>\n",
              "      <th rowspan=\"2\" valign=\"top\">b45157069942d01310c3e7b74034166717bb25f9</th>\n",
              "      <th>car</th>\n",
              "      <td>428</td>\n",
              "    </tr>\n",
              "    <tr>\n",
              "      <th>walk</th>\n",
              "      <td>74</td>\n",
              "    </tr>\n",
              "    <tr>\n",
              "      <th rowspan=\"2\" valign=\"top\">b7b165e5637b5a0226068d907748f4bbfc61a320</th>\n",
              "      <th>car</th>\n",
              "      <td>2131</td>\n",
              "    </tr>\n",
              "    <tr>\n",
              "      <th>walk</th>\n",
              "      <td>203</td>\n",
              "    </tr>\n",
              "    <tr>\n",
              "      <th rowspan=\"2\" valign=\"top\">c453226e3616ae821cdcb38f38481c2a20f2482f</th>\n",
              "      <th>bike</th>\n",
              "      <td>501</td>\n",
              "    </tr>\n",
              "    <tr>\n",
              "      <th>bus</th>\n",
              "      <td>1467</td>\n",
              "    </tr>\n",
              "    <tr>\n",
              "      <th rowspan=\"3\" valign=\"top\">c5702d34b238fe68683f818e82cd3a3cd8a16366</th>\n",
              "      <th>bike</th>\n",
              "      <td>203</td>\n",
              "    </tr>\n",
              "    <tr>\n",
              "      <th>bus</th>\n",
              "      <td>198</td>\n",
              "    </tr>\n",
              "    <tr>\n",
              "      <th>walk</th>\n",
              "      <td>1239</td>\n",
              "    </tr>\n",
              "    <tr>\n",
              "      <th>ca7950f223a8037b897d0547075dc138f9e43b20</th>\n",
              "      <th>walk</th>\n",
              "      <td>64</td>\n",
              "    </tr>\n",
              "    <tr>\n",
              "      <th>cace4ec0999436917986b4fa6e9317262c897bc2</th>\n",
              "      <th>car</th>\n",
              "      <td>1150</td>\n",
              "    </tr>\n",
              "    <tr>\n",
              "      <th>cbde60baea002b694ecf2a3ff2d95be16b00efe1</th>\n",
              "      <th>bus</th>\n",
              "      <td>413</td>\n",
              "    </tr>\n",
              "    <tr>\n",
              "      <th rowspan=\"2\" valign=\"top\">ce39f5d0705695fcd70a04ba6d84ac6beecd6f9c</th>\n",
              "      <th>bus</th>\n",
              "      <td>447</td>\n",
              "    </tr>\n",
              "    <tr>\n",
              "      <th>car</th>\n",
              "      <td>505</td>\n",
              "    </tr>\n",
              "    <tr>\n",
              "      <th rowspan=\"3\" valign=\"top\">d429974540bfd38c3367fe9f0c8682775ff4fa18</th>\n",
              "      <th>bus</th>\n",
              "      <td>519</td>\n",
              "    </tr>\n",
              "    <tr>\n",
              "      <th>car</th>\n",
              "      <td>919</td>\n",
              "    </tr>\n",
              "    <tr>\n",
              "      <th>walk</th>\n",
              "      <td>101</td>\n",
              "    </tr>\n",
              "    <tr>\n",
              "      <th rowspan=\"3\" valign=\"top\">d7a1230d94f91a32cc079809748e52e8a4a6a22f</th>\n",
              "      <th>bike</th>\n",
              "      <td>368</td>\n",
              "    </tr>\n",
              "    <tr>\n",
              "      <th>train</th>\n",
              "      <td>418</td>\n",
              "    </tr>\n",
              "    <tr>\n",
              "      <th>walk</th>\n",
              "      <td>80</td>\n",
              "    </tr>\n",
              "    <tr>\n",
              "      <th>d7dd12d83c81574137f858034b99f4cc83ab0718</th>\n",
              "      <th>car</th>\n",
              "      <td>673</td>\n",
              "    </tr>\n",
              "    <tr>\n",
              "      <th rowspan=\"2\" valign=\"top\">d8c047eaaee204b7b5cd71e2d67308b87b038ed3</th>\n",
              "      <th>car</th>\n",
              "      <td>1761</td>\n",
              "    </tr>\n",
              "    <tr>\n",
              "      <th>walk</th>\n",
              "      <td>163</td>\n",
              "    </tr>\n",
              "    <tr>\n",
              "      <th rowspan=\"3\" valign=\"top\">dc0bdce306ec3b624fe0e6ecd1ffbd82cb970120</th>\n",
              "      <th>bike</th>\n",
              "      <td>573</td>\n",
              "    </tr>\n",
              "    <tr>\n",
              "      <th>car</th>\n",
              "      <td>147</td>\n",
              "    </tr>\n",
              "    <tr>\n",
              "      <th>walk</th>\n",
              "      <td>36</td>\n",
              "    </tr>\n",
              "    <tr>\n",
              "      <th rowspan=\"2\" valign=\"top\">dd82e3df4bebc74ed6b67877be79e29f401c16a3</th>\n",
              "      <th>car</th>\n",
              "      <td>938</td>\n",
              "    </tr>\n",
              "    <tr>\n",
              "      <th>walk</th>\n",
              "      <td>236</td>\n",
              "    </tr>\n",
              "    <tr>\n",
              "      <th rowspan=\"3\" valign=\"top\">dde95e125d89843f7032baa734ee4d34ec775aaf</th>\n",
              "      <th>bus</th>\n",
              "      <td>34</td>\n",
              "    </tr>\n",
              "    <tr>\n",
              "      <th>car</th>\n",
              "      <td>42</td>\n",
              "    </tr>\n",
              "    <tr>\n",
              "      <th>walk</th>\n",
              "      <td>50</td>\n",
              "    </tr>\n",
              "    <tr>\n",
              "      <th rowspan=\"2\" valign=\"top\">de9892b879c83ea3d24fb4560873107cc4e86d48</th>\n",
              "      <th>car</th>\n",
              "      <td>923</td>\n",
              "    </tr>\n",
              "    <tr>\n",
              "      <th>walk</th>\n",
              "      <td>336</td>\n",
              "    </tr>\n",
              "    <tr>\n",
              "      <th rowspan=\"3\" valign=\"top\">dfcfc0404691b73b69884073159f90843f2ac35b</th>\n",
              "      <th>bus</th>\n",
              "      <td>439</td>\n",
              "    </tr>\n",
              "    <tr>\n",
              "      <th>car</th>\n",
              "      <td>1267</td>\n",
              "    </tr>\n",
              "    <tr>\n",
              "      <th>walk</th>\n",
              "      <td>794</td>\n",
              "    </tr>\n",
              "    <tr>\n",
              "      <th rowspan=\"2\" valign=\"top\">e429a95c532f1117130c11e4a18379d84fa4ffa9</th>\n",
              "      <th>bus</th>\n",
              "      <td>619</td>\n",
              "    </tr>\n",
              "    <tr>\n",
              "      <th>car</th>\n",
              "      <td>184</td>\n",
              "    </tr>\n",
              "    <tr>\n",
              "      <th rowspan=\"3\" valign=\"top\">eb9e7854290fd6ea9ebaf448b640fc1f1dbeb076</th>\n",
              "      <th>bus</th>\n",
              "      <td>357</td>\n",
              "    </tr>\n",
              "    <tr>\n",
              "      <th>train</th>\n",
              "      <td>158</td>\n",
              "    </tr>\n",
              "    <tr>\n",
              "      <th>walk</th>\n",
              "      <td>196</td>\n",
              "    </tr>\n",
              "    <tr>\n",
              "      <th rowspan=\"3\" valign=\"top\">ecfb0929250fb6dda66a4065441230ab27f094e5</th>\n",
              "      <th>car</th>\n",
              "      <td>1027</td>\n",
              "    </tr>\n",
              "    <tr>\n",
              "      <th>e-bike</th>\n",
              "      <td>79</td>\n",
              "    </tr>\n",
              "    <tr>\n",
              "      <th>train</th>\n",
              "      <td>21</td>\n",
              "    </tr>\n",
              "    <tr>\n",
              "      <th rowspan=\"3\" valign=\"top\">ed623d28c1e0071632a6110b8f8ed93f8af78b99</th>\n",
              "      <th>bus</th>\n",
              "      <td>71</td>\n",
              "    </tr>\n",
              "    <tr>\n",
              "      <th>car</th>\n",
              "      <td>2172</td>\n",
              "    </tr>\n",
              "    <tr>\n",
              "      <th>walk</th>\n",
              "      <td>16</td>\n",
              "    </tr>\n",
              "    <tr>\n",
              "      <th rowspan=\"3\" valign=\"top\">f1b7331b66e404c11eebb22933e733117bbb12c9</th>\n",
              "      <th>bike</th>\n",
              "      <td>393</td>\n",
              "    </tr>\n",
              "    <tr>\n",
              "      <th>car</th>\n",
              "      <td>776</td>\n",
              "    </tr>\n",
              "    <tr>\n",
              "      <th>walk</th>\n",
              "      <td>197</td>\n",
              "    </tr>\n",
              "    <tr>\n",
              "      <th rowspan=\"2\" valign=\"top\">f5edd999397145a2ec1b244226fc83f99631760c</th>\n",
              "      <th>bus</th>\n",
              "      <td>302</td>\n",
              "    </tr>\n",
              "    <tr>\n",
              "      <th>walk</th>\n",
              "      <td>118</td>\n",
              "    </tr>\n",
              "    <tr>\n",
              "      <th>f7ae1ce141c26db40ea8b090fb568a0c965310aa</th>\n",
              "      <th>car</th>\n",
              "      <td>289</td>\n",
              "    </tr>\n",
              "    <tr>\n",
              "      <th rowspan=\"3\" valign=\"top\">faae5be800be2dfa897eea0bd2e5988cd53c4ec0</th>\n",
              "      <th>bike</th>\n",
              "      <td>541</td>\n",
              "    </tr>\n",
              "    <tr>\n",
              "      <th>car</th>\n",
              "      <td>225</td>\n",
              "    </tr>\n",
              "    <tr>\n",
              "      <th>walk</th>\n",
              "      <td>151</td>\n",
              "    </tr>\n",
              "  </tbody>\n",
              "</table>\n",
              "</div>\n",
              "      <button class=\"colab-df-convert\" onclick=\"convertToInteractive('df-7b1c5aba-7072-48ea-9146-302d1e3cc8e5')\"\n",
              "              title=\"Convert this dataframe to an interactive table.\"\n",
              "              style=\"display:none;\">\n",
              "        \n",
              "  <svg xmlns=\"http://www.w3.org/2000/svg\" height=\"24px\"viewBox=\"0 0 24 24\"\n",
              "       width=\"24px\">\n",
              "    <path d=\"M0 0h24v24H0V0z\" fill=\"none\"/>\n",
              "    <path d=\"M18.56 5.44l.94 2.06.94-2.06 2.06-.94-2.06-.94-.94-2.06-.94 2.06-2.06.94zm-11 1L8.5 8.5l.94-2.06 2.06-.94-2.06-.94L8.5 2.5l-.94 2.06-2.06.94zm10 10l.94 2.06.94-2.06 2.06-.94-2.06-.94-.94-2.06-.94 2.06-2.06.94z\"/><path d=\"M17.41 7.96l-1.37-1.37c-.4-.4-.92-.59-1.43-.59-.52 0-1.04.2-1.43.59L10.3 9.45l-7.72 7.72c-.78.78-.78 2.05 0 2.83L4 21.41c.39.39.9.59 1.41.59.51 0 1.02-.2 1.41-.59l7.78-7.78 2.81-2.81c.8-.78.8-2.07 0-2.86zM5.41 20L4 18.59l7.72-7.72 1.47 1.35L5.41 20z\"/>\n",
              "  </svg>\n",
              "      </button>\n",
              "      \n",
              "  <style>\n",
              "    .colab-df-container {\n",
              "      display:flex;\n",
              "      flex-wrap:wrap;\n",
              "      gap: 12px;\n",
              "    }\n",
              "\n",
              "    .colab-df-convert {\n",
              "      background-color: #E8F0FE;\n",
              "      border: none;\n",
              "      border-radius: 50%;\n",
              "      cursor: pointer;\n",
              "      display: none;\n",
              "      fill: #1967D2;\n",
              "      height: 32px;\n",
              "      padding: 0 0 0 0;\n",
              "      width: 32px;\n",
              "    }\n",
              "\n",
              "    .colab-df-convert:hover {\n",
              "      background-color: #E2EBFA;\n",
              "      box-shadow: 0px 1px 2px rgba(60, 64, 67, 0.3), 0px 1px 3px 1px rgba(60, 64, 67, 0.15);\n",
              "      fill: #174EA6;\n",
              "    }\n",
              "\n",
              "    [theme=dark] .colab-df-convert {\n",
              "      background-color: #3B4455;\n",
              "      fill: #D2E3FC;\n",
              "    }\n",
              "\n",
              "    [theme=dark] .colab-df-convert:hover {\n",
              "      background-color: #434B5C;\n",
              "      box-shadow: 0px 1px 3px 1px rgba(0, 0, 0, 0.15);\n",
              "      filter: drop-shadow(0px 1px 2px rgba(0, 0, 0, 0.3));\n",
              "      fill: #FFFFFF;\n",
              "    }\n",
              "  </style>\n",
              "\n",
              "      <script>\n",
              "        const buttonEl =\n",
              "          document.querySelector('#df-7b1c5aba-7072-48ea-9146-302d1e3cc8e5 button.colab-df-convert');\n",
              "        buttonEl.style.display =\n",
              "          google.colab.kernel.accessAllowed ? 'block' : 'none';\n",
              "\n",
              "        async function convertToInteractive(key) {\n",
              "          const element = document.querySelector('#df-7b1c5aba-7072-48ea-9146-302d1e3cc8e5');\n",
              "          const dataTable =\n",
              "            await google.colab.kernel.invokeFunction('convertToInteractive',\n",
              "                                                     [key], {});\n",
              "          if (!dataTable) return;\n",
              "\n",
              "          const docLinkHtml = 'Like what you see? Visit the ' +\n",
              "            '<a target=\"_blank\" href=https://colab.research.google.com/notebooks/data_table.ipynb>data table notebook</a>'\n",
              "            + ' to learn more about interactive tables.';\n",
              "          element.innerHTML = '';\n",
              "          dataTable['output_type'] = 'display_data';\n",
              "          await google.colab.output.renderOutput(dataTable, element);\n",
              "          const docLink = document.createElement('div');\n",
              "          docLink.innerHTML = docLinkHtml;\n",
              "          element.appendChild(docLink);\n",
              "        }\n",
              "      </script>\n",
              "    </div>\n",
              "  </div>\n",
              "  "
            ],
            "text/plain": [
              "                                                 window_id\n",
              "user                                     class            \n",
              "a2d80ed662f34d32951eb1c6ed076c313e358b73 bus            34\n",
              "a526f3566e9c9024dfa7378eb4291d787a09fd37 car          1542\n",
              "                                         walk          298\n",
              "a59868c6eb3645eedbb343ce8c336ec6f2ef2324 bike          565\n",
              "                                         bus          3853\n",
              "                                         car          2083\n",
              "                                         walk          824\n",
              "a92dee88f61123f923dccec01eeecf1a81953b36 bus           729\n",
              "ac4c17afeb69b39169eb301ab592696a8f353976 car            62\n",
              "                                         walk          479\n",
              "adaaae1a67ea9e43abd60ba945eccda0cb8821e0 bus          1156\n",
              "                                         car           533\n",
              "                                         walk          153\n",
              "b138d165100ef60bc793cac143742eb5aea4d6ba car           415\n",
              "b45157069942d01310c3e7b74034166717bb25f9 car           428\n",
              "                                         walk           74\n",
              "b7b165e5637b5a0226068d907748f4bbfc61a320 car          2131\n",
              "                                         walk          203\n",
              "c453226e3616ae821cdcb38f38481c2a20f2482f bike          501\n",
              "                                         bus          1467\n",
              "c5702d34b238fe68683f818e82cd3a3cd8a16366 bike          203\n",
              "                                         bus           198\n",
              "                                         walk         1239\n",
              "ca7950f223a8037b897d0547075dc138f9e43b20 walk           64\n",
              "cace4ec0999436917986b4fa6e9317262c897bc2 car          1150\n",
              "cbde60baea002b694ecf2a3ff2d95be16b00efe1 bus           413\n",
              "ce39f5d0705695fcd70a04ba6d84ac6beecd6f9c bus           447\n",
              "                                         car           505\n",
              "d429974540bfd38c3367fe9f0c8682775ff4fa18 bus           519\n",
              "                                         car           919\n",
              "                                         walk          101\n",
              "d7a1230d94f91a32cc079809748e52e8a4a6a22f bike          368\n",
              "                                         train         418\n",
              "                                         walk           80\n",
              "d7dd12d83c81574137f858034b99f4cc83ab0718 car           673\n",
              "d8c047eaaee204b7b5cd71e2d67308b87b038ed3 car          1761\n",
              "                                         walk          163\n",
              "dc0bdce306ec3b624fe0e6ecd1ffbd82cb970120 bike          573\n",
              "                                         car           147\n",
              "                                         walk           36\n",
              "dd82e3df4bebc74ed6b67877be79e29f401c16a3 car           938\n",
              "                                         walk          236\n",
              "dde95e125d89843f7032baa734ee4d34ec775aaf bus            34\n",
              "                                         car            42\n",
              "                                         walk           50\n",
              "de9892b879c83ea3d24fb4560873107cc4e86d48 car           923\n",
              "                                         walk          336\n",
              "dfcfc0404691b73b69884073159f90843f2ac35b bus           439\n",
              "                                         car          1267\n",
              "                                         walk          794\n",
              "e429a95c532f1117130c11e4a18379d84fa4ffa9 bus           619\n",
              "                                         car           184\n",
              "eb9e7854290fd6ea9ebaf448b640fc1f1dbeb076 bus           357\n",
              "                                         train         158\n",
              "                                         walk          196\n",
              "ecfb0929250fb6dda66a4065441230ab27f094e5 car          1027\n",
              "                                         e-bike         79\n",
              "                                         train          21\n",
              "ed623d28c1e0071632a6110b8f8ed93f8af78b99 bus            71\n",
              "                                         car          2172\n",
              "                                         walk           16\n",
              "f1b7331b66e404c11eebb22933e733117bbb12c9 bike          393\n",
              "                                         car           776\n",
              "                                         walk          197\n",
              "f5edd999397145a2ec1b244226fc83f99631760c bus           302\n",
              "                                         walk          118\n",
              "f7ae1ce141c26db40ea8b090fb568a0c965310aa car           289\n",
              "faae5be800be2dfa897eea0bd2e5988cd53c4ec0 bike          541\n",
              "                                         car           225\n",
              "                                         walk          151"
            ]
          },
          "metadata": {},
          "execution_count": 66
        }
      ]
    },
    {
      "cell_type": "code",
      "source": [
        "prob_3_new = df.drop(['timestamp','x','y','z','user_c','class_c', 'timestamp_shifted', 'time_diff', 'seq_new', 'seq', 'min_t', 'window_this_seq', 'user'], axis = 1)"
      ],
      "metadata": {
        "id": "p7-tViJrmYgG"
      },
      "execution_count": 70,
      "outputs": []
    },
    {
      "cell_type": "code",
      "source": [
        "sol_3_new = prob_3_new.groupby(['class']).nunique()\n",
        "pd.set_option('display.max_rows',None, 'display.max_columns',None)\n",
        "# sol_3"
      ],
      "metadata": {
        "id": "vta1WBoYRvua"
      },
      "execution_count": 71,
      "outputs": []
    },
    {
      "cell_type": "markdown",
      "source": [
        "### The below table shows the number of partitions for each class"
      ],
      "metadata": {
        "id": "rZ3ICjoT_pTO"
      }
    },
    {
      "cell_type": "code",
      "source": [
        "sol_3_new"
      ],
      "metadata": {
        "colab": {
          "base_uri": "https://localhost:8080/",
          "height": 269
        },
        "id": "PK1_jhtzoXx9",
        "outputId": "ba0d5e11-87c9-496c-b6c1-53c5679b5cb8"
      },
      "execution_count": 72,
      "outputs": [
        {
          "output_type": "execute_result",
          "data": {
            "text/html": [
              "\n",
              "  <div id=\"df-4a661050-8a0a-4983-93da-739c8aad097d\">\n",
              "    <div class=\"colab-df-container\">\n",
              "      <div>\n",
              "<style scoped>\n",
              "    .dataframe tbody tr th:only-of-type {\n",
              "        vertical-align: middle;\n",
              "    }\n",
              "\n",
              "    .dataframe tbody tr th {\n",
              "        vertical-align: top;\n",
              "    }\n",
              "\n",
              "    .dataframe thead th {\n",
              "        text-align: right;\n",
              "    }\n",
              "</style>\n",
              "<table border=\"1\" class=\"dataframe\">\n",
              "  <thead>\n",
              "    <tr style=\"text-align: right;\">\n",
              "      <th></th>\n",
              "      <th>window_id</th>\n",
              "    </tr>\n",
              "    <tr>\n",
              "      <th>class</th>\n",
              "      <th></th>\n",
              "    </tr>\n",
              "  </thead>\n",
              "  <tbody>\n",
              "    <tr>\n",
              "      <th>bike</th>\n",
              "      <td>3144</td>\n",
              "    </tr>\n",
              "    <tr>\n",
              "      <th>bus</th>\n",
              "      <td>10638</td>\n",
              "    </tr>\n",
              "    <tr>\n",
              "      <th>car</th>\n",
              "      <td>20192</td>\n",
              "    </tr>\n",
              "    <tr>\n",
              "      <th>e-bike</th>\n",
              "      <td>79</td>\n",
              "    </tr>\n",
              "    <tr>\n",
              "      <th>train</th>\n",
              "      <td>597</td>\n",
              "    </tr>\n",
              "    <tr>\n",
              "      <th>walk</th>\n",
              "      <td>5808</td>\n",
              "    </tr>\n",
              "  </tbody>\n",
              "</table>\n",
              "</div>\n",
              "      <button class=\"colab-df-convert\" onclick=\"convertToInteractive('df-4a661050-8a0a-4983-93da-739c8aad097d')\"\n",
              "              title=\"Convert this dataframe to an interactive table.\"\n",
              "              style=\"display:none;\">\n",
              "        \n",
              "  <svg xmlns=\"http://www.w3.org/2000/svg\" height=\"24px\"viewBox=\"0 0 24 24\"\n",
              "       width=\"24px\">\n",
              "    <path d=\"M0 0h24v24H0V0z\" fill=\"none\"/>\n",
              "    <path d=\"M18.56 5.44l.94 2.06.94-2.06 2.06-.94-2.06-.94-.94-2.06-.94 2.06-2.06.94zm-11 1L8.5 8.5l.94-2.06 2.06-.94-2.06-.94L8.5 2.5l-.94 2.06-2.06.94zm10 10l.94 2.06.94-2.06 2.06-.94-2.06-.94-.94-2.06-.94 2.06-2.06.94z\"/><path d=\"M17.41 7.96l-1.37-1.37c-.4-.4-.92-.59-1.43-.59-.52 0-1.04.2-1.43.59L10.3 9.45l-7.72 7.72c-.78.78-.78 2.05 0 2.83L4 21.41c.39.39.9.59 1.41.59.51 0 1.02-.2 1.41-.59l7.78-7.78 2.81-2.81c.8-.78.8-2.07 0-2.86zM5.41 20L4 18.59l7.72-7.72 1.47 1.35L5.41 20z\"/>\n",
              "  </svg>\n",
              "      </button>\n",
              "      \n",
              "  <style>\n",
              "    .colab-df-container {\n",
              "      display:flex;\n",
              "      flex-wrap:wrap;\n",
              "      gap: 12px;\n",
              "    }\n",
              "\n",
              "    .colab-df-convert {\n",
              "      background-color: #E8F0FE;\n",
              "      border: none;\n",
              "      border-radius: 50%;\n",
              "      cursor: pointer;\n",
              "      display: none;\n",
              "      fill: #1967D2;\n",
              "      height: 32px;\n",
              "      padding: 0 0 0 0;\n",
              "      width: 32px;\n",
              "    }\n",
              "\n",
              "    .colab-df-convert:hover {\n",
              "      background-color: #E2EBFA;\n",
              "      box-shadow: 0px 1px 2px rgba(60, 64, 67, 0.3), 0px 1px 3px 1px rgba(60, 64, 67, 0.15);\n",
              "      fill: #174EA6;\n",
              "    }\n",
              "\n",
              "    [theme=dark] .colab-df-convert {\n",
              "      background-color: #3B4455;\n",
              "      fill: #D2E3FC;\n",
              "    }\n",
              "\n",
              "    [theme=dark] .colab-df-convert:hover {\n",
              "      background-color: #434B5C;\n",
              "      box-shadow: 0px 1px 3px 1px rgba(0, 0, 0, 0.15);\n",
              "      filter: drop-shadow(0px 1px 2px rgba(0, 0, 0, 0.3));\n",
              "      fill: #FFFFFF;\n",
              "    }\n",
              "  </style>\n",
              "\n",
              "      <script>\n",
              "        const buttonEl =\n",
              "          document.querySelector('#df-4a661050-8a0a-4983-93da-739c8aad097d button.colab-df-convert');\n",
              "        buttonEl.style.display =\n",
              "          google.colab.kernel.accessAllowed ? 'block' : 'none';\n",
              "\n",
              "        async function convertToInteractive(key) {\n",
              "          const element = document.querySelector('#df-4a661050-8a0a-4983-93da-739c8aad097d');\n",
              "          const dataTable =\n",
              "            await google.colab.kernel.invokeFunction('convertToInteractive',\n",
              "                                                     [key], {});\n",
              "          if (!dataTable) return;\n",
              "\n",
              "          const docLinkHtml = 'Like what you see? Visit the ' +\n",
              "            '<a target=\"_blank\" href=https://colab.research.google.com/notebooks/data_table.ipynb>data table notebook</a>'\n",
              "            + ' to learn more about interactive tables.';\n",
              "          element.innerHTML = '';\n",
              "          dataTable['output_type'] = 'display_data';\n",
              "          await google.colab.output.renderOutput(dataTable, element);\n",
              "          const docLink = document.createElement('div');\n",
              "          docLink.innerHTML = docLinkHtml;\n",
              "          element.appendChild(docLink);\n",
              "        }\n",
              "      </script>\n",
              "    </div>\n",
              "  </div>\n",
              "  "
            ],
            "text/plain": [
              "        window_id\n",
              "class            \n",
              "bike         3144\n",
              "bus         10638\n",
              "car         20192\n",
              "e-bike         79\n",
              "train         597\n",
              "walk         5808"
            ]
          },
          "metadata": {},
          "execution_count": 72
        }
      ]
    },
    {
      "cell_type": "markdown",
      "source": [
        "### Question 4"
      ],
      "metadata": {
        "id": "bklcUPWhSUji"
      }
    },
    {
      "cell_type": "markdown",
      "source": [
        "### Evaluating the different features (min, max, mean and std) for each of X, Y and Z measurements using the groupby() method and finally stroing them in df_features dataframe along with the labels (classes)."
      ],
      "metadata": {
        "id": "0d79J_Jj_0zB"
      }
    },
    {
      "cell_type": "code",
      "source": [
        "features = {\n",
        "    'meanX' : df.groupby(['window_id'])['x'].mean(),\n",
        "    'stdX' : df.groupby(['window_id'])['x'].std(),\n",
        "    'minX': df.groupby(['window_id'])['x'].min(),\n",
        "    'maxX': df.groupby(['window_id'])['x'].max(),\n",
        "    'meanY' : df.groupby(['window_id'])['y'].mean(),\n",
        "    'stdY' : df.groupby(['window_id'])['y'].std(),\n",
        "    'minY': df.groupby(['window_id'])['y'].min(),\n",
        "    'maxY': df.groupby(['window_id'])['y'].max(),\n",
        "    'meanZ' : df.groupby(['window_id'])['z'].mean(),\n",
        "    'stdZ' : df.groupby(['window_id'])['z'].std(),\n",
        "    'minZ': df.groupby(['window_id'])['z'].min(),\n",
        "    'maxZ': df.groupby(['window_id'])['z'].max(),\n",
        "    'class': df.groupby(['window_id'])['class'].max()\n",
        "}"
      ],
      "metadata": {
        "id": "EIuSr7xExXAG"
      },
      "execution_count": 75,
      "outputs": []
    },
    {
      "cell_type": "code",
      "source": [
        "df_features = pd.DataFrame(features)"
      ],
      "metadata": {
        "id": "xx6mcfnDR9QU"
      },
      "execution_count": 76,
      "outputs": []
    },
    {
      "cell_type": "code",
      "source": [
        "len(df_features)"
      ],
      "metadata": {
        "colab": {
          "base_uri": "https://localhost:8080/"
        },
        "id": "k6Ob6qyRUG8r",
        "outputId": "46c08dfe-1265-43fc-8f91-79872c4f0b31"
      },
      "execution_count": 77,
      "outputs": [
        {
          "output_type": "execute_result",
          "data": {
            "text/plain": [
              "40458"
            ]
          },
          "metadata": {},
          "execution_count": 77
        }
      ]
    },
    {
      "cell_type": "code",
      "source": [
        "df_features.head()"
      ],
      "metadata": {
        "id": "ELL1KxQ5R9Ul",
        "colab": {
          "base_uri": "https://localhost:8080/",
          "height": 238
        },
        "outputId": "b90e99b1-5a2d-44f5-9335-b9debdc7fe49"
      },
      "execution_count": 78,
      "outputs": [
        {
          "output_type": "execute_result",
          "data": {
            "text/html": [
              "\n",
              "  <div id=\"df-cf0bc7ba-daf9-49de-89fb-f9e6e35b5b14\">\n",
              "    <div class=\"colab-df-container\">\n",
              "      <div>\n",
              "<style scoped>\n",
              "    .dataframe tbody tr th:only-of-type {\n",
              "        vertical-align: middle;\n",
              "    }\n",
              "\n",
              "    .dataframe tbody tr th {\n",
              "        vertical-align: top;\n",
              "    }\n",
              "\n",
              "    .dataframe thead th {\n",
              "        text-align: right;\n",
              "    }\n",
              "</style>\n",
              "<table border=\"1\" class=\"dataframe\">\n",
              "  <thead>\n",
              "    <tr style=\"text-align: right;\">\n",
              "      <th></th>\n",
              "      <th>meanX</th>\n",
              "      <th>stdX</th>\n",
              "      <th>minX</th>\n",
              "      <th>maxX</th>\n",
              "      <th>meanY</th>\n",
              "      <th>stdY</th>\n",
              "      <th>minY</th>\n",
              "      <th>maxY</th>\n",
              "      <th>meanZ</th>\n",
              "      <th>stdZ</th>\n",
              "      <th>minZ</th>\n",
              "      <th>maxZ</th>\n",
              "      <th>class</th>\n",
              "    </tr>\n",
              "    <tr>\n",
              "      <th>window_id</th>\n",
              "      <th></th>\n",
              "      <th></th>\n",
              "      <th></th>\n",
              "      <th></th>\n",
              "      <th></th>\n",
              "      <th></th>\n",
              "      <th></th>\n",
              "      <th></th>\n",
              "      <th></th>\n",
              "      <th></th>\n",
              "      <th></th>\n",
              "      <th></th>\n",
              "      <th></th>\n",
              "    </tr>\n",
              "  </thead>\n",
              "  <tbody>\n",
              "    <tr>\n",
              "      <th>10.0</th>\n",
              "      <td>2.085902</td>\n",
              "      <td>0.873985</td>\n",
              "      <td>-0.44</td>\n",
              "      <td>4.46</td>\n",
              "      <td>-9.151148</td>\n",
              "      <td>0.558107</td>\n",
              "      <td>-10.40</td>\n",
              "      <td>-7.41</td>\n",
              "      <td>-2.966885</td>\n",
              "      <td>1.047341</td>\n",
              "      <td>-6.37</td>\n",
              "      <td>-0.54</td>\n",
              "      <td>bus</td>\n",
              "    </tr>\n",
              "    <tr>\n",
              "      <th>100.0</th>\n",
              "      <td>-8.974783</td>\n",
              "      <td>0.567201</td>\n",
              "      <td>-10.70</td>\n",
              "      <td>-7.79</td>\n",
              "      <td>2.654783</td>\n",
              "      <td>0.364166</td>\n",
              "      <td>2.10</td>\n",
              "      <td>3.67</td>\n",
              "      <td>3.140870</td>\n",
              "      <td>0.596360</td>\n",
              "      <td>2.14</td>\n",
              "      <td>4.10</td>\n",
              "      <td>car</td>\n",
              "    </tr>\n",
              "    <tr>\n",
              "      <th>100.1</th>\n",
              "      <td>-8.883043</td>\n",
              "      <td>0.290836</td>\n",
              "      <td>-9.22</td>\n",
              "      <td>-8.21</td>\n",
              "      <td>2.498696</td>\n",
              "      <td>0.396385</td>\n",
              "      <td>1.70</td>\n",
              "      <td>3.22</td>\n",
              "      <td>3.025217</td>\n",
              "      <td>0.403292</td>\n",
              "      <td>2.29</td>\n",
              "      <td>3.75</td>\n",
              "      <td>car</td>\n",
              "    </tr>\n",
              "    <tr>\n",
              "      <th>100.2</th>\n",
              "      <td>-8.895750</td>\n",
              "      <td>0.462753</td>\n",
              "      <td>-10.33</td>\n",
              "      <td>-7.83</td>\n",
              "      <td>2.672750</td>\n",
              "      <td>0.316875</td>\n",
              "      <td>1.58</td>\n",
              "      <td>3.95</td>\n",
              "      <td>3.259625</td>\n",
              "      <td>0.454703</td>\n",
              "      <td>2.33</td>\n",
              "      <td>4.59</td>\n",
              "      <td>car</td>\n",
              "    </tr>\n",
              "    <tr>\n",
              "      <th>100.3</th>\n",
              "      <td>-8.996585</td>\n",
              "      <td>0.397817</td>\n",
              "      <td>-9.83</td>\n",
              "      <td>-8.16</td>\n",
              "      <td>2.646341</td>\n",
              "      <td>0.228394</td>\n",
              "      <td>2.27</td>\n",
              "      <td>3.23</td>\n",
              "      <td>2.795122</td>\n",
              "      <td>0.262508</td>\n",
              "      <td>2.39</td>\n",
              "      <td>3.72</td>\n",
              "      <td>car</td>\n",
              "    </tr>\n",
              "  </tbody>\n",
              "</table>\n",
              "</div>\n",
              "      <button class=\"colab-df-convert\" onclick=\"convertToInteractive('df-cf0bc7ba-daf9-49de-89fb-f9e6e35b5b14')\"\n",
              "              title=\"Convert this dataframe to an interactive table.\"\n",
              "              style=\"display:none;\">\n",
              "        \n",
              "  <svg xmlns=\"http://www.w3.org/2000/svg\" height=\"24px\"viewBox=\"0 0 24 24\"\n",
              "       width=\"24px\">\n",
              "    <path d=\"M0 0h24v24H0V0z\" fill=\"none\"/>\n",
              "    <path d=\"M18.56 5.44l.94 2.06.94-2.06 2.06-.94-2.06-.94-.94-2.06-.94 2.06-2.06.94zm-11 1L8.5 8.5l.94-2.06 2.06-.94-2.06-.94L8.5 2.5l-.94 2.06-2.06.94zm10 10l.94 2.06.94-2.06 2.06-.94-2.06-.94-.94-2.06-.94 2.06-2.06.94z\"/><path d=\"M17.41 7.96l-1.37-1.37c-.4-.4-.92-.59-1.43-.59-.52 0-1.04.2-1.43.59L10.3 9.45l-7.72 7.72c-.78.78-.78 2.05 0 2.83L4 21.41c.39.39.9.59 1.41.59.51 0 1.02-.2 1.41-.59l7.78-7.78 2.81-2.81c.8-.78.8-2.07 0-2.86zM5.41 20L4 18.59l7.72-7.72 1.47 1.35L5.41 20z\"/>\n",
              "  </svg>\n",
              "      </button>\n",
              "      \n",
              "  <style>\n",
              "    .colab-df-container {\n",
              "      display:flex;\n",
              "      flex-wrap:wrap;\n",
              "      gap: 12px;\n",
              "    }\n",
              "\n",
              "    .colab-df-convert {\n",
              "      background-color: #E8F0FE;\n",
              "      border: none;\n",
              "      border-radius: 50%;\n",
              "      cursor: pointer;\n",
              "      display: none;\n",
              "      fill: #1967D2;\n",
              "      height: 32px;\n",
              "      padding: 0 0 0 0;\n",
              "      width: 32px;\n",
              "    }\n",
              "\n",
              "    .colab-df-convert:hover {\n",
              "      background-color: #E2EBFA;\n",
              "      box-shadow: 0px 1px 2px rgba(60, 64, 67, 0.3), 0px 1px 3px 1px rgba(60, 64, 67, 0.15);\n",
              "      fill: #174EA6;\n",
              "    }\n",
              "\n",
              "    [theme=dark] .colab-df-convert {\n",
              "      background-color: #3B4455;\n",
              "      fill: #D2E3FC;\n",
              "    }\n",
              "\n",
              "    [theme=dark] .colab-df-convert:hover {\n",
              "      background-color: #434B5C;\n",
              "      box-shadow: 0px 1px 3px 1px rgba(0, 0, 0, 0.15);\n",
              "      filter: drop-shadow(0px 1px 2px rgba(0, 0, 0, 0.3));\n",
              "      fill: #FFFFFF;\n",
              "    }\n",
              "  </style>\n",
              "\n",
              "      <script>\n",
              "        const buttonEl =\n",
              "          document.querySelector('#df-cf0bc7ba-daf9-49de-89fb-f9e6e35b5b14 button.colab-df-convert');\n",
              "        buttonEl.style.display =\n",
              "          google.colab.kernel.accessAllowed ? 'block' : 'none';\n",
              "\n",
              "        async function convertToInteractive(key) {\n",
              "          const element = document.querySelector('#df-cf0bc7ba-daf9-49de-89fb-f9e6e35b5b14');\n",
              "          const dataTable =\n",
              "            await google.colab.kernel.invokeFunction('convertToInteractive',\n",
              "                                                     [key], {});\n",
              "          if (!dataTable) return;\n",
              "\n",
              "          const docLinkHtml = 'Like what you see? Visit the ' +\n",
              "            '<a target=\"_blank\" href=https://colab.research.google.com/notebooks/data_table.ipynb>data table notebook</a>'\n",
              "            + ' to learn more about interactive tables.';\n",
              "          element.innerHTML = '';\n",
              "          dataTable['output_type'] = 'display_data';\n",
              "          await google.colab.output.renderOutput(dataTable, element);\n",
              "          const docLink = document.createElement('div');\n",
              "          docLink.innerHTML = docLinkHtml;\n",
              "          element.appendChild(docLink);\n",
              "        }\n",
              "      </script>\n",
              "    </div>\n",
              "  </div>\n",
              "  "
            ],
            "text/plain": [
              "              meanX      stdX   minX  maxX     meanY      stdY   minY  maxY  \\\n",
              "window_id                                                                     \n",
              "10.0       2.085902  0.873985  -0.44  4.46 -9.151148  0.558107 -10.40 -7.41   \n",
              "100.0     -8.974783  0.567201 -10.70 -7.79  2.654783  0.364166   2.10  3.67   \n",
              "100.1     -8.883043  0.290836  -9.22 -8.21  2.498696  0.396385   1.70  3.22   \n",
              "100.2     -8.895750  0.462753 -10.33 -7.83  2.672750  0.316875   1.58  3.95   \n",
              "100.3     -8.996585  0.397817  -9.83 -8.16  2.646341  0.228394   2.27  3.23   \n",
              "\n",
              "              meanZ      stdZ  minZ  maxZ class  \n",
              "window_id                                        \n",
              "10.0      -2.966885  1.047341 -6.37 -0.54   bus  \n",
              "100.0      3.140870  0.596360  2.14  4.10   car  \n",
              "100.1      3.025217  0.403292  2.29  3.75   car  \n",
              "100.2      3.259625  0.454703  2.33  4.59   car  \n",
              "100.3      2.795122  0.262508  2.39  3.72   car  "
            ]
          },
          "metadata": {},
          "execution_count": 78
        }
      ]
    },
    {
      "cell_type": "markdown",
      "source": [
        "### Label Encoding the various classes. The encodings are as follows:\n",
        "### 1-> bike\n",
        "### 2-> bus\n",
        "### 3-> car\n",
        "### 4-> e-bike\n",
        "### 5-> train\n",
        "### 6-> walk"
      ],
      "metadata": {
        "id": "MWWUqeQHA1hw"
      }
    },
    {
      "cell_type": "code",
      "source": [
        "from sklearn import preprocessing\n",
        "le = preprocessing.LabelEncoder()\n",
        "\n",
        "df_features['class'] = le.fit_transform(df_features['class'])"
      ],
      "metadata": {
        "id": "F-wgyWu8aJ37"
      },
      "execution_count": 79,
      "outputs": []
    },
    {
      "cell_type": "code",
      "source": [
        "df_features.head()"
      ],
      "metadata": {
        "colab": {
          "base_uri": "https://localhost:8080/",
          "height": 238
        },
        "id": "S6wzBGMOahyw",
        "outputId": "6ba0a31a-311e-41e7-c84c-5e321e245b60"
      },
      "execution_count": 80,
      "outputs": [
        {
          "output_type": "execute_result",
          "data": {
            "text/html": [
              "\n",
              "  <div id=\"df-c9b3a33f-5775-4e3c-ba15-00650cabdcf0\">\n",
              "    <div class=\"colab-df-container\">\n",
              "      <div>\n",
              "<style scoped>\n",
              "    .dataframe tbody tr th:only-of-type {\n",
              "        vertical-align: middle;\n",
              "    }\n",
              "\n",
              "    .dataframe tbody tr th {\n",
              "        vertical-align: top;\n",
              "    }\n",
              "\n",
              "    .dataframe thead th {\n",
              "        text-align: right;\n",
              "    }\n",
              "</style>\n",
              "<table border=\"1\" class=\"dataframe\">\n",
              "  <thead>\n",
              "    <tr style=\"text-align: right;\">\n",
              "      <th></th>\n",
              "      <th>meanX</th>\n",
              "      <th>stdX</th>\n",
              "      <th>minX</th>\n",
              "      <th>maxX</th>\n",
              "      <th>meanY</th>\n",
              "      <th>stdY</th>\n",
              "      <th>minY</th>\n",
              "      <th>maxY</th>\n",
              "      <th>meanZ</th>\n",
              "      <th>stdZ</th>\n",
              "      <th>minZ</th>\n",
              "      <th>maxZ</th>\n",
              "      <th>class</th>\n",
              "    </tr>\n",
              "    <tr>\n",
              "      <th>window_id</th>\n",
              "      <th></th>\n",
              "      <th></th>\n",
              "      <th></th>\n",
              "      <th></th>\n",
              "      <th></th>\n",
              "      <th></th>\n",
              "      <th></th>\n",
              "      <th></th>\n",
              "      <th></th>\n",
              "      <th></th>\n",
              "      <th></th>\n",
              "      <th></th>\n",
              "      <th></th>\n",
              "    </tr>\n",
              "  </thead>\n",
              "  <tbody>\n",
              "    <tr>\n",
              "      <th>10.0</th>\n",
              "      <td>2.085902</td>\n",
              "      <td>0.873985</td>\n",
              "      <td>-0.44</td>\n",
              "      <td>4.46</td>\n",
              "      <td>-9.151148</td>\n",
              "      <td>0.558107</td>\n",
              "      <td>-10.40</td>\n",
              "      <td>-7.41</td>\n",
              "      <td>-2.966885</td>\n",
              "      <td>1.047341</td>\n",
              "      <td>-6.37</td>\n",
              "      <td>-0.54</td>\n",
              "      <td>1</td>\n",
              "    </tr>\n",
              "    <tr>\n",
              "      <th>100.0</th>\n",
              "      <td>-8.974783</td>\n",
              "      <td>0.567201</td>\n",
              "      <td>-10.70</td>\n",
              "      <td>-7.79</td>\n",
              "      <td>2.654783</td>\n",
              "      <td>0.364166</td>\n",
              "      <td>2.10</td>\n",
              "      <td>3.67</td>\n",
              "      <td>3.140870</td>\n",
              "      <td>0.596360</td>\n",
              "      <td>2.14</td>\n",
              "      <td>4.10</td>\n",
              "      <td>2</td>\n",
              "    </tr>\n",
              "    <tr>\n",
              "      <th>100.1</th>\n",
              "      <td>-8.883043</td>\n",
              "      <td>0.290836</td>\n",
              "      <td>-9.22</td>\n",
              "      <td>-8.21</td>\n",
              "      <td>2.498696</td>\n",
              "      <td>0.396385</td>\n",
              "      <td>1.70</td>\n",
              "      <td>3.22</td>\n",
              "      <td>3.025217</td>\n",
              "      <td>0.403292</td>\n",
              "      <td>2.29</td>\n",
              "      <td>3.75</td>\n",
              "      <td>2</td>\n",
              "    </tr>\n",
              "    <tr>\n",
              "      <th>100.2</th>\n",
              "      <td>-8.895750</td>\n",
              "      <td>0.462753</td>\n",
              "      <td>-10.33</td>\n",
              "      <td>-7.83</td>\n",
              "      <td>2.672750</td>\n",
              "      <td>0.316875</td>\n",
              "      <td>1.58</td>\n",
              "      <td>3.95</td>\n",
              "      <td>3.259625</td>\n",
              "      <td>0.454703</td>\n",
              "      <td>2.33</td>\n",
              "      <td>4.59</td>\n",
              "      <td>2</td>\n",
              "    </tr>\n",
              "    <tr>\n",
              "      <th>100.3</th>\n",
              "      <td>-8.996585</td>\n",
              "      <td>0.397817</td>\n",
              "      <td>-9.83</td>\n",
              "      <td>-8.16</td>\n",
              "      <td>2.646341</td>\n",
              "      <td>0.228394</td>\n",
              "      <td>2.27</td>\n",
              "      <td>3.23</td>\n",
              "      <td>2.795122</td>\n",
              "      <td>0.262508</td>\n",
              "      <td>2.39</td>\n",
              "      <td>3.72</td>\n",
              "      <td>2</td>\n",
              "    </tr>\n",
              "  </tbody>\n",
              "</table>\n",
              "</div>\n",
              "      <button class=\"colab-df-convert\" onclick=\"convertToInteractive('df-c9b3a33f-5775-4e3c-ba15-00650cabdcf0')\"\n",
              "              title=\"Convert this dataframe to an interactive table.\"\n",
              "              style=\"display:none;\">\n",
              "        \n",
              "  <svg xmlns=\"http://www.w3.org/2000/svg\" height=\"24px\"viewBox=\"0 0 24 24\"\n",
              "       width=\"24px\">\n",
              "    <path d=\"M0 0h24v24H0V0z\" fill=\"none\"/>\n",
              "    <path d=\"M18.56 5.44l.94 2.06.94-2.06 2.06-.94-2.06-.94-.94-2.06-.94 2.06-2.06.94zm-11 1L8.5 8.5l.94-2.06 2.06-.94-2.06-.94L8.5 2.5l-.94 2.06-2.06.94zm10 10l.94 2.06.94-2.06 2.06-.94-2.06-.94-.94-2.06-.94 2.06-2.06.94z\"/><path d=\"M17.41 7.96l-1.37-1.37c-.4-.4-.92-.59-1.43-.59-.52 0-1.04.2-1.43.59L10.3 9.45l-7.72 7.72c-.78.78-.78 2.05 0 2.83L4 21.41c.39.39.9.59 1.41.59.51 0 1.02-.2 1.41-.59l7.78-7.78 2.81-2.81c.8-.78.8-2.07 0-2.86zM5.41 20L4 18.59l7.72-7.72 1.47 1.35L5.41 20z\"/>\n",
              "  </svg>\n",
              "      </button>\n",
              "      \n",
              "  <style>\n",
              "    .colab-df-container {\n",
              "      display:flex;\n",
              "      flex-wrap:wrap;\n",
              "      gap: 12px;\n",
              "    }\n",
              "\n",
              "    .colab-df-convert {\n",
              "      background-color: #E8F0FE;\n",
              "      border: none;\n",
              "      border-radius: 50%;\n",
              "      cursor: pointer;\n",
              "      display: none;\n",
              "      fill: #1967D2;\n",
              "      height: 32px;\n",
              "      padding: 0 0 0 0;\n",
              "      width: 32px;\n",
              "    }\n",
              "\n",
              "    .colab-df-convert:hover {\n",
              "      background-color: #E2EBFA;\n",
              "      box-shadow: 0px 1px 2px rgba(60, 64, 67, 0.3), 0px 1px 3px 1px rgba(60, 64, 67, 0.15);\n",
              "      fill: #174EA6;\n",
              "    }\n",
              "\n",
              "    [theme=dark] .colab-df-convert {\n",
              "      background-color: #3B4455;\n",
              "      fill: #D2E3FC;\n",
              "    }\n",
              "\n",
              "    [theme=dark] .colab-df-convert:hover {\n",
              "      background-color: #434B5C;\n",
              "      box-shadow: 0px 1px 3px 1px rgba(0, 0, 0, 0.15);\n",
              "      filter: drop-shadow(0px 1px 2px rgba(0, 0, 0, 0.3));\n",
              "      fill: #FFFFFF;\n",
              "    }\n",
              "  </style>\n",
              "\n",
              "      <script>\n",
              "        const buttonEl =\n",
              "          document.querySelector('#df-c9b3a33f-5775-4e3c-ba15-00650cabdcf0 button.colab-df-convert');\n",
              "        buttonEl.style.display =\n",
              "          google.colab.kernel.accessAllowed ? 'block' : 'none';\n",
              "\n",
              "        async function convertToInteractive(key) {\n",
              "          const element = document.querySelector('#df-c9b3a33f-5775-4e3c-ba15-00650cabdcf0');\n",
              "          const dataTable =\n",
              "            await google.colab.kernel.invokeFunction('convertToInteractive',\n",
              "                                                     [key], {});\n",
              "          if (!dataTable) return;\n",
              "\n",
              "          const docLinkHtml = 'Like what you see? Visit the ' +\n",
              "            '<a target=\"_blank\" href=https://colab.research.google.com/notebooks/data_table.ipynb>data table notebook</a>'\n",
              "            + ' to learn more about interactive tables.';\n",
              "          element.innerHTML = '';\n",
              "          dataTable['output_type'] = 'display_data';\n",
              "          await google.colab.output.renderOutput(dataTable, element);\n",
              "          const docLink = document.createElement('div');\n",
              "          docLink.innerHTML = docLinkHtml;\n",
              "          element.appendChild(docLink);\n",
              "        }\n",
              "      </script>\n",
              "    </div>\n",
              "  </div>\n",
              "  "
            ],
            "text/plain": [
              "              meanX      stdX   minX  maxX     meanY      stdY   minY  maxY  \\\n",
              "window_id                                                                     \n",
              "10.0       2.085902  0.873985  -0.44  4.46 -9.151148  0.558107 -10.40 -7.41   \n",
              "100.0     -8.974783  0.567201 -10.70 -7.79  2.654783  0.364166   2.10  3.67   \n",
              "100.1     -8.883043  0.290836  -9.22 -8.21  2.498696  0.396385   1.70  3.22   \n",
              "100.2     -8.895750  0.462753 -10.33 -7.83  2.672750  0.316875   1.58  3.95   \n",
              "100.3     -8.996585  0.397817  -9.83 -8.16  2.646341  0.228394   2.27  3.23   \n",
              "\n",
              "              meanZ      stdZ  minZ  maxZ  class  \n",
              "window_id                                         \n",
              "10.0      -2.966885  1.047341 -6.37 -0.54      1  \n",
              "100.0      3.140870  0.596360  2.14  4.10      2  \n",
              "100.1      3.025217  0.403292  2.29  3.75      2  \n",
              "100.2      3.259625  0.454703  2.33  4.59      2  \n",
              "100.3      2.795122  0.262508  2.39  3.72      2  "
            ]
          },
          "metadata": {},
          "execution_count": 80
        }
      ]
    },
    {
      "cell_type": "markdown",
      "source": [
        "### In the below cell I have removed the rows containing NaN values. "
      ],
      "metadata": {
        "id": "BLnTWKftCPNO"
      }
    },
    {
      "cell_type": "code",
      "source": [
        "df_features = df_features.dropna()"
      ],
      "metadata": {
        "id": "NUjR7KW1T_1x"
      },
      "execution_count": 81,
      "outputs": []
    },
    {
      "cell_type": "code",
      "source": [
        "len(df_features)"
      ],
      "metadata": {
        "colab": {
          "base_uri": "https://localhost:8080/"
        },
        "id": "N-XDfI8QUPvU",
        "outputId": "923627fe-2cda-4b15-97ef-81f8290dcc7e"
      },
      "execution_count": 82,
      "outputs": [
        {
          "output_type": "execute_result",
          "data": {
            "text/plain": [
              "40413"
            ]
          },
          "metadata": {},
          "execution_count": 82
        }
      ]
    },
    {
      "cell_type": "markdown",
      "source": [
        "### Plotting the BoxPlots for the various features of X, Y and Z coordinates"
      ],
      "metadata": {
        "id": "meGiq6juBmYp"
      }
    },
    {
      "cell_type": "code",
      "source": [
        "plt.figure()\n",
        "\n",
        "df_features.boxplot(column = ['meanX'], by = 'class', grid = False, color = 'r')\n",
        "df_features.boxplot(column = ['stdX'], by = 'class', grid = False, color = 'g')\n",
        "df_features.boxplot(column = ['minX'], by = 'class', grid = False, color = 'b')\n",
        "df_features.boxplot(column = ['maxX'], by = 'class', grid = False, color = 'y')\n",
        "\n",
        "df_features.boxplot(column = ['meanY'], by = 'class', grid = False, color = 'r')\n",
        "df_features.boxplot(column = ['stdY'], by = 'class', grid = False, color = 'g')\n",
        "df_features.boxplot(column = ['minY'], by = 'class', grid = False, color = 'b')\n",
        "df_features.boxplot(column = ['maxY'], by = 'class', grid = False, color = 'y')\n",
        "\n",
        "df_features.boxplot(column = ['meanZ'], by = 'class', grid = False, color = 'r')\n",
        "df_features.boxplot(column = ['stdZ'], by = 'class', grid = False, color = 'g')\n",
        "df_features.boxplot(column = ['minZ'], by = 'class', grid = False, color = 'b')\n",
        "df_features.boxplot(column = ['maxZ'], by = 'class', grid = False, color = 'y')"
      ],
      "metadata": {
        "colab": {
          "base_uri": "https://localhost:8080/",
          "height": 1000
        },
        "id": "V3MrSm4VytN6",
        "outputId": "fb5b4d74-3c7a-4aad-c1c6-eb4ecb6805de"
      },
      "execution_count": 84,
      "outputs": [
        {
          "output_type": "stream",
          "name": "stderr",
          "text": [
            "/usr/local/lib/python3.7/dist-packages/matplotlib/cbook/__init__.py:1376: VisibleDeprecationWarning: Creating an ndarray from ragged nested sequences (which is a list-or-tuple of lists-or-tuples-or ndarrays with different lengths or shapes) is deprecated. If you meant to do this, you must specify 'dtype=object' when creating the ndarray.\n",
            "  X = np.atleast_1d(X.T if isinstance(X, np.ndarray) else np.asarray(X))\n",
            "/usr/local/lib/python3.7/dist-packages/matplotlib/cbook/__init__.py:1376: VisibleDeprecationWarning: Creating an ndarray from ragged nested sequences (which is a list-or-tuple of lists-or-tuples-or ndarrays with different lengths or shapes) is deprecated. If you meant to do this, you must specify 'dtype=object' when creating the ndarray.\n",
            "  X = np.atleast_1d(X.T if isinstance(X, np.ndarray) else np.asarray(X))\n",
            "/usr/local/lib/python3.7/dist-packages/matplotlib/cbook/__init__.py:1376: VisibleDeprecationWarning: Creating an ndarray from ragged nested sequences (which is a list-or-tuple of lists-or-tuples-or ndarrays with different lengths or shapes) is deprecated. If you meant to do this, you must specify 'dtype=object' when creating the ndarray.\n",
            "  X = np.atleast_1d(X.T if isinstance(X, np.ndarray) else np.asarray(X))\n",
            "/usr/local/lib/python3.7/dist-packages/matplotlib/cbook/__init__.py:1376: VisibleDeprecationWarning: Creating an ndarray from ragged nested sequences (which is a list-or-tuple of lists-or-tuples-or ndarrays with different lengths or shapes) is deprecated. If you meant to do this, you must specify 'dtype=object' when creating the ndarray.\n",
            "  X = np.atleast_1d(X.T if isinstance(X, np.ndarray) else np.asarray(X))\n",
            "/usr/local/lib/python3.7/dist-packages/matplotlib/cbook/__init__.py:1376: VisibleDeprecationWarning: Creating an ndarray from ragged nested sequences (which is a list-or-tuple of lists-or-tuples-or ndarrays with different lengths or shapes) is deprecated. If you meant to do this, you must specify 'dtype=object' when creating the ndarray.\n",
            "  X = np.atleast_1d(X.T if isinstance(X, np.ndarray) else np.asarray(X))\n",
            "/usr/local/lib/python3.7/dist-packages/matplotlib/cbook/__init__.py:1376: VisibleDeprecationWarning: Creating an ndarray from ragged nested sequences (which is a list-or-tuple of lists-or-tuples-or ndarrays with different lengths or shapes) is deprecated. If you meant to do this, you must specify 'dtype=object' when creating the ndarray.\n",
            "  X = np.atleast_1d(X.T if isinstance(X, np.ndarray) else np.asarray(X))\n",
            "/usr/local/lib/python3.7/dist-packages/matplotlib/cbook/__init__.py:1376: VisibleDeprecationWarning: Creating an ndarray from ragged nested sequences (which is a list-or-tuple of lists-or-tuples-or ndarrays with different lengths or shapes) is deprecated. If you meant to do this, you must specify 'dtype=object' when creating the ndarray.\n",
            "  X = np.atleast_1d(X.T if isinstance(X, np.ndarray) else np.asarray(X))\n",
            "/usr/local/lib/python3.7/dist-packages/matplotlib/cbook/__init__.py:1376: VisibleDeprecationWarning: Creating an ndarray from ragged nested sequences (which is a list-or-tuple of lists-or-tuples-or ndarrays with different lengths or shapes) is deprecated. If you meant to do this, you must specify 'dtype=object' when creating the ndarray.\n",
            "  X = np.atleast_1d(X.T if isinstance(X, np.ndarray) else np.asarray(X))\n",
            "/usr/local/lib/python3.7/dist-packages/matplotlib/cbook/__init__.py:1376: VisibleDeprecationWarning: Creating an ndarray from ragged nested sequences (which is a list-or-tuple of lists-or-tuples-or ndarrays with different lengths or shapes) is deprecated. If you meant to do this, you must specify 'dtype=object' when creating the ndarray.\n",
            "  X = np.atleast_1d(X.T if isinstance(X, np.ndarray) else np.asarray(X))\n",
            "/usr/local/lib/python3.7/dist-packages/matplotlib/cbook/__init__.py:1376: VisibleDeprecationWarning: Creating an ndarray from ragged nested sequences (which is a list-or-tuple of lists-or-tuples-or ndarrays with different lengths or shapes) is deprecated. If you meant to do this, you must specify 'dtype=object' when creating the ndarray.\n",
            "  X = np.atleast_1d(X.T if isinstance(X, np.ndarray) else np.asarray(X))\n",
            "/usr/local/lib/python3.7/dist-packages/matplotlib/cbook/__init__.py:1376: VisibleDeprecationWarning: Creating an ndarray from ragged nested sequences (which is a list-or-tuple of lists-or-tuples-or ndarrays with different lengths or shapes) is deprecated. If you meant to do this, you must specify 'dtype=object' when creating the ndarray.\n",
            "  X = np.atleast_1d(X.T if isinstance(X, np.ndarray) else np.asarray(X))\n",
            "/usr/local/lib/python3.7/dist-packages/matplotlib/cbook/__init__.py:1376: VisibleDeprecationWarning: Creating an ndarray from ragged nested sequences (which is a list-or-tuple of lists-or-tuples-or ndarrays with different lengths or shapes) is deprecated. If you meant to do this, you must specify 'dtype=object' when creating the ndarray.\n",
            "  X = np.atleast_1d(X.T if isinstance(X, np.ndarray) else np.asarray(X))\n"
          ]
        },
        {
          "output_type": "execute_result",
          "data": {
            "text/plain": [
              "<matplotlib.axes._subplots.AxesSubplot at 0x7f8e1e0a4710>"
            ]
          },
          "metadata": {},
          "execution_count": 84
        },
        {
          "output_type": "display_data",
          "data": {
            "text/plain": [
              "<Figure size 432x288 with 0 Axes>"
            ]
          },
          "metadata": {}
        },
        {
          "output_type": "display_data",
          "data": {
            "image/png": "[encoded data removed]",
            "text/plain": [
              "<Figure size 432x288 with 1 Axes>"
            ]
          },
          "metadata": {
            "needs_background": "light"
          }
        },
        {
          "output_type": "display_data",
          "data": {
            "image/png": "[encoded data removed]",
            "text/plain": [
              "<Figure size 432x288 with 1 Axes>"
            ]
          },
          "metadata": {
            "needs_background": "light"
          }
        },
        {
          "output_type": "display_data",
          "data": {
            "image/png": "[encoded data removed]",
            "text/plain": [
              "<Figure size 432x288 with 1 Axes>"
            ]
          },
          "metadata": {
            "needs_background": "light"
          }
        },
        {
          "output_type": "display_data",
          "data": {
            "image/png": "[encoded data removed]",
            "text/plain": [
              "<Figure size 432x288 with 1 Axes>"
            ]
          },
          "metadata": {
            "needs_background": "light"
          }
        },
        {
          "output_type": "display_data",
          "data": {
            "image/png": "[encoded data removed]",
            "text/plain": [
              "<Figure size 432x288 with 1 Axes>"
            ]
          },
          "metadata": {
            "needs_background": "light"
          }
        },
        {
          "output_type": "display_data",
          "data": {
            "image/png": "[encoded data removed]",
            "text/plain": [
              "<Figure size 432x288 with 1 Axes>"
            ]
          },
          "metadata": {
            "needs_background": "light"
          }
        },
        {
          "output_type": "display_data",
          "data": {
            "image/png": "[encoded data removed]",
            "text/plain": [
              "<Figure size 432x288 with 1 Axes>"
            ]
          },
          "metadata": {
            "needs_background": "light"
          }
        },
        {
          "output_type": "display_data",
          "data": {
            "image/png": "[encoded data removed]",
            "text/plain": [
              "<Figure size 432x288 with 1 Axes>"
            ]
          },
          "metadata": {
            "needs_background": "light"
          }
        },
        {
          "output_type": "display_data",
          "data": {
            "image/png": "[encoded data removed]",
            "text/plain": [
              "<Figure size 432x288 with 1 Axes>"
            ]
          },
          "metadata": {
            "needs_background": "light"
          }
        },
        {
          "output_type": "display_data",
          "data": {
            "image/png": "[encoded data removed]",
            "text/plain": [
              "<Figure size 432x288 with 1 Axes>"
            ]
          },
          "metadata": {
            "needs_background": "light"
          }
        },
        {
          "output_type": "display_data",
          "data": {
            "image/png": "[encoded data removed]",
            "text/plain": [
              "<Figure size 432x288 with 1 Axes>"
            ]
          },
          "metadata": {
            "needs_background": "light"
          }
        },
        {
          "output_type": "display_data",
          "data": {
            "image/png": "[encoded data removed]",
            "text/plain": [
              "<Figure size 432x288 with 1 Axes>"
            ]
          },
          "metadata": {
            "needs_background": "light"
          }
        }
      ]
    },
    {
      "cell_type": "code",
      "source": [
        ""
      ],
      "metadata": {
        "id": "HJISR4_--tHM"
      },
      "execution_count": 84,
      "outputs": []
    },
    {
      "cell_type": "markdown",
      "source": [
        "### Question 5"
      ],
      "metadata": {
        "id": "hI3GFfMO-8tq"
      }
    },
    {
      "cell_type": "code",
      "source": [
        "data = df_features.to_numpy()\n",
        "print(data.shape)"
      ],
      "metadata": {
        "colab": {
          "base_uri": "https://localhost:8080/"
        },
        "id": "ZrdL9xUd_Bkw",
        "outputId": "25e9ddaf-baa8-4940-9afa-c153eb1a4ab5"
      },
      "execution_count": 85,
      "outputs": [
        {
          "output_type": "stream",
          "name": "stdout",
          "text": [
            "(40413, 13)\n"
          ]
        }
      ]
    },
    {
      "cell_type": "code",
      "source": [
        "X = data[:, :-1]\n",
        "y = data[:, -1]"
      ],
      "metadata": {
        "id": "yBqvygfI_Crv"
      },
      "execution_count": 120,
      "outputs": []
    },
    {
      "cell_type": "code",
      "source": [
        "np.unique(y)"
      ],
      "metadata": {
        "colab": {
          "base_uri": "https://localhost:8080/"
        },
        "id": "SMJmGKG-RUDB",
        "outputId": "c521ad5f-28cd-4a31-8c02-7a995a93edb9"
      },
      "execution_count": 122,
      "outputs": [
        {
          "output_type": "execute_result",
          "data": {
            "text/plain": [
              "array([0., 1., 2., 3., 4., 5.])"
            ]
          },
          "metadata": {},
          "execution_count": 122
        }
      ]
    },
    {
      "cell_type": "code",
      "source": [
        ""
      ],
      "metadata": {
        "id": "LucbBAG2SC-5"
      },
      "execution_count": 122,
      "outputs": []
    },
    {
      "cell_type": "code",
      "source": [
        ""
      ],
      "metadata": {
        "id": "zfm1Z48vSDB0"
      },
      "execution_count": 122,
      "outputs": []
    },
    {
      "cell_type": "code",
      "source": [
        ""
      ],
      "metadata": {
        "id": "dASGV9OdSDE-"
      },
      "execution_count": 122,
      "outputs": []
    },
    {
      "cell_type": "markdown",
      "source": [
        "### Question 6"
      ],
      "metadata": {
        "id": "bF_LzjwUSD8p"
      }
    },
    {
      "cell_type": "markdown",
      "source": [
        "### Here I have first shuffled the data using np.permutations. Then I have assigned the first 60% of data to training, next 20% to validation and the last 20% to testing data."
      ],
      "metadata": {
        "id": "KOpx2z6fB6Pj"
      }
    },
    {
      "cell_type": "code",
      "source": [
        "permus = np.random.permutation(len(X))\n",
        "\n",
        "X = X[permus]\n",
        "y = y[permus]\n",
        "X_train = X[:(int)(0.6*len(X))]\n",
        "y_train = y[:(int)(0.6*len(y))]\n",
        "X_val = X[(int)(0.6*len(X)):(int)(0.8*len(X))]\n",
        "y_val = y[(int)(0.6*len(y)):(int)(0.8*len(y))]\n",
        "X_test = X[(int)(0.8*len(X)):]\n",
        "y_test = y[(int)(0.8*len(y)):]\n"
      ],
      "metadata": {
        "id": "5IGdUMNf_CtP"
      },
      "execution_count": 123,
      "outputs": []
    },
    {
      "cell_type": "markdown",
      "source": [
        "### Question 7"
      ],
      "metadata": {
        "id": "G2CaTY9B_DaB"
      }
    },
    {
      "cell_type": "markdown",
      "source": [
        "### First deploying the SVM Classifier and noting down the accuracy."
      ],
      "metadata": {
        "id": "Ln5nPb0wClZB"
      }
    },
    {
      "cell_type": "code",
      "source": [
        "from sklearn import svm"
      ],
      "metadata": {
        "id": "mpMIZ7aC_FQ4"
      },
      "execution_count": 125,
      "outputs": []
    },
    {
      "cell_type": "code",
      "source": [
        "classifier = svm.SVC()\n",
        "classifier.fit(X, y)"
      ],
      "metadata": {
        "colab": {
          "base_uri": "https://localhost:8080/"
        },
        "id": "CA57R9KqI9uI",
        "outputId": "52c70577-112f-4d43-b298-0e4f6adfab93"
      },
      "execution_count": 127,
      "outputs": [
        {
          "output_type": "execute_result",
          "data": {
            "text/plain": [
              "SVC()"
            ]
          },
          "metadata": {},
          "execution_count": 127
        }
      ]
    },
    {
      "cell_type": "code",
      "source": [
        "classifier.score(X_val, y_val)"
      ],
      "metadata": {
        "colab": {
          "base_uri": "https://localhost:8080/"
        },
        "id": "dje-nZ_TJnBJ",
        "outputId": "3cb728e3-c79c-4fc2-be55-0ffaa6bdaa31"
      },
      "execution_count": 128,
      "outputs": [
        {
          "output_type": "execute_result",
          "data": {
            "text/plain": [
              "0.8081157985896326"
            ]
          },
          "metadata": {},
          "execution_count": 128
        }
      ]
    },
    {
      "cell_type": "code",
      "source": [
        "classifier.predict(X_test)"
      ],
      "metadata": {
        "colab": {
          "base_uri": "https://localhost:8080/"
        },
        "id": "Tu99DF1Qb_D0",
        "outputId": "50d0923c-de74-46ff-f84c-5cf176cf4d4d"
      },
      "execution_count": 129,
      "outputs": [
        {
          "output_type": "execute_result",
          "data": {
            "text/plain": [
              "array([1., 2., 2., ..., 2., 5., 2.])"
            ]
          },
          "metadata": {},
          "execution_count": 129
        }
      ]
    },
    {
      "cell_type": "markdown",
      "source": [
        "### Now deploying the ANN Using Tensorflow library."
      ],
      "metadata": {
        "id": "YamUqzImCwt-"
      }
    },
    {
      "cell_type": "code",
      "source": [
        "#Loading important libraries\n",
        "import numpy as np\n",
        "import tensorflow as tf\n",
        "import matplotlib.pyplot as plt\n",
        "%matplotlib inline\n",
        "\n",
        "from tensorflow.keras.models import Model, Sequential\n",
        "from tensorflow.keras.layers import Dense, Softmax\n",
        "from tensorflow.keras.optimizers import Adam\n",
        "from tensorflow.keras.callbacks import EarlyStopping, ModelCheckpoint\n",
        "\n",
        "from scipy.stats import spearmanr"
      ],
      "metadata": {
        "id": "mhSJvaJpK3kY"
      },
      "execution_count": 130,
      "outputs": []
    },
    {
      "cell_type": "code",
      "source": [
        "y = tf.keras.utils.to_categorical(y)\n",
        "X_train = X[:(int)(0.6*len(X))]\n",
        "y_train = y[:(int)(0.6*len(y))]\n",
        "X_val = X[(int)(0.6*len(X)):(int)(0.8*len(X))]\n",
        "y_val = y[(int)(0.6*len(y)):(int)(0.8*len(y))]\n",
        "X_test = X[(int)(0.8*len(X)):]\n",
        "y_test = y[(int)(0.8*len(y)):]"
      ],
      "metadata": {
        "id": "E1SQYu09rH2E"
      },
      "execution_count": 131,
      "outputs": []
    },
    {
      "cell_type": "markdown",
      "source": [
        "### The below cell contains my architecture"
      ],
      "metadata": {
        "id": "UMdnzKbzC29U"
      }
    },
    {
      "cell_type": "code",
      "source": [
        "input_shape = [X_train.shape[1]]\n",
        "\n",
        "mlp = tf.keras.Sequential([\n",
        "    tf.keras.layers.BatchNormalization(input_shape=input_shape),\n",
        "    tf.keras.layers.Dense(32, activation='relu'),\n",
        "    tf.keras.layers.Dropout(0.1),\n",
        "    tf.keras.layers.BatchNormalization(),\n",
        "    tf.keras.layers.Dense(16, activation='relu'),\n",
        "    tf.keras.layers.Dropout(0.1),\n",
        "    tf.keras.layers.BatchNormalization(),\n",
        "    tf.keras.layers.Dense(6, activation = 'softmax'),\n",
        "])"
      ],
      "metadata": {
        "id": "Brn7u58zK3nq"
      },
      "execution_count": 135,
      "outputs": []
    },
    {
      "cell_type": "markdown",
      "source": [
        "### Compiling and Training the data on ANN"
      ],
      "metadata": {
        "id": "-w4oakOPC-rg"
      }
    },
    {
      "cell_type": "code",
      "source": [
        "# Compiling the model\n",
        "\n",
        "path = 'mlp_checkpoint/checkpoint_{epoch:02d}';\n",
        "mlp_checkpoint = ModelCheckpoint(filepath = path,\n",
        "                            verbose = 1,\n",
        "                            monitor = 'val_acc',\n",
        "                            save_freq = 'epoch',\n",
        "                            save_best_only = True,\n",
        "                            save_weights_only = True)\n",
        "\n",
        "mlp.compile(loss = 'categorical_crossentropy', metrics = ['acc'], optimizer = 'adam')"
      ],
      "metadata": {
        "id": "eUMAxJjaK3qt"
      },
      "execution_count": 136,
      "outputs": []
    },
    {
      "cell_type": "code",
      "source": [
        "mlp_history = mlp.fit(x = X_train, y = y_train, validation_split = 0.1, epochs = 50)"
      ],
      "metadata": {
        "colab": {
          "base_uri": "https://localhost:8080/"
        },
        "id": "1FB_1ClULkMy",
        "outputId": "adf0d94e-6b6b-49dd-9a79-9bcba2c8a357"
      },
      "execution_count": 137,
      "outputs": [
        {
          "output_type": "stream",
          "name": "stdout",
          "text": [
            "Epoch 1/50\n",
            "682/682 [==============================] - 6s 6ms/step - loss: 1.1203 - acc: 0.5977 - val_loss: 0.7174 - val_acc: 0.7245\n",
            "Epoch 2/50\n",
            "682/682 [==============================] - 4s 6ms/step - loss: 0.8319 - acc: 0.6797 - val_loss: 0.6444 - val_acc: 0.7447\n",
            "Epoch 3/50\n",
            "682/682 [==============================] - 4s 6ms/step - loss: 0.7809 - acc: 0.6928 - val_loss: 0.6043 - val_acc: 0.7629\n",
            "Epoch 4/50\n",
            "682/682 [==============================] - 4s 6ms/step - loss: 0.7601 - acc: 0.7052 - val_loss: 0.5933 - val_acc: 0.7687\n",
            "Epoch 5/50\n",
            "682/682 [==============================] - 4s 6ms/step - loss: 0.7394 - acc: 0.7126 - val_loss: 0.5820 - val_acc: 0.7724\n",
            "Epoch 6/50\n",
            "682/682 [==============================] - 4s 6ms/step - loss: 0.7306 - acc: 0.7147 - val_loss: 0.5716 - val_acc: 0.7790\n",
            "Epoch 7/50\n",
            "682/682 [==============================] - 4s 6ms/step - loss: 0.7203 - acc: 0.7169 - val_loss: 0.5659 - val_acc: 0.7715\n",
            "Epoch 8/50\n",
            "682/682 [==============================] - 4s 6ms/step - loss: 0.7232 - acc: 0.7173 - val_loss: 0.5668 - val_acc: 0.7880\n",
            "Epoch 9/50\n",
            "682/682 [==============================] - 4s 6ms/step - loss: 0.7133 - acc: 0.7203 - val_loss: 0.5578 - val_acc: 0.7918\n",
            "Epoch 10/50\n",
            "682/682 [==============================] - 4s 6ms/step - loss: 0.7083 - acc: 0.7243 - val_loss: 0.5543 - val_acc: 0.7819\n",
            "Epoch 11/50\n",
            "682/682 [==============================] - 4s 6ms/step - loss: 0.7036 - acc: 0.7243 - val_loss: 0.5557 - val_acc: 0.7918\n",
            "Epoch 12/50\n",
            "682/682 [==============================] - 4s 6ms/step - loss: 0.7041 - acc: 0.7263 - val_loss: 0.5454 - val_acc: 0.7814\n",
            "Epoch 13/50\n",
            "682/682 [==============================] - 4s 6ms/step - loss: 0.7005 - acc: 0.7272 - val_loss: 0.5445 - val_acc: 0.7872\n",
            "Epoch 14/50\n",
            "682/682 [==============================] - 4s 6ms/step - loss: 0.6962 - acc: 0.7291 - val_loss: 0.5413 - val_acc: 0.7852\n",
            "Epoch 15/50\n",
            "682/682 [==============================] - 4s 6ms/step - loss: 0.6906 - acc: 0.7289 - val_loss: 0.5337 - val_acc: 0.7930\n",
            "Epoch 16/50\n",
            "682/682 [==============================] - 4s 6ms/step - loss: 0.6920 - acc: 0.7297 - val_loss: 0.5341 - val_acc: 0.7880\n",
            "Epoch 17/50\n",
            "682/682 [==============================] - 4s 6ms/step - loss: 0.6871 - acc: 0.7311 - val_loss: 0.5333 - val_acc: 0.7959\n",
            "Epoch 18/50\n",
            "682/682 [==============================] - 4s 6ms/step - loss: 0.6927 - acc: 0.7295 - val_loss: 0.5307 - val_acc: 0.7876\n",
            "Epoch 19/50\n",
            "682/682 [==============================] - 4s 6ms/step - loss: 0.6815 - acc: 0.7354 - val_loss: 0.5245 - val_acc: 0.8062\n",
            "Epoch 20/50\n",
            "682/682 [==============================] - 4s 6ms/step - loss: 0.6839 - acc: 0.7332 - val_loss: 0.5209 - val_acc: 0.8037\n",
            "Epoch 21/50\n",
            "682/682 [==============================] - 4s 6ms/step - loss: 0.6892 - acc: 0.7302 - val_loss: 0.5234 - val_acc: 0.7967\n",
            "Epoch 22/50\n",
            "682/682 [==============================] - 4s 6ms/step - loss: 0.6783 - acc: 0.7358 - val_loss: 0.5217 - val_acc: 0.7967\n",
            "Epoch 23/50\n",
            "682/682 [==============================] - 4s 6ms/step - loss: 0.6762 - acc: 0.7371 - val_loss: 0.5221 - val_acc: 0.7967\n",
            "Epoch 24/50\n",
            "682/682 [==============================] - 4s 6ms/step - loss: 0.6799 - acc: 0.7370 - val_loss: 0.5130 - val_acc: 0.7971\n",
            "Epoch 25/50\n",
            "682/682 [==============================] - 4s 6ms/step - loss: 0.6709 - acc: 0.7395 - val_loss: 0.5184 - val_acc: 0.8000\n",
            "Epoch 26/50\n",
            "682/682 [==============================] - 4s 6ms/step - loss: 0.6755 - acc: 0.7339 - val_loss: 0.5164 - val_acc: 0.7967\n",
            "Epoch 27/50\n",
            "682/682 [==============================] - 4s 6ms/step - loss: 0.6813 - acc: 0.7355 - val_loss: 0.5154 - val_acc: 0.7984\n",
            "Epoch 28/50\n",
            "682/682 [==============================] - 4s 6ms/step - loss: 0.6736 - acc: 0.7386 - val_loss: 0.5174 - val_acc: 0.7959\n",
            "Epoch 29/50\n",
            "682/682 [==============================] - 4s 6ms/step - loss: 0.6742 - acc: 0.7362 - val_loss: 0.5194 - val_acc: 0.8095\n",
            "Epoch 30/50\n",
            "682/682 [==============================] - 4s 6ms/step - loss: 0.6758 - acc: 0.7356 - val_loss: 0.5118 - val_acc: 0.7988\n",
            "Epoch 31/50\n",
            "682/682 [==============================] - 4s 6ms/step - loss: 0.6745 - acc: 0.7368 - val_loss: 0.5157 - val_acc: 0.8054\n",
            "Epoch 32/50\n",
            "682/682 [==============================] - 4s 6ms/step - loss: 0.6722 - acc: 0.7354 - val_loss: 0.5103 - val_acc: 0.7979\n",
            "Epoch 33/50\n",
            "682/682 [==============================] - 4s 6ms/step - loss: 0.6700 - acc: 0.7380 - val_loss: 0.5054 - val_acc: 0.8070\n",
            "Epoch 34/50\n",
            "682/682 [==============================] - 4s 6ms/step - loss: 0.6684 - acc: 0.7429 - val_loss: 0.5124 - val_acc: 0.7971\n",
            "Epoch 35/50\n",
            "682/682 [==============================] - 4s 6ms/step - loss: 0.6671 - acc: 0.7404 - val_loss: 0.5044 - val_acc: 0.8078\n",
            "Epoch 36/50\n",
            "682/682 [==============================] - 4s 6ms/step - loss: 0.6660 - acc: 0.7389 - val_loss: 0.5082 - val_acc: 0.8074\n",
            "Epoch 37/50\n",
            "682/682 [==============================] - 4s 6ms/step - loss: 0.6614 - acc: 0.7435 - val_loss: 0.5045 - val_acc: 0.8041\n",
            "Epoch 38/50\n",
            "682/682 [==============================] - 4s 6ms/step - loss: 0.6661 - acc: 0.7408 - val_loss: 0.5083 - val_acc: 0.8054\n",
            "Epoch 39/50\n",
            "682/682 [==============================] - 4s 6ms/step - loss: 0.6691 - acc: 0.7378 - val_loss: 0.5090 - val_acc: 0.8074\n",
            "Epoch 40/50\n",
            "682/682 [==============================] - 4s 6ms/step - loss: 0.6640 - acc: 0.7417 - val_loss: 0.5078 - val_acc: 0.8091\n",
            "Epoch 41/50\n",
            "682/682 [==============================] - 4s 6ms/step - loss: 0.6584 - acc: 0.7431 - val_loss: 0.5049 - val_acc: 0.8078\n",
            "Epoch 42/50\n",
            "682/682 [==============================] - 4s 6ms/step - loss: 0.6610 - acc: 0.7389 - val_loss: 0.5062 - val_acc: 0.8087\n",
            "Epoch 43/50\n",
            "682/682 [==============================] - 4s 6ms/step - loss: 0.6707 - acc: 0.7373 - val_loss: 0.5131 - val_acc: 0.8095\n",
            "Epoch 44/50\n",
            "682/682 [==============================] - 4s 6ms/step - loss: 0.6571 - acc: 0.7450 - val_loss: 0.5034 - val_acc: 0.8062\n",
            "Epoch 45/50\n",
            "682/682 [==============================] - 4s 6ms/step - loss: 0.6616 - acc: 0.7433 - val_loss: 0.4987 - val_acc: 0.8153\n",
            "Epoch 46/50\n",
            "682/682 [==============================] - 4s 6ms/step - loss: 0.6621 - acc: 0.7420 - val_loss: 0.5062 - val_acc: 0.8054\n",
            "Epoch 47/50\n",
            "682/682 [==============================] - 4s 6ms/step - loss: 0.6598 - acc: 0.7430 - val_loss: 0.5039 - val_acc: 0.7992\n",
            "Epoch 48/50\n",
            "682/682 [==============================] - 4s 6ms/step - loss: 0.6619 - acc: 0.7409 - val_loss: 0.5078 - val_acc: 0.8066\n",
            "Epoch 49/50\n",
            "682/682 [==============================] - 4s 6ms/step - loss: 0.6624 - acc: 0.7384 - val_loss: 0.4982 - val_acc: 0.8120\n",
            "Epoch 50/50\n",
            "682/682 [==============================] - 4s 6ms/step - loss: 0.6644 - acc: 0.7395 - val_loss: 0.5015 - val_acc: 0.8103\n"
          ]
        }
      ]
    },
    {
      "cell_type": "markdown",
      "source": [
        "### Plotting Training and Validation Losses vs epochs"
      ],
      "metadata": {
        "id": "UBmyYLSWDEMc"
      }
    },
    {
      "cell_type": "code",
      "source": [
        "history_df = pd.DataFrame(mlp_history.history)\n",
        "history_df.loc[0:, ['loss', 'val_loss']].plot()\n",
        "print((\"Minimum Validation Loss: {:0.4f}\").format(history_df['val_loss'].min()))"
      ],
      "metadata": {
        "colab": {
          "base_uri": "https://localhost:8080/",
          "height": 282
        },
        "id": "IoZaKu_Gtiix",
        "outputId": "9d029089-6931-45d3-89e8-a4cf10a3d8b1"
      },
      "execution_count": 140,
      "outputs": [
        {
          "output_type": "stream",
          "name": "stdout",
          "text": [
            "Minimum Validation Loss: 0.4982\n"
          ]
        },
        {
          "output_type": "display_data",
          "data": {
            "image/png": "[encoded data removed]",
            "text/plain": [
              "<Figure size 432x288 with 1 Axes>"
            ]
          },
          "metadata": {
            "needs_background": "light"
          }
        }
      ]
    },
    {
      "cell_type": "markdown",
      "source": [
        "### Plotting training and validation accuracies vs time/epochs"
      ],
      "metadata": {
        "id": "7TnkXMbsDIXM"
      }
    },
    {
      "cell_type": "code",
      "source": [
        "history_df.loc[0:, ['acc', 'val_acc']].plot()\n",
        "print((\"Maximum Validation Acc: {:0.4f}\").format(history_df['val_acc'].max()))"
      ],
      "metadata": {
        "colab": {
          "base_uri": "https://localhost:8080/",
          "height": 282
        },
        "id": "9bDnVGpYtiku",
        "outputId": "c30cef96-17e2-4736-b6e7-a66cdc9abcba"
      },
      "execution_count": 141,
      "outputs": [
        {
          "output_type": "stream",
          "name": "stdout",
          "text": [
            "Maximum Validation Acc: 0.8153\n"
          ]
        },
        {
          "output_type": "display_data",
          "data": {
            "image/png": "[encoded data removed]",
            "text/plain": [
              "<Figure size 432x288 with 1 Axes>"
            ]
          },
          "metadata": {
            "needs_background": "light"
          }
        }
      ]
    },
    {
      "cell_type": "code",
      "source": [
        ""
      ],
      "metadata": {
        "id": "5yPoS6oSXBXd"
      },
      "execution_count": null,
      "outputs": []
    }
  ]
}