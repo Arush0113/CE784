{
  "nbformat": 4,
  "nbformat_minor": 0,
  "metadata": {
    "colab": {
      "name": "Arush CE784 assignment2.ipynb",
      "provenance": [],
      "collapsed_sections": [],
      "include_colab_link": true
    },
    "kernelspec": {
      "name": "python3",
      "display_name": "Python 3"
    },
    "language_info": {
      "name": "python"
    }
  },
  "cells": [
    {
      "cell_type": "markdown",
      "metadata": {
        "id": "view-in-github",
        "colab_type": "text"
      },
      "source": [
        "<a href=\"https://colab.research.google.com/github/Arush0113/CE784/blob/main/Arush_CE784_assignment2.ipynb\" target=\"_parent\"><img src=\"https://colab.research.google.com/assets/colab-badge.svg\" alt=\"Open In Colab\"/></a>"
      ]
    },
    {
      "cell_type": "code",
      "execution_count": 22,
      "metadata": {
        "id": "IsLuv7T7EIZy"
      },
      "outputs": [],
      "source": [
        "import numpy as np\n",
        "import pandas as pd\n",
        "import matplotlib.pyplot as plt\n"
      ]
    },
    {
      "cell_type": "code",
      "source": [
        "from google.colab import drive\n",
        "drive.mount('/content/drive')"
      ],
      "metadata": {
        "id": "ydR1EZVq5b5x",
        "outputId": "c87c7bbd-33dd-4913-db34-206ec494c093",
        "colab": {
          "base_uri": "https://localhost:8080/"
        }
      },
      "execution_count": 23,
      "outputs": [
        {
          "output_type": "stream",
          "name": "stdout",
          "text": [
            "Drive already mounted at /content/drive; to attempt to forcibly remount, call drive.mount(\"/content/drive\", force_remount=True).\n"
          ]
        }
      ]
    },
    {
      "cell_type": "code",
      "source": [
        "df = pd.read_csv('/content/drive/MyDrive/ce784 assignment 2 dataset/cleaned.csv')"
      ],
      "metadata": {
        "id": "1uJoEHwpEhYO"
      },
      "execution_count": 24,
      "outputs": []
    },
    {
      "cell_type": "code",
      "source": [
        "df.head()"
      ],
      "metadata": {
        "colab": {
          "base_uri": "https://localhost:8080/",
          "height": 206
        },
        "id": "_iQ_tF6uEsVH",
        "outputId": "d71001bd-342a-4508-a38d-786b26caad63"
      },
      "execution_count": 25,
      "outputs": [
        {
          "output_type": "execute_result",
          "data": {
            "text/html": [
              "\n",
              "  <div id=\"df-44d333c4-b223-4cb0-9359-fcc824edba03\">\n",
              "    <div class=\"colab-df-container\">\n",
              "      <div>\n",
              "<style scoped>\n",
              "    .dataframe tbody tr th:only-of-type {\n",
              "        vertical-align: middle;\n",
              "    }\n",
              "\n",
              "    .dataframe tbody tr th {\n",
              "        vertical-align: top;\n",
              "    }\n",
              "\n",
              "    .dataframe thead th {\n",
              "        text-align: right;\n",
              "    }\n",
              "</style>\n",
              "<table border=\"1\" class=\"dataframe\">\n",
              "  <thead>\n",
              "    <tr style=\"text-align: right;\">\n",
              "      <th></th>\n",
              "      <th>user</th>\n",
              "      <th>timestamp</th>\n",
              "      <th>x</th>\n",
              "      <th>y</th>\n",
              "      <th>z</th>\n",
              "      <th>class</th>\n",
              "    </tr>\n",
              "  </thead>\n",
              "  <tbody>\n",
              "    <tr>\n",
              "      <th>0</th>\n",
              "      <td>a2d80ed662f34d32951eb1c6ed076c313e358b73</td>\n",
              "      <td>2018-06-04 16:26:55.053</td>\n",
              "      <td>0.78</td>\n",
              "      <td>-9.13</td>\n",
              "      <td>-3.74</td>\n",
              "      <td>bus</td>\n",
              "    </tr>\n",
              "    <tr>\n",
              "      <th>1</th>\n",
              "      <td>a2d80ed662f34d32951eb1c6ed076c313e358b73</td>\n",
              "      <td>2018-06-04 16:26:55.111</td>\n",
              "      <td>0.79</td>\n",
              "      <td>-9.11</td>\n",
              "      <td>-3.75</td>\n",
              "      <td>bus</td>\n",
              "    </tr>\n",
              "    <tr>\n",
              "      <th>2</th>\n",
              "      <td>a2d80ed662f34d32951eb1c6ed076c313e358b73</td>\n",
              "      <td>2018-06-04 16:26:55.169</td>\n",
              "      <td>0.80</td>\n",
              "      <td>-9.12</td>\n",
              "      <td>-3.75</td>\n",
              "      <td>bus</td>\n",
              "    </tr>\n",
              "    <tr>\n",
              "      <th>3</th>\n",
              "      <td>a2d80ed662f34d32951eb1c6ed076c313e358b73</td>\n",
              "      <td>2018-06-04 16:26:55.228</td>\n",
              "      <td>0.78</td>\n",
              "      <td>-9.14</td>\n",
              "      <td>-3.76</td>\n",
              "      <td>bus</td>\n",
              "    </tr>\n",
              "    <tr>\n",
              "      <th>4</th>\n",
              "      <td>a2d80ed662f34d32951eb1c6ed076c313e358b73</td>\n",
              "      <td>2018-06-04 16:26:55.286</td>\n",
              "      <td>0.83</td>\n",
              "      <td>-9.12</td>\n",
              "      <td>-3.80</td>\n",
              "      <td>bus</td>\n",
              "    </tr>\n",
              "  </tbody>\n",
              "</table>\n",
              "</div>\n",
              "      <button class=\"colab-df-convert\" onclick=\"convertToInteractive('df-44d333c4-b223-4cb0-9359-fcc824edba03')\"\n",
              "              title=\"Convert this dataframe to an interactive table.\"\n",
              "              style=\"display:none;\">\n",
              "        \n",
              "  <svg xmlns=\"http://www.w3.org/2000/svg\" height=\"24px\"viewBox=\"0 0 24 24\"\n",
              "       width=\"24px\">\n",
              "    <path d=\"M0 0h24v24H0V0z\" fill=\"none\"/>\n",
              "    <path d=\"M18.56 5.44l.94 2.06.94-2.06 2.06-.94-2.06-.94-.94-2.06-.94 2.06-2.06.94zm-11 1L8.5 8.5l.94-2.06 2.06-.94-2.06-.94L8.5 2.5l-.94 2.06-2.06.94zm10 10l.94 2.06.94-2.06 2.06-.94-2.06-.94-.94-2.06-.94 2.06-2.06.94z\"/><path d=\"M17.41 7.96l-1.37-1.37c-.4-.4-.92-.59-1.43-.59-.52 0-1.04.2-1.43.59L10.3 9.45l-7.72 7.72c-.78.78-.78 2.05 0 2.83L4 21.41c.39.39.9.59 1.41.59.51 0 1.02-.2 1.41-.59l7.78-7.78 2.81-2.81c.8-.78.8-2.07 0-2.86zM5.41 20L4 18.59l7.72-7.72 1.47 1.35L5.41 20z\"/>\n",
              "  </svg>\n",
              "      </button>\n",
              "      \n",
              "  <style>\n",
              "    .colab-df-container {\n",
              "      display:flex;\n",
              "      flex-wrap:wrap;\n",
              "      gap: 12px;\n",
              "    }\n",
              "\n",
              "    .colab-df-convert {\n",
              "      background-color: #E8F0FE;\n",
              "      border: none;\n",
              "      border-radius: 50%;\n",
              "      cursor: pointer;\n",
              "      display: none;\n",
              "      fill: #1967D2;\n",
              "      height: 32px;\n",
              "      padding: 0 0 0 0;\n",
              "      width: 32px;\n",
              "    }\n",
              "\n",
              "    .colab-df-convert:hover {\n",
              "      background-color: #E2EBFA;\n",
              "      box-shadow: 0px 1px 2px rgba(60, 64, 67, 0.3), 0px 1px 3px 1px rgba(60, 64, 67, 0.15);\n",
              "      fill: #174EA6;\n",
              "    }\n",
              "\n",
              "    [theme=dark] .colab-df-convert {\n",
              "      background-color: #3B4455;\n",
              "      fill: #D2E3FC;\n",
              "    }\n",
              "\n",
              "    [theme=dark] .colab-df-convert:hover {\n",
              "      background-color: #434B5C;\n",
              "      box-shadow: 0px 1px 3px 1px rgba(0, 0, 0, 0.15);\n",
              "      filter: drop-shadow(0px 1px 2px rgba(0, 0, 0, 0.3));\n",
              "      fill: #FFFFFF;\n",
              "    }\n",
              "  </style>\n",
              "\n",
              "      <script>\n",
              "        const buttonEl =\n",
              "          document.querySelector('#df-44d333c4-b223-4cb0-9359-fcc824edba03 button.colab-df-convert');\n",
              "        buttonEl.style.display =\n",
              "          google.colab.kernel.accessAllowed ? 'block' : 'none';\n",
              "\n",
              "        async function convertToInteractive(key) {\n",
              "          const element = document.querySelector('#df-44d333c4-b223-4cb0-9359-fcc824edba03');\n",
              "          const dataTable =\n",
              "            await google.colab.kernel.invokeFunction('convertToInteractive',\n",
              "                                                     [key], {});\n",
              "          if (!dataTable) return;\n",
              "\n",
              "          const docLinkHtml = 'Like what you see? Visit the ' +\n",
              "            '<a target=\"_blank\" href=https://colab.research.google.com/notebooks/data_table.ipynb>data table notebook</a>'\n",
              "            + ' to learn more about interactive tables.';\n",
              "          element.innerHTML = '';\n",
              "          dataTable['output_type'] = 'display_data';\n",
              "          await google.colab.output.renderOutput(dataTable, element);\n",
              "          const docLink = document.createElement('div');\n",
              "          docLink.innerHTML = docLinkHtml;\n",
              "          element.appendChild(docLink);\n",
              "        }\n",
              "      </script>\n",
              "    </div>\n",
              "  </div>\n",
              "  "
            ],
            "text/plain": [
              "                                       user                timestamp     x  \\\n",
              "0  a2d80ed662f34d32951eb1c6ed076c313e358b73  2018-06-04 16:26:55.053  0.78   \n",
              "1  a2d80ed662f34d32951eb1c6ed076c313e358b73  2018-06-04 16:26:55.111  0.79   \n",
              "2  a2d80ed662f34d32951eb1c6ed076c313e358b73  2018-06-04 16:26:55.169  0.80   \n",
              "3  a2d80ed662f34d32951eb1c6ed076c313e358b73  2018-06-04 16:26:55.228  0.78   \n",
              "4  a2d80ed662f34d32951eb1c6ed076c313e358b73  2018-06-04 16:26:55.286  0.83   \n",
              "\n",
              "      y     z class  \n",
              "0 -9.13 -3.74   bus  \n",
              "1 -9.11 -3.75   bus  \n",
              "2 -9.12 -3.75   bus  \n",
              "3 -9.14 -3.76   bus  \n",
              "4 -9.12 -3.80   bus  "
            ]
          },
          "metadata": {},
          "execution_count": 25
        }
      ]
    },
    {
      "cell_type": "code",
      "source": [
        "df['user'][0]"
      ],
      "metadata": {
        "colab": {
          "base_uri": "https://localhost:8080/",
          "height": 35
        },
        "id": "mD68RD8Igh3J",
        "outputId": "34c9f827-0259-4f0b-ae75-66dd22942bad"
      },
      "execution_count": 36,
      "outputs": [
        {
          "output_type": "execute_result",
          "data": {
            "application/vnd.google.colaboratory.intrinsic+json": {
              "type": "string"
            },
            "text/plain": [
              "'a2d80ed662f34d32951eb1c6ed076c313e358b73'"
            ]
          },
          "metadata": {},
          "execution_count": 36
        }
      ]
    },
    {
      "cell_type": "code",
      "source": [
        "len(df[df['user'] == df['user'][0]])"
      ],
      "metadata": {
        "colab": {
          "base_uri": "https://localhost:8080/"
        },
        "id": "HssArW8fgZXz",
        "outputId": "12bae76e-d1bb-4b22-dc69-c1e0c7259fec"
      },
      "execution_count": 37,
      "outputs": [
        {
          "output_type": "execute_result",
          "data": {
            "text/plain": [
              "3791"
            ]
          },
          "metadata": {},
          "execution_count": 37
        }
      ]
    },
    {
      "cell_type": "code",
      "source": [
        ""
      ],
      "metadata": {
        "id": "7l5JNNABgZZP"
      },
      "execution_count": null,
      "outputs": []
    },
    {
      "cell_type": "code",
      "source": [
        ""
      ],
      "metadata": {
        "id": "8k6rzE_9gZc8"
      },
      "execution_count": null,
      "outputs": []
    },
    {
      "cell_type": "code",
      "source": [
        "print(len(df.user.unique())) #number of unique useers\n",
        "print(df.user.unique()) # userID of unique users"
      ],
      "metadata": {
        "colab": {
          "base_uri": "https://localhost:8080/"
        },
        "id": "z2uTy0_AExq6",
        "outputId": "7ebe3949-ccfa-4b0c-f7c3-4b1a6948c99a"
      },
      "execution_count": 26,
      "outputs": [
        {
          "output_type": "stream",
          "name": "stdout",
          "text": [
            "32\n",
            "['a2d80ed662f34d32951eb1c6ed076c313e358b73'\n",
            " 'a526f3566e9c9024dfa7378eb4291d787a09fd37'\n",
            " 'a59868c6eb3645eedbb343ce8c336ec6f2ef2324'\n",
            " 'a92dee88f61123f923dccec01eeecf1a81953b36'\n",
            " 'ac4c17afeb69b39169eb301ab592696a8f353976'\n",
            " 'adaaae1a67ea9e43abd60ba945eccda0cb8821e0'\n",
            " 'b138d165100ef60bc793cac143742eb5aea4d6ba'\n",
            " 'b45157069942d01310c3e7b74034166717bb25f9'\n",
            " 'b7b165e5637b5a0226068d907748f4bbfc61a320'\n",
            " 'c453226e3616ae821cdcb38f38481c2a20f2482f'\n",
            " 'c5702d34b238fe68683f818e82cd3a3cd8a16366'\n",
            " 'ca7950f223a8037b897d0547075dc138f9e43b20'\n",
            " 'cace4ec0999436917986b4fa6e9317262c897bc2'\n",
            " 'cbde60baea002b694ecf2a3ff2d95be16b00efe1'\n",
            " 'ce39f5d0705695fcd70a04ba6d84ac6beecd6f9c'\n",
            " 'd429974540bfd38c3367fe9f0c8682775ff4fa18'\n",
            " 'd7a1230d94f91a32cc079809748e52e8a4a6a22f'\n",
            " 'd7dd12d83c81574137f858034b99f4cc83ab0718'\n",
            " 'd8c047eaaee204b7b5cd71e2d67308b87b038ed3'\n",
            " 'dc0bdce306ec3b624fe0e6ecd1ffbd82cb970120'\n",
            " 'dd82e3df4bebc74ed6b67877be79e29f401c16a3'\n",
            " 'dde95e125d89843f7032baa734ee4d34ec775aaf'\n",
            " 'de9892b879c83ea3d24fb4560873107cc4e86d48'\n",
            " 'dfcfc0404691b73b69884073159f90843f2ac35b'\n",
            " 'e429a95c532f1117130c11e4a18379d84fa4ffa9'\n",
            " 'eb9e7854290fd6ea9ebaf448b640fc1f1dbeb076'\n",
            " 'ecfb0929250fb6dda66a4065441230ab27f094e5'\n",
            " 'ed623d28c1e0071632a6110b8f8ed93f8af78b99'\n",
            " 'f1b7331b66e404c11eebb22933e733117bbb12c9'\n",
            " 'f5edd999397145a2ec1b244226fc83f99631760c'\n",
            " 'f7ae1ce141c26db40ea8b090fb568a0c965310aa'\n",
            " 'faae5be800be2dfa897eea0bd2e5988cd53c4ec0']\n"
          ]
        }
      ]
    },
    {
      "cell_type": "code",
      "source": [
        "df.info()"
      ],
      "metadata": {
        "colab": {
          "base_uri": "https://localhost:8080/"
        },
        "id": "ANRwWJq9FQvs",
        "outputId": "7da5f5d5-6a05-4255-81ed-8d6dd40cb024"
      },
      "execution_count": 27,
      "outputs": [
        {
          "output_type": "stream",
          "name": "stdout",
          "text": [
            "<class 'pandas.core.frame.DataFrame'>\n",
            "RangeIndex: 5653053 entries, 0 to 5653052\n",
            "Data columns (total 6 columns):\n",
            " #   Column     Dtype  \n",
            "---  ------     -----  \n",
            " 0   user       object \n",
            " 1   timestamp  object \n",
            " 2   x          float64\n",
            " 3   y          float64\n",
            " 4   z          float64\n",
            " 5   class      object \n",
            "dtypes: float64(3), object(3)\n",
            "memory usage: 258.8+ MB\n"
          ]
        }
      ]
    },
    {
      "cell_type": "code",
      "source": [
        "len(df['user'])"
      ],
      "metadata": {
        "colab": {
          "base_uri": "https://localhost:8080/"
        },
        "id": "MOZWg8ODF7Vt",
        "outputId": "4c61ad30-5e4b-432c-d8f6-e55ec0822ac0"
      },
      "execution_count": 28,
      "outputs": [
        {
          "output_type": "execute_result",
          "data": {
            "text/plain": [
              "5653053"
            ]
          },
          "metadata": {},
          "execution_count": 28
        }
      ]
    },
    {
      "cell_type": "code",
      "source": [
        "user_c=[]\n",
        "for i in range(len(df['user'])-1):\n",
        "  if (df['user'][i] != df['user'][i+1]):\n",
        "    user_c.append(1)\n",
        "  else:\n",
        "    user_c.append(0)\n",
        "user_c.append(1)\n",
        "df['user_c'] = user_c"
      ],
      "metadata": {
        "id": "5zur8Fhm3GBG"
      },
      "execution_count": 29,
      "outputs": []
    },
    {
      "cell_type": "code",
      "source": [
        "sum(df['user_c'])"
      ],
      "metadata": {
        "id": "v2X2z213Ut9-",
        "outputId": "74f1e210-1698-4939-d5c0-6bb5b07e21c6",
        "colab": {
          "base_uri": "https://localhost:8080/"
        }
      },
      "execution_count": 30,
      "outputs": [
        {
          "output_type": "execute_result",
          "data": {
            "text/plain": [
              "32"
            ]
          },
          "metadata": {},
          "execution_count": 30
        }
      ]
    },
    {
      "cell_type": "code",
      "source": [
        "class_c=[]\n",
        "for i in range(len(df['user'])-1):\n",
        "  if (df['class'][i] != df['class'][i+1]):\n",
        "    class_c.append(1)\n",
        "  else:\n",
        "    class_c.append(0)\n",
        "class_c.append(1)\n",
        "df['class_c'] = class_c"
      ],
      "metadata": {
        "id": "tHz4V7FM7pVl"
      },
      "execution_count": 31,
      "outputs": []
    },
    {
      "cell_type": "code",
      "source": [
        "sum(df['class_c'])"
      ],
      "metadata": {
        "id": "vIJedjA8UmMj",
        "outputId": "820d6e49-16f6-4e10-9a8e-071984a71191",
        "colab": {
          "base_uri": "https://localhost:8080/"
        }
      },
      "execution_count": 32,
      "outputs": [
        {
          "output_type": "execute_result",
          "data": {
            "text/plain": [
              "126"
            ]
          },
          "metadata": {},
          "execution_count": 32
        }
      ]
    },
    {
      "cell_type": "code",
      "source": [
        "df.head()"
      ],
      "metadata": {
        "id": "tWYaBths9z_B",
        "outputId": "90a5bfd1-372a-4cb9-eb13-80d6938febd9",
        "colab": {
          "base_uri": "https://localhost:8080/",
          "height": 206
        }
      },
      "execution_count": 33,
      "outputs": [
        {
          "output_type": "execute_result",
          "data": {
            "text/html": [
              "\n",
              "  <div id=\"df-dfa504f1-7453-4113-adbe-dd6f4db64134\">\n",
              "    <div class=\"colab-df-container\">\n",
              "      <div>\n",
              "<style scoped>\n",
              "    .dataframe tbody tr th:only-of-type {\n",
              "        vertical-align: middle;\n",
              "    }\n",
              "\n",
              "    .dataframe tbody tr th {\n",
              "        vertical-align: top;\n",
              "    }\n",
              "\n",
              "    .dataframe thead th {\n",
              "        text-align: right;\n",
              "    }\n",
              "</style>\n",
              "<table border=\"1\" class=\"dataframe\">\n",
              "  <thead>\n",
              "    <tr style=\"text-align: right;\">\n",
              "      <th></th>\n",
              "      <th>user</th>\n",
              "      <th>timestamp</th>\n",
              "      <th>x</th>\n",
              "      <th>y</th>\n",
              "      <th>z</th>\n",
              "      <th>class</th>\n",
              "      <th>user_c</th>\n",
              "      <th>class_c</th>\n",
              "    </tr>\n",
              "  </thead>\n",
              "  <tbody>\n",
              "    <tr>\n",
              "      <th>0</th>\n",
              "      <td>a2d80ed662f34d32951eb1c6ed076c313e358b73</td>\n",
              "      <td>2018-06-04 16:26:55.053</td>\n",
              "      <td>0.78</td>\n",
              "      <td>-9.13</td>\n",
              "      <td>-3.74</td>\n",
              "      <td>bus</td>\n",
              "      <td>0</td>\n",
              "      <td>0</td>\n",
              "    </tr>\n",
              "    <tr>\n",
              "      <th>1</th>\n",
              "      <td>a2d80ed662f34d32951eb1c6ed076c313e358b73</td>\n",
              "      <td>2018-06-04 16:26:55.111</td>\n",
              "      <td>0.79</td>\n",
              "      <td>-9.11</td>\n",
              "      <td>-3.75</td>\n",
              "      <td>bus</td>\n",
              "      <td>0</td>\n",
              "      <td>0</td>\n",
              "    </tr>\n",
              "    <tr>\n",
              "      <th>2</th>\n",
              "      <td>a2d80ed662f34d32951eb1c6ed076c313e358b73</td>\n",
              "      <td>2018-06-04 16:26:55.169</td>\n",
              "      <td>0.80</td>\n",
              "      <td>-9.12</td>\n",
              "      <td>-3.75</td>\n",
              "      <td>bus</td>\n",
              "      <td>0</td>\n",
              "      <td>0</td>\n",
              "    </tr>\n",
              "    <tr>\n",
              "      <th>3</th>\n",
              "      <td>a2d80ed662f34d32951eb1c6ed076c313e358b73</td>\n",
              "      <td>2018-06-04 16:26:55.228</td>\n",
              "      <td>0.78</td>\n",
              "      <td>-9.14</td>\n",
              "      <td>-3.76</td>\n",
              "      <td>bus</td>\n",
              "      <td>0</td>\n",
              "      <td>0</td>\n",
              "    </tr>\n",
              "    <tr>\n",
              "      <th>4</th>\n",
              "      <td>a2d80ed662f34d32951eb1c6ed076c313e358b73</td>\n",
              "      <td>2018-06-04 16:26:55.286</td>\n",
              "      <td>0.83</td>\n",
              "      <td>-9.12</td>\n",
              "      <td>-3.80</td>\n",
              "      <td>bus</td>\n",
              "      <td>0</td>\n",
              "      <td>0</td>\n",
              "    </tr>\n",
              "  </tbody>\n",
              "</table>\n",
              "</div>\n",
              "      <button class=\"colab-df-convert\" onclick=\"convertToInteractive('df-dfa504f1-7453-4113-adbe-dd6f4db64134')\"\n",
              "              title=\"Convert this dataframe to an interactive table.\"\n",
              "              style=\"display:none;\">\n",
              "        \n",
              "  <svg xmlns=\"http://www.w3.org/2000/svg\" height=\"24px\"viewBox=\"0 0 24 24\"\n",
              "       width=\"24px\">\n",
              "    <path d=\"M0 0h24v24H0V0z\" fill=\"none\"/>\n",
              "    <path d=\"M18.56 5.44l.94 2.06.94-2.06 2.06-.94-2.06-.94-.94-2.06-.94 2.06-2.06.94zm-11 1L8.5 8.5l.94-2.06 2.06-.94-2.06-.94L8.5 2.5l-.94 2.06-2.06.94zm10 10l.94 2.06.94-2.06 2.06-.94-2.06-.94-.94-2.06-.94 2.06-2.06.94z\"/><path d=\"M17.41 7.96l-1.37-1.37c-.4-.4-.92-.59-1.43-.59-.52 0-1.04.2-1.43.59L10.3 9.45l-7.72 7.72c-.78.78-.78 2.05 0 2.83L4 21.41c.39.39.9.59 1.41.59.51 0 1.02-.2 1.41-.59l7.78-7.78 2.81-2.81c.8-.78.8-2.07 0-2.86zM5.41 20L4 18.59l7.72-7.72 1.47 1.35L5.41 20z\"/>\n",
              "  </svg>\n",
              "      </button>\n",
              "      \n",
              "  <style>\n",
              "    .colab-df-container {\n",
              "      display:flex;\n",
              "      flex-wrap:wrap;\n",
              "      gap: 12px;\n",
              "    }\n",
              "\n",
              "    .colab-df-convert {\n",
              "      background-color: #E8F0FE;\n",
              "      border: none;\n",
              "      border-radius: 50%;\n",
              "      cursor: pointer;\n",
              "      display: none;\n",
              "      fill: #1967D2;\n",
              "      height: 32px;\n",
              "      padding: 0 0 0 0;\n",
              "      width: 32px;\n",
              "    }\n",
              "\n",
              "    .colab-df-convert:hover {\n",
              "      background-color: #E2EBFA;\n",
              "      box-shadow: 0px 1px 2px rgba(60, 64, 67, 0.3), 0px 1px 3px 1px rgba(60, 64, 67, 0.15);\n",
              "      fill: #174EA6;\n",
              "    }\n",
              "\n",
              "    [theme=dark] .colab-df-convert {\n",
              "      background-color: #3B4455;\n",
              "      fill: #D2E3FC;\n",
              "    }\n",
              "\n",
              "    [theme=dark] .colab-df-convert:hover {\n",
              "      background-color: #434B5C;\n",
              "      box-shadow: 0px 1px 3px 1px rgba(0, 0, 0, 0.15);\n",
              "      filter: drop-shadow(0px 1px 2px rgba(0, 0, 0, 0.3));\n",
              "      fill: #FFFFFF;\n",
              "    }\n",
              "  </style>\n",
              "\n",
              "      <script>\n",
              "        const buttonEl =\n",
              "          document.querySelector('#df-dfa504f1-7453-4113-adbe-dd6f4db64134 button.colab-df-convert');\n",
              "        buttonEl.style.display =\n",
              "          google.colab.kernel.accessAllowed ? 'block' : 'none';\n",
              "\n",
              "        async function convertToInteractive(key) {\n",
              "          const element = document.querySelector('#df-dfa504f1-7453-4113-adbe-dd6f4db64134');\n",
              "          const dataTable =\n",
              "            await google.colab.kernel.invokeFunction('convertToInteractive',\n",
              "                                                     [key], {});\n",
              "          if (!dataTable) return;\n",
              "\n",
              "          const docLinkHtml = 'Like what you see? Visit the ' +\n",
              "            '<a target=\"_blank\" href=https://colab.research.google.com/notebooks/data_table.ipynb>data table notebook</a>'\n",
              "            + ' to learn more about interactive tables.';\n",
              "          element.innerHTML = '';\n",
              "          dataTable['output_type'] = 'display_data';\n",
              "          await google.colab.output.renderOutput(dataTable, element);\n",
              "          const docLink = document.createElement('div');\n",
              "          docLink.innerHTML = docLinkHtml;\n",
              "          element.appendChild(docLink);\n",
              "        }\n",
              "      </script>\n",
              "    </div>\n",
              "  </div>\n",
              "  "
            ],
            "text/plain": [
              "                                       user                timestamp     x  \\\n",
              "0  a2d80ed662f34d32951eb1c6ed076c313e358b73  2018-06-04 16:26:55.053  0.78   \n",
              "1  a2d80ed662f34d32951eb1c6ed076c313e358b73  2018-06-04 16:26:55.111  0.79   \n",
              "2  a2d80ed662f34d32951eb1c6ed076c313e358b73  2018-06-04 16:26:55.169  0.80   \n",
              "3  a2d80ed662f34d32951eb1c6ed076c313e358b73  2018-06-04 16:26:55.228  0.78   \n",
              "4  a2d80ed662f34d32951eb1c6ed076c313e358b73  2018-06-04 16:26:55.286  0.83   \n",
              "\n",
              "      y     z class  user_c  class_c  \n",
              "0 -9.13 -3.74   bus       0        0  \n",
              "1 -9.11 -3.75   bus       0        0  \n",
              "2 -9.12 -3.75   bus       0        0  \n",
              "3 -9.14 -3.76   bus       0        0  \n",
              "4 -9.12 -3.80   bus       0        0  "
            ]
          },
          "metadata": {},
          "execution_count": 33
        }
      ]
    },
    {
      "cell_type": "code",
      "source": [
        "seq_c = []\n",
        "for i  in range(len(df['user'])-1):\n",
        "  if (df['class'][i] != df['class'][i+1] or df['user'][i] != df['user'][i+1]):\n",
        "    seq_c.append(1)\n",
        "  else :\n",
        "    seq_c.append(0)\n",
        "seq_c.append(1)\n",
        "df['seq_c'] = seq_c"
      ],
      "metadata": {
        "id": "2CNXpBy_-Hrg"
      },
      "execution_count": 16,
      "outputs": []
    },
    {
      "cell_type": "code",
      "source": [
        "sum(df['seq_c'])"
      ],
      "metadata": {
        "id": "moq-x4KCUanJ",
        "outputId": "3be0f267-b67a-4ee8-de0c-7662d51232ad",
        "colab": {
          "base_uri": "https://localhost:8080/"
        }
      },
      "execution_count": 17,
      "outputs": [
        {
          "output_type": "execute_result",
          "data": {
            "text/plain": [
              "138"
            ]
          },
          "metadata": {},
          "execution_count": 17
        }
      ]
    },
    {
      "cell_type": "code",
      "source": [
        "df.head()"
      ],
      "metadata": {
        "id": "bPIQBnET-voD",
        "outputId": "cbcc6531-4985-4361-a671-85917c5f242d",
        "colab": {
          "base_uri": "https://localhost:8080/",
          "height": 206
        }
      },
      "execution_count": 18,
      "outputs": [
        {
          "output_type": "execute_result",
          "data": {
            "text/html": [
              "\n",
              "  <div id=\"df-181e0420-f2eb-4f3a-9025-b216a6c3c78c\">\n",
              "    <div class=\"colab-df-container\">\n",
              "      <div>\n",
              "<style scoped>\n",
              "    .dataframe tbody tr th:only-of-type {\n",
              "        vertical-align: middle;\n",
              "    }\n",
              "\n",
              "    .dataframe tbody tr th {\n",
              "        vertical-align: top;\n",
              "    }\n",
              "\n",
              "    .dataframe thead th {\n",
              "        text-align: right;\n",
              "    }\n",
              "</style>\n",
              "<table border=\"1\" class=\"dataframe\">\n",
              "  <thead>\n",
              "    <tr style=\"text-align: right;\">\n",
              "      <th></th>\n",
              "      <th>user</th>\n",
              "      <th>timestamp</th>\n",
              "      <th>x</th>\n",
              "      <th>y</th>\n",
              "      <th>z</th>\n",
              "      <th>class</th>\n",
              "      <th>user_c</th>\n",
              "      <th>class_c</th>\n",
              "      <th>seq_c</th>\n",
              "    </tr>\n",
              "  </thead>\n",
              "  <tbody>\n",
              "    <tr>\n",
              "      <th>0</th>\n",
              "      <td>a2d80ed662f34d32951eb1c6ed076c313e358b73</td>\n",
              "      <td>2018-06-04 16:26:55.053</td>\n",
              "      <td>0.78</td>\n",
              "      <td>-9.13</td>\n",
              "      <td>-3.74</td>\n",
              "      <td>bus</td>\n",
              "      <td>0</td>\n",
              "      <td>0</td>\n",
              "      <td>0</td>\n",
              "    </tr>\n",
              "    <tr>\n",
              "      <th>1</th>\n",
              "      <td>a2d80ed662f34d32951eb1c6ed076c313e358b73</td>\n",
              "      <td>2018-06-04 16:26:55.111</td>\n",
              "      <td>0.79</td>\n",
              "      <td>-9.11</td>\n",
              "      <td>-3.75</td>\n",
              "      <td>bus</td>\n",
              "      <td>0</td>\n",
              "      <td>0</td>\n",
              "      <td>0</td>\n",
              "    </tr>\n",
              "    <tr>\n",
              "      <th>2</th>\n",
              "      <td>a2d80ed662f34d32951eb1c6ed076c313e358b73</td>\n",
              "      <td>2018-06-04 16:26:55.169</td>\n",
              "      <td>0.80</td>\n",
              "      <td>-9.12</td>\n",
              "      <td>-3.75</td>\n",
              "      <td>bus</td>\n",
              "      <td>0</td>\n",
              "      <td>0</td>\n",
              "      <td>0</td>\n",
              "    </tr>\n",
              "    <tr>\n",
              "      <th>3</th>\n",
              "      <td>a2d80ed662f34d32951eb1c6ed076c313e358b73</td>\n",
              "      <td>2018-06-04 16:26:55.228</td>\n",
              "      <td>0.78</td>\n",
              "      <td>-9.14</td>\n",
              "      <td>-3.76</td>\n",
              "      <td>bus</td>\n",
              "      <td>0</td>\n",
              "      <td>0</td>\n",
              "      <td>0</td>\n",
              "    </tr>\n",
              "    <tr>\n",
              "      <th>4</th>\n",
              "      <td>a2d80ed662f34d32951eb1c6ed076c313e358b73</td>\n",
              "      <td>2018-06-04 16:26:55.286</td>\n",
              "      <td>0.83</td>\n",
              "      <td>-9.12</td>\n",
              "      <td>-3.80</td>\n",
              "      <td>bus</td>\n",
              "      <td>0</td>\n",
              "      <td>0</td>\n",
              "      <td>0</td>\n",
              "    </tr>\n",
              "  </tbody>\n",
              "</table>\n",
              "</div>\n",
              "      <button class=\"colab-df-convert\" onclick=\"convertToInteractive('df-181e0420-f2eb-4f3a-9025-b216a6c3c78c')\"\n",
              "              title=\"Convert this dataframe to an interactive table.\"\n",
              "              style=\"display:none;\">\n",
              "        \n",
              "  <svg xmlns=\"http://www.w3.org/2000/svg\" height=\"24px\"viewBox=\"0 0 24 24\"\n",
              "       width=\"24px\">\n",
              "    <path d=\"M0 0h24v24H0V0z\" fill=\"none\"/>\n",
              "    <path d=\"M18.56 5.44l.94 2.06.94-2.06 2.06-.94-2.06-.94-.94-2.06-.94 2.06-2.06.94zm-11 1L8.5 8.5l.94-2.06 2.06-.94-2.06-.94L8.5 2.5l-.94 2.06-2.06.94zm10 10l.94 2.06.94-2.06 2.06-.94-2.06-.94-.94-2.06-.94 2.06-2.06.94z\"/><path d=\"M17.41 7.96l-1.37-1.37c-.4-.4-.92-.59-1.43-.59-.52 0-1.04.2-1.43.59L10.3 9.45l-7.72 7.72c-.78.78-.78 2.05 0 2.83L4 21.41c.39.39.9.59 1.41.59.51 0 1.02-.2 1.41-.59l7.78-7.78 2.81-2.81c.8-.78.8-2.07 0-2.86zM5.41 20L4 18.59l7.72-7.72 1.47 1.35L5.41 20z\"/>\n",
              "  </svg>\n",
              "      </button>\n",
              "      \n",
              "  <style>\n",
              "    .colab-df-container {\n",
              "      display:flex;\n",
              "      flex-wrap:wrap;\n",
              "      gap: 12px;\n",
              "    }\n",
              "\n",
              "    .colab-df-convert {\n",
              "      background-color: #E8F0FE;\n",
              "      border: none;\n",
              "      border-radius: 50%;\n",
              "      cursor: pointer;\n",
              "      display: none;\n",
              "      fill: #1967D2;\n",
              "      height: 32px;\n",
              "      padding: 0 0 0 0;\n",
              "      width: 32px;\n",
              "    }\n",
              "\n",
              "    .colab-df-convert:hover {\n",
              "      background-color: #E2EBFA;\n",
              "      box-shadow: 0px 1px 2px rgba(60, 64, 67, 0.3), 0px 1px 3px 1px rgba(60, 64, 67, 0.15);\n",
              "      fill: #174EA6;\n",
              "    }\n",
              "\n",
              "    [theme=dark] .colab-df-convert {\n",
              "      background-color: #3B4455;\n",
              "      fill: #D2E3FC;\n",
              "    }\n",
              "\n",
              "    [theme=dark] .colab-df-convert:hover {\n",
              "      background-color: #434B5C;\n",
              "      box-shadow: 0px 1px 3px 1px rgba(0, 0, 0, 0.15);\n",
              "      filter: drop-shadow(0px 1px 2px rgba(0, 0, 0, 0.3));\n",
              "      fill: #FFFFFF;\n",
              "    }\n",
              "  </style>\n",
              "\n",
              "      <script>\n",
              "        const buttonEl =\n",
              "          document.querySelector('#df-181e0420-f2eb-4f3a-9025-b216a6c3c78c button.colab-df-convert');\n",
              "        buttonEl.style.display =\n",
              "          google.colab.kernel.accessAllowed ? 'block' : 'none';\n",
              "\n",
              "        async function convertToInteractive(key) {\n",
              "          const element = document.querySelector('#df-181e0420-f2eb-4f3a-9025-b216a6c3c78c');\n",
              "          const dataTable =\n",
              "            await google.colab.kernel.invokeFunction('convertToInteractive',\n",
              "                                                     [key], {});\n",
              "          if (!dataTable) return;\n",
              "\n",
              "          const docLinkHtml = 'Like what you see? Visit the ' +\n",
              "            '<a target=\"_blank\" href=https://colab.research.google.com/notebooks/data_table.ipynb>data table notebook</a>'\n",
              "            + ' to learn more about interactive tables.';\n",
              "          element.innerHTML = '';\n",
              "          dataTable['output_type'] = 'display_data';\n",
              "          await google.colab.output.renderOutput(dataTable, element);\n",
              "          const docLink = document.createElement('div');\n",
              "          docLink.innerHTML = docLinkHtml;\n",
              "          element.appendChild(docLink);\n",
              "        }\n",
              "      </script>\n",
              "    </div>\n",
              "  </div>\n",
              "  "
            ],
            "text/plain": [
              "                                       user                timestamp     x  \\\n",
              "0  a2d80ed662f34d32951eb1c6ed076c313e358b73  2018-06-04 16:26:55.053  0.78   \n",
              "1  a2d80ed662f34d32951eb1c6ed076c313e358b73  2018-06-04 16:26:55.111  0.79   \n",
              "2  a2d80ed662f34d32951eb1c6ed076c313e358b73  2018-06-04 16:26:55.169  0.80   \n",
              "3  a2d80ed662f34d32951eb1c6ed076c313e358b73  2018-06-04 16:26:55.228  0.78   \n",
              "4  a2d80ed662f34d32951eb1c6ed076c313e358b73  2018-06-04 16:26:55.286  0.83   \n",
              "\n",
              "      y     z class  user_c  class_c  seq_c  \n",
              "0 -9.13 -3.74   bus       0        0      0  \n",
              "1 -9.11 -3.75   bus       0        0      0  \n",
              "2 -9.12 -3.75   bus       0        0      0  \n",
              "3 -9.14 -3.76   bus       0        0      0  \n",
              "4 -9.12 -3.80   bus       0        0      0  "
            ]
          },
          "metadata": {},
          "execution_count": 18
        }
      ]
    },
    {
      "cell_type": "code",
      "source": [
        "df['time_c'] = df['timestamp'].shift(1, axis=0)"
      ],
      "metadata": {
        "id": "rqWA3wYQk4Ml"
      },
      "execution_count": 19,
      "outputs": []
    },
    {
      "cell_type": "code",
      "source": [
        "a_timedelta = datetime.datetime.strptimedf['timestamp'][1] - datetime.datetime.strptime(df['timestamp'][0])"
      ],
      "metadata": {
        "id": "QnUnwbaHlsSn",
        "outputId": "60560740-9f32-4ce8-cf8c-ba68964741a0",
        "colab": {
          "base_uri": "https://localhost:8080/",
          "height": 166
        }
      },
      "execution_count": 20,
      "outputs": [
        {
          "output_type": "error",
          "ename": "NameError",
          "evalue": "ignored",
          "traceback": [
            "\u001b[0;31m---------------------------------------------------------------------------\u001b[0m",
            "\u001b[0;31mNameError\u001b[0m                                 Traceback (most recent call last)",
            "\u001b[0;32m<ipython-input-20-751fd726e09e>\u001b[0m in \u001b[0;36m<module>\u001b[0;34m()\u001b[0m\n\u001b[0;32m----> 1\u001b[0;31m \u001b[0ma_timedelta\u001b[0m \u001b[0;34m=\u001b[0m \u001b[0mdatetime\u001b[0m\u001b[0;34m.\u001b[0m\u001b[0mdatetime\u001b[0m\u001b[0;34m.\u001b[0m\u001b[0mstrptimedf\u001b[0m\u001b[0;34m[\u001b[0m\u001b[0;34m'timestamp'\u001b[0m\u001b[0;34m]\u001b[0m\u001b[0;34m[\u001b[0m\u001b[0;36m1\u001b[0m\u001b[0;34m]\u001b[0m \u001b[0;34m-\u001b[0m \u001b[0mdatetime\u001b[0m\u001b[0;34m.\u001b[0m\u001b[0mdatetime\u001b[0m\u001b[0;34m.\u001b[0m\u001b[0mstrptime\u001b[0m\u001b[0;34m(\u001b[0m\u001b[0mdf\u001b[0m\u001b[0;34m[\u001b[0m\u001b[0;34m'timestamp'\u001b[0m\u001b[0;34m]\u001b[0m\u001b[0;34m[\u001b[0m\u001b[0;36m0\u001b[0m\u001b[0;34m]\u001b[0m\u001b[0;34m)\u001b[0m\u001b[0;34m\u001b[0m\u001b[0;34m\u001b[0m\u001b[0m\n\u001b[0m",
            "\u001b[0;31mNameError\u001b[0m: name 'datetime' is not defined"
          ]
        }
      ]
    },
    {
      "cell_type": "code",
      "source": [
        ""
      ],
      "metadata": {
        "id": "Q2LAR_hYlshL"
      },
      "execution_count": null,
      "outputs": []
    },
    {
      "cell_type": "code",
      "source": [
        "rows = df['user'].unique()\n",
        "col = df['class'].unique()"
      ],
      "metadata": {
        "id": "B0gzKGs3EBPj"
      },
      "execution_count": null,
      "outputs": []
    },
    {
      "cell_type": "code",
      "source": [
        "rows_len = len(df['user'].unique())\n",
        "col_len = len(df['class'].unique())"
      ],
      "metadata": {
        "id": "xysQXXaIAxX4"
      },
      "execution_count": null,
      "outputs": []
    },
    {
      "cell_type": "code",
      "source": [
        "num_seq = np.zeros((rows_len, col_len))"
      ],
      "metadata": {
        "id": "iJ6QS2Vo-9Q7"
      },
      "execution_count": null,
      "outputs": []
    },
    {
      "cell_type": "code",
      "source": [
        "df_num_seq = pd.DataFrame(num_seq, index = rows,columns=col)"
      ],
      "metadata": {
        "id": "vICFZlHfBzyv"
      },
      "execution_count": null,
      "outputs": []
    },
    {
      "cell_type": "code",
      "source": [
        "for i in range(len(df['seq_c'])):\n",
        "  if df['seq_c'][i] == 1:\n",
        "    df_num_seq.loc[df['user'][i], df['class'][i]] +=1\n"
      ],
      "metadata": {
        "id": "HstfZ0A0Aki_"
      },
      "execution_count": null,
      "outputs": []
    },
    {
      "cell_type": "code",
      "source": [
        "df_num_seq.head()"
      ],
      "metadata": {
        "id": "j78QSxfQDO17",
        "outputId": "47e263ad-bac5-4ab4-b550-da2f73378634",
        "colab": {
          "base_uri": "https://localhost:8080/",
          "height": 206
        }
      },
      "execution_count": null,
      "outputs": [
        {
          "output_type": "execute_result",
          "data": {
            "text/html": [
              "\n",
              "  <div id=\"df-f62f1df9-2ab2-41a3-96d2-bb476a6efbcf\">\n",
              "    <div class=\"colab-df-container\">\n",
              "      <div>\n",
              "<style scoped>\n",
              "    .dataframe tbody tr th:only-of-type {\n",
              "        vertical-align: middle;\n",
              "    }\n",
              "\n",
              "    .dataframe tbody tr th {\n",
              "        vertical-align: top;\n",
              "    }\n",
              "\n",
              "    .dataframe thead th {\n",
              "        text-align: right;\n",
              "    }\n",
              "</style>\n",
              "<table border=\"1\" class=\"dataframe\">\n",
              "  <thead>\n",
              "    <tr style=\"text-align: right;\">\n",
              "      <th></th>\n",
              "      <th>bus</th>\n",
              "      <th>walk</th>\n",
              "      <th>car</th>\n",
              "      <th>bike</th>\n",
              "      <th>train</th>\n",
              "      <th>e-bike</th>\n",
              "    </tr>\n",
              "  </thead>\n",
              "  <tbody>\n",
              "    <tr>\n",
              "      <th>a2d80ed662f34d32951eb1c6ed076c313e358b73</th>\n",
              "      <td>1.0</td>\n",
              "      <td>0.0</td>\n",
              "      <td>0.0</td>\n",
              "      <td>0.0</td>\n",
              "      <td>0.0</td>\n",
              "      <td>0.0</td>\n",
              "    </tr>\n",
              "    <tr>\n",
              "      <th>a526f3566e9c9024dfa7378eb4291d787a09fd37</th>\n",
              "      <td>0.0</td>\n",
              "      <td>4.0</td>\n",
              "      <td>4.0</td>\n",
              "      <td>0.0</td>\n",
              "      <td>0.0</td>\n",
              "      <td>0.0</td>\n",
              "    </tr>\n",
              "    <tr>\n",
              "      <th>a59868c6eb3645eedbb343ce8c336ec6f2ef2324</th>\n",
              "      <td>2.0</td>\n",
              "      <td>3.0</td>\n",
              "      <td>7.0</td>\n",
              "      <td>7.0</td>\n",
              "      <td>0.0</td>\n",
              "      <td>0.0</td>\n",
              "    </tr>\n",
              "    <tr>\n",
              "      <th>a92dee88f61123f923dccec01eeecf1a81953b36</th>\n",
              "      <td>1.0</td>\n",
              "      <td>0.0</td>\n",
              "      <td>0.0</td>\n",
              "      <td>0.0</td>\n",
              "      <td>0.0</td>\n",
              "      <td>0.0</td>\n",
              "    </tr>\n",
              "    <tr>\n",
              "      <th>ac4c17afeb69b39169eb301ab592696a8f353976</th>\n",
              "      <td>0.0</td>\n",
              "      <td>1.0</td>\n",
              "      <td>1.0</td>\n",
              "      <td>0.0</td>\n",
              "      <td>0.0</td>\n",
              "      <td>0.0</td>\n",
              "    </tr>\n",
              "  </tbody>\n",
              "</table>\n",
              "</div>\n",
              "      <button class=\"colab-df-convert\" onclick=\"convertToInteractive('df-f62f1df9-2ab2-41a3-96d2-bb476a6efbcf')\"\n",
              "              title=\"Convert this dataframe to an interactive table.\"\n",
              "              style=\"display:none;\">\n",
              "        \n",
              "  <svg xmlns=\"http://www.w3.org/2000/svg\" height=\"24px\"viewBox=\"0 0 24 24\"\n",
              "       width=\"24px\">\n",
              "    <path d=\"M0 0h24v24H0V0z\" fill=\"none\"/>\n",
              "    <path d=\"M18.56 5.44l.94 2.06.94-2.06 2.06-.94-2.06-.94-.94-2.06-.94 2.06-2.06.94zm-11 1L8.5 8.5l.94-2.06 2.06-.94-2.06-.94L8.5 2.5l-.94 2.06-2.06.94zm10 10l.94 2.06.94-2.06 2.06-.94-2.06-.94-.94-2.06-.94 2.06-2.06.94z\"/><path d=\"M17.41 7.96l-1.37-1.37c-.4-.4-.92-.59-1.43-.59-.52 0-1.04.2-1.43.59L10.3 9.45l-7.72 7.72c-.78.78-.78 2.05 0 2.83L4 21.41c.39.39.9.59 1.41.59.51 0 1.02-.2 1.41-.59l7.78-7.78 2.81-2.81c.8-.78.8-2.07 0-2.86zM5.41 20L4 18.59l7.72-7.72 1.47 1.35L5.41 20z\"/>\n",
              "  </svg>\n",
              "      </button>\n",
              "      \n",
              "  <style>\n",
              "    .colab-df-container {\n",
              "      display:flex;\n",
              "      flex-wrap:wrap;\n",
              "      gap: 12px;\n",
              "    }\n",
              "\n",
              "    .colab-df-convert {\n",
              "      background-color: #E8F0FE;\n",
              "      border: none;\n",
              "      border-radius: 50%;\n",
              "      cursor: pointer;\n",
              "      display: none;\n",
              "      fill: #1967D2;\n",
              "      height: 32px;\n",
              "      padding: 0 0 0 0;\n",
              "      width: 32px;\n",
              "    }\n",
              "\n",
              "    .colab-df-convert:hover {\n",
              "      background-color: #E2EBFA;\n",
              "      box-shadow: 0px 1px 2px rgba(60, 64, 67, 0.3), 0px 1px 3px 1px rgba(60, 64, 67, 0.15);\n",
              "      fill: #174EA6;\n",
              "    }\n",
              "\n",
              "    [theme=dark] .colab-df-convert {\n",
              "      background-color: #3B4455;\n",
              "      fill: #D2E3FC;\n",
              "    }\n",
              "\n",
              "    [theme=dark] .colab-df-convert:hover {\n",
              "      background-color: #434B5C;\n",
              "      box-shadow: 0px 1px 3px 1px rgba(0, 0, 0, 0.15);\n",
              "      filter: drop-shadow(0px 1px 2px rgba(0, 0, 0, 0.3));\n",
              "      fill: #FFFFFF;\n",
              "    }\n",
              "  </style>\n",
              "\n",
              "      <script>\n",
              "        const buttonEl =\n",
              "          document.querySelector('#df-f62f1df9-2ab2-41a3-96d2-bb476a6efbcf button.colab-df-convert');\n",
              "        buttonEl.style.display =\n",
              "          google.colab.kernel.accessAllowed ? 'block' : 'none';\n",
              "\n",
              "        async function convertToInteractive(key) {\n",
              "          const element = document.querySelector('#df-f62f1df9-2ab2-41a3-96d2-bb476a6efbcf');\n",
              "          const dataTable =\n",
              "            await google.colab.kernel.invokeFunction('convertToInteractive',\n",
              "                                                     [key], {});\n",
              "          if (!dataTable) return;\n",
              "\n",
              "          const docLinkHtml = 'Like what you see? Visit the ' +\n",
              "            '<a target=\"_blank\" href=https://colab.research.google.com/notebooks/data_table.ipynb>data table notebook</a>'\n",
              "            + ' to learn more about interactive tables.';\n",
              "          element.innerHTML = '';\n",
              "          dataTable['output_type'] = 'display_data';\n",
              "          await google.colab.output.renderOutput(dataTable, element);\n",
              "          const docLink = document.createElement('div');\n",
              "          docLink.innerHTML = docLinkHtml;\n",
              "          element.appendChild(docLink);\n",
              "        }\n",
              "      </script>\n",
              "    </div>\n",
              "  </div>\n",
              "  "
            ],
            "text/plain": [
              "                                          bus  walk  car  bike  train  e-bike\n",
              "a2d80ed662f34d32951eb1c6ed076c313e358b73  1.0   0.0  0.0   0.0    0.0     0.0\n",
              "a526f3566e9c9024dfa7378eb4291d787a09fd37  0.0   4.0  4.0   0.0    0.0     0.0\n",
              "a59868c6eb3645eedbb343ce8c336ec6f2ef2324  2.0   3.0  7.0   7.0    0.0     0.0\n",
              "a92dee88f61123f923dccec01eeecf1a81953b36  1.0   0.0  0.0   0.0    0.0     0.0\n",
              "ac4c17afeb69b39169eb301ab592696a8f353976  0.0   1.0  1.0   0.0    0.0     0.0"
            ]
          },
          "metadata": {},
          "execution_count": 64
        }
      ]
    },
    {
      "cell_type": "code",
      "source": [
        ""
      ],
      "metadata": {
        "id": "aAdVGk7AQw6j"
      },
      "execution_count": null,
      "outputs": []
    }
  ]
}